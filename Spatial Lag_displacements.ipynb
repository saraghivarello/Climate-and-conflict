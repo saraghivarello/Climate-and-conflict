{
 "cells": [
  {
   "cell_type": "markdown",
   "metadata": {},
   "source": [
    "------------\n",
    "\n",
    "# Spatial Panel Models with Fixed Effects\n",
    "\n",
    "* **This notebook uses the [Panel_FE_Lag](https://pysal.org/spreg/generated/spreg.Panel_FE_Lag.html#spreg.Panel_FE_Lag) and [Panel_FE_Error](https://pysal.org/spreg/generated/spreg.Panel_FE_Error.html#spreg.Panel_FE_Error) classes.**\n"
   ]
  },
  {
   "cell_type": "code",
   "execution_count": 17,
   "metadata": {
    "ExecuteTime": {
     "end_time": "2021-01-04T16:36:53.158014Z",
     "start_time": "2021-01-04T16:36:50.182287Z"
    }
   },
   "outputs": [],
   "source": [
    "import numpy as np\n",
    "import libpysal\n",
    "import libpysal.weights as lpw\n",
    "import spreg\n",
    "import pandas as pd\n",
    "import pysal as ps\n",
    "from datetime import datetime\n",
    "import statsmodels.api as sm\n",
    "import statsmodels.formula.api as smf"
   ]
  },
  {
   "cell_type": "code",
   "execution_count": 18,
   "metadata": {
    "ExecuteTime": {
     "end_time": "2021-01-04T16:36:53.489678Z",
     "start_time": "2021-01-04T16:36:53.160457Z"
    }
   },
   "outputs": [],
   "source": [
    "#df_dummies= pd.read_csv(r\"C:\\Users\\PcLaptop\\Documents\\GitHub\\Climate-and-conflict\\df_with_dummies.csv\")\n",
    "#states_gdf = r\"C:\\Users\\PcLaptop\\Documents\\GitHub\\Climate-and-conflict\\Datasets\\som_adm_ocha_itos_20230308_shp\\som_admbnda_adm1_ocha_20230308.shp\"\n",
    "\n",
    "df_dummies= pd.read_csv(r\"/home/sara/Documenti/GitHub/Climate-and-conflict/csv/df_lag1.csv\")\n",
    "states_gdf = r\"/home/sara/Documenti/GitHub/Climate-and-conflict/Datasets/som_adm_ocha_itos_20230308_shp/som_admbnda_adm1_ocha_20230308.shp\""
   ]
  },
  {
   "cell_type": "code",
   "execution_count": 19,
   "metadata": {},
   "outputs": [],
   "source": [
    "#read xlsx file\n",
    "df = pd.read_excel(r\"/home/sara/Documenti/GitHub/Climate-and-conflict/displacements/UNHCR-PRMN-Displacement-Dataset - Somalia.xlsx\")\n",
    "\n",
    "df['Current (Arrival) Region'] = df['Current (Arrival) Region'].str.replace(' ', '_')\n",
    "df['Previous (Departure) Region'] = df['Previous (Departure) Region'].str.replace(' ', '_')"
   ]
  },
  {
   "cell_type": "code",
   "execution_count": 20,
   "metadata": {},
   "outputs": [],
   "source": [
    "v= df[\"Month End\"]\n",
    "v=v.values\n",
    "dt = [datetime.strptime(v[i], \"%d/%m/%Y\") for i in range(len(v))]\n",
    "q=[]\n",
    "\n",
    "for i in range(len(dt)):\n",
    "    q.append(datetime.timestamp(dt[i]))\n",
    "    \n",
    "df.insert(loc=3, column='date_timestamp', value=q)\n",
    "df = df.sort_values(\"date_timestamp\")\n",
    "\n",
    "df['Month End'] = pd.to_datetime(df['Month End'], dayfirst=True)"
   ]
  },
  {
   "cell_type": "code",
   "execution_count": 21,
   "metadata": {},
   "outputs": [],
   "source": [
    "aggregated_data = df.groupby([pd.Grouper(key='Month End', freq='M'),'Previous (Departure) Region', 'Current (Arrival) Region'])['Number of Individuals'].sum().to_frame()"
   ]
  },
  {
   "cell_type": "code",
   "execution_count": 22,
   "metadata": {},
   "outputs": [],
   "source": [
    "dates = aggregated_data.index.get_level_values('Month End').unique()\n",
    "districts = aggregated_data.index.get_level_values('Previous (Departure) Region').unique()\n",
    "all_combinations = pd.MultiIndex.from_product([dates, districts,districts], names=['time', 'Previous (Departure) Region','Current (Arrival) Region'])\n",
    "\n",
    "disp_data = aggregated_data.reindex(all_combinations, fill_value=0).reset_index()   "
   ]
  },
  {
   "cell_type": "code",
   "execution_count": 23,
   "metadata": {},
   "outputs": [],
   "source": [
    "disp_matxs = disp_data.pivot_table(index=['time','Current (Arrival) Region'], columns='Previous (Departure) Region', values='Number of Individuals', aggfunc='sum').reset_index()\n",
    "#rename column current arrival region\n",
    "disp_matxs = disp_matxs.rename(columns={'Current (Arrival) Region': 'admin1'})"
   ]
  },
  {
   "cell_type": "code",
   "execution_count": 24,
   "metadata": {},
   "outputs": [],
   "source": [
    "#remove the day from the date\n",
    "disp_matxs['yr_mth'] = disp_matxs['time'].map(lambda x: x.strftime('%Y-%m'))\n",
    "disp_matxs = disp_matxs.drop(columns=['time'])\n",
    "df_dummies['yr_mth'] = pd.to_datetime(df_dummies['time'], dayfirst=True).map(lambda x: x.strftime('%Y-%m'))\n",
    "\n",
    "df_merged = pd.merge(df_dummies, disp_matxs, on=['yr_mth', 'admin1'], how='inner')"
   ]
  },
  {
   "cell_type": "code",
   "execution_count": 25,
   "metadata": {},
   "outputs": [],
   "source": [
    "# Create a new dataframe for normalized data\n",
    "normalized_df = pd.DataFrame(columns=disp_matxs.columns)\n",
    "\n",
    "# Iterate through unique yr_mth values\n",
    "for yr_mth in disp_matxs['yr_mth'].unique():\n",
    "    # Select rows for the current yr_mth\n",
    "    subset = disp_matxs[disp_matxs['yr_mth'] == yr_mth].copy()\n",
    "    \n",
    "    # Extract the matrix values and convert to a NumPy array\n",
    "    matrix_values = subset.iloc[:, 1:-1].values\n",
    "    \n",
    "    # Perform normalization (e.g., min-max scaling)\n",
    "    min_val = np.min(matrix_values)\n",
    "    max_val = np.max(matrix_values)\n",
    "    normalized_matrix = (matrix_values - min_val) / (max_val - min_val)\n",
    "    \n",
    "    # Replace the original matrix with the normalized matrix\n",
    "    subset.iloc[:, 1:-1] = normalized_matrix\n",
    "    \n",
    "    # Append the modified subset to the new dataframe\n",
    "    normalized_df = pd.concat([normalized_df, subset])\n",
    "\n",
    "# Reset the index of the new dataframe\n",
    "normalized_df.reset_index(drop=True, inplace=True)\n"
   ]
  },
  {
   "cell_type": "code",
   "execution_count": 26,
   "metadata": {},
   "outputs": [],
   "source": [
    "w_aw=normalized_df[normalized_df['yr_mth']=='2016-01']\n",
    "w_aw = w_aw.drop(columns=['yr_mth', 'admin1'])"
   ]
  },
  {
   "cell_type": "markdown",
   "metadata": {},
   "source": [
    "--------------------\n",
    "\n",
    "## Spatial Lag model\n",
    "\n",
    "Let's estimate a spatial lag panel model with fixed effects:\n",
    "\n",
    "$$\n",
    "y = \\rho Wy + X\\beta + \\mu_i + e\n",
    "$$"
   ]
  },
  {
   "cell_type": "code",
   "execution_count": 27,
   "metadata": {},
   "outputs": [],
   "source": [
    "#add a column with the sum of the displacements\n",
    "df_merged['sum_disp'] = df_merged.iloc[:, -18:].sum(axis=1)"
   ]
  },
  {
   "cell_type": "code",
   "execution_count": 33,
   "metadata": {},
   "outputs": [],
   "source": [
    "df_merged.to_csv(r\"/home/sara/Documenti/GitHub/Climate-and-conflict/csv/df_lag1_disp.csv\", index=False)"
   ]
  },
  {
   "cell_type": "code",
   "execution_count": 29,
   "metadata": {},
   "outputs": [
    {
     "name": "stderr",
     "output_type": "stream",
     "text": [
      "/home/sara/.local/lib/python3.8/site-packages/libpysal/cg/shapes.py:1492: FutureWarning: Objects based on the `Geometry` class will deprecated and removed in a future version of libpysal.\n",
      "  warnings.warn(dep_msg, FutureWarning)\n",
      "/home/sara/.local/lib/python3.8/site-packages/libpysal/cg/shapes.py:1208: FutureWarning: Objects based on the `Geometry` class will deprecated and removed in a future version of libpysal.\n",
      "  warnings.warn(dep_msg, FutureWarning)\n"
     ]
    }
   ],
   "source": [
    "w = libpysal.weights.Queen.from_shapefile(states_gdf)\n",
    "w.transform = 'r'\n",
    "\n",
    "# Define dependent variable\n",
    "name_y = [\"conflicts\"]\n",
    "y = np.array([df_merged[name] for name in name_y]).T\n",
    "\n",
    "# Define independent variables\n",
    "name_x = ['TA_lag1','PA_lag1','DL_lag1','sum_disp']\n",
    "x = np.array([df_merged[name] for name in name_x]).T"
   ]
  },
  {
   "cell_type": "code",
   "execution_count": 30,
   "metadata": {
    "ExecuteTime": {
     "end_time": "2021-01-04T16:36:59.736302Z",
     "start_time": "2021-01-04T16:36:53.492370Z"
    }
   },
   "outputs": [],
   "source": [
    "fe_lag = spreg.Panel_FE_Lag(y, x, w, name_y=name_y, \n",
    "                            name_x=name_x, name_ds=\"df_dummies\")"
   ]
  },
  {
   "cell_type": "code",
   "execution_count": 31,
   "metadata": {
    "ExecuteTime": {
     "end_time": "2021-01-04T16:36:59.741882Z",
     "start_time": "2021-01-04T16:36:59.737965Z"
    }
   },
   "outputs": [
    {
     "name": "stdout",
     "output_type": "stream",
     "text": [
      "REGRESSION\n",
      "----------\n",
      "SUMMARY OF OUTPUT: MAXIMUM LIKELIHOOD SPATIAL LAG PANEL - FIXED EFFECTS\n",
      "-----------------------------------------------------------------------\n",
      "Data set            :  df_dummies\n",
      "Weights matrix      :     unknown\n",
      "Dependent Variable  :   conflicts                Number of Observations:        1512\n",
      "Mean dependent var  :      0.0000                Number of Variables   :           5\n",
      "S.D. dependent var  :      7.3422                Degrees of Freedom    :        1507\n",
      "Pseudo R-squared    :      0.0518\n",
      "Spatial Pseudo R-squared:  0.0186\n",
      "Sigma-square ML     :      51.225                Log likelihood        :  -10663.065\n",
      "S.E of regression   :       7.157                Akaike info criterion :   21336.130\n",
      "                                                 Schwarz criterion     :   21362.736\n",
      "\n",
      "------------------------------------------------------------------------------------\n",
      "            Variable     Coefficient       Std.Error     z-Statistic     Probability\n",
      "------------------------------------------------------------------------------------\n",
      "             TA_lag1       0.2244671       0.3268057       0.6868518       0.4921761\n",
      "             PA_lag1      -1.0218727       0.5378071      -1.9000729       0.0574236\n",
      "             DL_lag1      -0.0026284       0.0054177      -0.4851575       0.6275646\n",
      "            sum_disp       0.0000661       0.0000133       4.9780017       0.0000006\n",
      "         W_conflicts       0.1718640       0.0296500       5.7964303       0.0000000\n",
      "------------------------------------------------------------------------------------\n",
      "Warning: Assuming panel is in long format.\n",
      "y[0:N] refers to T0, y[N+1:2N] refers to T1, etc.\n",
      "x[0:N] refers to T0, x[N+1:2N] refers to T1, etc.\n",
      "================================ END OF REPORT =====================================\n"
     ]
    }
   ],
   "source": [
    "print(fe_lag.summary)"
   ]
  },
  {
   "cell_type": "code",
   "execution_count": 34,
   "metadata": {},
   "outputs": [],
   "source": [
    "df_merged = df_merged.dropna()\n",
    "#df_dummies = df_dummies[df_dummies['yr_mth'] >= '2016-01']\n",
    "\n",
    "# Define dependent variable\n",
    "name_y = [\"conflicts\"]\n",
    "y = np.array([df_merged[name] for name in name_y]).T\n",
    "\n",
    "# include as independent variables the displacements for each time\n",
    "name_x = ['TA_lag1','PA_lag1','DL_lag1','Awdal_y','Bakool_y','Banadir_y', 'Bari_y', 'Bay_y', 'Galgaduud_y', 'Gedo_y', 'Hiraan_y', 'Lower_Juba_y', 'Lower_Shabelle_y', 'Middle_Juba_y', 'Middle_Shabelle_y', 'Mudug_y', 'Nugaal_y', 'Sanaag_y', 'Sool_y', 'Togdheer_y', 'Woqooyi_Galbeed_y']\n",
    "x = np.array([df_merged[name] for name in name_x]).T"
   ]
  },
  {
   "cell_type": "code",
   "execution_count": 35,
   "metadata": {},
   "outputs": [],
   "source": [
    "fe_lag = spreg.Panel_FE_Lag(y, x, w, name_y=name_y, \n",
    "                            name_x=name_x, name_ds=\"df_merged\")"
   ]
  },
  {
   "cell_type": "code",
   "execution_count": 36,
   "metadata": {},
   "outputs": [
    {
     "name": "stdout",
     "output_type": "stream",
     "text": [
      "REGRESSION\n",
      "----------\n",
      "SUMMARY OF OUTPUT: MAXIMUM LIKELIHOOD SPATIAL LAG PANEL - FIXED EFFECTS\n",
      "-----------------------------------------------------------------------\n",
      "Data set            :   df_merged\n",
      "Weights matrix      :     unknown\n",
      "Dependent Variable  :   conflicts                Number of Observations:        1512\n",
      "Mean dependent var  :      0.0000                Number of Variables   :          22\n",
      "S.D. dependent var  :      7.3422                Degrees of Freedom    :        1490\n",
      "Pseudo R-squared    :      0.0784\n",
      "Spatial Pseudo R-squared:  0.0435\n",
      "Sigma-square ML     :      49.726                Log likelihood        :  -10640.982\n",
      "S.E of regression   :       7.052                Akaike info criterion :   21325.963\n",
      "                                                 Schwarz criterion     :   21443.029\n",
      "\n",
      "------------------------------------------------------------------------------------\n",
      "            Variable     Coefficient       Std.Error     z-Statistic     Probability\n",
      "------------------------------------------------------------------------------------\n",
      "             TA_lag1       0.2276157       0.3268824       0.6963229       0.4862266\n",
      "             PA_lag1      -0.9931283       0.5320470      -1.8666177       0.0619550\n",
      "             DL_lag1      -0.0017276       0.0053843      -0.3208655       0.7483124\n",
      "             Awdal_y      -0.0003947       0.0012898      -0.3060336       0.7595791\n",
      "            Bakool_y       0.0000916       0.0001151       0.7961543       0.4259424\n",
      "           Banadir_y       0.0000180       0.0000390       0.4609300       0.6448488\n",
      "              Bari_y      -0.0002948       0.0002270      -1.2988604       0.1939918\n",
      "               Bay_y       0.0000065       0.0000593       0.1098802       0.9125044\n",
      "         Galgaduud_y       0.0001288       0.0000422       3.0564263       0.0022399\n",
      "              Gedo_y      -0.0000543       0.0000767      -0.7077612       0.4790935\n",
      "            Hiraan_y       0.0000419       0.0000194       2.1641976       0.0304492\n",
      "        Lower_Juba_y       0.0008048       0.0001912       4.2095524       0.0000256\n",
      "    Lower_Shabelle_y       0.0002066       0.0000389       5.3129181       0.0000001\n",
      "       Middle_Juba_y       0.0009112       0.0006175       1.4757187       0.1400194\n",
      "   Middle_Shabelle_y       0.0000520       0.0000595       0.8738446       0.3822029\n",
      "             Mudug_y       0.0000201       0.0000710       0.2836898       0.7766481\n",
      "            Nugaal_y      -0.0008699       0.0011945      -0.7282246       0.4664761\n",
      "            Sanaag_y      -0.0001448       0.0003077      -0.4705602       0.6379548\n",
      "              Sool_y       0.0001159       0.0001434       0.8081066       0.4190292\n",
      "          Togdheer_y      -0.0000815       0.0001980      -0.4114726       0.6807260\n",
      "   Woqooyi_Galbeed_y       0.0004825       0.0007706       0.6261163       0.5312387\n",
      "         W_conflicts       0.1761885       0.0293866       5.9955427       0.0000000\n",
      "------------------------------------------------------------------------------------\n",
      "Warning: Assuming panel is in long format.\n",
      "y[0:N] refers to T0, y[N+1:2N] refers to T1, etc.\n",
      "x[0:N] refers to T0, x[N+1:2N] refers to T1, etc.\n",
      "================================ END OF REPORT =====================================\n"
     ]
    }
   ],
   "source": [
    "print(fe_lag.summary)"
   ]
  },
  {
   "cell_type": "code",
   "execution_count": 37,
   "metadata": {},
   "outputs": [],
   "source": [
    "y_var_name = 'conflicts'\n",
    "X_var_names = ['TA_lag1','PA_lag1','DL_lag1']"
   ]
  },
  {
   "cell_type": "code",
   "execution_count": 38,
   "metadata": {},
   "outputs": [
    {
     "name": "stdout",
     "output_type": "stream",
     "text": [
      "Regression expression for OLS with dummies=conflicts ~ TA_lag1 + PA_lag1 + DL_lag1 + Awdal_x + Bakool_x + Banadir_x + Bari_x + Bay_x + Galgaduud_x + Gedo_x + Hiraan_x + Lower_Juba_x + Lower_Shabelle_x + Middle_Juba_x + Middle_Shabelle_x + Mudug_x + Nugaal_x + Sanaag_x + Sool_x + Togdheer_x + Awdal_y + Bakool_y + Banadir_y + Bari_y + Bay_y + Galgaduud_y + Gedo_y + Hiraan_y + Lower_Juba_y + Lower_Shabelle_y + Middle_Juba_y + Middle_Shabelle_y + Mudug_y + Nugaal_y + Sanaag_y + Sool_y + Togdheer_y + January + February + March + April + May + June + July + August + September + October + November\n"
     ]
    }
   ],
   "source": [
    "# Regression expression for OLS with dummies\n",
    "\n",
    "unit_names = df_dummies['admin1'].unique().tolist()\n",
    "unit_names.sort()\n",
    "unit_names_t = df_dummies['month_name'].unique().tolist()\n",
    "\n",
    "lsdv_expr = y_var_name + ' ~ '\n",
    "i = 0\n",
    "for X_var_name in X_var_names:\n",
    "    if i > 0:\n",
    "        lsdv_expr = lsdv_expr + ' + ' + X_var_name\n",
    "    else:\n",
    "        lsdv_expr = lsdv_expr + X_var_name\n",
    "    i = i + 1\n",
    "for dummy_name in unit_names[:-1]:\n",
    "   lsdv_expr = lsdv_expr + ' + ' + dummy_name + '_x'\n",
    "for dummy_name in unit_names[:-1]:\n",
    "   lsdv_expr = lsdv_expr + ' + ' + dummy_name + '_y'\n",
    "for dummy_name_t in unit_names_t[:-1]:\n",
    "    lsdv_expr = lsdv_expr + ' + ' + dummy_name_t\n",
    "#for dummy_name_mr in name_x[:-1]:\n",
    " #   lsdv_expr = lsdv_expr + ' + ' + dummy_name_mr\n",
    "#lsdv_expr = lsdv_expr + ' - ' + '1'\n",
    "print('Regression expression for OLS with dummies=' + lsdv_expr)"
   ]
  },
  {
   "cell_type": "code",
   "execution_count": 39,
   "metadata": {},
   "outputs": [
    {
     "name": "stdout",
     "output_type": "stream",
     "text": [
      "                            OLS Regression Results                            \n",
      "==============================================================================\n",
      "Dep. Variable:              conflicts   R-squared:                       0.828\n",
      "Model:                            OLS   Adj. R-squared:                  0.823\n",
      "Method:                 Least Squares   F-statistic:                     147.1\n",
      "Date:                Wed, 04 Oct 2023   Prob (F-statistic):               0.00\n",
      "Time:                        10:56:13   Log-Likelihood:                -5116.9\n",
      "No. Observations:                1512   AIC:                         1.033e+04\n",
      "Df Residuals:                    1463   BIC:                         1.059e+04\n",
      "Df Model:                          48                                         \n",
      "Covariance Type:            nonrobust                                         \n",
      "=====================================================================================\n",
      "                        coef    std err          t      P>|t|      [0.025      0.975]\n",
      "-------------------------------------------------------------------------------------\n",
      "Intercept             3.9384      1.047      3.761      0.000       1.884       5.993\n",
      "TA_lag1               0.2806      0.341      0.823      0.411      -0.388       0.949\n",
      "PA_lag1              -1.2533      0.553     -2.265      0.024      -2.338      -0.168\n",
      "DL_lag1              -0.0006      0.006     -0.105      0.916      -0.011       0.010\n",
      "Awdal_x              -1.4977      1.483     -1.010      0.313      -4.407       1.412\n",
      "Bakool_x              4.2034      1.213      3.465      0.001       1.823       6.583\n",
      "Banadir_x            49.4308      1.214     40.716      0.000      47.049      51.812\n",
      "Bari_x                7.1220      1.203      5.922      0.000       4.763       9.481\n",
      "Bay_x                14.8945      1.210     12.310      0.000      12.521      17.268\n",
      "Galgaduud_x           4.8001      1.168      4.110      0.000       2.509       7.091\n",
      "Gedo_x                7.8387      1.176      6.664      0.000       5.531      10.146\n",
      "Hiraan_x             14.4348      1.158     12.468      0.000      12.164      16.706\n",
      "Lower_Juba_x         19.7843      1.234     16.038      0.000      17.365      22.204\n",
      "Lower_Shabelle_x     49.1405      1.157     42.476      0.000      46.871      51.410\n",
      "Middle_Juba_x        -0.2469      1.195     -0.207      0.836      -2.592       2.098\n",
      "Middle_Shabelle_x    15.1656      1.194     12.706      0.000      12.824      17.507\n",
      "Mudug_x               5.8881      1.180      4.990      0.000       3.573       8.203\n",
      "Nugaal_x              0.1042      1.199      0.087      0.931      -2.247       2.456\n",
      "Sanaag_x              0.3456      1.207      0.286      0.775      -2.023       2.714\n",
      "Sool_x                0.8168      1.150      0.710      0.478      -1.440       3.074\n",
      "Togdheer_x            0.4045      1.153      0.351      0.726      -1.858       2.667\n",
      "Awdal_y              -0.0002      0.001     -0.135      0.893      -0.003       0.002\n",
      "Bakool_y              0.0001      0.000      1.011      0.312      -0.000       0.000\n",
      "Banadir_y          2.511e-05   4.03e-05      0.623      0.533   -5.39e-05       0.000\n",
      "Bari_y               -0.0003      0.000     -1.262      0.207      -0.001       0.000\n",
      "Bay_y              1.244e-05   6.13e-05      0.203      0.839      -0.000       0.000\n",
      "Galgaduud_y           0.0001   4.35e-05      2.996      0.003     4.5e-05       0.000\n",
      "Gedo_y            -4.455e-05   7.92e-05     -0.563      0.574      -0.000       0.000\n",
      "Hiraan_y           4.255e-05      2e-05      2.129      0.033    3.35e-06    8.18e-05\n",
      "Lower_Juba_y          0.0008      0.000      3.864      0.000       0.000       0.001\n",
      "Lower_Shabelle_y      0.0002   4.01e-05      5.185      0.000       0.000       0.000\n",
      "Middle_Juba_y         0.0009      0.001      1.334      0.182      -0.000       0.002\n",
      "Middle_Shabelle_y   4.47e-05   6.14e-05      0.728      0.467   -7.57e-05       0.000\n",
      "Mudug_y            3.309e-05   7.32e-05      0.452      0.651      -0.000       0.000\n",
      "Nugaal_y             -0.0011      0.001     -0.920      0.358      -0.004       0.001\n",
      "Sanaag_y          -9.546e-05      0.000     -0.301      0.764      -0.001       0.001\n",
      "Sool_y                0.0001      0.000      1.013      0.311      -0.000       0.000\n",
      "Togdheer_y        -7.646e-05      0.000     -0.375      0.708      -0.000       0.000\n",
      "January              -1.4042      0.920     -1.526      0.127      -3.209       0.400\n",
      "February             -1.4544      0.919     -1.583      0.114      -3.256       0.347\n",
      "March                -2.4338      0.923     -2.638      0.008      -4.243      -0.624\n",
      "April                -2.0014      0.924     -2.165      0.031      -3.815      -0.188\n",
      "May                  -1.0240      0.918     -1.115      0.265      -2.825       0.777\n",
      "June                 -0.8545      0.918     -0.931      0.352      -2.654       0.945\n",
      "July                 -2.3886      0.919     -2.599      0.009      -4.191      -0.586\n",
      "August               -0.8795      0.917     -0.959      0.338      -2.678       0.919\n",
      "September            -0.6982      0.918     -0.760      0.447      -2.500       1.103\n",
      "October              -0.8994      0.920     -0.978      0.328      -2.704       0.905\n",
      "November             -1.5290      0.918     -1.666      0.096      -3.329       0.271\n",
      "==============================================================================\n",
      "Omnibus:                      556.384   Durbin-Watson:                   1.802\n",
      "Prob(Omnibus):                  0.000   Jarque-Bera (JB):             5397.881\n",
      "Skew:                           1.434   Prob(JB):                         0.00\n",
      "Kurtosis:                      11.801   Cond. No.                     1.83e+05\n",
      "==============================================================================\n",
      "\n",
      "Notes:\n",
      "[1] Standard Errors assume that the covariance matrix of the errors is correctly specified.\n",
      "[2] The condition number is large, 1.83e+05. This might indicate that there are\n",
      "strong multicollinearity or other numerical problems.\n"
     ]
    }
   ],
   "source": [
    "lsdv_model = smf.ols(formula=lsdv_expr, data=df_merged)\n",
    "lsdv_model_results = lsdv_model.fit()\n",
    "print(lsdv_model_results.summary())"
   ]
  },
  {
   "cell_type": "code",
   "execution_count": null,
   "metadata": {},
   "outputs": [],
   "source": []
  }
 ],
 "metadata": {
  "kernelspec": {
   "display_name": "Python 3",
   "language": "python",
   "name": "python3"
  },
  "language_info": {
   "codemirror_mode": {
    "name": "ipython",
    "version": 3
   },
   "file_extension": ".py",
   "mimetype": "text/x-python",
   "name": "python",
   "nbconvert_exporter": "python",
   "pygments_lexer": "ipython3",
   "version": "3.8.10"
  }
 },
 "nbformat": 4,
 "nbformat_minor": 4
}
