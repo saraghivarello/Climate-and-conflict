{
 "cells": [
  {
   "cell_type": "markdown",
   "metadata": {},
   "source": [
    "------------\n",
    "\n",
    "# Spatial Panel Models with Fixed Effects\n",
    "\n",
    "* **This notebook uses the [Panel_FE_Lag](https://pysal.org/spreg/generated/spreg.Panel_FE_Lag.html#spreg.Panel_FE_Lag) and [Panel_FE_Error](https://pysal.org/spreg/generated/spreg.Panel_FE_Error.html#spreg.Panel_FE_Error) classes.**\n"
   ]
  },
  {
   "cell_type": "code",
   "execution_count": 2,
   "metadata": {
    "ExecuteTime": {
     "end_time": "2021-01-04T16:36:53.158014Z",
     "start_time": "2021-01-04T16:36:50.182287Z"
    }
   },
   "outputs": [],
   "source": [
    "import numpy as np\n",
    "import libpysal\n",
    "import libpysal.weights as lpw\n",
    "import spreg\n",
    "import pandas as pd\n",
    "import pysal as ps\n",
    "from datetime import datetime\n",
    "import statsmodels.api as sm\n",
    "import statsmodels.formula.api as smf"
   ]
  },
  {
   "cell_type": "code",
   "execution_count": 3,
   "metadata": {
    "ExecuteTime": {
     "end_time": "2021-01-04T16:36:53.489678Z",
     "start_time": "2021-01-04T16:36:53.160457Z"
    }
   },
   "outputs": [],
   "source": [
    "#df_dummies= pd.read_csv(r\"C:\\Users\\PcLaptop\\Documents\\GitHub\\Climate-and-conflict\\df_with_dummies.csv\")\n",
    "#states_gdf = r\"C:\\Users\\PcLaptop\\Documents\\GitHub\\Climate-and-conflict\\Datasets\\som_adm_ocha_itos_20230308_shp\\som_admbnda_adm1_ocha_20230308.shp\"\n",
    "\n",
    "df_dummies= pd.read_csv(r\"/home/sara/Documenti/GitHub/Climate-and-conflict/csv/df_lag1_2016_n4.csv\")\n",
    "states_gdf = r\"/home/sara/Documenti/GitHub/Climate-and-conflict/Datasets/som_adm_ocha_itos_20230308_shp/som_admbnda_adm1_ocha_20230308.shp\""
   ]
  },
  {
   "cell_type": "code",
   "execution_count": 4,
   "metadata": {},
   "outputs": [],
   "source": [
    "#read xlsx file\n",
    "#df = pd.read_excel(r\"C:\\Users\\PcLaptop\\Documents\\GitHub\\Climate-and-conflict\\displacements\\UNHCR-PRMN-Displacement-Dataset - Somalia.xlsx\")\n",
    "df = pd.read_excel(r\"/home/sara/Documenti/GitHub/Climate-and-conflict/displacements/UNHCR-PRMN-Displacement-Dataset - Somalia.xlsx\")\n",
    "df = df[df['Reason']=='Drought related']\n",
    "df['Current (Arrival) Region'] = df['Current (Arrival) Region'].str.replace(' ', '_')\n",
    "df['Previous (Departure) Region'] = df['Previous (Departure) Region'].str.replace(' ', '_')"
   ]
  },
  {
   "cell_type": "code",
   "execution_count": 5,
   "metadata": {},
   "outputs": [],
   "source": [
    "v= df[\"Month End\"]\n",
    "v=v.values\n",
    "dt = [datetime.strptime(v[i], \"%d/%m/%Y\") for i in range(len(v))]\n",
    "q=[]\n",
    "\n",
    "for i in range(len(dt)):\n",
    "    q.append(datetime.timestamp(dt[i]))\n",
    "    \n",
    "df.insert(loc=3, column='date_timestamp', value=q)\n",
    "df = df.sort_values(\"date_timestamp\")\n",
    "\n",
    "df['Month End'] = pd.to_datetime(df['Month End'], dayfirst=True)"
   ]
  },
  {
   "cell_type": "code",
   "execution_count": 6,
   "metadata": {},
   "outputs": [],
   "source": [
    "aggregated_data = df.groupby([pd.Grouper(key='Month End', freq='M'),'Previous (Departure) Region', 'Current (Arrival) Region'])['Number of Individuals'].sum().to_frame()"
   ]
  },
  {
   "cell_type": "code",
   "execution_count": 7,
   "metadata": {},
   "outputs": [],
   "source": [
    "dates = aggregated_data.index.get_level_values('Month End').unique()\n",
    "districts = aggregated_data.index.get_level_values('Previous (Departure) Region').unique()\n",
    "all_combinations = pd.MultiIndex.from_product([dates, districts,districts], names=['time', 'Previous (Departure) Region','Current (Arrival) Region'])\n",
    "\n",
    "disp_data = aggregated_data.reindex(all_combinations, fill_value=0).reset_index()   "
   ]
  },
  {
   "cell_type": "code",
   "execution_count": 8,
   "metadata": {},
   "outputs": [],
   "source": [
    "disp_matxs = disp_data.pivot_table(index=['time','Current (Arrival) Region'], columns='Previous (Departure) Region', values='Number of Individuals', aggfunc='sum').reset_index()\n",
    "disp_matxs = disp_matxs.rename(columns={'Current (Arrival) Region': 'admin1'})"
   ]
  },
  {
   "cell_type": "code",
   "execution_count": 9,
   "metadata": {},
   "outputs": [],
   "source": [
    "#remove the day from the date\n",
    "disp_matxs['yr_mth'] = disp_matxs['time'].map(lambda x: x.strftime('%Y-%m'))\n",
    "disp_matxs = disp_matxs.drop(columns=['time'])\n",
    "df_dummies['yr_mth'] = pd.to_datetime(df_dummies['time'], dayfirst=True).map(lambda x: x.strftime('%Y-%m'))\n",
    "\n",
    "df_merged = pd.merge(df_dummies, disp_matxs, on=['yr_mth', 'admin1'], how='inner')"
   ]
  },
  {
   "cell_type": "code",
   "execution_count": 10,
   "metadata": {},
   "outputs": [],
   "source": [
    "# Create a new dataframe for normalized data\n",
    "normalized_df = pd.DataFrame(columns=disp_matxs.columns)\n",
    "\n",
    "# Iterate through unique yr_mth values\n",
    "for yr_mth in disp_matxs['yr_mth'].unique():\n",
    "    # Select rows for the current yr_mth\n",
    "    subset = disp_matxs[disp_matxs['yr_mth'] == yr_mth].copy()\n",
    "    \n",
    "    # Extract the matrix values and convert to a NumPy array\n",
    "    matrix_values = subset.iloc[:, 1:-1].values\n",
    "    \n",
    "    # Perform normalization (e.g., min-max scaling)\n",
    "    min_val = np.min(matrix_values)\n",
    "    max_val = np.max(matrix_values)\n",
    "    normalized_matrix = (matrix_values - min_val) / (max_val - min_val)\n",
    "    \n",
    "    # Replace the original matrix with the normalized matrix\n",
    "    subset.iloc[:, 1:-1] = normalized_matrix\n",
    "    \n",
    "    # Append the modified subset to the new dataframe\n",
    "    normalized_df = pd.concat([normalized_df, subset])\n",
    "\n",
    "# Reset the index of the new dataframe\n",
    "normalized_df.reset_index(drop=True, inplace=True)\n"
   ]
  },
  {
   "cell_type": "code",
   "execution_count": 11,
   "metadata": {},
   "outputs": [],
   "source": [
    "w_aw=normalized_df[normalized_df['yr_mth']=='2016-01']\n",
    "w_aw = w_aw.drop(columns=['yr_mth', 'admin1'])"
   ]
  },
  {
   "cell_type": "markdown",
   "metadata": {},
   "source": [
    "--------------------\n",
    "\n",
    "## Spatial Lag model\n",
    "\n",
    "Let's estimate a spatial lag panel model with fixed effects:\n",
    "\n",
    "$$\n",
    "y = \\rho Wy + X\\beta + \\mu_i + e\n",
    "$$"
   ]
  },
  {
   "cell_type": "code",
   "execution_count": 12,
   "metadata": {},
   "outputs": [],
   "source": [
    "#add a column with the sum of the displacements\n",
    "df_merged['sum_disp'] = df_merged.iloc[:, -18:].sum(axis=1)"
   ]
  },
  {
   "cell_type": "code",
   "execution_count": 13,
   "metadata": {},
   "outputs": [],
   "source": [
    "#df_merged.to_csv(r\"/home/sara/Documenti/GitHub/Climate-and-conflict/csv/df_lag1_2016_n4_disp_d.csv\", index=False)"
   ]
  },
  {
   "cell_type": "code",
   "execution_count": 16,
   "metadata": {},
   "outputs": [],
   "source": [
    "w = libpysal.weights.Queen.from_shapefile(states_gdf)\n",
    "w.transform = 'r'\n",
    "\n",
    "# Define dependent variable\n",
    "name_y = [\"conflicts\"]\n",
    "y = np.array([df_merged[name] for name in name_y]).T\n",
    "\n",
    "# Define independent variables\n",
    "name_x = ['TA_lag1','PA_lag1','DL_lag1','sum_disp']\n",
    "x = np.array([df_merged[name] for name in name_x]).T"
   ]
  },
  {
   "cell_type": "code",
   "execution_count": 17,
   "metadata": {
    "ExecuteTime": {
     "end_time": "2021-01-04T16:36:59.736302Z",
     "start_time": "2021-01-04T16:36:53.492370Z"
    }
   },
   "outputs": [],
   "source": [
    "fe_lag = spreg.Panel_FE_Lag(y, x, w, name_y=name_y, \n",
    "                            name_x=name_x, name_ds=\"df_dummies\")"
   ]
  },
  {
   "cell_type": "code",
   "execution_count": 18,
   "metadata": {
    "ExecuteTime": {
     "end_time": "2021-01-04T16:36:59.741882Z",
     "start_time": "2021-01-04T16:36:59.737965Z"
    }
   },
   "outputs": [
    {
     "name": "stdout",
     "output_type": "stream",
     "text": [
      "REGRESSION\n",
      "----------\n",
      "SUMMARY OF OUTPUT: MAXIMUM LIKELIHOOD SPATIAL LAG PANEL - FIXED EFFECTS\n",
      "-----------------------------------------------------------------------\n",
      "Data set            :  df_dummies\n",
      "Weights matrix      :     unknown\n",
      "Dependent Variable  :   conflicts                Number of Observations:        1512\n",
      "Mean dependent var  :      0.0000                Number of Variables   :           5\n",
      "S.D. dependent var  :      7.3422                Degrees of Freedom    :        1507\n",
      "Pseudo R-squared    :      0.0443\n",
      "Spatial Pseudo R-squared:  0.0121\n",
      "Sigma-square ML     :      51.666                Log likelihood        :  -10669.357\n",
      "S.E of regression   :       7.188                Akaike info criterion :   21348.713\n",
      "                                                 Schwarz criterion     :   21375.319\n",
      "\n",
      "------------------------------------------------------------------------------------\n",
      "            Variable     Coefficient       Std.Error     z-Statistic     Probability\n",
      "------------------------------------------------------------------------------------\n",
      "             TA_lag1       0.2506921       0.3511980       0.7138197       0.4753387\n",
      "             PA_lag1      -1.4081114       0.6319956      -2.2280399       0.0258779\n",
      "             DL_lag1       0.0074986       0.0067281       1.1145125       0.2650594\n",
      "            sum_disp       0.0000847       0.0000280       3.0287155       0.0024560\n",
      "         W_conflicts       0.1694704       0.0297607       5.6944275       0.0000000\n",
      "------------------------------------------------------------------------------------\n",
      "Warning: Assuming panel is in long format.\n",
      "y[0:N] refers to T0, y[N+1:2N] refers to T1, etc.\n",
      "x[0:N] refers to T0, x[N+1:2N] refers to T1, etc.\n",
      "================================ END OF REPORT =====================================\n"
     ]
    }
   ],
   "source": [
    "print(fe_lag.summary)"
   ]
  },
  {
   "cell_type": "code",
   "execution_count": 19,
   "metadata": {},
   "outputs": [],
   "source": [
    "df_merged = df_merged.dropna()\n",
    "#df_dummies = df_dummies[df_dummies['yr_mth'] >= '2016-01']\n",
    "\n",
    "# Define dependent variable\n",
    "name_y = [\"conflicts\"]\n",
    "y = np.array([df_merged[name] for name in name_y]).T\n",
    "\n",
    "# include as independent variables the displacements for each time\n",
    "name_x = ['TA_lag1','PA_lag1','DL_lag1','Awdal_y','Bakool_y','Banadir_y', 'Bari_y', 'Bay_y', 'Galgaduud_y', 'Gedo_y', 'Hiraan_y', 'Lower_Juba_y', 'Lower_Shabelle_y', 'Middle_Juba_y', 'Middle_Shabelle_y', 'Mudug_y', 'Nugaal_y', 'Sanaag_y', 'Sool_y', 'Togdheer_y', 'Woqooyi_Galbeed_y']\n",
    "x = np.array([df_merged[name] for name in name_x]).T"
   ]
  },
  {
   "cell_type": "code",
   "execution_count": 20,
   "metadata": {},
   "outputs": [],
   "source": [
    "fe_lag = spreg.Panel_FE_Lag(y, x, w, name_y=name_y, \n",
    "                            name_x=name_x, name_ds=\"df_merged\")"
   ]
  },
  {
   "cell_type": "code",
   "execution_count": 21,
   "metadata": {},
   "outputs": [
    {
     "name": "stdout",
     "output_type": "stream",
     "text": [
      "REGRESSION\n",
      "----------\n",
      "SUMMARY OF OUTPUT: MAXIMUM LIKELIHOOD SPATIAL LAG PANEL - FIXED EFFECTS\n",
      "-----------------------------------------------------------------------\n",
      "Data set            :   df_merged\n",
      "Weights matrix      :     unknown\n",
      "Dependent Variable  :   conflicts                Number of Observations:        1512\n",
      "Mean dependent var  :      0.0000                Number of Variables   :          22\n",
      "S.D. dependent var  :      7.3422                Degrees of Freedom    :        1490\n",
      "Pseudo R-squared    :      0.0811\n",
      "Spatial Pseudo R-squared:  0.0485\n",
      "Sigma-square ML     :      49.582                Log likelihood        :  -10638.865\n",
      "S.E of regression   :       7.041                Akaike info criterion :   21321.731\n",
      "                                                 Schwarz criterion     :   21438.797\n",
      "\n",
      "------------------------------------------------------------------------------------\n",
      "            Variable     Coefficient       Std.Error     z-Statistic     Probability\n",
      "------------------------------------------------------------------------------------\n",
      "             TA_lag1       0.2872220       0.3488579       0.8233209       0.4103255\n",
      "             PA_lag1      -1.4794283       0.6285247      -2.3538111       0.0185821\n",
      "             DL_lag1       0.0053344       0.0066930       0.7970029       0.4254493\n",
      "             Awdal_y      -0.0008551       0.0016127      -0.5302149       0.5959629\n",
      "            Bakool_y       0.0000348       0.0001522       0.2287643       0.8190521\n",
      "           Banadir_y      -0.0003879       0.0009825      -0.3948359       0.6929640\n",
      "              Bari_y      -0.0007253       0.0004638      -1.5637290       0.1178812\n",
      "               Bay_y      -0.0000604       0.0000687      -0.8786280       0.3796030\n",
      "         Galgaduud_y       0.0000702       0.0000596       1.1768313       0.2392628\n",
      "              Gedo_y      -0.0001852       0.0004331      -0.4276122       0.6689335\n",
      "            Hiraan_y      -0.0009661       0.0006394      -1.5108392       0.1308294\n",
      "        Lower_Juba_y       0.0014732       0.0002797       5.2678923       0.0000001\n",
      "    Lower_Shabelle_y       0.0004002       0.0000821       4.8772075       0.0000011\n",
      "       Middle_Juba_y       0.0017147       0.0013899       1.2336834       0.2173209\n",
      "   Middle_Shabelle_y      -0.0000802       0.0001640      -0.4888136       0.6249737\n",
      "             Mudug_y       0.0000096       0.0000755       0.1277279       0.8983643\n",
      "            Nugaal_y      -0.0007443       0.0013066      -0.5696395       0.5689222\n",
      "            Sanaag_y      -0.0001175       0.0003139      -0.3742233       0.7082382\n",
      "              Sool_y       0.0000113       0.0001644       0.0686927       0.9452342\n",
      "          Togdheer_y      -0.0001005       0.0002194      -0.4578796       0.6470389\n",
      "   Woqooyi_Galbeed_y       0.0016544       0.0029591       0.5590924       0.5760986\n",
      "         W_conflicts       0.1770371       0.0295562       5.9898492       0.0000000\n",
      "------------------------------------------------------------------------------------\n",
      "Warning: Assuming panel is in long format.\n",
      "y[0:N] refers to T0, y[N+1:2N] refers to T1, etc.\n",
      "x[0:N] refers to T0, x[N+1:2N] refers to T1, etc.\n",
      "================================ END OF REPORT =====================================\n"
     ]
    }
   ],
   "source": [
    "print(fe_lag.summary)"
   ]
  },
  {
   "cell_type": "code",
   "execution_count": 22,
   "metadata": {},
   "outputs": [],
   "source": [
    "y_var_name = 'conflicts'\n",
    "X_var_names = ['TA_lag1','PA_lag1','DL_lag1']"
   ]
  },
  {
   "cell_type": "code",
   "execution_count": 23,
   "metadata": {},
   "outputs": [
    {
     "name": "stdout",
     "output_type": "stream",
     "text": [
      "Regression expression for OLS with dummies=conflicts ~ TA_lag1 + PA_lag1 + DL_lag1 + Awdal_x + Bakool_x + Banadir_x + Bari_x + Bay_x + Galgaduud_x + Gedo_x + Hiraan_x + Lower_Juba_x + Lower_Shabelle_x + Middle_Juba_x + Middle_Shabelle_x + Mudug_x + Nugaal_x + Sanaag_x + Sool_x + Togdheer_x + Awdal_y + Bakool_y + Banadir_y + Bari_y + Bay_y + Galgaduud_y + Gedo_y + Hiraan_y + Lower_Juba_y + Lower_Shabelle_y + Middle_Juba_y + Middle_Shabelle_y + Mudug_y + Nugaal_y + Sanaag_y + Sool_y + Togdheer_y + January + February + March + April + May + June + July + August + September + October + November\n"
     ]
    }
   ],
   "source": [
    "# Regression expression for OLS with dummies\n",
    "\n",
    "unit_names = df_dummies['admin1'].unique().tolist()\n",
    "unit_names.sort()\n",
    "unit_names_t = df_dummies['month_name'].unique().tolist()\n",
    "\n",
    "lsdv_expr = y_var_name + ' ~ '\n",
    "i = 0\n",
    "for X_var_name in X_var_names:\n",
    "    if i > 0:\n",
    "        lsdv_expr = lsdv_expr + ' + ' + X_var_name\n",
    "    else:\n",
    "        lsdv_expr = lsdv_expr + X_var_name\n",
    "    i = i + 1\n",
    "for dummy_name in unit_names[:-1]:\n",
    "   lsdv_expr = lsdv_expr + ' + ' + dummy_name + '_x'\n",
    "for dummy_name in unit_names[:-1]:\n",
    "   lsdv_expr = lsdv_expr + ' + ' + dummy_name + '_y'\n",
    "for dummy_name_t in unit_names_t[:-1]:\n",
    "    lsdv_expr = lsdv_expr + ' + ' + dummy_name_t\n",
    "#for dummy_name_mr in name_x[:-1]:\n",
    " #   lsdv_expr = lsdv_expr + ' + ' + dummy_name_mr\n",
    "#lsdv_expr = lsdv_expr + ' - ' + '1'\n",
    "print('Regression expression for OLS with dummies=' + lsdv_expr)"
   ]
  },
  {
   "cell_type": "code",
   "execution_count": 24,
   "metadata": {},
   "outputs": [
    {
     "name": "stdout",
     "output_type": "stream",
     "text": [
      "                            OLS Regression Results                            \n",
      "==============================================================================\n",
      "Dep. Variable:              conflicts   R-squared:                       0.829\n",
      "Model:                            OLS   Adj. R-squared:                  0.823\n",
      "Method:                 Least Squares   F-statistic:                     147.6\n",
      "Date:                Fri, 27 Oct 2023   Prob (F-statistic):               0.00\n",
      "Time:                        12:27:45   Log-Likelihood:                -5114.7\n",
      "No. Observations:                1512   AIC:                         1.033e+04\n",
      "Df Residuals:                    1463   BIC:                         1.059e+04\n",
      "Df Model:                          48                                         \n",
      "Covariance Type:            nonrobust                                         \n",
      "=====================================================================================\n",
      "                        coef    std err          t      P>|t|      [0.025      0.975]\n",
      "-------------------------------------------------------------------------------------\n",
      "Intercept             3.3533      1.058      3.169      0.002       1.277       5.429\n",
      "TA_lag1               0.4394      0.364      1.208      0.227      -0.274       1.153\n",
      "PA_lag1              -1.7761      0.653     -2.719      0.007      -3.057      -0.495\n",
      "DL_lag1               0.0071      0.007      1.034      0.301      -0.006       0.021\n",
      "Awdal_x              -1.7604      1.403     -1.255      0.210      -4.512       0.991\n",
      "Bakool_x              4.4427      1.202      3.697      0.000       2.085       6.800\n",
      "Banadir_x            50.1975      1.180     42.527      0.000      47.882      52.513\n",
      "Bari_x                7.6149      1.264      6.023      0.000       5.135      10.095\n",
      "Bay_x                15.1803      1.188     12.783      0.000      12.851      17.510\n",
      "Galgaduud_x           5.7842      1.152      5.019      0.000       3.524       8.045\n",
      "Gedo_x                7.6536      1.202      6.369      0.000       5.296      10.011\n",
      "Hiraan_x             15.4078      1.149     13.406      0.000      13.153      17.662\n",
      "Lower_Juba_x         18.9351      1.352     14.006      0.000      16.283      21.587\n",
      "Lower_Shabelle_x     50.1013      1.132     44.266      0.000      47.881      52.322\n",
      "Middle_Juba_x        -0.7918      1.324     -0.598      0.550      -3.389       1.806\n",
      "Middle_Shabelle_x    15.6867      1.151     13.623      0.000      13.428      17.945\n",
      "Mudug_x               6.3083      1.173      5.377      0.000       4.007       8.610\n",
      "Nugaal_x              0.2094      1.171      0.179      0.858      -2.088       2.507\n",
      "Sanaag_x              0.3599      1.192      0.302      0.763      -1.978       2.698\n",
      "Sool_x                1.1289      1.137      0.993      0.321      -1.101       3.359\n",
      "Togdheer_x            0.4778      1.145      0.417      0.677      -1.768       2.724\n",
      "Awdal_y              -0.0005      0.002     -0.313      0.754      -0.004       0.003\n",
      "Bakool_y            6.55e-05      0.000      0.417      0.677      -0.000       0.000\n",
      "Banadir_y            -0.0003      0.001     -0.266      0.790      -0.002       0.002\n",
      "Bari_y               -0.0007      0.000     -1.547      0.122      -0.002       0.000\n",
      "Bay_y             -5.791e-05   7.09e-05     -0.817      0.414      -0.000    8.12e-05\n",
      "Galgaduud_y        7.245e-05   6.16e-05      1.177      0.240   -4.83e-05       0.000\n",
      "Gedo_y            -6.476e-05      0.000     -0.145      0.885      -0.001       0.001\n",
      "Hiraan_y             -0.0009      0.001     -1.378      0.169      -0.002       0.000\n",
      "Lower_Juba_y          0.0014      0.000      4.826      0.000       0.001       0.002\n",
      "Lower_Shabelle_y      0.0004   8.46e-05      4.801      0.000       0.000       0.001\n",
      "Middle_Juba_y         0.0018      0.001      1.247      0.213      -0.001       0.005\n",
      "Middle_Shabelle_y -5.438e-05      0.000     -0.321      0.748      -0.000       0.000\n",
      "Mudug_y            2.178e-05   7.78e-05      0.280      0.779      -0.000       0.000\n",
      "Nugaal_y             -0.0010      0.001     -0.723      0.470      -0.004       0.002\n",
      "Sanaag_y          -7.987e-05      0.000     -0.247      0.805      -0.001       0.001\n",
      "Sool_y             5.725e-05      0.000      0.340      0.734      -0.000       0.000\n",
      "Togdheer_y        -8.147e-05      0.000     -0.362      0.718      -0.001       0.000\n",
      "January              -1.3084      0.921     -1.421      0.155      -3.114       0.497\n",
      "February             -1.2314      0.918     -1.341      0.180      -3.033       0.570\n",
      "March                -2.2556      0.923     -2.445      0.015      -4.065      -0.446\n",
      "April                -1.7717      0.918     -1.931      0.054      -3.572       0.028\n",
      "May                  -0.4415      0.916     -0.482      0.630      -2.239       1.356\n",
      "June                 -0.7318      0.916     -0.798      0.425      -2.530       1.066\n",
      "July                 -1.9818      0.916     -2.163      0.031      -3.779      -0.184\n",
      "August               -0.3319      0.916     -0.362      0.717      -2.129       1.465\n",
      "September            -0.2981      0.914     -0.326      0.745      -2.092       1.496\n",
      "October              -0.5288      0.916     -0.577      0.564      -2.325       1.268\n",
      "November             -1.2077      0.918     -1.316      0.188      -3.008       0.593\n",
      "==============================================================================\n",
      "Omnibus:                      596.165   Durbin-Watson:                   1.825\n",
      "Prob(Omnibus):                  0.000   Jarque-Bera (JB):             6384.031\n",
      "Skew:                           1.530   Prob(JB):                         0.00\n",
      "Kurtosis:                      12.590   Cond. No.                     6.46e+04\n",
      "==============================================================================\n",
      "\n",
      "Notes:\n",
      "[1] Standard Errors assume that the covariance matrix of the errors is correctly specified.\n",
      "[2] The condition number is large, 6.46e+04. This might indicate that there are\n",
      "strong multicollinearity or other numerical problems.\n"
     ]
    }
   ],
   "source": [
    "lsdv_model = smf.ols(formula=lsdv_expr, data=df_merged)\n",
    "lsdv_model_results = lsdv_model.fit()\n",
    "print(lsdv_model_results.summary())"
   ]
  },
  {
   "cell_type": "code",
   "execution_count": null,
   "metadata": {},
   "outputs": [],
   "source": []
  }
 ],
 "metadata": {
  "kernelspec": {
   "display_name": "Python 3",
   "language": "python",
   "name": "python3"
  },
  "language_info": {
   "codemirror_mode": {
    "name": "ipython",
    "version": 3
   },
   "file_extension": ".py",
   "mimetype": "text/x-python",
   "name": "python",
   "nbconvert_exporter": "python",
   "pygments_lexer": "ipython3",
   "version": "3.8.10"
  }
 },
 "nbformat": 4,
 "nbformat_minor": 4
}
