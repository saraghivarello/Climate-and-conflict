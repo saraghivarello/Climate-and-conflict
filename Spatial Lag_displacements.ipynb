{
 "cells": [
  {
   "cell_type": "markdown",
   "metadata": {},
   "source": [
    "------------\n",
    "\n",
    "# Spatial Panel Models with Fixed Effects\n",
    "\n",
    "* **This notebook uses the [Panel_FE_Lag](https://pysal.org/spreg/generated/spreg.Panel_FE_Lag.html#spreg.Panel_FE_Lag) and [Panel_FE_Error](https://pysal.org/spreg/generated/spreg.Panel_FE_Error.html#spreg.Panel_FE_Error) classes.**\n"
   ]
  },
  {
   "cell_type": "code",
   "execution_count": 228,
   "metadata": {
    "ExecuteTime": {
     "end_time": "2021-01-04T16:36:53.158014Z",
     "start_time": "2021-01-04T16:36:50.182287Z"
    }
   },
   "outputs": [],
   "source": [
    "import numpy as np\n",
    "import libpysal\n",
    "import libpysal.weights as lpw\n",
    "import spreg\n",
    "import pandas as pd\n",
    "import pysal as ps\n",
    "from datetime import datetime\n",
    "import statsmodels.api as sm\n",
    "import statsmodels.formula.api as smf"
   ]
  },
  {
   "cell_type": "code",
   "execution_count": 229,
   "metadata": {
    "ExecuteTime": {
     "end_time": "2021-01-04T16:36:53.489678Z",
     "start_time": "2021-01-04T16:36:53.160457Z"
    }
   },
   "outputs": [],
   "source": [
    "#df_dummies= pd.read_csv(r\"C:\\Users\\PcLaptop\\Documents\\GitHub\\Climate-and-conflict\\df_with_dummies.csv\")\n",
    "#states_gdf = r\"C:\\Users\\PcLaptop\\Documents\\GitHub\\Climate-and-conflict\\Datasets\\som_adm_ocha_itos_20230308_shp\\som_admbnda_adm1_ocha_20230308.shp\"\n",
    "\n",
    "df_dummies= pd.read_csv(r\"/home/sara/Documenti/GitHub/Climate-and-conflict/csv/df_lag1.csv\")\n",
    "states_gdf = r\"/home/sara/Documenti/GitHub/Climate-and-conflict/Datasets/som_adm_ocha_itos_20230308_shp/som_admbnda_adm1_ocha_20230308.shp\""
   ]
  },
  {
   "cell_type": "code",
   "execution_count": 230,
   "metadata": {},
   "outputs": [],
   "source": [
    "#read xlsx file\n",
    "df = pd.read_excel(r\"/home/sara/Documenti/GitHub/Climate-and-conflict/displacements/UNHCR-PRMN-Displacement-Dataset - Somalia.xlsx\")\n",
    "\n",
    "df['Current (Arrival) Region'] = df['Current (Arrival) Region'].str.replace(' ', '_')\n",
    "df['Previous (Departure) Region'] = df['Previous (Departure) Region'].str.replace(' ', '_')"
   ]
  },
  {
   "cell_type": "code",
   "execution_count": 231,
   "metadata": {},
   "outputs": [],
   "source": [
    "v= df[\"Month End\"]\n",
    "v=v.values\n",
    "dt = [datetime.strptime(v[i], \"%d/%m/%Y\") for i in range(len(v))]\n",
    "q=[]\n",
    "\n",
    "for i in range(len(dt)):\n",
    "    q.append(datetime.timestamp(dt[i]))\n",
    "    \n",
    "df.insert(loc=3, column='date_timestamp', value=q)\n",
    "df = df.sort_values(\"date_timestamp\")\n",
    "\n",
    "df['Month End'] = pd.to_datetime(df['Month End'], dayfirst=True)"
   ]
  },
  {
   "cell_type": "code",
   "execution_count": 232,
   "metadata": {},
   "outputs": [],
   "source": [
    "aggregated_data = df.groupby([pd.Grouper(key='Month End', freq='M'),'Previous (Departure) Region', 'Current (Arrival) Region'])['Number of Individuals'].sum().to_frame()"
   ]
  },
  {
   "cell_type": "code",
   "execution_count": 233,
   "metadata": {},
   "outputs": [],
   "source": [
    "dates = aggregated_data.index.get_level_values('Month End').unique()\n",
    "districts = aggregated_data.index.get_level_values('Previous (Departure) Region').unique()\n",
    "all_combinations = pd.MultiIndex.from_product([dates, districts,districts], names=['time', 'Previous (Departure) Region','Current (Arrival) Region'])\n",
    "\n",
    "disp_data = aggregated_data.reindex(all_combinations, fill_value=0).reset_index()   "
   ]
  },
  {
   "cell_type": "code",
   "execution_count": 234,
   "metadata": {},
   "outputs": [],
   "source": [
    "disp_matxs = disp_data.pivot_table(index=['time','Current (Arrival) Region'], columns='Previous (Departure) Region', values='Number of Individuals', aggfunc='sum').reset_index()\n",
    "#rename column current arrival region\n",
    "disp_matxs = disp_matxs.rename(columns={'Current (Arrival) Region': 'admin1'})"
   ]
  },
  {
   "cell_type": "code",
   "execution_count": 235,
   "metadata": {},
   "outputs": [],
   "source": [
    "#remove the day from the date\n",
    "disp_matxs['yr_mth'] = disp_matxs['time'].map(lambda x: x.strftime('%Y-%m'))\n",
    "disp_matxs = disp_matxs.drop(columns=['time'])\n",
    "df_dummies['yr_mth'] = pd.to_datetime(df_dummies['time'], dayfirst=True).map(lambda x: x.strftime('%Y-%m'))\n",
    "\n",
    "df_merged = pd.merge(df_dummies, disp_matxs, on=['yr_mth', 'admin1'], how='inner')"
   ]
  },
  {
   "cell_type": "code",
   "execution_count": 236,
   "metadata": {},
   "outputs": [],
   "source": [
    "# Create a new dataframe for normalized data\n",
    "normalized_df = pd.DataFrame(columns=disp_matxs.columns)\n",
    "\n",
    "# Iterate through unique yr_mth values\n",
    "for yr_mth in disp_matxs['yr_mth'].unique():\n",
    "    # Select rows for the current yr_mth\n",
    "    subset = disp_matxs[disp_matxs['yr_mth'] == yr_mth].copy()\n",
    "    \n",
    "    # Extract the matrix values and convert to a NumPy array\n",
    "    matrix_values = subset.iloc[:, 1:-1].values\n",
    "    \n",
    "    # Perform normalization (e.g., min-max scaling)\n",
    "    min_val = np.min(matrix_values)\n",
    "    max_val = np.max(matrix_values)\n",
    "    normalized_matrix = (matrix_values - min_val) / (max_val - min_val)\n",
    "    \n",
    "    # Replace the original matrix with the normalized matrix\n",
    "    subset.iloc[:, 1:-1] = normalized_matrix\n",
    "    \n",
    "    # Append the modified subset to the new dataframe\n",
    "    normalized_df = pd.concat([normalized_df, subset])\n",
    "\n",
    "# Reset the index of the new dataframe\n",
    "normalized_df.reset_index(drop=True, inplace=True)\n"
   ]
  },
  {
   "cell_type": "code",
   "execution_count": 237,
   "metadata": {},
   "outputs": [],
   "source": [
    "w_aw=normalized_df[normalized_df['yr_mth']=='2016-01']\n",
    "w_aw = w_aw.drop(columns=['yr_mth', 'admin1'])"
   ]
  },
  {
   "cell_type": "markdown",
   "metadata": {},
   "source": [
    "--------------------\n",
    "\n",
    "## Spatial Lag model\n",
    "\n",
    "Let's estimate a spatial lag panel model with fixed effects:\n",
    "\n",
    "$$\n",
    "y = \\rho Wy + X\\beta + \\mu_i + e\n",
    "$$"
   ]
  },
  {
   "cell_type": "code",
   "execution_count": 238,
   "metadata": {},
   "outputs": [],
   "source": [
    "#add a column with the sum of the displacements\n",
    "df_merged['sum_disp'] = df_merged.iloc[:, -18:].sum(axis=1)"
   ]
  },
  {
   "cell_type": "code",
   "execution_count": 249,
   "metadata": {},
   "outputs": [],
   "source": [
    "#df_merged.to_csv(r\"/home/sara/Documenti/GitHub/Climate-and-conflict/df_lag1_disp.csv\", index=False)"
   ]
  },
  {
   "cell_type": "code",
   "execution_count": 240,
   "metadata": {},
   "outputs": [
    {
     "name": "stderr",
     "output_type": "stream",
     "text": [
      "/home/sara/.local/lib/python3.8/site-packages/libpysal/cg/shapes.py:1492: FutureWarning: Objects based on the `Geometry` class will deprecated and removed in a future version of libpysal.\n",
      "  warnings.warn(dep_msg, FutureWarning)\n",
      "/home/sara/.local/lib/python3.8/site-packages/libpysal/cg/shapes.py:1208: FutureWarning: Objects based on the `Geometry` class will deprecated and removed in a future version of libpysal.\n",
      "  warnings.warn(dep_msg, FutureWarning)\n"
     ]
    }
   ],
   "source": [
    "w = libpysal.weights.Queen.from_shapefile(states_gdf)\n",
    "w.transform = 'r'\n",
    "\n",
    "# Define dependent variable\n",
    "name_y = [\"conflicts\"]\n",
    "y = np.array([df_merged[name] for name in name_y]).T\n",
    "\n",
    "# Define independent variables\n",
    "name_x = ['TA_lag1','PA_lag1','DL_lag1','sum_disp']\n",
    "x = np.array([df_merged[name] for name in name_x]).T"
   ]
  },
  {
   "cell_type": "code",
   "execution_count": 241,
   "metadata": {
    "ExecuteTime": {
     "end_time": "2021-01-04T16:36:59.736302Z",
     "start_time": "2021-01-04T16:36:53.492370Z"
    }
   },
   "outputs": [],
   "source": [
    "fe_lag = spreg.Panel_FE_Lag(y, x, w, name_y=name_y, \n",
    "                            name_x=name_x, name_ds=\"df_dummies\")"
   ]
  },
  {
   "cell_type": "code",
   "execution_count": 242,
   "metadata": {
    "ExecuteTime": {
     "end_time": "2021-01-04T16:36:59.741882Z",
     "start_time": "2021-01-04T16:36:59.737965Z"
    }
   },
   "outputs": [
    {
     "name": "stdout",
     "output_type": "stream",
     "text": [
      "REGRESSION\n",
      "----------\n",
      "SUMMARY OF OUTPUT: MAXIMUM LIKELIHOOD SPATIAL LAG PANEL - FIXED EFFECTS\n",
      "-----------------------------------------------------------------------\n",
      "Data set            :  df_dummies\n",
      "Weights matrix      :     unknown\n",
      "Dependent Variable  :   conflicts                Number of Observations:        1512\n",
      "Mean dependent var  :      0.0000                Number of Variables   :           5\n",
      "S.D. dependent var  :      7.3422                Degrees of Freedom    :        1507\n",
      "Pseudo R-squared    :      0.0530\n",
      "Spatial Pseudo R-squared:  0.0213\n",
      "Sigma-square ML     :      51.143                Log likelihood        :  -10661.645\n",
      "S.E of regression   :       7.151                Akaike info criterion :   21333.290\n",
      "                                                 Schwarz criterion     :   21359.896\n",
      "\n",
      "------------------------------------------------------------------------------------\n",
      "            Variable     Coefficient       Std.Error     z-Statistic     Probability\n",
      "------------------------------------------------------------------------------------\n",
      "             TA_lag1       0.2474392       0.3492873       0.7084115       0.4786897\n",
      "             PA_lag1      -1.3829665       0.6280608      -2.2019629       0.0276679\n",
      "             DL_lag1       0.0090729       0.0066537       1.3635806       0.1726996\n",
      "            sum_disp       0.0000660       0.0000133       4.9767281       0.0000006\n",
      "         W_conflicts       0.1693342       0.0296752       5.7062534       0.0000000\n",
      "------------------------------------------------------------------------------------\n",
      "Warning: Assuming panel is in long format.\n",
      "y[0:N] refers to T0, y[N+1:2N] refers to T1, etc.\n",
      "x[0:N] refers to T0, x[N+1:2N] refers to T1, etc.\n",
      "================================ END OF REPORT =====================================\n"
     ]
    }
   ],
   "source": [
    "print(fe_lag.summary)"
   ]
  },
  {
   "cell_type": "code",
   "execution_count": 243,
   "metadata": {},
   "outputs": [],
   "source": [
    "df_merged = df_merged.dropna()\n",
    "#df_dummies = df_dummies[df_dummies['yr_mth'] >= '2016-01']\n",
    "\n",
    "# Define dependent variable\n",
    "name_y = [\"conflicts\"]\n",
    "y = numpy.array([df_merged[name] for name in name_y]).T\n",
    "\n",
    "# include as independent variables the displacements for each time\n",
    "name_x = ['TA_lag1','PA_lag1','DL_lag1','Awdal_y','Bakool_y','Banadir_y', 'Bari_y', 'Bay_y', 'Galgaduud_y', 'Gedo_y', 'Hiraan_y', 'Lower_Juba_y', 'Lower_Shabelle_y', 'Middle_Juba_y', 'Middle_Shabelle_y', 'Mudug_y', 'Nugaal_y', 'Sanaag_y', 'Sool_y', 'Togdheer_y', 'Woqooyi_Galbeed_y']\n",
    "x = numpy.array([df_merged[name] for name in name_x]).T"
   ]
  },
  {
   "cell_type": "code",
   "execution_count": 244,
   "metadata": {},
   "outputs": [],
   "source": [
    "fe_lag = spreg.Panel_FE_Lag(y, x, w, name_y=name_y, \n",
    "                            name_x=name_x, name_ds=\"df_merged\")"
   ]
  },
  {
   "cell_type": "code",
   "execution_count": 245,
   "metadata": {},
   "outputs": [
    {
     "name": "stdout",
     "output_type": "stream",
     "text": [
      "REGRESSION\n",
      "----------\n",
      "SUMMARY OF OUTPUT: MAXIMUM LIKELIHOOD SPATIAL LAG PANEL - FIXED EFFECTS\n",
      "-----------------------------------------------------------------------\n",
      "Data set            :   df_merged\n",
      "Weights matrix      :     unknown\n",
      "Dependent Variable  :   conflicts                Number of Observations:        1512\n",
      "Mean dependent var  :      0.0000                Number of Variables   :          22\n",
      "S.D. dependent var  :      7.3422                Degrees of Freedom    :        1490\n",
      "Pseudo R-squared    :      0.0801\n",
      "Spatial Pseudo R-squared:  0.0464\n",
      "Sigma-square ML     :      49.630                Log likelihood        :  -10639.296\n",
      "S.E of regression   :       7.045                Akaike info criterion :   21322.591\n",
      "                                                 Schwarz criterion     :   21439.657\n",
      "\n",
      "------------------------------------------------------------------------------------\n",
      "            Variable     Coefficient       Std.Error     z-Statistic     Probability\n",
      "------------------------------------------------------------------------------------\n",
      "             TA_lag1       0.2894162       0.3492617       0.8286516       0.4073016\n",
      "             PA_lag1      -1.4783926       0.6235445      -2.3709494       0.0177425\n",
      "             DL_lag1       0.0069754       0.0066567       1.0478762       0.2946956\n",
      "             Awdal_y      -0.0005391       0.0012896      -0.4180600       0.6759033\n",
      "            Bakool_y       0.0001051       0.0001151       0.9131260       0.3611763\n",
      "           Banadir_y       0.0000167       0.0000389       0.4282158       0.6684940\n",
      "              Bari_y      -0.0002962       0.0002267      -1.3067976       0.1912814\n",
      "               Bay_y       0.0000051       0.0000594       0.0854714       0.9318867\n",
      "         Galgaduud_y       0.0001290       0.0000421       3.0629697       0.0021915\n",
      "              Gedo_y      -0.0000573       0.0000765      -0.7480447       0.4544332\n",
      "            Hiraan_y       0.0000428       0.0000193       2.2132964       0.0268772\n",
      "        Lower_Juba_y       0.0008163       0.0001918       4.2561322       0.0000208\n",
      "    Lower_Shabelle_y       0.0002063       0.0000388       5.3112946       0.0000001\n",
      "       Middle_Juba_y       0.0008531       0.0006175       1.3815524       0.1671092\n",
      "   Middle_Shabelle_y       0.0000510       0.0000594       0.8585841       0.3905700\n",
      "             Mudug_y       0.0000194       0.0000709       0.2736500       0.7843536\n",
      "            Nugaal_y      -0.0008863       0.0011925      -0.7432802       0.4573121\n",
      "            Sanaag_y      -0.0001536       0.0003074      -0.4995407       0.6173985\n",
      "              Sool_y       0.0001088       0.0001433       0.7590154       0.4478434\n",
      "          Togdheer_y      -0.0000875       0.0001977      -0.4428797       0.6578528\n",
      "   Woqooyi_Galbeed_y       0.0004929       0.0007699       0.6402173       0.5220313\n",
      "         W_conflicts       0.1736031       0.0294126       5.9023385       0.0000000\n",
      "------------------------------------------------------------------------------------\n",
      "Warning: Assuming panel is in long format.\n",
      "y[0:N] refers to T0, y[N+1:2N] refers to T1, etc.\n",
      "x[0:N] refers to T0, x[N+1:2N] refers to T1, etc.\n",
      "================================ END OF REPORT =====================================\n"
     ]
    }
   ],
   "source": [
    "print(fe_lag.summary)"
   ]
  },
  {
   "cell_type": "code",
   "execution_count": 246,
   "metadata": {},
   "outputs": [],
   "source": [
    "y_var_name = 'conflicts'\n",
    "X_var_names = ['TA_lag1','PA_lag1','DL_lag1']"
   ]
  },
  {
   "cell_type": "code",
   "execution_count": 247,
   "metadata": {},
   "outputs": [
    {
     "name": "stdout",
     "output_type": "stream",
     "text": [
      "Regression expression for OLS with dummies=conflicts ~ TA_lag1 + PA_lag1 + DL_lag1 + Awdal_x + Bakool_x + Banadir_x + Bari_x + Bay_x + Galgaduud_x + Gedo_x + Hiraan_x + Lower_Juba_x + Lower_Shabelle_x + Middle_Juba_x + Middle_Shabelle_x + Mudug_x + Nugaal_x + Sanaag_x + Sool_x + Togdheer_x + Awdal_y + Bakool_y + Banadir_y + Bari_y + Bay_y + Galgaduud_y + Gedo_y + Hiraan_y + Lower_Juba_y + Lower_Shabelle_y + Middle_Juba_y + Middle_Shabelle_y + Mudug_y + Nugaal_y + Sanaag_y + Sool_y + Togdheer_y + January + February + March + April + May + June + July + August + September + October + November\n"
     ]
    }
   ],
   "source": [
    "# Regression expression for OLS with dummies\n",
    "\n",
    "unit_names = df_dummies['admin1'].unique().tolist()\n",
    "unit_names.sort()\n",
    "unit_names_t = df_dummies['month_name'].unique().tolist()\n",
    "\n",
    "lsdv_expr = y_var_name + ' ~ '\n",
    "i = 0\n",
    "for X_var_name in X_var_names:\n",
    "    if i > 0:\n",
    "        lsdv_expr = lsdv_expr + ' + ' + X_var_name\n",
    "    else:\n",
    "        lsdv_expr = lsdv_expr + X_var_name\n",
    "    i = i + 1\n",
    "for dummy_name in unit_names[:-1]:\n",
    "   lsdv_expr = lsdv_expr + ' + ' + dummy_name + '_x'\n",
    "for dummy_name in unit_names[:-1]:\n",
    "   lsdv_expr = lsdv_expr + ' + ' + dummy_name + '_y'\n",
    "for dummy_name_t in unit_names_t[:-1]:\n",
    "    lsdv_expr = lsdv_expr + ' + ' + dummy_name_t\n",
    "#for dummy_name_mr in name_x[:-1]:\n",
    " #   lsdv_expr = lsdv_expr + ' + ' + dummy_name_mr\n",
    "#lsdv_expr = lsdv_expr + ' - ' + '1'\n",
    "print('Regression expression for OLS with dummies=' + lsdv_expr)"
   ]
  },
  {
   "cell_type": "code",
   "execution_count": 248,
   "metadata": {},
   "outputs": [
    {
     "name": "stdout",
     "output_type": "stream",
     "text": [
      "                            OLS Regression Results                            \n",
      "==============================================================================\n",
      "Dep. Variable:              conflicts   R-squared:                       0.829\n",
      "Model:                            OLS   Adj. R-squared:                  0.823\n",
      "Method:                 Least Squares   F-statistic:                     147.7\n",
      "Date:                Tue, 26 Sep 2023   Prob (F-statistic):               0.00\n",
      "Time:                        16:25:58   Log-Likelihood:                -5114.4\n",
      "No. Observations:                1512   AIC:                         1.033e+04\n",
      "Df Residuals:                    1463   BIC:                         1.059e+04\n",
      "Df Model:                          48                                         \n",
      "Covariance Type:            nonrobust                                         \n",
      "=====================================================================================\n",
      "                        coef    std err          t      P>|t|      [0.025      0.975]\n",
      "-------------------------------------------------------------------------------------\n",
      "Intercept             3.5237      1.058      3.331      0.001       1.449       5.599\n",
      "TA_lag1               0.4342      0.364      1.194      0.233      -0.279       1.147\n",
      "PA_lag1              -1.7670      0.647     -2.730      0.006      -3.037      -0.497\n",
      "DL_lag1               0.0088      0.007      1.289      0.198      -0.005       0.022\n",
      "Awdal_x              -1.8708      1.402     -1.335      0.182      -4.620       0.878\n",
      "Bakool_x              4.0931      1.215      3.370      0.001       1.710       6.476\n",
      "Banadir_x            49.5836      1.213     40.883      0.000      47.205      51.963\n",
      "Bari_x                7.3116      1.206      6.064      0.000       4.947       9.677\n",
      "Bay_x                14.6909      1.208     12.159      0.000      12.321      17.061\n",
      "Galgaduud_x           5.1359      1.173      4.379      0.000       2.835       7.437\n",
      "Gedo_x                7.6636      1.175      6.523      0.000       5.359       9.968\n",
      "Hiraan_x             14.6141      1.158     12.623      0.000      12.343      16.885\n",
      "Lower_Juba_x         18.8990      1.370     13.800      0.000      16.213      21.585\n",
      "Lower_Shabelle_x     48.9704      1.160     42.199      0.000      46.694      51.247\n",
      "Middle_Juba_x        -1.1166      1.353     -0.825      0.409      -3.771       1.538\n",
      "Middle_Shabelle_x    15.4621      1.197     12.916      0.000      13.114      17.810\n",
      "Mudug_x               6.2359      1.185      5.263      0.000       3.912       8.560\n",
      "Nugaal_x              0.4346      1.204      0.361      0.718      -1.927       2.796\n",
      "Sanaag_x              0.4509      1.207      0.374      0.709      -1.916       2.818\n",
      "Sool_x                0.9989      1.151      0.868      0.386      -1.259       3.257\n",
      "Togdheer_x            0.4861      1.152      0.422      0.673      -1.773       2.745\n",
      "Awdal_y              -0.0003      0.001     -0.233      0.816      -0.003       0.002\n",
      "Bakool_y              0.0001      0.000      1.153      0.249   -9.59e-05       0.000\n",
      "Banadir_y          2.444e-05   4.02e-05      0.608      0.543   -5.44e-05       0.000\n",
      "Bari_y               -0.0003      0.000     -1.256      0.209      -0.001       0.000\n",
      "Bay_y              1.158e-05   6.14e-05      0.189      0.850      -0.000       0.000\n",
      "Galgaduud_y           0.0001   4.34e-05      3.015      0.003    4.57e-05       0.000\n",
      "Gedo_y            -4.691e-05    7.9e-05     -0.594      0.553      -0.000       0.000\n",
      "Hiraan_y           4.375e-05      2e-05      2.192      0.029     4.6e-06    8.29e-05\n",
      "Lower_Juba_y          0.0008      0.000      3.909      0.000       0.000       0.001\n",
      "Lower_Shabelle_y      0.0002      4e-05      5.183      0.000       0.000       0.000\n",
      "Middle_Juba_y         0.0008      0.001      1.245      0.213      -0.000       0.002\n",
      "Middle_Shabelle_y  4.405e-05   6.13e-05      0.719      0.473   -7.62e-05       0.000\n",
      "Mudug_y             3.29e-05   7.31e-05      0.450      0.653      -0.000       0.000\n",
      "Nugaal_y             -0.0011      0.001     -0.929      0.353      -0.004       0.001\n",
      "Sanaag_y             -0.0001      0.000     -0.335      0.738      -0.001       0.001\n",
      "Sool_y                0.0001      0.000      0.965      0.335      -0.000       0.000\n",
      "Togdheer_y        -8.384e-05      0.000     -0.412      0.681      -0.000       0.000\n",
      "January              -1.4457      0.918     -1.574      0.116      -3.247       0.356\n",
      "February             -1.3859      0.917     -1.512      0.131      -3.184       0.412\n",
      "March                -2.3595      0.919     -2.568      0.010      -4.162      -0.557\n",
      "April                -2.0880      0.924     -2.261      0.024      -3.900      -0.276\n",
      "May                  -0.9846      0.917     -1.074      0.283      -2.783       0.814\n",
      "June                 -0.7882      0.916     -0.861      0.390      -2.584       1.008\n",
      "July                 -2.3630      0.917     -2.578      0.010      -4.161      -0.565\n",
      "August               -0.6413      0.915     -0.701      0.484      -2.437       1.154\n",
      "September            -0.6313      0.915     -0.690      0.490      -2.426       1.164\n",
      "October              -0.9449      0.919     -1.028      0.304      -2.748       0.858\n",
      "November             -1.4737      0.916     -1.609      0.108      -3.270       0.322\n",
      "==============================================================================\n",
      "Omnibus:                      558.194   Durbin-Watson:                   1.813\n",
      "Prob(Omnibus):                  0.000   Jarque-Bera (JB):             5480.708\n",
      "Skew:                           1.435   Prob(JB):                         0.00\n",
      "Kurtosis:                      11.874   Cond. No.                     1.84e+05\n",
      "==============================================================================\n",
      "\n",
      "Notes:\n",
      "[1] Standard Errors assume that the covariance matrix of the errors is correctly specified.\n",
      "[2] The condition number is large, 1.84e+05. This might indicate that there are\n",
      "strong multicollinearity or other numerical problems.\n"
     ]
    }
   ],
   "source": [
    "lsdv_model = smf.ols(formula=lsdv_expr, data=df_merged)\n",
    "lsdv_model_results = lsdv_model.fit()\n",
    "print(lsdv_model_results.summary())"
   ]
  },
  {
   "cell_type": "code",
   "execution_count": null,
   "metadata": {},
   "outputs": [],
   "source": []
  }
 ],
 "metadata": {
  "kernelspec": {
   "display_name": "Python 3",
   "language": "python",
   "name": "python3"
  },
  "language_info": {
   "codemirror_mode": {
    "name": "ipython",
    "version": 3
   },
   "file_extension": ".py",
   "mimetype": "text/x-python",
   "name": "python",
   "nbconvert_exporter": "python",
   "pygments_lexer": "ipython3",
   "version": "3.8.10"
  }
 },
 "nbformat": 4,
 "nbformat_minor": 4
}
