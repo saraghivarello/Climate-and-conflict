{
 "cells": [
  {
   "cell_type": "markdown",
   "metadata": {},
   "source": [
    "------------\n",
    "\n",
    "# Spatial Panel Models with Fixed Effects\n",
    "\n",
    "* **This notebook uses the [Panel_FE_Lag](https://pysal.org/spreg/generated/spreg.Panel_FE_Lag.html#spreg.Panel_FE_Lag) and [Panel_FE_Error](https://pysal.org/spreg/generated/spreg.Panel_FE_Error.html#spreg.Panel_FE_Error) classes.**\n"
   ]
  },
  {
   "cell_type": "code",
   "execution_count": 91,
   "metadata": {
    "ExecuteTime": {
     "end_time": "2021-01-04T16:36:53.158014Z",
     "start_time": "2021-01-04T16:36:50.182287Z"
    }
   },
   "outputs": [],
   "source": [
    "import numpy\n",
    "import libpysal\n",
    "import libpysal.weights as lpw\n",
    "import spreg\n",
    "import pandas as pd\n",
    "import pysal as ps\n",
    "from datetime import datetime"
   ]
  },
  {
   "cell_type": "code",
   "execution_count": 92,
   "metadata": {
    "ExecuteTime": {
     "end_time": "2021-01-04T16:36:53.489678Z",
     "start_time": "2021-01-04T16:36:53.160457Z"
    }
   },
   "outputs": [],
   "source": [
    "#df_dummies= pd.read_csv(r\"C:\\Users\\PcLaptop\\Documents\\GitHub\\Climate-and-conflict\\df_with_dummies.csv\")\n",
    "#states_gdf = r\"C:\\Users\\PcLaptop\\Documents\\GitHub\\Climate-and-conflict\\Datasets\\som_adm_ocha_itos_20230308_shp\\som_admbnda_adm1_ocha_20230308.shp\"\n",
    "\n",
    "df_dummies= pd.read_csv(r\"/home/sara/Documenti/GitHub/Climate-and-conflict/df_CRU4_lag5.csv\")\n",
    "states_gdf = r\"/home/sara/Documenti/GitHub/Climate-and-conflict/Datasets/som_adm_ocha_itos_20230308_shp/som_admbnda_adm1_ocha_20230308.shp\""
   ]
  },
  {
   "cell_type": "code",
   "execution_count": 93,
   "metadata": {},
   "outputs": [],
   "source": [
    "#read xlsx file\n",
    "df = pd.read_excel(r\"/home/sara/Documenti/GitHub/Climate-and-conflict/displacements/UNHCR-PRMN-Displacement-Dataset - Somalia.xlsx\")\n",
    "#in current arrival region column substitute spaces with _\n",
    "df['Current (Arrival) Region'] = df['Current (Arrival) Region'].str.replace(' ', '_')\n",
    "df['Previous (Departure) Region'] = df['Previous (Departure) Region'].str.replace(' ', '_')"
   ]
  },
  {
   "cell_type": "code",
   "execution_count": 94,
   "metadata": {},
   "outputs": [],
   "source": [
    "v= df[\"Month End\"]\n",
    "v=v.values\n",
    "dt = [datetime.strptime(v[i], \"%d/%m/%Y\") for i in range(len(v))]\n",
    "q=[]\n",
    "\n",
    "for i in range(len(dt)):\n",
    "    q.append(datetime.timestamp(dt[i]))\n",
    "    \n",
    "df.insert(loc=3, column='date_timestamp', value=q)\n",
    "df = df.sort_values(\"date_timestamp\")\n",
    "\n",
    "df['Month End'] = pd.to_datetime(df['Month End'], dayfirst=True)"
   ]
  },
  {
   "cell_type": "code",
   "execution_count": 95,
   "metadata": {},
   "outputs": [],
   "source": [
    "aggregated_data = df.groupby([pd.Grouper(key='Month End', freq='M'),'Previous (Departure) Region', 'Current (Arrival) Region'])['Number of Individuals'].sum().to_frame()"
   ]
  },
  {
   "cell_type": "code",
   "execution_count": 96,
   "metadata": {},
   "outputs": [],
   "source": [
    "dates = aggregated_data.index.get_level_values('Month End').unique()\n",
    "districts = aggregated_data.index.get_level_values('Previous (Departure) Region').unique()\n",
    "all_combinations = pd.MultiIndex.from_product([dates, districts,districts], names=['time', 'Previous (Departure) Region','Current (Arrival) Region'])\n",
    "\n",
    "disp_data = aggregated_data.reindex(all_combinations, fill_value=0).reset_index()   "
   ]
  },
  {
   "cell_type": "code",
   "execution_count": 97,
   "metadata": {},
   "outputs": [],
   "source": [
    "disp_matxs = disp_data.pivot_table(index=['time','Current (Arrival) Region'], columns='Previous (Departure) Region', values='Number of Individuals', aggfunc='sum').reset_index()\n",
    "#rename column current arrival region\n",
    "disp_matxs = disp_matxs.rename(columns={'Current (Arrival) Region': 'admin1'})"
   ]
  },
  {
   "cell_type": "code",
   "execution_count": 98,
   "metadata": {},
   "outputs": [],
   "source": [
    "#remove the day from the date\n",
    "disp_matxs['yr_mth'] = disp_matxs['time'].map(lambda x: x.strftime('%Y-%m'))\n",
    "df_dummies['yr_mth'] = pd.to_datetime(df_dummies['time'], dayfirst=True).map(lambda x: x.strftime('%Y-%m'))\n",
    "\n",
    "df_merged = pd.merge(df_dummies, disp_matxs, on=['yr_mth', 'admin1'], how='left')"
   ]
  },
  {
   "cell_type": "markdown",
   "metadata": {},
   "source": [
    "--------------------\n",
    "\n",
    "## Spatial Lag model\n",
    "\n",
    "Let's estimate a spatial lag panel model with fixed effects:\n",
    "\n",
    "$$\n",
    "y = \\rho Wy + X\\beta + \\mu_i + e\n",
    "$$"
   ]
  },
  {
   "cell_type": "code",
   "execution_count": 99,
   "metadata": {},
   "outputs": [],
   "source": [
    "#add a column with the sum of the displacements\n",
    "df_merged['sum_disp'] = df_merged.iloc[:, 61:].sum(axis=1)"
   ]
  },
  {
   "cell_type": "code",
   "execution_count": 100,
   "metadata": {},
   "outputs": [
    {
     "name": "stderr",
     "output_type": "stream",
     "text": [
      "/home/sara/.local/lib/python3.8/site-packages/libpysal/cg/shapes.py:1492: FutureWarning: Objects based on the `Geometry` class will deprecated and removed in a future version of libpysal.\n",
      "  warnings.warn(dep_msg, FutureWarning)\n",
      "/home/sara/.local/lib/python3.8/site-packages/libpysal/cg/shapes.py:1208: FutureWarning: Objects based on the `Geometry` class will deprecated and removed in a future version of libpysal.\n",
      "  warnings.warn(dep_msg, FutureWarning)\n"
     ]
    }
   ],
   "source": [
    "w = libpysal.weights.Queen.from_shapefile(states_gdf)\n",
    "w.transform = 'r'\n",
    "\n",
    "# Define dependent variable\n",
    "name_y = [\"conflicts\"]\n",
    "y = numpy.array([df_dummies[name] for name in name_y]).T\n",
    "\n",
    "# Define independent variables\n",
    "name_x = ['TA_lag1','PA_lag5','DL_lag5']\n",
    "x = numpy.array([df_dummies[name] for name in name_x]).T"
   ]
  },
  {
   "cell_type": "code",
   "execution_count": 106,
   "metadata": {},
   "outputs": [],
   "source": [
    "name_x = ['TA_lag1','PA_lag5','DL_lag5']\n",
    "x = numpy.array([df_dummies[name] for name in name_x]).T"
   ]
  },
  {
   "cell_type": "code",
   "execution_count": 107,
   "metadata": {
    "ExecuteTime": {
     "end_time": "2021-01-04T16:36:59.736302Z",
     "start_time": "2021-01-04T16:36:53.492370Z"
    }
   },
   "outputs": [],
   "source": [
    "fe_lag = spreg.Panel_FE_Lag(y, x, w, name_y=name_y, \n",
    "                            name_x=name_x, name_ds=\"df_dummies\")"
   ]
  },
  {
   "cell_type": "code",
   "execution_count": null,
   "metadata": {
    "ExecuteTime": {
     "end_time": "2021-01-04T16:36:59.741882Z",
     "start_time": "2021-01-04T16:36:59.737965Z"
    }
   },
   "outputs": [
    {
     "name": "stdout",
     "output_type": "stream",
     "text": [
      "REGRESSION\n",
      "----------\n",
      "SUMMARY OF OUTPUT: MAXIMUM LIKELIHOOD SPATIAL LAG PANEL - FIXED EFFECTS\n",
      "-----------------------------------------------------------------------\n",
      "Data set            :  df_dummies\n",
      "Weights matrix      :     unknown\n",
      "Dependent Variable  :   conflicts                Number of Observations:        5616\n",
      "Mean dependent var  :      0.0000                Number of Variables   :           4\n",
      "S.D. dependent var  :     10.5150                Degrees of Freedom    :        5612\n",
      "Pseudo R-squared    :      0.3183\n",
      "Spatial Pseudo R-squared:  0.1683\n",
      "Sigma-square ML     :      76.525                Log likelihood        :  -44565.340\n",
      "S.E of regression   :       8.748                Akaike info criterion :   89138.681\n",
      "                                                 Schwarz criterion     :   89165.214\n",
      "\n",
      "------------------------------------------------------------------------------------\n",
      "            Variable     Coefficient       Std.Error     z-Statistic     Probability\n",
      "------------------------------------------------------------------------------------\n",
      "             TA_lag1       1.3660548       0.2253429       6.0621169       0.0000000\n",
      "             PA_lag5       0.8320373       0.4177413       1.9917526       0.0463982\n",
      "             DL_lag5       0.0746021       0.0045653      16.3411724       0.0000000\n",
      "         W_conflicts       0.4229565       0.0125636      33.6652665       0.0000000\n",
      "------------------------------------------------------------------------------------\n",
      "Warning: Assuming panel is in long format.\n",
      "y[0:N] refers to T0, y[N+1:2N] refers to T1, etc.\n",
      "x[0:N] refers to T0, x[N+1:2N] refers to T1, etc.\n",
      "================================ END OF REPORT =====================================\n"
     ]
    }
   ],
   "source": [
    "print(fe_lag.summary)"
   ]
  },
  {
   "cell_type": "code",
   "execution_count": 134,
   "metadata": {},
   "outputs": [],
   "source": [
    "df_merged = df_merged.dropna()\n",
    "#df_dummies = df_dummies[df_dummies['yr_mth'] >= '2016-01']\n",
    "\n",
    "# Define dependent variable\n",
    "name_y = [\"conflicts\"]\n",
    "y = numpy.array([df_merged[name] for name in name_y]).T\n",
    "\n",
    "# include as independent variables the displacements for each time\n",
    "name_x = ['TA_lag1','PA_lag5','DL_lag5','Awdal_y','Bakool_y','Banadir_y', 'Bari_y', 'Bay_y', 'Galgaduud_y', 'Gedo_y', 'Hiraan_y', 'Lower_Juba_y', 'Lower_Shabelle_y', 'Middle_Juba_y', 'Middle_Shabelle_y', 'Mudug_y', 'Nugaal_y', 'Sanaag_y', 'Sool_y', 'Togdheer_y', 'Woqooyi_Galbeed_y']\n",
    "x = numpy.array([df_merged[name] for name in name_x]).T"
   ]
  },
  {
   "cell_type": "code",
   "execution_count": 135,
   "metadata": {},
   "outputs": [],
   "source": [
    "fe_lag = spreg.Panel_FE_Lag(y, x, w, name_y=name_y, \n",
    "                            name_x=name_x, name_ds=\"df_merged\")"
   ]
  },
  {
   "cell_type": "code",
   "execution_count": 136,
   "metadata": {},
   "outputs": [
    {
     "name": "stdout",
     "output_type": "stream",
     "text": [
      "REGRESSION\n",
      "----------\n",
      "SUMMARY OF OUTPUT: MAXIMUM LIKELIHOOD SPATIAL LAG PANEL - FIXED EFFECTS\n",
      "-----------------------------------------------------------------------\n",
      "Data set            :   df_merged\n",
      "Weights matrix      :     unknown\n",
      "Dependent Variable  :   conflicts                Number of Observations:        1512\n",
      "Mean dependent var  :      0.0000                Number of Variables   :          22\n",
      "S.D. dependent var  :      7.3422                Degrees of Freedom    :        1490\n",
      "Pseudo R-squared    :      0.0787\n",
      "Spatial Pseudo R-squared:  0.0440\n",
      "Sigma-square ML     :      49.712                Log likelihood        :  -10640.757\n",
      "S.E of regression   :       7.051                Akaike info criterion :   21325.514\n",
      "                                                 Schwarz criterion     :   21442.580\n",
      "\n",
      "------------------------------------------------------------------------------------\n",
      "            Variable     Coefficient       Std.Error     z-Statistic     Probability\n",
      "------------------------------------------------------------------------------------\n",
      "             TA_lag1       0.3379181       0.3406790       0.9918958       0.3212484\n",
      "             PA_lag5      -0.5427265       0.6337382      -0.8563890       0.3917826\n",
      "             DL_lag5       0.0112091       0.0064984       1.7249016       0.0845452\n",
      "             Awdal_y      -0.0006613       0.0012895      -0.5128087       0.6080851\n",
      "            Bakool_y       0.0001076       0.0001161       0.9271120       0.3538684\n",
      "           Banadir_y       0.0000170       0.0000390       0.4368873       0.6621931\n",
      "              Bari_y      -0.0002952       0.0002269      -1.3010798       0.1932312\n",
      "               Bay_y      -0.0000081       0.0000592      -0.1375669       0.8905827\n",
      "         Galgaduud_y       0.0001295       0.0000421       3.0724009       0.0021234\n",
      "              Gedo_y      -0.0000538       0.0000767      -0.7022196       0.4825422\n",
      "            Hiraan_y       0.0000425       0.0000193       2.1982150       0.0279338\n",
      "        Lower_Juba_y       0.0007780       0.0001914       4.0649021       0.0000481\n",
      "    Lower_Shabelle_y       0.0002085       0.0000389       5.3632777       0.0000001\n",
      "       Middle_Juba_y       0.0008821       0.0006188       1.4254123       0.1540380\n",
      "   Middle_Shabelle_y       0.0000516       0.0000595       0.8675810       0.3856238\n",
      "             Mudug_y       0.0000201       0.0000710       0.2828670       0.7772788\n",
      "            Nugaal_y      -0.0009101       0.0011934      -0.7626132       0.4456941\n",
      "            Sanaag_y      -0.0001490       0.0003076      -0.4844280       0.6280822\n",
      "              Sool_y       0.0001014       0.0001436       0.7062842       0.4800114\n",
      "          Togdheer_y      -0.0000774       0.0001978      -0.3912161       0.6956375\n",
      "   Woqooyi_Galbeed_y       0.0004156       0.0007703       0.5395116       0.5895339\n",
      "         W_conflicts       0.1760620       0.0293932       5.9898995       0.0000000\n",
      "------------------------------------------------------------------------------------\n",
      "Warning: Assuming panel is in long format.\n",
      "y[0:N] refers to T0, y[N+1:2N] refers to T1, etc.\n",
      "x[0:N] refers to T0, x[N+1:2N] refers to T1, etc.\n",
      "================================ END OF REPORT =====================================\n"
     ]
    }
   ],
   "source": [
    "print(fe_lag.summary)"
   ]
  },
  {
   "cell_type": "code",
   "execution_count": 126,
   "metadata": {},
   "outputs": [],
   "source": [
    "y_var_name = 'conflicts'\n",
    "X_var_names = ['TA_lag1','PA_lag5','DL_lag5']"
   ]
  },
  {
   "cell_type": "code",
   "execution_count": 130,
   "metadata": {},
   "outputs": [
    {
     "name": "stdout",
     "output_type": "stream",
     "text": [
      "Regression expression for OLS with dummies=conflicts ~ TA_lag1 + PA_lag5 + DL_lag5 + January + February + March + April + May + June + July + August + September + October + November + Awdal_y + Bakool_y + Banadir_y + Bari_y + Bay_y + Galgaduud_y + Gedo_y + Hiraan_y + Lower_Juba_y + Lower_Shabelle_y + Middle_Juba_y + Middle_Shabelle_y + Mudug_y + Nugaal_y + Sanaag_y + Sool_y + Togdheer_y\n"
     ]
    }
   ],
   "source": [
    "# Regression expression for OLS with dummies\n",
    "\n",
    "unit_names = df_dummies['admin1'].unique().tolist()\n",
    "unit_names.sort()\n",
    "unit_names_t = df_dummies['month_name'].unique().tolist()\n",
    "\n",
    "lsdv_expr = y_var_name + ' ~ '\n",
    "i = 0\n",
    "for X_var_name in X_var_names:\n",
    "    if i > 0:\n",
    "        lsdv_expr = lsdv_expr + ' + ' + X_var_name\n",
    "    else:\n",
    "        lsdv_expr = lsdv_expr + X_var_name\n",
    "    i = i + 1\n",
    "#for dummy_name in unit_names[:-1]:\n",
    "  # lsdv_expr = lsdv_expr + ' + ' + dummy_name + '_x'\n",
    "for dummy_name_t in unit_names_t[:-1]:\n",
    "    lsdv_expr = lsdv_expr + ' + ' + dummy_name_t\n",
    "for dummy_name_mr in name_x[:-1]:\n",
    "    lsdv_expr = lsdv_expr + ' + ' + dummy_name_mr\n",
    "#lsdv_expr = lsdv_expr + ' - ' + '1'\n",
    "print('Regression expression for OLS with dummies=' + lsdv_expr)"
   ]
  },
  {
   "cell_type": "code",
   "execution_count": 131,
   "metadata": {},
   "outputs": [],
   "source": [
    "import statsmodels.api as sm\n",
    "import statsmodels.formula.api as smf"
   ]
  },
  {
   "cell_type": "code",
   "execution_count": 132,
   "metadata": {},
   "outputs": [
    {
     "name": "stdout",
     "output_type": "stream",
     "text": [
      "                            OLS Regression Results                            \n",
      "==============================================================================\n",
      "Dep. Variable:              conflicts   R-squared:                       0.274\n",
      "Model:                            OLS   Adj. R-squared:                  0.259\n",
      "Method:                 Least Squares   F-statistic:                     18.03\n",
      "Date:                Wed, 20 Sep 2023   Prob (F-statistic):           1.08e-81\n",
      "Time:                        12:54:33   Log-Likelihood:                -6207.0\n",
      "No. Observations:                1512   AIC:                         1.248e+04\n",
      "Df Residuals:                    1480   BIC:                         1.265e+04\n",
      "Df Model:                          31                                         \n",
      "Covariance Type:            nonrobust                                         \n",
      "=====================================================================================\n",
      "                        coef    std err          t      P>|t|      [0.025      0.975]\n",
      "-------------------------------------------------------------------------------------\n",
      "Intercept            13.7230      1.434      9.567      0.000      10.909      16.537\n",
      "TA_lag1              -0.5052      0.666     -0.759      0.448      -1.811       0.801\n",
      "PA_lag5               0.2961      1.334      0.222      0.824      -2.321       2.914\n",
      "DL_lag5               0.0256      0.010      2.627      0.009       0.006       0.045\n",
      "January              -1.1101      1.882     -0.590      0.555      -4.803       2.582\n",
      "February             -0.9442      1.880     -0.502      0.616      -4.633       2.744\n",
      "March                -2.4299      1.879     -1.293      0.196      -6.116       1.257\n",
      "April                -2.5004      1.885     -1.326      0.185      -6.198       1.198\n",
      "May                  -0.6967      1.876     -0.371      0.710      -4.377       2.984\n",
      "June                 -0.7292      1.874     -0.389      0.697      -4.405       2.947\n",
      "July                 -2.6640      1.877     -1.419      0.156      -6.346       1.018\n",
      "August               -1.2478      1.879     -0.664      0.507      -4.934       2.438\n",
      "September            -1.4447      1.872     -0.772      0.440      -5.117       2.227\n",
      "October              -1.4114      1.878     -0.751      0.453      -5.096       2.273\n",
      "November             -1.2285      1.875     -0.655      0.512      -4.906       2.448\n",
      "Awdal_y              -0.0111      0.002     -5.700      0.000      -0.015      -0.007\n",
      "Bakool_y             -0.0003      0.000     -1.470      0.142      -0.001       0.000\n",
      "Banadir_y             0.0003   8.14e-05      3.361      0.001       0.000       0.000\n",
      "Bari_y               -0.0006      0.000     -1.409      0.159      -0.001       0.000\n",
      "Bay_y                 0.0003      0.000      2.771      0.006     8.9e-05       0.001\n",
      "Galgaduud_y        5.479e-05   8.53e-05      0.642      0.521      -0.000       0.000\n",
      "Gedo_y               -0.0002      0.000     -1.035      0.301      -0.000       0.000\n",
      "Hiraan_y           7.562e-05   3.93e-05      1.925      0.054   -1.44e-06       0.000\n",
      "Lower_Juba_y          0.0016      0.000      4.324      0.000       0.001       0.002\n",
      "Lower_Shabelle_y      0.0014    7.1e-05     19.685      0.000       0.001       0.002\n",
      "Middle_Juba_y        -0.0017      0.001     -1.413      0.158      -0.004       0.001\n",
      "Middle_Shabelle_y     0.0003      0.000      2.549      0.011     6.8e-05       0.001\n",
      "Mudug_y           -6.937e-05      0.000     -0.488      0.625      -0.000       0.000\n",
      "Nugaal_y             -0.0082      0.002     -3.621      0.000      -0.013      -0.004\n",
      "Sanaag_y             -0.0013      0.001     -2.266      0.024      -0.002      -0.000\n",
      "Sool_y               -0.0003      0.000     -1.107      0.268      -0.001       0.000\n",
      "Togdheer_y           -0.0011      0.000     -2.681      0.007      -0.002      -0.000\n",
      "==============================================================================\n",
      "Omnibus:                      590.540   Durbin-Watson:                   1.989\n",
      "Prob(Omnibus):                  0.000   Jarque-Bera (JB):             2713.485\n",
      "Skew:                           1.818   Prob(JB):                         0.00\n",
      "Kurtosis:                       8.464   Cond. No.                     1.22e+05\n",
      "==============================================================================\n",
      "\n",
      "Notes:\n",
      "[1] Standard Errors assume that the covariance matrix of the errors is correctly specified.\n",
      "[2] The condition number is large, 1.22e+05. This might indicate that there are\n",
      "strong multicollinearity or other numerical problems.\n"
     ]
    }
   ],
   "source": [
    "lsdv_model = smf.ols(formula=lsdv_expr, data=df_merged)\n",
    "lsdv_model_results = lsdv_model.fit()\n",
    "print(lsdv_model_results.summary())"
   ]
  },
  {
   "cell_type": "code",
   "execution_count": 133,
   "metadata": {},
   "outputs": [
    {
     "data": {
      "text/html": [
       "<table class=\"simpletable\">\n",
       "<caption>OLS Regression Results</caption>\n",
       "<tr>\n",
       "  <th>Dep. Variable:</th>        <td>conflicts</td>    <th>  R-squared:         </th> <td>   0.274</td> \n",
       "</tr>\n",
       "<tr>\n",
       "  <th>Model:</th>                   <td>OLS</td>       <th>  Adj. R-squared:    </th> <td>   0.259</td> \n",
       "</tr>\n",
       "<tr>\n",
       "  <th>Method:</th>             <td>Least Squares</td>  <th>  F-statistic:       </th> <td>   18.03</td> \n",
       "</tr>\n",
       "<tr>\n",
       "  <th>Date:</th>             <td>Wed, 20 Sep 2023</td> <th>  Prob (F-statistic):</th> <td>1.08e-81</td> \n",
       "</tr>\n",
       "<tr>\n",
       "  <th>Time:</th>                 <td>12:54:46</td>     <th>  Log-Likelihood:    </th> <td> -6207.0</td> \n",
       "</tr>\n",
       "<tr>\n",
       "  <th>No. Observations:</th>      <td>  1512</td>      <th>  AIC:               </th> <td>1.248e+04</td>\n",
       "</tr>\n",
       "<tr>\n",
       "  <th>Df Residuals:</th>          <td>  1480</td>      <th>  BIC:               </th> <td>1.265e+04</td>\n",
       "</tr>\n",
       "<tr>\n",
       "  <th>Df Model:</th>              <td>    31</td>      <th>                     </th>     <td> </td>    \n",
       "</tr>\n",
       "<tr>\n",
       "  <th>Covariance Type:</th>      <td>nonrobust</td>    <th>                     </th>     <td> </td>    \n",
       "</tr>\n",
       "</table>\n",
       "<table class=\"simpletable\">\n",
       "<tr>\n",
       "          <td></td>             <th>coef</th>     <th>std err</th>      <th>t</th>      <th>P>|t|</th>  <th>[0.025</th>    <th>0.975]</th>  \n",
       "</tr>\n",
       "<tr>\n",
       "  <th>Intercept</th>         <td>   13.7230</td> <td>    1.434</td> <td>    9.567</td> <td> 0.000</td> <td>   10.909</td> <td>   16.537</td>\n",
       "</tr>\n",
       "<tr>\n",
       "  <th>TA_lag1</th>           <td>   -0.5052</td> <td>    0.666</td> <td>   -0.759</td> <td> 0.448</td> <td>   -1.811</td> <td>    0.801</td>\n",
       "</tr>\n",
       "<tr>\n",
       "  <th>PA_lag5</th>           <td>    0.2961</td> <td>    1.334</td> <td>    0.222</td> <td> 0.824</td> <td>   -2.321</td> <td>    2.914</td>\n",
       "</tr>\n",
       "<tr>\n",
       "  <th>DL_lag5</th>           <td>    0.0256</td> <td>    0.010</td> <td>    2.627</td> <td> 0.009</td> <td>    0.006</td> <td>    0.045</td>\n",
       "</tr>\n",
       "<tr>\n",
       "  <th>January</th>           <td>   -1.1101</td> <td>    1.882</td> <td>   -0.590</td> <td> 0.555</td> <td>   -4.803</td> <td>    2.582</td>\n",
       "</tr>\n",
       "<tr>\n",
       "  <th>February</th>          <td>   -0.9442</td> <td>    1.880</td> <td>   -0.502</td> <td> 0.616</td> <td>   -4.633</td> <td>    2.744</td>\n",
       "</tr>\n",
       "<tr>\n",
       "  <th>March</th>             <td>   -2.4299</td> <td>    1.879</td> <td>   -1.293</td> <td> 0.196</td> <td>   -6.116</td> <td>    1.257</td>\n",
       "</tr>\n",
       "<tr>\n",
       "  <th>April</th>             <td>   -2.5004</td> <td>    1.885</td> <td>   -1.326</td> <td> 0.185</td> <td>   -6.198</td> <td>    1.198</td>\n",
       "</tr>\n",
       "<tr>\n",
       "  <th>May</th>               <td>   -0.6967</td> <td>    1.876</td> <td>   -0.371</td> <td> 0.710</td> <td>   -4.377</td> <td>    2.984</td>\n",
       "</tr>\n",
       "<tr>\n",
       "  <th>June</th>              <td>   -0.7292</td> <td>    1.874</td> <td>   -0.389</td> <td> 0.697</td> <td>   -4.405</td> <td>    2.947</td>\n",
       "</tr>\n",
       "<tr>\n",
       "  <th>July</th>              <td>   -2.6640</td> <td>    1.877</td> <td>   -1.419</td> <td> 0.156</td> <td>   -6.346</td> <td>    1.018</td>\n",
       "</tr>\n",
       "<tr>\n",
       "  <th>August</th>            <td>   -1.2478</td> <td>    1.879</td> <td>   -0.664</td> <td> 0.507</td> <td>   -4.934</td> <td>    2.438</td>\n",
       "</tr>\n",
       "<tr>\n",
       "  <th>September</th>         <td>   -1.4447</td> <td>    1.872</td> <td>   -0.772</td> <td> 0.440</td> <td>   -5.117</td> <td>    2.227</td>\n",
       "</tr>\n",
       "<tr>\n",
       "  <th>October</th>           <td>   -1.4114</td> <td>    1.878</td> <td>   -0.751</td> <td> 0.453</td> <td>   -5.096</td> <td>    2.273</td>\n",
       "</tr>\n",
       "<tr>\n",
       "  <th>November</th>          <td>   -1.2285</td> <td>    1.875</td> <td>   -0.655</td> <td> 0.512</td> <td>   -4.906</td> <td>    2.448</td>\n",
       "</tr>\n",
       "<tr>\n",
       "  <th>Awdal_y</th>           <td>   -0.0111</td> <td>    0.002</td> <td>   -5.700</td> <td> 0.000</td> <td>   -0.015</td> <td>   -0.007</td>\n",
       "</tr>\n",
       "<tr>\n",
       "  <th>Bakool_y</th>          <td>   -0.0003</td> <td>    0.000</td> <td>   -1.470</td> <td> 0.142</td> <td>   -0.001</td> <td>    0.000</td>\n",
       "</tr>\n",
       "<tr>\n",
       "  <th>Banadir_y</th>         <td>    0.0003</td> <td> 8.14e-05</td> <td>    3.361</td> <td> 0.001</td> <td>    0.000</td> <td>    0.000</td>\n",
       "</tr>\n",
       "<tr>\n",
       "  <th>Bari_y</th>            <td>   -0.0006</td> <td>    0.000</td> <td>   -1.409</td> <td> 0.159</td> <td>   -0.001</td> <td>    0.000</td>\n",
       "</tr>\n",
       "<tr>\n",
       "  <th>Bay_y</th>             <td>    0.0003</td> <td>    0.000</td> <td>    2.771</td> <td> 0.006</td> <td>  8.9e-05</td> <td>    0.001</td>\n",
       "</tr>\n",
       "<tr>\n",
       "  <th>Galgaduud_y</th>       <td> 5.479e-05</td> <td> 8.53e-05</td> <td>    0.642</td> <td> 0.521</td> <td>   -0.000</td> <td>    0.000</td>\n",
       "</tr>\n",
       "<tr>\n",
       "  <th>Gedo_y</th>            <td>   -0.0002</td> <td>    0.000</td> <td>   -1.035</td> <td> 0.301</td> <td>   -0.000</td> <td>    0.000</td>\n",
       "</tr>\n",
       "<tr>\n",
       "  <th>Hiraan_y</th>          <td> 7.562e-05</td> <td> 3.93e-05</td> <td>    1.925</td> <td> 0.054</td> <td>-1.44e-06</td> <td>    0.000</td>\n",
       "</tr>\n",
       "<tr>\n",
       "  <th>Lower_Juba_y</th>      <td>    0.0016</td> <td>    0.000</td> <td>    4.324</td> <td> 0.000</td> <td>    0.001</td> <td>    0.002</td>\n",
       "</tr>\n",
       "<tr>\n",
       "  <th>Lower_Shabelle_y</th>  <td>    0.0014</td> <td>  7.1e-05</td> <td>   19.685</td> <td> 0.000</td> <td>    0.001</td> <td>    0.002</td>\n",
       "</tr>\n",
       "<tr>\n",
       "  <th>Middle_Juba_y</th>     <td>   -0.0017</td> <td>    0.001</td> <td>   -1.413</td> <td> 0.158</td> <td>   -0.004</td> <td>    0.001</td>\n",
       "</tr>\n",
       "<tr>\n",
       "  <th>Middle_Shabelle_y</th> <td>    0.0003</td> <td>    0.000</td> <td>    2.549</td> <td> 0.011</td> <td>  6.8e-05</td> <td>    0.001</td>\n",
       "</tr>\n",
       "<tr>\n",
       "  <th>Mudug_y</th>           <td>-6.937e-05</td> <td>    0.000</td> <td>   -0.488</td> <td> 0.625</td> <td>   -0.000</td> <td>    0.000</td>\n",
       "</tr>\n",
       "<tr>\n",
       "  <th>Nugaal_y</th>          <td>   -0.0082</td> <td>    0.002</td> <td>   -3.621</td> <td> 0.000</td> <td>   -0.013</td> <td>   -0.004</td>\n",
       "</tr>\n",
       "<tr>\n",
       "  <th>Sanaag_y</th>          <td>   -0.0013</td> <td>    0.001</td> <td>   -2.266</td> <td> 0.024</td> <td>   -0.002</td> <td>   -0.000</td>\n",
       "</tr>\n",
       "<tr>\n",
       "  <th>Sool_y</th>            <td>   -0.0003</td> <td>    0.000</td> <td>   -1.107</td> <td> 0.268</td> <td>   -0.001</td> <td>    0.000</td>\n",
       "</tr>\n",
       "<tr>\n",
       "  <th>Togdheer_y</th>        <td>   -0.0011</td> <td>    0.000</td> <td>   -2.681</td> <td> 0.007</td> <td>   -0.002</td> <td>   -0.000</td>\n",
       "</tr>\n",
       "</table>\n",
       "<table class=\"simpletable\">\n",
       "<tr>\n",
       "  <th>Omnibus:</th>       <td>590.540</td> <th>  Durbin-Watson:     </th> <td>   1.989</td>\n",
       "</tr>\n",
       "<tr>\n",
       "  <th>Prob(Omnibus):</th> <td> 0.000</td>  <th>  Jarque-Bera (JB):  </th> <td>2713.485</td>\n",
       "</tr>\n",
       "<tr>\n",
       "  <th>Skew:</th>          <td> 1.818</td>  <th>  Prob(JB):          </th> <td>    0.00</td>\n",
       "</tr>\n",
       "<tr>\n",
       "  <th>Kurtosis:</th>      <td> 8.464</td>  <th>  Cond. No.          </th> <td>1.22e+05</td>\n",
       "</tr>\n",
       "</table><br/><br/>Notes:<br/>[1] Standard Errors assume that the covariance matrix of the errors is correctly specified.<br/>[2] The condition number is large, 1.22e+05. This might indicate that there are<br/>strong multicollinearity or other numerical problems."
      ],
      "text/latex": [
       "\\begin{center}\n",
       "\\begin{tabular}{lclc}\n",
       "\\toprule\n",
       "\\textbf{Dep. Variable:}      &    conflicts     & \\textbf{  R-squared:         } &     0.274   \\\\\n",
       "\\textbf{Model:}              &       OLS        & \\textbf{  Adj. R-squared:    } &     0.259   \\\\\n",
       "\\textbf{Method:}             &  Least Squares   & \\textbf{  F-statistic:       } &     18.03   \\\\\n",
       "\\textbf{Date:}               & Wed, 20 Sep 2023 & \\textbf{  Prob (F-statistic):} &  1.08e-81   \\\\\n",
       "\\textbf{Time:}               &     12:54:46     & \\textbf{  Log-Likelihood:    } &   -6207.0   \\\\\n",
       "\\textbf{No. Observations:}   &        1512      & \\textbf{  AIC:               } & 1.248e+04   \\\\\n",
       "\\textbf{Df Residuals:}       &        1480      & \\textbf{  BIC:               } & 1.265e+04   \\\\\n",
       "\\textbf{Df Model:}           &          31      & \\textbf{                     } &             \\\\\n",
       "\\textbf{Covariance Type:}    &    nonrobust     & \\textbf{                     } &             \\\\\n",
       "\\bottomrule\n",
       "\\end{tabular}\n",
       "\\begin{tabular}{lcccccc}\n",
       "                             & \\textbf{coef} & \\textbf{std err} & \\textbf{t} & \\textbf{P$> |$t$|$} & \\textbf{[0.025} & \\textbf{0.975]}  \\\\\n",
       "\\midrule\n",
       "\\textbf{Intercept}           &      13.7230  &        1.434     &     9.567  &         0.000        &       10.909    &       16.537     \\\\\n",
       "\\textbf{TA\\_lag1}            &      -0.5052  &        0.666     &    -0.759  &         0.448        &       -1.811    &        0.801     \\\\\n",
       "\\textbf{PA\\_lag5}            &       0.2961  &        1.334     &     0.222  &         0.824        &       -2.321    &        2.914     \\\\\n",
       "\\textbf{DL\\_lag5}            &       0.0256  &        0.010     &     2.627  &         0.009        &        0.006    &        0.045     \\\\\n",
       "\\textbf{January}             &      -1.1101  &        1.882     &    -0.590  &         0.555        &       -4.803    &        2.582     \\\\\n",
       "\\textbf{February}            &      -0.9442  &        1.880     &    -0.502  &         0.616        &       -4.633    &        2.744     \\\\\n",
       "\\textbf{March}               &      -2.4299  &        1.879     &    -1.293  &         0.196        &       -6.116    &        1.257     \\\\\n",
       "\\textbf{April}               &      -2.5004  &        1.885     &    -1.326  &         0.185        &       -6.198    &        1.198     \\\\\n",
       "\\textbf{May}                 &      -0.6967  &        1.876     &    -0.371  &         0.710        &       -4.377    &        2.984     \\\\\n",
       "\\textbf{June}                &      -0.7292  &        1.874     &    -0.389  &         0.697        &       -4.405    &        2.947     \\\\\n",
       "\\textbf{July}                &      -2.6640  &        1.877     &    -1.419  &         0.156        &       -6.346    &        1.018     \\\\\n",
       "\\textbf{August}              &      -1.2478  &        1.879     &    -0.664  &         0.507        &       -4.934    &        2.438     \\\\\n",
       "\\textbf{September}           &      -1.4447  &        1.872     &    -0.772  &         0.440        &       -5.117    &        2.227     \\\\\n",
       "\\textbf{October}             &      -1.4114  &        1.878     &    -0.751  &         0.453        &       -5.096    &        2.273     \\\\\n",
       "\\textbf{November}            &      -1.2285  &        1.875     &    -0.655  &         0.512        &       -4.906    &        2.448     \\\\\n",
       "\\textbf{Awdal\\_y}            &      -0.0111  &        0.002     &    -5.700  &         0.000        &       -0.015    &       -0.007     \\\\\n",
       "\\textbf{Bakool\\_y}           &      -0.0003  &        0.000     &    -1.470  &         0.142        &       -0.001    &        0.000     \\\\\n",
       "\\textbf{Banadir\\_y}          &       0.0003  &     8.14e-05     &     3.361  &         0.001        &        0.000    &        0.000     \\\\\n",
       "\\textbf{Bari\\_y}             &      -0.0006  &        0.000     &    -1.409  &         0.159        &       -0.001    &        0.000     \\\\\n",
       "\\textbf{Bay\\_y}              &       0.0003  &        0.000     &     2.771  &         0.006        &      8.9e-05    &        0.001     \\\\\n",
       "\\textbf{Galgaduud\\_y}        &    5.479e-05  &     8.53e-05     &     0.642  &         0.521        &       -0.000    &        0.000     \\\\\n",
       "\\textbf{Gedo\\_y}             &      -0.0002  &        0.000     &    -1.035  &         0.301        &       -0.000    &        0.000     \\\\\n",
       "\\textbf{Hiraan\\_y}           &    7.562e-05  &     3.93e-05     &     1.925  &         0.054        &    -1.44e-06    &        0.000     \\\\\n",
       "\\textbf{Lower\\_Juba\\_y}      &       0.0016  &        0.000     &     4.324  &         0.000        &        0.001    &        0.002     \\\\\n",
       "\\textbf{Lower\\_Shabelle\\_y}  &       0.0014  &      7.1e-05     &    19.685  &         0.000        &        0.001    &        0.002     \\\\\n",
       "\\textbf{Middle\\_Juba\\_y}     &      -0.0017  &        0.001     &    -1.413  &         0.158        &       -0.004    &        0.001     \\\\\n",
       "\\textbf{Middle\\_Shabelle\\_y} &       0.0003  &        0.000     &     2.549  &         0.011        &      6.8e-05    &        0.001     \\\\\n",
       "\\textbf{Mudug\\_y}            &   -6.937e-05  &        0.000     &    -0.488  &         0.625        &       -0.000    &        0.000     \\\\\n",
       "\\textbf{Nugaal\\_y}           &      -0.0082  &        0.002     &    -3.621  &         0.000        &       -0.013    &       -0.004     \\\\\n",
       "\\textbf{Sanaag\\_y}           &      -0.0013  &        0.001     &    -2.266  &         0.024        &       -0.002    &       -0.000     \\\\\n",
       "\\textbf{Sool\\_y}             &      -0.0003  &        0.000     &    -1.107  &         0.268        &       -0.001    &        0.000     \\\\\n",
       "\\textbf{Togdheer\\_y}         &      -0.0011  &        0.000     &    -2.681  &         0.007        &       -0.002    &       -0.000     \\\\\n",
       "\\bottomrule\n",
       "\\end{tabular}\n",
       "\\begin{tabular}{lclc}\n",
       "\\textbf{Omnibus:}       & 590.540 & \\textbf{  Durbin-Watson:     } &    1.989  \\\\\n",
       "\\textbf{Prob(Omnibus):} &   0.000 & \\textbf{  Jarque-Bera (JB):  } & 2713.485  \\\\\n",
       "\\textbf{Skew:}          &   1.818 & \\textbf{  Prob(JB):          } &     0.00  \\\\\n",
       "\\textbf{Kurtosis:}      &   8.464 & \\textbf{  Cond. No.          } & 1.22e+05  \\\\\n",
       "\\bottomrule\n",
       "\\end{tabular}\n",
       "%\\caption{OLS Regression Results}\n",
       "\\end{center}\n",
       "\n",
       "Notes: \\newline\n",
       " [1] Standard Errors assume that the covariance matrix of the errors is correctly specified. \\newline\n",
       " [2] The condition number is large, 1.22e+05. This might indicate that there are \\newline\n",
       " strong multicollinearity or other numerical problems."
      ],
      "text/plain": [
       "<class 'statsmodels.iolib.summary.Summary'>\n",
       "\"\"\"\n",
       "                            OLS Regression Results                            \n",
       "==============================================================================\n",
       "Dep. Variable:              conflicts   R-squared:                       0.274\n",
       "Model:                            OLS   Adj. R-squared:                  0.259\n",
       "Method:                 Least Squares   F-statistic:                     18.03\n",
       "Date:                Wed, 20 Sep 2023   Prob (F-statistic):           1.08e-81\n",
       "Time:                        12:54:46   Log-Likelihood:                -6207.0\n",
       "No. Observations:                1512   AIC:                         1.248e+04\n",
       "Df Residuals:                    1480   BIC:                         1.265e+04\n",
       "Df Model:                          31                                         \n",
       "Covariance Type:            nonrobust                                         \n",
       "=====================================================================================\n",
       "                        coef    std err          t      P>|t|      [0.025      0.975]\n",
       "-------------------------------------------------------------------------------------\n",
       "Intercept            13.7230      1.434      9.567      0.000      10.909      16.537\n",
       "TA_lag1              -0.5052      0.666     -0.759      0.448      -1.811       0.801\n",
       "PA_lag5               0.2961      1.334      0.222      0.824      -2.321       2.914\n",
       "DL_lag5               0.0256      0.010      2.627      0.009       0.006       0.045\n",
       "January              -1.1101      1.882     -0.590      0.555      -4.803       2.582\n",
       "February             -0.9442      1.880     -0.502      0.616      -4.633       2.744\n",
       "March                -2.4299      1.879     -1.293      0.196      -6.116       1.257\n",
       "April                -2.5004      1.885     -1.326      0.185      -6.198       1.198\n",
       "May                  -0.6967      1.876     -0.371      0.710      -4.377       2.984\n",
       "June                 -0.7292      1.874     -0.389      0.697      -4.405       2.947\n",
       "July                 -2.6640      1.877     -1.419      0.156      -6.346       1.018\n",
       "August               -1.2478      1.879     -0.664      0.507      -4.934       2.438\n",
       "September            -1.4447      1.872     -0.772      0.440      -5.117       2.227\n",
       "October              -1.4114      1.878     -0.751      0.453      -5.096       2.273\n",
       "November             -1.2285      1.875     -0.655      0.512      -4.906       2.448\n",
       "Awdal_y              -0.0111      0.002     -5.700      0.000      -0.015      -0.007\n",
       "Bakool_y             -0.0003      0.000     -1.470      0.142      -0.001       0.000\n",
       "Banadir_y             0.0003   8.14e-05      3.361      0.001       0.000       0.000\n",
       "Bari_y               -0.0006      0.000     -1.409      0.159      -0.001       0.000\n",
       "Bay_y                 0.0003      0.000      2.771      0.006     8.9e-05       0.001\n",
       "Galgaduud_y        5.479e-05   8.53e-05      0.642      0.521      -0.000       0.000\n",
       "Gedo_y               -0.0002      0.000     -1.035      0.301      -0.000       0.000\n",
       "Hiraan_y           7.562e-05   3.93e-05      1.925      0.054   -1.44e-06       0.000\n",
       "Lower_Juba_y          0.0016      0.000      4.324      0.000       0.001       0.002\n",
       "Lower_Shabelle_y      0.0014    7.1e-05     19.685      0.000       0.001       0.002\n",
       "Middle_Juba_y        -0.0017      0.001     -1.413      0.158      -0.004       0.001\n",
       "Middle_Shabelle_y     0.0003      0.000      2.549      0.011     6.8e-05       0.001\n",
       "Mudug_y           -6.937e-05      0.000     -0.488      0.625      -0.000       0.000\n",
       "Nugaal_y             -0.0082      0.002     -3.621      0.000      -0.013      -0.004\n",
       "Sanaag_y             -0.0013      0.001     -2.266      0.024      -0.002      -0.000\n",
       "Sool_y               -0.0003      0.000     -1.107      0.268      -0.001       0.000\n",
       "Togdheer_y           -0.0011      0.000     -2.681      0.007      -0.002      -0.000\n",
       "==============================================================================\n",
       "Omnibus:                      590.540   Durbin-Watson:                   1.989\n",
       "Prob(Omnibus):                  0.000   Jarque-Bera (JB):             2713.485\n",
       "Skew:                           1.818   Prob(JB):                         0.00\n",
       "Kurtosis:                       8.464   Cond. No.                     1.22e+05\n",
       "==============================================================================\n",
       "\n",
       "Notes:\n",
       "[1] Standard Errors assume that the covariance matrix of the errors is correctly specified.\n",
       "[2] The condition number is large, 1.22e+05. This might indicate that there are\n",
       "strong multicollinearity or other numerical problems.\n",
       "\"\"\""
      ]
     },
     "execution_count": 133,
     "metadata": {},
     "output_type": "execute_result"
    }
   ],
   "source": [
    "lsdv_model_results.summary()"
   ]
  },
  {
   "cell_type": "code",
   "execution_count": null,
   "metadata": {},
   "outputs": [],
   "source": []
  }
 ],
 "metadata": {
  "kernelspec": {
   "display_name": "Python 3",
   "language": "python",
   "name": "python3"
  },
  "language_info": {
   "codemirror_mode": {
    "name": "ipython",
    "version": 3
   },
   "file_extension": ".py",
   "mimetype": "text/x-python",
   "name": "python",
   "nbconvert_exporter": "python",
   "pygments_lexer": "ipython3",
   "version": "3.8.10"
  }
 },
 "nbformat": 4,
 "nbformat_minor": 4
}
