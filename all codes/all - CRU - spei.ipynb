{
 "cells": [
  {
   "cell_type": "code",
   "execution_count": 1,
   "id": "49af736b",
   "metadata": {},
   "outputs": [],
   "source": [
    "import pandas as pd\n",
    "import numpy as np\n",
    "import matplotlib.pyplot as plt\n",
    "import dataframe_image as dfi\n",
    "from datetime import datetime\n",
    "import scipy\n",
    "import itertools\n",
    "import geopandas as gpd\n",
    "import xarray as xr\n",
    "import regionmask\n",
    "import statsmodels.api as sm\n",
    "import statsmodels.formula.api as smf"
   ]
  },
  {
   "cell_type": "markdown",
   "id": "261ebf15",
   "metadata": {},
   "source": [
    "Data from UEA CRU TS4.07 (1991-2022)"
   ]
  },
  {
   "cell_type": "code",
   "execution_count": 2,
   "id": "fd212166",
   "metadata": {},
   "outputs": [],
   "source": [
    "file = r\"C:\\Users\\PcLaptop\\Documents\\GitHub\\Climate-and-conflict\\cru_ts4.07.1901.2022.tmx.dat.nc\"\n",
    "file2 = r\"C:\\Users\\PcLaptop\\Documents\\GitHub\\Climate-and-conflict\\cru_ts4.07.1901.2022.pre.dat.nc\"\n",
    "\n",
    "file_paths_list =[file,file2]\n",
    "monthly_forecast=xr.Dataset()\n",
    "\n",
    "for file in file_paths_list:\n",
    "        monthly_forecast = xr.merge([monthly_forecast,xr.open_mfdataset(file)], compat='override')"
   ]
  },
  {
   "cell_type": "markdown",
   "id": "5bb53f58",
   "metadata": {},
   "source": [
    "Data on conflict events from ACLED"
   ]
  },
  {
   "cell_type": "code",
   "execution_count": 3,
   "id": "45e1de6a",
   "metadata": {},
   "outputs": [],
   "source": [
    "file = r\"C:\\Users\\PcLaptop\\Documents\\GitHub\\Climate-and-conflict\\1997-01-01-2023-07-18-Eastern_Africa-Somalia.csv\"\n",
    "df = pd.read_csv(file)\n",
    "\n",
    "# Keep protests and strategic developments?\n",
    "\n",
    "df=df[df['event_type'] != 'Protests']\n",
    "df=df[df['event_type'] != 'Strategic developments']"
   ]
  },
  {
   "cell_type": "markdown",
   "id": "a9f32fa7",
   "metadata": {},
   "source": [
    "Shapefile with administrative boundaries of Somalia"
   ]
  },
  {
   "cell_type": "code",
   "execution_count": 4,
   "id": "140d777f",
   "metadata": {},
   "outputs": [],
   "source": [
    "path = r\"C:\\Users\\PcLaptop\\Documents\\GitHub\\Climate-and-conflict\\som_adm_ocha_itos_20230308_shp\\som_admbnda_adm1_ocha_20230308.shp\"\n",
    "states_gdf = gpd.read_file(path) "
   ]
  },
  {
   "cell_type": "markdown",
   "id": "81a83aa8",
   "metadata": {},
   "source": [
    "Limit the lat-lon and time "
   ]
  },
  {
   "cell_type": "code",
   "execution_count": 5,
   "id": "e4ad81c1",
   "metadata": {},
   "outputs": [],
   "source": [
    "def get_aoi(shp, world=True):\n",
    "    lon_lat = {}\n",
    "    # Get lat min, max\n",
    "    aoi_lat = [float(shp.total_bounds[1]), float(shp.total_bounds[3])]\n",
    "    aoi_lon = [float(shp.total_bounds[0]), float(shp.total_bounds[2])]\n",
    "\n",
    "    lon_lat[\"lon\"] = aoi_lon\n",
    "    lon_lat[\"lat\"] = aoi_lat\n",
    "    return lon_lat\n",
    "\n",
    "bounds = get_aoi(states_gdf)"
   ]
  },
  {
   "cell_type": "code",
   "execution_count": 6,
   "id": "e765a268",
   "metadata": {},
   "outputs": [],
   "source": [
    "start_date = '1901-01-16'\n",
    "end_date = '2022-12-16'\n",
    "\n",
    "region = monthly_forecast[[\"pre\",'tmx']].sel(\n",
    "    time=slice(start_date, end_date),\n",
    "    lon=slice(bounds[\"lon\"][0], bounds[\"lon\"][1]),\n",
    "    lat=slice(bounds[\"lat\"][0], bounds[\"lat\"][1]))"
   ]
  },
  {
   "cell_type": "code",
   "execution_count": 7,
   "id": "1382c9f6",
   "metadata": {},
   "outputs": [],
   "source": [
    "region_mask = regionmask.mask_3D_geopandas(states_gdf,\n",
    "                                         monthly_forecast.lon,\n",
    "                                         monthly_forecast.lat)\n",
    "\n",
    "somalia = region.where(region_mask).groupby(\"time\").mean([\"lat\", \"lon\"]).to_dataframe().reset_index()"
   ]
  },
  {
   "cell_type": "code",
   "execution_count": 8,
   "id": "74921595",
   "metadata": {},
   "outputs": [],
   "source": [
    "replacement_dict = {0  :  'Awdal',\n",
    "1    :         'Bakool',\n",
    "2      :       'Banadir',\n",
    "3      :         'Bari',\n",
    "4       :         'Bay',\n",
    "5        :  'Galgaduud',\n",
    "6          :      'Gedo',\n",
    "7          :   'Hiraan',\n",
    "8   :       'Lower Juba',\n",
    "9   :   'Lower Shabelle',\n",
    "10  :      'Middle Juba',\n",
    "11   : 'Middle Shabelle',\n",
    "12    :          'Mudug',\n",
    "13    :        'Nugaal',\n",
    "14      :       'Sanaag',\n",
    "15       :        'Sool',\n",
    "16        :   'Togdheer',\n",
    "17   : 'Woqooyi Galbeed'}\n",
    "\n",
    "somalia['region'] = somalia['region'].replace(replacement_dict)"
   ]
  },
  {
   "cell_type": "code",
   "execution_count": 9,
   "id": "647d91e1",
   "metadata": {},
   "outputs": [],
   "source": [
    "# Modify event_date column to datetime\n",
    "\n",
    "v = df[\"event_date\"].values\n",
    "dt = [datetime.strptime(v[i], \"%d %B %Y\") for i in range(len(v))]\n",
    "q=[]\n",
    "\n",
    "for i in range(len(dt)):\n",
    "    q.append(datetime.timestamp(dt[i]))\n",
    "    \n",
    "df.insert(loc=3, column='date_timestamp', value=q)\n",
    "df = df.sort_values(\"date_timestamp\")\n",
    "\n",
    "df['event_date'] = pd.to_datetime(df['event_date'])\n",
    "df=df.set_index('event_date') "
   ]
  },
  {
   "cell_type": "code",
   "execution_count": 10,
   "id": "f50e3f13",
   "metadata": {},
   "outputs": [],
   "source": [
    "conflict = df.groupby([pd.Grouper(freq='40320min'),\"admin1\"]).count()\n",
    "conflict.reset_index(level=[0, 1], inplace=True)\n",
    "conflict = conflict[['event_date','admin1','year']].rename(columns={'year': 'conflicts','event_date': 'time'})\n",
    "conflict['datetime_column'] = pd.to_datetime(conflict['time'])\n",
    "\n",
    "# Aggregate the datetime objects by month\n",
    "conf = conflict.groupby([pd.Grouper(key='time', freq='M'),'admin1'])['conflicts'].sum().to_frame()"
   ]
  },
  {
   "cell_type": "code",
   "execution_count": 11,
   "id": "ee086f40",
   "metadata": {},
   "outputs": [],
   "source": [
    "dates = conf.index.get_level_values('time').unique()\n",
    "districts = conf.index.get_level_values('admin1').unique()\n",
    "all_combinations = pd.MultiIndex.from_product([dates, districts], names=['time', 'admin1'])\n",
    "\n",
    "conf = conf.reindex(all_combinations, fill_value=0).reset_index()    # Reindex the DataFrame with all combinations"
   ]
  },
  {
   "cell_type": "code",
   "execution_count": 12,
   "id": "42f52795",
   "metadata": {},
   "outputs": [],
   "source": [
    "conflicts = conf.sort_values(by=['time', 'admin1'], ascending=[True, True])\n",
    "conflicts.reset_index(drop=True, inplace=True)"
   ]
  },
  {
   "cell_type": "code",
   "execution_count": 13,
   "id": "6456c29d",
   "metadata": {},
   "outputs": [
    {
     "data": {
      "text/plain": [
       "24888"
      ]
     },
     "execution_count": 13,
     "metadata": {},
     "output_type": "execute_result"
    }
   ],
   "source": [
    "temp_pre=somalia.rename(columns={'region': 'admin1'})\n",
    "len(temp_pre)"
   ]
  },
  {
   "cell_type": "code",
   "execution_count": 14,
   "id": "038fb9ba",
   "metadata": {},
   "outputs": [],
   "source": [
    "# open csv\n",
    "spei = pd.read_csv(r'C:\\Users\\PcLaptop\\Documents\\GitHub\\Climate-and-conflict\\drought\\spei_somalia.csv')"
   ]
  },
  {
   "cell_type": "code",
   "execution_count": 15,
   "id": "f8b312de",
   "metadata": {},
   "outputs": [],
   "source": [
    "# Add Banadir region with tmx and pre as mean of the neighbouring regions\n",
    "\n",
    "district1 = 'Lower Shabelle'  \n",
    "district2 = 'Middle Shabelle'  \n",
    "\n",
    "# Step 2: Calculate the mean tmx and pre for the neighboring districts\n",
    "mean_t = temp_pre[(temp_pre['admin1']==district1) | (temp_pre['admin1']==district2)].groupby('time')['tmx'].mean()\n",
    "mean_p = temp_pre[(temp_pre['admin1']==district1) | (temp_pre['admin1']==district2)].groupby('time')['pre'].mean()\n",
    "m_t = spei[(spei['admin1']==district1) | (spei['admin1']==district2)].groupby('time')['spei'].mean()\n",
    "\n",
    "new_data = pd.DataFrame({ 'admin1': 'Banadir', 'tmx': mean_t, 'pre': mean_p}).reset_index()\n",
    "new_data2 = pd.DataFrame({ 'admin1': 'Banadir', 'spei': m_t}).reset_index()\n",
    "\n",
    "# Step 4: Append the new DataFrame to the original DataFrame\n",
    "df3 = pd.concat([temp_pre, new_data])\n",
    "df4 = pd.concat([spei, new_data2])\n",
    "\n",
    "temp_pre = df3.sort_values(by=['time', 'admin1'], ascending=[True, True]).reset_index(drop=True)\n",
    "spei = df4.sort_values(by=['time', 'admin1'], ascending=[True, True]).reset_index(drop=True)"
   ]
  },
  {
   "cell_type": "code",
   "execution_count": 16,
   "id": "7dbb2762",
   "metadata": {},
   "outputs": [],
   "source": [
    "temp_pre['time']=pd.to_datetime(temp_pre['time']).dt.strftime('%Y-%m-%d')\n",
    "spei['time']=pd.to_datetime(spei['time']).dt.strftime('%Y-%m-%d')\n",
    "temp_pre['month'] = temp_pre['time'].str[5:7]\n",
    "spei['month'] = spei['time'].str[5:7]\n",
    "temp_pre['month_year'] = temp_pre['time'].str[:7]\n",
    "spei['month_year'] = spei['time'].str[:7]\n",
    "conflicts['time'] = conflicts['time'].dt.strftime('%Y-%m').values\n",
    "\n",
    "temp_pre = temp_pre[['month_year','admin1','tmx','pre']]\n",
    "spei = spei[['month_year','admin1','spei']]\n",
    "temp_pre = temp_pre.rename(columns={'month_year':'time'})\n",
    "spei = spei.rename(columns={'month_year':'time'})"
   ]
  },
  {
   "cell_type": "code",
   "execution_count": 17,
   "id": "0ff798f2",
   "metadata": {},
   "outputs": [],
   "source": [
    "# Select a subset of the dataframe, where there is conflict data\n",
    "\n",
    "start='1997-01'\n",
    "end='2022-12'\n",
    "temp_pre_97_22 = temp_pre[(temp_pre['time'] >= start) & (temp_pre['time'] <= end)]"
   ]
  },
  {
   "cell_type": "code",
   "execution_count": 18,
   "id": "4d65170c",
   "metadata": {},
   "outputs": [],
   "source": [
    "# Perform an outer merge on the month_year column, which includes all month and year combinations from both dataframes\n",
    "df_97_22 = pd.merge(temp_pre_97_22, conflicts, on=['time','admin1'], how='outer')\n",
    "df_97_22 = df_97_22.fillna(0)\n",
    "\n",
    "df_97_22=df_97_22[df_97_22['tmx'] != 0]"
   ]
  },
  {
   "cell_type": "code",
   "execution_count": 19,
   "id": "e4a05554",
   "metadata": {},
   "outputs": [],
   "source": [
    "# Split the dataframe into regions\n",
    "\n",
    "reg=[]\n",
    "for admin in temp_pre['admin1'].unique():\n",
    "    a = temp_pre[temp_pre['admin1']==admin].reset_index(drop=True)\n",
    "    reg.append(a)"
   ]
  },
  {
   "cell_type": "code",
   "execution_count": 20,
   "id": "80cdd9a6",
   "metadata": {},
   "outputs": [],
   "source": [
    "# Calculate the TA (temperature anomaly) and PA (precipitation anomaly) for each region\n",
    "\n",
    "avg_t = np.zeros(18)\n",
    "avg_p = np.zeros(18)\n",
    "std_t = np.zeros(18)\n",
    "std_p = np.zeros(18)\n",
    "\n",
    "for i in range(18):\n",
    "\n",
    "    reg[i]['year'] = reg[i]['time'].str[:4]\n",
    "    reg[i]['month'] = reg[i]['time'].str[5:7]\n",
    "\n",
    "    mean_temp_i = reg[i].groupby('month')['tmx'].mean()\n",
    "    std_temp_i = reg[i].groupby('month')['tmx'].std()\n",
    "    reg[i]['avg_temp'] = reg[i]['month'].map(mean_temp_i)\n",
    "    reg[i]['std_temp'] = reg[i]['month'].map(std_temp_i)\n",
    "    \n",
    "    reg[i]['difference']= (reg[i]['tmx']-reg[i]['avg_temp'])/reg[i]['std_temp']\n",
    "    reg[i]['TA'] = (reg[i]['difference'].shift(2) + reg[i]['difference'].shift(1) + reg[i]['difference'])/3\n",
    "    \n",
    "    mean_pre_i = reg[i].groupby('month')['pre'].mean()\n",
    "    std_pre_i = reg[i].groupby('month')['pre'].std()\n",
    "    reg[i]['avg_pre'] = reg[i]['month'].map(mean_pre_i)\n",
    "    reg[i]['std_pre'] = reg[i]['month'].map(std_pre_i)\n",
    "    \n",
    "    reg[i]['diff_p']= (reg[i]['pre']-reg[i]['avg_pre'])/reg[i]['std_pre']\n",
    "    reg[i]['PA'] = (reg[i]['diff_p'].shift(2) + reg[i]['diff_p'].shift(1) + reg[i]['diff_p'])/3\n",
    "    \n",
    "    reg[i] = reg[i].reindex(columns=['time','admin1','TA','PA'])\n",
    "    reg[i] = reg[i].reset_index()"
   ]
  },
  {
   "cell_type": "code",
   "execution_count": 21,
   "id": "3dd81ce8",
   "metadata": {},
   "outputs": [],
   "source": [
    "df_c_97_22=pd.concat([reg[i] for i in range(18)], axis=0)\n",
    "df_c_97_22 = df_c_97_22.dropna()\n",
    "\n",
    "df_c_97_22 = pd.merge(df_97_22, df_c_97_22, on=['time','admin1'], how='outer')\n",
    "df_c_97_22 = pd.merge(df_c_97_22, spei, on=['time','admin1'], how='outer')\n",
    "df_c_97_22 = df_c_97_22.dropna()\n",
    "df_c_97_22 = df_c_97_22[['time','admin1','TA','PA','spei','conflicts']]"
   ]
  },
  {
   "cell_type": "code",
   "execution_count": 22,
   "id": "9cfda466",
   "metadata": {},
   "outputs": [],
   "source": [
    "df_c_97_22 = df_c_97_22.sort_values(by=['time', 'admin1'], ascending=[True, True]).reset_index(drop=True)"
   ]
  },
  {
   "cell_type": "code",
   "execution_count": 23,
   "id": "b12d8a15",
   "metadata": {},
   "outputs": [],
   "source": [
    "# Create variable DL for drought lenght\n",
    "\n",
    "df_c_97_22['DL'] = 0\n",
    "mask = df_c_97_22['TA'] > 0\n",
    "\n",
    "group_id = (mask != mask.shift()).cumsum()   # Create a group identifier for each consecutive group\n",
    "\n",
    "count = df_c_97_22.groupby([group_id,'admin1']).cumcount() + 1    # Calculate the count within each group\n",
    "\n",
    "df_c_97_22['DL'] = np.where(mask, count, 0)      # Assign the count values to the 'DL' column\n",
    "\n",
    "df_c_97_22 = df_c_97_22[['time','admin1','TA','PA','DL','spei','conflicts']]"
   ]
  },
  {
   "cell_type": "code",
   "execution_count": 24,
   "id": "8662b64c",
   "metadata": {},
   "outputs": [],
   "source": [
    "df_c_97_22['admin1'] = df_c_97_22['admin1'].str.replace('Lower Shabelle', 'Lower_Shabelle')\n",
    "df_c_97_22['admin1'] = df_c_97_22['admin1'].str.replace('Middle Shabelle', 'Middle_Shabelle')\n",
    "df_c_97_22['admin1'] = df_c_97_22['admin1'].str.replace('Lower Juba', 'Lower_Juba')\n",
    "df_c_97_22['admin1'] = df_c_97_22['admin1'].str.replace('Middle Juba', 'Middle_Juba')\n",
    "df_c_97_22['admin1'] = df_c_97_22['admin1'].str.replace('Woqooyi Galbeed', 'Woqooyi_Galbeed')"
   ]
  },
  {
   "cell_type": "code",
   "execution_count": 25,
   "id": "a1d7743d",
   "metadata": {},
   "outputs": [],
   "source": [
    "# Create the dummy variables\n",
    "\n",
    "#one for each country\n",
    "df_dummies = pd.get_dummies(df_c_97_22['admin1'])\n",
    "df_with_dummies = df_c_97_22.join(df_dummies)\n",
    "\n",
    "#one for each month\n",
    "df_c_97_22['month'] = pd.DatetimeIndex(df_c_97_22['time']).month_name()\n",
    "df_dummies_m = pd.get_dummies(df_c_97_22['month'])\n",
    "df_with_dummies = df_with_dummies.join(df_dummies_m)\n",
    "df_with_dummies['month'] = pd.DatetimeIndex(df_c_97_22['time']).month\n",
    "\n",
    "#one for each for each country-month pair\n",
    "df_dummies_mr = pd.get_dummies(df_c_97_22['admin1'] + df_c_97_22['month'])\n",
    "df_with_dummies = df_with_dummies.join(df_dummies_mr)\n",
    "df_with_dummies = df_with_dummies.replace({True: 1, False: 0})"
   ]
  },
  {
   "cell_type": "code",
   "execution_count": 27,
   "id": "d0888b86",
   "metadata": {},
   "outputs": [],
   "source": [
    "y_var_name = 'conflicts'\n",
    "X_var_names = ['TA','PA','DL','spei']"
   ]
  },
  {
   "cell_type": "code",
   "execution_count": 28,
   "id": "a893f3ba",
   "metadata": {},
   "outputs": [
    {
     "name": "stdout",
     "output_type": "stream",
     "text": [
      "Regression expression for OLS with dummies=conflicts ~ TA + PA + DL + spei + Awdal + Bakool + Banadir + Bari + Bay + Galgaduud + Gedo + Hiraan + Lower_Juba + Lower_Shabelle + Middle_Juba + Middle_Shabelle + Mudug + Nugaal + Sanaag + Sool + Togdheer + January + February + March + April + May + June + July + August + September + October + November\n"
     ]
    }
   ],
   "source": [
    "# Regression expression for OLS with dummies\n",
    "\n",
    "unit_names = df_c_97_22['admin1'].unique().tolist()\n",
    "unit_names.sort()\n",
    "unit_names_t = df_c_97_22['month'].unique().tolist()\n",
    "unit_names_mr = (df_c_97_22['admin1'] + df_c_97_22['month']).unique().tolist()\n",
    "\n",
    "lsdv_expr = y_var_name + ' ~ '\n",
    "i = 0\n",
    "for X_var_name in X_var_names:\n",
    "    if i > 0:\n",
    "        lsdv_expr = lsdv_expr + ' + ' + X_var_name\n",
    "    else:\n",
    "        lsdv_expr = lsdv_expr + X_var_name\n",
    "    i = i + 1\n",
    "for dummy_name in unit_names[:-1]:\n",
    "    lsdv_expr = lsdv_expr + ' + ' + dummy_name\n",
    "for dummy_name_t in unit_names_t[:-1]:\n",
    "    lsdv_expr = lsdv_expr + ' + ' + dummy_name_t\n",
    "#for dummy_name_mr in unit_names_mr[:-1]:\n",
    "    #lsdv_expr = lsdv_expr + ' + ' + dummy_name_mr\n",
    " \n",
    "print('Regression expression for OLS with dummies=' + lsdv_expr)"
   ]
  },
  {
   "cell_type": "code",
   "execution_count": 32,
   "id": "9af6641a",
   "metadata": {},
   "outputs": [
    {
     "name": "stdout",
     "output_type": "stream",
     "text": [
      "                            OLS Regression Results                            \n",
      "==============================================================================\n",
      "Dep. Variable:              conflicts   R-squared:                       0.396\n",
      "Model:                            OLS   Adj. R-squared:                  0.393\n",
      "Method:                 Least Squares   F-statistic:                     110.1\n",
      "Date:                Wed, 26 Jul 2023   Prob (F-statistic):               0.00\n",
      "Time:                        15:31:01   Log-Likelihood:                -20077.\n",
      "No. Observations:                5400   AIC:                         4.022e+04\n",
      "Df Residuals:                    5367   BIC:                         4.044e+04\n",
      "Df Model:                          32                                         \n",
      "Covariance Type:            nonrobust                                         \n",
      "===================================================================================\n",
      "                      coef    std err          t      P>|t|      [0.025      0.975]\n",
      "-----------------------------------------------------------------------------------\n",
      "Intercept          -0.3030      0.748     -0.405      0.685      -1.769       1.163\n",
      "TA                  2.0687      0.315      6.565      0.000       1.451       2.686\n",
      "PA                  0.1272      0.469      0.271      0.786      -0.792       1.046\n",
      "DL                  0.2548      0.047      5.377      0.000       0.162       0.348\n",
      "spei                0.6621      0.230      2.880      0.004       0.211       1.113\n",
      "Awdal              -0.8953      0.817     -1.096      0.273      -2.496       0.706\n",
      "Bakool              2.5691      0.820      3.133      0.002       0.962       4.177\n",
      "Banadir            32.4921      0.825     39.395      0.000      30.875      34.109\n",
      "Bari                3.1674      0.823      3.847      0.000       1.553       4.782\n",
      "Bay                 7.3209      0.818      8.951      0.000       5.718       8.924\n",
      "Galgaduud           3.2431      0.830      3.907      0.000       1.616       4.871\n",
      "Gedo                3.9826      0.817      4.875      0.000       2.381       5.584\n",
      "Hiraan              6.4600      0.826      7.821      0.000       4.841       8.079\n",
      "Lower_Juba          7.9979      0.818      9.778      0.000       6.395       9.601\n",
      "Lower_Shabelle     18.7321      0.820     22.857      0.000      17.125      20.339\n",
      "Middle_Juba         0.0356      0.818      0.044      0.965      -1.567       1.639\n",
      "Middle_Shabelle     5.1534      0.833      6.188      0.000       3.521       6.786\n",
      "Mudug               4.3114      0.830      5.195      0.000       2.684       5.939\n",
      "Nugaal              0.7143      0.824      0.867      0.386      -0.902       2.330\n",
      "Sanaag              0.4026      0.819      0.492      0.623      -1.202       2.007\n",
      "Sool                1.2016      0.820      1.466      0.143      -0.405       2.808\n",
      "Togdheer            0.4822      0.817      0.590      0.555      -1.119       2.084\n",
      "January            -0.4857      0.669     -0.726      0.468      -1.797       0.826\n",
      "February           -0.9922      0.670     -1.481      0.139      -2.306       0.321\n",
      "March              -1.3519      0.671     -2.013      0.044      -2.668      -0.036\n",
      "April              -1.3560      0.671     -2.020      0.043      -2.672      -0.040\n",
      "May                -0.9200      0.671     -1.372      0.170      -2.235       0.395\n",
      "June               -0.7854      0.670     -1.173      0.241      -2.098       0.527\n",
      "July               -0.4289      0.670     -0.640      0.522      -1.743       0.885\n",
      "August             -0.5401      0.671     -0.805      0.421      -1.856       0.776\n",
      "September          -0.9258      0.671     -1.379      0.168      -2.242       0.390\n",
      "October            -0.7463      0.673     -1.108      0.268      -2.066       0.574\n",
      "November           -0.2702      0.670     -0.403      0.687      -1.584       1.043\n",
      "==============================================================================\n",
      "Omnibus:                     2817.779   Durbin-Watson:                   1.393\n",
      "Prob(Omnibus):                  0.000   Jarque-Bera (JB):            57002.749\n",
      "Skew:                           2.039   Prob(JB):                         0.00\n",
      "Kurtosis:                      18.385   Cond. No.                         86.4\n",
      "==============================================================================\n",
      "\n",
      "Notes:\n",
      "[1] Standard Errors assume that the covariance matrix of the errors is correctly specified.\n"
     ]
    }
   ],
   "source": [
    "lsdv_model = smf.ols(formula=lsdv_expr, data=df_with_dummies)\n",
    "lsdv_model_results = lsdv_model.fit()\n",
    "print(lsdv_model_results.summary())"
   ]
  },
  {
   "cell_type": "code",
   "execution_count": 30,
   "id": "a0f8c62c",
   "metadata": {},
   "outputs": [],
   "source": [
    "#export summary to txt\n",
    "#with open('summary_spei_no_multicol.txt', 'w') as fh:\n",
    "   # fh.write(lsdv_model_results.summary().as_text())"
   ]
  },
  {
   "cell_type": "code",
   "execution_count": null,
   "id": "005307a6",
   "metadata": {},
   "outputs": [],
   "source": []
  }
 ],
 "metadata": {
  "kernelspec": {
   "display_name": "Python 3 (ipykernel)",
   "language": "python",
   "name": "python3"
  },
  "language_info": {
   "codemirror_mode": {
    "name": "ipython",
    "version": 3
   },
   "file_extension": ".py",
   "mimetype": "text/x-python",
   "name": "python",
   "nbconvert_exporter": "python",
   "pygments_lexer": "ipython3",
   "version": "3.11.1"
  }
 },
 "nbformat": 4,
 "nbformat_minor": 5
}
