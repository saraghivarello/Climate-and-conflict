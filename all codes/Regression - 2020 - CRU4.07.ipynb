{
 "cells": [
  {
   "cell_type": "code",
   "execution_count": 24,
   "id": "49af736b",
   "metadata": {},
   "outputs": [],
   "source": [
    "import pandas as pd\n",
    "import numpy as np\n",
    "import matplotlib.pyplot as plt\n",
    "import dataframe_image as dfi\n",
    "from datetime import datetime\n",
    "import itertools\n",
    "import geopandas as gpd\n",
    "import xarray as xr\n",
    "import regionmask\n",
    "import statsmodels.api as sm\n",
    "import statsmodels.formula.api as smf\n",
    "from patsy import dmatrices\n",
    "from collections import OrderedDict\n",
    "import sys"
   ]
  },
  {
   "cell_type": "markdown",
   "id": "261ebf15",
   "metadata": {},
   "source": [
    "Data from UEA CRU TS4.07 (1901-2022)"
   ]
  },
  {
   "cell_type": "code",
   "execution_count": 25,
   "id": "2646f014",
   "metadata": {},
   "outputs": [],
   "source": [
    "#file = r\"C:\\Users\\PcLaptop\\Documents\\GitHub\\Climate-and-conflict\\Datasets\\cru_ts4.07.1901.2022.tmx.dat.nc\"\n",
    "#file2 = r\"C:\\Users\\PcLaptop\\Documents\\GitHub\\Climate-and-conflict\\Datasets\\cru_ts4.07.1901.2022.pre.dat.nc\"\n",
    "file = r\"/home/sara/Documenti/GitHub/Climate-and-conflict/Datasets/cru_ts4.07.1901.2022.pre.dat.nc\"\n",
    "file2 = r\"/home/sara/Documenti/GitHub/Climate-and-conflict/Datasets/cru_ts4.07.1901.2022.tmx.dat.nc\"\n",
    "\n",
    "file_paths_list =[file,file2]\n",
    "monthly_forecast=xr.Dataset()\n",
    "\n",
    "for file in file_paths_list:\n",
    "        monthly_forecast = xr.merge([monthly_forecast,xr.open_mfdataset(file)], compat='override')"
   ]
  },
  {
   "cell_type": "markdown",
   "id": "5bb53f58",
   "metadata": {},
   "source": [
    "Data on conflict events from ACLED"
   ]
  },
  {
   "cell_type": "code",
   "execution_count": 26,
   "id": "ffb3bda7",
   "metadata": {},
   "outputs": [],
   "source": [
    "#file = r\"C:\\Users\\PcLaptop\\Documents\\GitHub\\Climate-and-conflict\\Datasets\\ACLED_1997-01-01-2023-07-18_Somalia.csv\"# df = pd.read_csv(file)\n",
    "file = r\"/home/sara/Documenti/GitHub/Climate-and-conflict/Datasets/ACLED_1997-01-01-2023-07-18_Somalia.csv\"\n",
    "df = pd.read_csv(file)"
   ]
  },
  {
   "cell_type": "markdown",
   "id": "a9f32fa7",
   "metadata": {},
   "source": [
    "Shapefile with administrative boundaries of Somalia"
   ]
  },
  {
   "cell_type": "code",
   "execution_count": 27,
   "id": "25cb8d8d",
   "metadata": {},
   "outputs": [],
   "source": [
    "#path = r\"C:\\Users\\PcLaptop\\Documents\\GitHub\\Climate-and-conflict\\Datasets\\som_adm_ocha_itos_20230308_shp\\som_admbnda_adm1_ocha_20230308.shp\"\n",
    "path = r\"/home/sara/Documenti/GitHub/Climate-and-conflict/Datasets/som_adm_ocha_itos_20230308_shp/som_admbnda_adm1_ocha_20230308.shp\"\n",
    "states_gdf = gpd.read_file(path) "
   ]
  },
  {
   "cell_type": "markdown",
   "id": "81a83aa8",
   "metadata": {},
   "source": [
    "Limit the lat-lon and time"
   ]
  },
  {
   "cell_type": "code",
   "execution_count": 28,
   "id": "e4ad81c1",
   "metadata": {},
   "outputs": [],
   "source": [
    "def get_aoi(shp, world=True):\n",
    "    lon_lat = {}\n",
    "    # Get lat min, max\n",
    "    aoi_lat = [float(shp.total_bounds[1]), float(shp.total_bounds[3])]\n",
    "    aoi_lon = [float(shp.total_bounds[0]), float(shp.total_bounds[2])]\n",
    "\n",
    "    lon_lat[\"lon\"] = aoi_lon\n",
    "    lon_lat[\"lat\"] = aoi_lat\n",
    "    return lon_lat\n",
    "\n",
    "bounds = get_aoi(states_gdf)"
   ]
  },
  {
   "cell_type": "code",
   "execution_count": 29,
   "id": "e765a268",
   "metadata": {},
   "outputs": [],
   "source": [
    "start_date = '1901-01-01'\n",
    "end_date = '2022-12-31'\n",
    "\n",
    "region = monthly_forecast[[\"pre\",'tmx']].sel(\n",
    "    time=slice(start_date, end_date),\n",
    "    lon=slice(bounds[\"lon\"][0], bounds[\"lon\"][1]),\n",
    "    lat=slice(bounds[\"lat\"][0], bounds[\"lat\"][1]))"
   ]
  },
  {
   "cell_type": "code",
   "execution_count": 30,
   "id": "1382c9f6",
   "metadata": {},
   "outputs": [],
   "source": [
    "region_mask = regionmask.mask_3D_geopandas(states_gdf,\n",
    "                                         monthly_forecast.lon,\n",
    "                                         monthly_forecast.lat)\n",
    "\n",
    "temp_pre = region.where(region_mask)\n",
    "\n",
    "temp_pre = temp_pre.groupby(\"time\").mean([\"lat\", \"lon\"]).to_dataframe().reset_index()"
   ]
  },
  {
   "cell_type": "code",
   "execution_count": 31,
   "id": "74921595",
   "metadata": {},
   "outputs": [],
   "source": [
    "replacement_dict = {0  :  'Awdal',\n",
    "1    :         'Bakool',\n",
    "2      :       'Banadir',\n",
    "3      :         'Bari',\n",
    "4       :         'Bay',\n",
    "5        :  'Galgaduud',\n",
    "6          :      'Gedo',\n",
    "7          :   'Hiraan',\n",
    "8   :       'Lower_Juba',\n",
    "9   :   'Lower_Shabelle',\n",
    "10  :      'Middle_Juba',\n",
    "11   : 'Middle_Shabelle',\n",
    "12    :          'Mudug',\n",
    "13    :        'Nugaal',\n",
    "14      :       'Sanaag',\n",
    "15       :        'Sool',\n",
    "16        :   'Togdheer',\n",
    "17   : 'Woqooyi_Galbeed'}\n",
    "\n",
    "temp_pre['admin1'] = temp_pre['region'].replace(replacement_dict)\n",
    "df['admin1'] = df['admin1'].str.replace(' ', '_')\n",
    "temp_pre.drop('region', axis=1, inplace=True)"
   ]
  },
  {
   "cell_type": "code",
   "execution_count": 32,
   "id": "f50e3f13",
   "metadata": {},
   "outputs": [],
   "source": [
    "# Modify event_date column to datetime\n",
    "\n",
    "df['event_date'] = pd.to_datetime(df['event_date'])\n",
    "df = df.set_index('event_date') \n",
    "\n",
    "conflict = df.groupby([pd.Grouper(freq='M'),\"admin1\"]).count()\n",
    "conflict.reset_index(level=[0, 1], inplace=True)\n",
    "conflict = conflict[['event_date','admin1','year']].rename(columns={'year': 'conflicts','event_date': 'time'})\n",
    "\n",
    "# Aggregate the datetime objects by month\n",
    "conf = conflict.groupby([pd.Grouper(key='time', freq='M'),'admin1'])['conflicts'].sum().to_frame()"
   ]
  },
  {
   "cell_type": "code",
   "execution_count": 33,
   "id": "ee086f40",
   "metadata": {},
   "outputs": [],
   "source": [
    "# Reindex the DataFrame with all dates and districts and fill missing values with 0\n",
    "\n",
    "dates = conf.index.get_level_values('time').unique()\n",
    "districts = conf.index.get_level_values('admin1').unique()\n",
    "all_combinations = pd.MultiIndex.from_product([dates, districts], names=['time', 'admin1'])\n",
    "\n",
    "conflicts = conf.reindex(all_combinations, fill_value=0).reset_index()    \n",
    "conflicts = conflicts.sort_values(by=['time', 'admin1'], ascending=[True, True])\n",
    "conflicts.reset_index(drop=True, inplace=True)"
   ]
  },
  {
   "cell_type": "code",
   "execution_count": 34,
   "id": "f8b312de",
   "metadata": {},
   "outputs": [],
   "source": [
    "# Add Banadir region with tmx and pre as mean of the neighbouring regions\n",
    "\n",
    "district1 = 'Lower_Shabelle'  \n",
    "district2 = 'Middle_Shabelle'  \n",
    "\n",
    "# Calculate the mean tmx and pre for the neighboring districts\n",
    "mean_t = temp_pre[(temp_pre['admin1']==district1) | (temp_pre['admin1']==district2)].groupby('time')['tmx'].mean()\n",
    "mean_p = temp_pre[(temp_pre['admin1']==district1) | (temp_pre['admin1']==district2)].groupby('time')['pre'].mean()\n",
    "\n",
    "new_data = pd.DataFrame({ 'admin1': 'Banadir', 'tmx': mean_t, 'pre': mean_p}).reset_index()\n",
    "\n",
    "# Append the new DataFrame to the original DataFrame\n",
    "df3 = pd.concat([temp_pre, new_data])\n",
    "\n",
    "temp_pre = df3.sort_values(by=['time', 'admin1'], ascending=[True, True]).reset_index(drop=True)"
   ]
  },
  {
   "cell_type": "code",
   "execution_count": 35,
   "id": "7dbb2762",
   "metadata": {},
   "outputs": [],
   "source": [
    "# Only keep month and year in time column in temp_pre and conflicts\n",
    "\n",
    "temp_pre['time'] = pd.to_datetime(temp_pre['time']).dt.strftime('%Y-%m-%d')\n",
    "temp_pre['month'] = temp_pre['time'].str[5:7]\n",
    "temp_pre['month_year'] = temp_pre['time'].str[:7]\n",
    "conflicts['time'] = conflicts['time'].dt.strftime('%Y-%m').values\n",
    "\n",
    "temp_pre = temp_pre[['month_year','admin1','tmx','pre']]\n",
    "temp_pre = temp_pre.rename(columns={'month_year':'time'})"
   ]
  },
  {
   "cell_type": "code",
   "execution_count": 36,
   "id": "e4a05554",
   "metadata": {},
   "outputs": [],
   "source": [
    "# Split the dataframe into regions\n",
    "\n",
    "reg=[]\n",
    "for admin in temp_pre['admin1'].unique():\n",
    "    a = temp_pre[temp_pre['admin1']==admin].reset_index(drop=True)\n",
    "    reg.append(a)"
   ]
  },
  {
   "cell_type": "code",
   "execution_count": 37,
   "id": "80cdd9a6",
   "metadata": {},
   "outputs": [],
   "source": [
    "# Calculate the TA (temperature anomaly), PA (precipitation anomaly) and DL (drought lenght) for each region\n",
    "\n",
    "avg_t = avg_p = std_t = std_p = np.zeros(18)\n",
    "\n",
    "for i in range(18):\n",
    "\n",
    "    reg[i]['year'] , reg[i]['month'] = reg[i]['time'].str[:4] , reg[i]['time'].str[5:7]\n",
    "\n",
    "    # TA\n",
    "    mean_temp_i , std_temp_i  = reg[i].groupby('month')['tmx'].mean() , reg[i].groupby('month')['tmx'].std()\n",
    "    reg[i]['avg_temp'] , reg[i]['std_temp']  = reg[i]['month'].map(mean_temp_i) , reg[i]['month'].map(std_temp_i)\n",
    "    reg[i]['diff_t']= (reg[i]['tmx']-reg[i]['avg_temp'])/reg[i]['std_temp']\n",
    "    reg[i]['TA'] = (reg[i]['diff_t'].shift(3) + reg[i]['diff_t'].shift(2) + reg[i]['diff_t'].shift(1) + reg[i]['diff_t'])/4\n",
    "\n",
    "    # PA\n",
    "    mean_pre_i , std_pre_i  = reg[i].groupby('month')['pre'].mean() , reg[i].groupby('month')['pre'].std()\n",
    "    reg[i]['avg_pre'] , reg[i]['std_pre']= reg[i]['month'].map(mean_pre_i) , reg[i]['month'].map(std_pre_i)\n",
    "    reg[i]['diff_p']= (reg[i]['pre']-reg[i]['avg_pre'])/reg[i]['std_pre']\n",
    "    reg[i]['PA'] = (reg[i]['diff_p'].shift(3) + reg[i]['diff_p'].shift(2) + reg[i]['diff_p'].shift(1) + reg[i]['diff_p'])/4\n",
    "    \n",
    "    # DL \n",
    "    reg[i]['DL'] = 0\n",
    "    mask = reg[i]['TA'] > 0\n",
    "    group_id = (mask != mask.shift()).cumsum()             # Create a group identifier for each consecutive group\n",
    "    count = reg[i].groupby(group_id).cumcount() + 1        # Calculate the count within each group\n",
    "    reg[i]['DL'] = np.where(mask, count, 0)                # Assign the count values to the 'DL' column\n",
    "\n",
    "    # Add lagged variables\n",
    "    #reg[i]['TA_lag1'] = reg[i]['TA'].shift(1)\n",
    "    #reg[i]['PA_lag1'] = reg[i]['PA'].shift(1)\n",
    "    #reg[i]['DL_lag1'] = reg[i]['DL'].shift(1)\n",
    "\n",
    "    reg[i]['TA_lag1'], reg[i]['TA_lag2'], reg[i]['TA_lag3'], reg[i]['TA_lag4'], reg[i]['TA_lag5'], reg[i]['TA_lag6'] = reg[i]['TA'].shift(1), reg[i]['TA'].shift(2), reg[i]['TA'].shift(3), reg[i]['TA'].shift(4), reg[i]['TA'].shift(5), reg[i]['TA'].shift(6)\n",
    "    reg[i]['PA_lag1'], reg[i]['PA_lag2'], reg[i]['PA_lag3'], reg[i]['PA_lag4'], reg[i]['PA_lag5'], reg[i]['PA_lag6'] = reg[i]['PA'].shift(1), reg[i]['PA'].shift(2), reg[i]['PA'].shift(3), reg[i]['PA'].shift(4), reg[i]['PA'].shift(5), reg[i]['PA'].shift(6)\n",
    "    reg[i]['DL_lag1'], reg[i]['DL_lag2'], reg[i]['DL_lag3'], reg[i]['DL_lag4'], reg[i]['DL_lag5'], reg[i]['DL_lag6'] = reg[i]['DL'].shift(1), reg[i]['DL'].shift(2), reg[i]['DL'].shift(3), reg[i]['DL'].shift(4), reg[i]['DL'].shift(5), reg[i]['DL'].shift(6)\n",
    "\n",
    "    reg[i] = reg[i].reset_index()"
   ]
  },
  {
   "cell_type": "code",
   "execution_count": 38,
   "id": "3dd81ce8",
   "metadata": {},
   "outputs": [],
   "source": [
    "temp_pre_c = pd.concat([reg[i] for i in range(18)], axis=0)\n",
    "temp_pre_c = temp_pre_c.dropna()\n",
    "\n",
    "# Select a subset of the dataframes from 1997-01 to 2022-12\n",
    "\n",
    "start='2016-01'\n",
    "end='2022-12'\n",
    "temp_pre_16_22 = temp_pre_c[(temp_pre_c['time'] >= start) & (temp_pre_c['time'] <= end)]\n",
    "conflicts_16_22 = conflicts[(conflicts['time'] >= start) & (conflicts['time'] <= end)]\n",
    "\n",
    "df_2016 = pd.merge(temp_pre_16_22, conflicts_16_22, on=['time','admin1'], how='outer')\n",
    "df_2016 = df_2016.fillna(0)\n",
    "df_2016 = df_2016.drop(['avg_temp', 'avg_pre', 'std_temp', 'std_pre', 'diff_t', 'diff_p', 'tmx', 'pre'], axis=1)\n",
    "df_2016 = df_2016.sort_values(by=['time','admin1'], ascending=[True, True]).reset_index(drop=True)"
   ]
  },
  {
   "cell_type": "code",
   "execution_count": 39,
   "id": "a1d7743d",
   "metadata": {},
   "outputs": [],
   "source": [
    "# Create the dummy variables\n",
    "\n",
    "#one for each country\n",
    "df_dummies = pd.get_dummies(df_2016['admin1'])\n",
    "df_with_dummies = df_2016.join(df_dummies)\n",
    "\n",
    "#one for each month\n",
    "df_2016['month'] = pd.DatetimeIndex(df_2016['time']).month_name()\n",
    "df_dummies_m = pd.get_dummies(df_2016['month'])\n",
    "df_with_dummies = df_with_dummies.join(df_dummies_m)\n",
    "df_with_dummies['month'] = pd.DatetimeIndex(df_2016['time']).month\n",
    "\n",
    "#create a dictionary where the keys are increasing integers and the values are the values of the time column\n",
    "time_dict = dict(enumerate(df_2016['time'].unique(), 25))\n",
    "inv_time_dict = {v: k for k, v in time_dict.items()}\n",
    "\n",
    "#create a new variable for the month_year column\n",
    "df_2016['time'].replace(inv_time_dict, inplace=True)\n",
    "#add a string before the number \n",
    "df_2016['time'] = 'yrmth_' + df_2016['time'].astype(str)\n",
    "\n",
    "#df_dummies_new = pd.get_dummies(df_2016['time'])\n",
    "#df_with_dummies = df_with_dummies.join(df_dummies_new)\n",
    "df_with_dummies = df_with_dummies.replace({True: 1, False: 0})"
   ]
  },
  {
   "cell_type": "code",
   "execution_count": 40,
   "id": "e81561e3",
   "metadata": {},
   "outputs": [],
   "source": [
    "month_dict = {1: 'January', 2: 'February', 3: 'March', 4: 'April', 5: 'May', 6:'June', 7:'July', 8:'August', 9:'September', 10:'October', 11:'November', 12:'December'}\n",
    "df_with_dummies['month_name'] = df_with_dummies['month'].map(month_dict)"
   ]
  },
  {
   "cell_type": "code",
   "execution_count": 48,
   "id": "a235495d",
   "metadata": {},
   "outputs": [],
   "source": [
    "df_with_dummies.to_csv(r\"/home/sara/Documenti/GitHub/Climate-and-conflict/csv/df_lags_2016_n4.csv\", index = False, header=True)"
   ]
  },
  {
   "cell_type": "code",
   "execution_count": 42,
   "id": "a994ae6e",
   "metadata": {},
   "outputs": [],
   "source": [
    "#dist = pd.read_csv(r\"C:\\Users\\PcLaptop\\Documents\\GitHub\\Climate-and-conflict\\dist_som.csv\")\n",
    "dist = pd.read_csv(r\"/home/sara/Documenti/GitHub/Climate-and-conflict/csv/dist_som.csv\")"
   ]
  },
  {
   "cell_type": "code",
   "execution_count": 43,
   "id": "78de8115",
   "metadata": {},
   "outputs": [],
   "source": [
    "inv_dist = 1/(dist+0.001)\n",
    "inv_dist.reset_index(inplace=True)\n",
    "inv_dist['index'] = inv_dist['index'].replace(replacement_dict)"
   ]
  },
  {
   "cell_type": "code",
   "execution_count": 44,
   "id": "a5037a2e",
   "metadata": {},
   "outputs": [],
   "source": [
    "#df_new=df_with_dummies.merge(inv_dist, left_on='admin1', right_on='index')"
   ]
  },
  {
   "cell_type": "code",
   "execution_count": 45,
   "id": "5d3d5291",
   "metadata": {},
   "outputs": [
    {
     "name": "stdout",
     "output_type": "stream",
     "text": [
      "Number of combinations to be tested: 125\n"
     ]
    }
   ],
   "source": [
    "lag_combinations = OrderedDict()\n",
    " \n",
    "for combination in itertools.product(range(1,6), repeat=3):\n",
    "        lag_combinations[combination] = 0.0\n",
    " \n",
    "print('Number of combinations to be tested: ' + str(len(lag_combinations)))"
   ]
  },
  {
   "cell_type": "code",
   "execution_count": 46,
   "id": "5880adfe",
   "metadata": {},
   "outputs": [
    {
     "ename": "NameError",
     "evalue": "name 'unit_names' is not defined",
     "output_type": "error",
     "traceback": [
      "\u001b[0;31m---------------------------------------------------------------------------\u001b[0m",
      "\u001b[0;31mNameError\u001b[0m                                 Traceback (most recent call last)",
      "\u001b[1;32m/home/sara/Documenti/GitHub/Climate-and-conflict/all codes/Regression - 2020 - CRU4.07.ipynb Cell 27\u001b[0m line \u001b[0;36m2\n\u001b[1;32m     <a href='vscode-notebook-cell:/home/sara/Documenti/GitHub/Climate-and-conflict/all%20codes/Regression%20-%202020%20-%20CRU4.07.ipynb#X42sZmlsZQ%3D%3D?line=16'>17</a>\u001b[0m         expr \u001b[39m=\u001b[39m expr \u001b[39m+\u001b[39m X_var_[i] \u001b[39m+\u001b[39m \u001b[39m'\u001b[39m\u001b[39mlag\u001b[39m\u001b[39m'\u001b[39m \u001b[39m+\u001b[39m \u001b[39mstr\u001b[39m(lag_num)\n\u001b[1;32m     <a href='vscode-notebook-cell:/home/sara/Documenti/GitHub/Climate-and-conflict/all%20codes/Regression%20-%202020%20-%20CRU4.07.ipynb#X42sZmlsZQ%3D%3D?line=18'>19</a>\u001b[0m     i \u001b[39m+\u001b[39m\u001b[39m=\u001b[39m \u001b[39m1\u001b[39m\n\u001b[0;32m---> <a href='vscode-notebook-cell:/home/sara/Documenti/GitHub/Climate-and-conflict/all%20codes/Regression%20-%202020%20-%20CRU4.07.ipynb#X42sZmlsZQ%3D%3D?line=19'>20</a>\u001b[0m \u001b[39mfor\u001b[39;00m dummy_name \u001b[39min\u001b[39;00m unit_names[:\u001b[39m-\u001b[39m\u001b[39m1\u001b[39m]:\n\u001b[1;32m     <a href='vscode-notebook-cell:/home/sara/Documenti/GitHub/Climate-and-conflict/all%20codes/Regression%20-%202020%20-%20CRU4.07.ipynb#X42sZmlsZQ%3D%3D?line=20'>21</a>\u001b[0m     expr \u001b[39m=\u001b[39m expr \u001b[39m+\u001b[39m \u001b[39m'\u001b[39m\u001b[39m + \u001b[39m\u001b[39m'\u001b[39m \u001b[39m+\u001b[39m dummy_name\n\u001b[1;32m     <a href='vscode-notebook-cell:/home/sara/Documenti/GitHub/Climate-and-conflict/all%20codes/Regression%20-%202020%20-%20CRU4.07.ipynb#X42sZmlsZQ%3D%3D?line=21'>22</a>\u001b[0m \u001b[39mfor\u001b[39;00m dummy_name_t \u001b[39min\u001b[39;00m unit_names_t[:\u001b[39m-\u001b[39m\u001b[39m1\u001b[39m]:\n",
      "\u001b[0;31mNameError\u001b[0m: name 'unit_names' is not defined"
     ]
    }
   ],
   "source": [
    "X_var_ = ['TA_','PA_','DL_']\n",
    "expr_prefix = 'conflicts ~ '\n",
    " \n",
    "min_aic = sys.float_info.max\n",
    "best_expr = ''\n",
    "best_olsr_model_results = None\n",
    " \n",
    "#Iterate over each combination\n",
    "for combination in lag_combinations:\n",
    "    expr = expr_prefix\n",
    "    i = 1\n",
    "    #Setup the model expression using patsy syntax\n",
    "    for i, lag_num in enumerate(combination):\n",
    "        if i < len(combination)-1:\n",
    "            expr = expr  + X_var_[i] + 'lag' + str(lag_num) + ' + '\n",
    "        else:\n",
    "            expr = expr + X_var_[i] + 'lag' + str(lag_num)\n",
    " \n",
    "        i += 1\n",
    "    for dummy_name in unit_names[:-1]:\n",
    "        expr = expr + ' + ' + dummy_name\n",
    "    for dummy_name_t in unit_names_t[:-1]:\n",
    "        expr = expr + ' + ' + dummy_name_t\n",
    " \n",
    "    print('Building model for expr: ' + expr)\n",
    "    print(combination)\n",
    "\n",
    "    #Carve out the X,y vectors using patsy. We will use X_test, y_test later for testing the model.\n",
    "    y_test, X_test = dmatrices(expr, df_with_dummies, return_type='dataframe')\n",
    " \n",
    "    #Build and train the OLSR model on the training data set\n",
    "    olsr_results = smf.ols(expr, df_with_dummies).fit()\n",
    " \n",
    "    #Store it's AIC value\n",
    "    lag_combinations[combination] = olsr_results.aic\n",
    " \n",
    "    #Keep track of the best model (the one with the lowest AIC score) seen so far\n",
    "    if olsr_results.aic < min_aic:\n",
    "        min_aic = olsr_results.aic\n",
    "        best_expr = expr\n",
    "        best_olsr_model_results = olsr_results\n",
    " \n",
    "    print('AIC='+str(lag_combinations[combination]))\n",
    "\n",
    "print(best_olsr_model_results.summary())"
   ]
  },
  {
   "cell_type": "code",
   "execution_count": null,
   "id": "3500f697",
   "metadata": {},
   "outputs": [
    {
     "name": "stdout",
     "output_type": "stream",
     "text": [
      "                            OLS Regression Results                            \n",
      "==============================================================================\n",
      "Dep. Variable:              conflicts   R-squared:                       0.445\n",
      "Model:                            OLS   Adj. R-squared:                  0.442\n",
      "Method:                 Least Squares   F-statistic:                     144.2\n",
      "Date:                Wed, 04 Oct 2023   Prob (F-statistic):               0.00\n",
      "Time:                        10:47:33   Log-Likelihood:                -20960.\n",
      "No. Observations:                5616   AIC:                         4.198e+04\n",
      "Df Residuals:                    5584   BIC:                         4.220e+04\n",
      "Df Model:                          31                                         \n",
      "Covariance Type:            nonrobust                                         \n",
      "===================================================================================\n",
      "                      coef    std err          t      P>|t|      [0.025      0.975]\n",
      "-----------------------------------------------------------------------------------\n",
      "Intercept          -0.9813      0.750     -1.309      0.191      -2.451       0.488\n",
      "TA_lag2             2.4191      0.239     10.135      0.000       1.951       2.887\n",
      "PA_lag4             1.8208      0.418      4.352      0.000       1.001       2.641\n",
      "DL_lag5             0.0814      0.005     15.528      0.000       0.071       0.092\n",
      "Awdal              -7.9351      0.914     -8.683      0.000      -9.727      -6.144\n",
      "Bakool              2.3877      0.815      2.930      0.003       0.790       3.985\n",
      "Banadir            35.7050      0.818     43.648      0.000      34.101      37.309\n",
      "Bari                3.1664      0.813      3.896      0.000       1.573       4.760\n",
      "Bay                 7.1178      0.816      8.720      0.000       5.518       8.718\n",
      "Galgaduud           4.5912      0.823      5.576      0.000       2.977       6.205\n",
      "Gedo                2.7364      0.819      3.342      0.001       1.131       4.341\n",
      "Hiraan              8.2566      0.820     10.072      0.000       6.650       9.864\n",
      "Lower_Juba          7.2914      0.818      8.912      0.000       5.688       8.895\n",
      "Lower_Shabelle     20.1236      0.815     24.692      0.000      18.526      21.721\n",
      "Middle_Juba        -2.0084      0.817     -2.457      0.014      -3.611      -0.406\n",
      "Middle_Shabelle     7.0502      0.825      8.543      0.000       5.432       8.668\n",
      "Mudug               5.1423      0.824      6.243      0.000       3.527       6.757\n",
      "Nugaal              1.1636      0.819      1.420      0.156      -0.443       2.770\n",
      "Sanaag              0.2652      0.812      0.327      0.744      -1.327       1.857\n",
      "Sool                1.3925      0.814      1.711      0.087      -0.203       2.988\n",
      "Togdheer            0.6041      0.812      0.744      0.457      -0.988       2.196\n",
      "January            -0.4173      0.663     -0.629      0.529      -1.717       0.883\n",
      "February           -0.4153      0.664     -0.626      0.532      -1.716       0.886\n",
      "March              -0.4944      0.663     -0.746      0.456      -1.794       0.805\n",
      "April              -1.0281      0.663     -1.551      0.121      -2.328       0.272\n",
      "May                -0.3696      0.663     -0.558      0.577      -1.669       0.930\n",
      "June               -0.0437      0.663     -0.066      0.947      -1.343       1.256\n",
      "July                0.0536      0.663      0.081      0.936      -1.246       1.353\n",
      "August              0.0369      0.663      0.056      0.956      -1.262       1.336\n",
      "September          -0.6330      0.663     -0.955      0.340      -1.932       0.666\n",
      "October            -0.3560      0.663     -0.537      0.591      -1.656       0.944\n",
      "November           -0.5920      0.663     -0.893      0.372      -1.892       0.708\n",
      "==============================================================================\n",
      "Omnibus:                     1896.165   Durbin-Watson:                   1.517\n",
      "Prob(Omnibus):                  0.000   Jarque-Bera (JB):            22024.323\n",
      "Skew:                           1.276   Prob(JB):                         0.00\n",
      "Kurtosis:                      12.360   Cond. No.                         730.\n",
      "==============================================================================\n",
      "\n",
      "Notes:\n",
      "[1] Standard Errors assume that the covariance matrix of the errors is correctly specified.\n"
     ]
    }
   ],
   "source": [
    "print(best_olsr_model_results.summary())"
   ]
  },
  {
   "cell_type": "code",
   "execution_count": null,
   "id": "a32aca3f",
   "metadata": {},
   "outputs": [],
   "source": []
  }
 ],
 "metadata": {
  "kernelspec": {
   "display_name": "Python 3 (ipykernel)",
   "language": "python",
   "name": "python3"
  },
  "language_info": {
   "codemirror_mode": {
    "name": "ipython",
    "version": 3
   },
   "file_extension": ".py",
   "mimetype": "text/x-python",
   "name": "python",
   "nbconvert_exporter": "python",
   "pygments_lexer": "ipython3",
   "version": "3.8.10"
  }
 },
 "nbformat": 4,
 "nbformat_minor": 5
}
