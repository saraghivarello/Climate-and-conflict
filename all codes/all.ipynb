{
 "cells": [
  {
   "cell_type": "code",
   "execution_count": 8,
   "id": "49af736b",
   "metadata": {},
   "outputs": [],
   "source": [
    "import pandas as pd\n",
    "import numpy as np\n",
    "import matplotlib.pyplot as plt\n",
    "import dataframe_image as dfi\n",
    "from datetime import datetime\n",
    "import scipy\n",
    "import itertools\n",
    "import geopandas as gpd\n",
    "import xarray as xr\n",
    "import regionmask\n",
    "import statsmodels.api as sm\n",
    "import statsmodels.formula.api as smf"
   ]
  },
  {
   "cell_type": "markdown",
   "id": "358a13e2",
   "metadata": {},
   "source": [
    "Data from POWER Data Access Viewer - NASA (1997-2020)"
   ]
  },
  {
   "cell_type": "code",
   "execution_count": 9,
   "id": "d8b9568d",
   "metadata": {},
   "outputs": [],
   "source": [
    "da1 = r\"C:\\Users\\PcLaptop\\Documents\\GitHub\\Climate-and-conflict\\Datasets\\POWER_Regional_monthly_1997_2020.nc\"\n",
    "da2 = r\"C:\\Users\\PcLaptop\\Documents\\GitHub\\Climate-and-conflict\\Datasets\\POWER_Regional_monthly_1997_2020_south.nc\"\n",
    "\n",
    "file_paths_list =[da1,da2]\n",
    "monthly_forecast=xr.Dataset()\n",
    "\n",
    "for file in file_paths_list:\n",
    "        monthly_forecast = xr.merge([monthly_forecast,xr.open_mfdataset(file)], compat='no_conflicts')"
   ]
  },
  {
   "cell_type": "markdown",
   "id": "1f0fa03a",
   "metadata": {},
   "source": [
    "Data from UEA CRU TS4.07 (1901-2022)"
   ]
  },
  {
   "cell_type": "code",
   "execution_count": 10,
   "id": "f9446e24",
   "metadata": {},
   "outputs": [],
   "source": [
    "file = r\"C:\\Users\\PcLaptop\\Documents\\GitHub\\Climate-and-conflict\\Datasets\\cru_ts4.07.1901.2022.tmx.dat.nc\"\n",
    "file2 = r\"C:\\Users\\PcLaptop\\Documents\\GitHub\\Climate-and-conflict\\Datasets\\cru_ts4.07.1901.2022.pre.dat.nc\"\n",
    "\n",
    "file_paths_list =[file,file2]\n",
    "monthly_forecast=xr.Dataset()\n",
    "\n",
    "for file in file_paths_list:\n",
    "        monthly_forecast = xr.merge([monthly_forecast,xr.open_mfdataset(file)], compat='override')"
   ]
  },
  {
   "cell_type": "markdown",
   "id": "261ebf15",
   "metadata": {},
   "source": [
    "Data from UEA CRU TS3.10 (1901-2009)"
   ]
  },
  {
   "cell_type": "code",
   "execution_count": 11,
   "id": "fd212166",
   "metadata": {},
   "outputs": [],
   "source": [
    "file = r\"C:\\Users\\PcLaptop\\Documents\\GitHub\\Climate-and-conflict\\Datasets\\cru_ts_3_10.1901.2009.tmp.dat.nc\"\n",
    "file2 = r\"C:\\Users\\PcLaptop\\Documents\\GitHub\\Climate-and-conflict\\Datasets\\cru_ts_3_10_01.1901.2009.pre.dat.nc\"\n",
    "\n",
    "file_paths_list =[file,file2]\n",
    "monthly_forecast=xr.Dataset()\n",
    "\n",
    "for file in file_paths_list:\n",
    "        monthly_forecast = xr.merge([monthly_forecast,xr.open_mfdataset(file)], compat='override')"
   ]
  },
  {
   "cell_type": "markdown",
   "id": "5bb53f58",
   "metadata": {},
   "source": [
    "Data on conflict events from ACLED"
   ]
  },
  {
   "cell_type": "code",
   "execution_count": 12,
   "id": "45e1de6a",
   "metadata": {},
   "outputs": [],
   "source": [
    "file = r\"C:\\Users\\PcLaptop\\Documents\\GitHub\\Climate-and-conflict\\Datasets\\ACLED_1997-01-01-2023-07-18_Somalia.csv\"\n",
    "df = pd.read_csv(file)\n",
    "\n",
    "# Keep protests and strategic developments?\n",
    "\n",
    "df=df[df['event_type'] != 'Protests']\n",
    "df=df[df['event_type'] != 'Strategic developments']"
   ]
  },
  {
   "cell_type": "markdown",
   "id": "a9f32fa7",
   "metadata": {},
   "source": [
    "Shapefile with administrative boundaries of Somalia"
   ]
  },
  {
   "cell_type": "code",
   "execution_count": 13,
   "id": "140d777f",
   "metadata": {},
   "outputs": [],
   "source": [
    "path = r\"C:\\Users\\PcLaptop\\Documents\\GitHub\\Climate-and-conflict\\Datasets\\som_adm_ocha_itos_20230308_shp\\som_admbnda_adm1_ocha_20230308.shp\"\n",
    "states_gdf = gpd.read_file(path) "
   ]
  },
  {
   "cell_type": "markdown",
   "id": "81a83aa8",
   "metadata": {},
   "source": [
    "Limit the lat-lon and time "
   ]
  },
  {
   "cell_type": "code",
   "execution_count": 14,
   "id": "e4ad81c1",
   "metadata": {},
   "outputs": [],
   "source": [
    "def get_aoi(shp, world=True):\n",
    "    lon_lat = {}\n",
    "    # Get lat min, max\n",
    "    aoi_lat = [float(shp.total_bounds[1]), float(shp.total_bounds[3])]\n",
    "    aoi_lon = [float(shp.total_bounds[0]), float(shp.total_bounds[2])]\n",
    "\n",
    "    lon_lat[\"lon\"] = aoi_lon\n",
    "    lon_lat[\"lat\"] = aoi_lat\n",
    "    return lon_lat\n",
    "\n",
    "bounds = get_aoi(states_gdf)"
   ]
  },
  {
   "cell_type": "code",
   "execution_count": 15,
   "id": "c190a6f0",
   "metadata": {},
   "outputs": [],
   "source": [
    "# rename attribute tmp in shapefile monthly_forecast\n",
    "monthly_forecast = monthly_forecast.rename({'tmp': 'tmx'})"
   ]
  },
  {
   "cell_type": "code",
   "execution_count": 16,
   "id": "e765a268",
   "metadata": {},
   "outputs": [],
   "source": [
    "start_date = '1901-01-16'\n",
    "end_date = '2009-12-31'\n",
    "\n",
    "region = monthly_forecast[[\"pre\",'tmx']].sel(\n",
    "    time=slice(start_date, end_date),\n",
    "    lon=slice(bounds[\"lon\"][0], bounds[\"lon\"][1]),\n",
    "    lat=slice(bounds[\"lat\"][0], bounds[\"lat\"][1]))"
   ]
  },
  {
   "cell_type": "code",
   "execution_count": 17,
   "id": "1382c9f6",
   "metadata": {},
   "outputs": [],
   "source": [
    "region_mask = regionmask.mask_3D_geopandas(states_gdf,\n",
    "                                         monthly_forecast.lon,\n",
    "                                         monthly_forecast.lat)\n",
    "\n",
    "somalia = region.where(region_mask).groupby(\"time\").mean([\"lat\", \"lon\"]).to_dataframe().reset_index()"
   ]
  },
  {
   "cell_type": "code",
   "execution_count": 18,
   "id": "74921595",
   "metadata": {},
   "outputs": [],
   "source": [
    "replacement_dict = {0  :  'Awdal',\n",
    "1    :         'Bakool',\n",
    "2      :       'Banadir',\n",
    "3      :         'Bari',\n",
    "4       :         'Bay',\n",
    "5        :  'Galgaduud',\n",
    "6          :      'Gedo',\n",
    "7          :   'Hiraan',\n",
    "8   :       'Lower Juba',\n",
    "9   :   'Lower Shabelle',\n",
    "10  :      'Middle Juba',\n",
    "11   : 'Middle Shabelle',\n",
    "12    :          'Mudug',\n",
    "13    :        'Nugaal',\n",
    "14      :       'Sanaag',\n",
    "15       :        'Sool',\n",
    "16        :   'Togdheer',\n",
    "17   : 'Woqooyi Galbeed'}\n",
    "\n",
    "somalia['region'] = somalia['region'].replace(replacement_dict)"
   ]
  },
  {
   "cell_type": "code",
   "execution_count": 19,
   "id": "647d91e1",
   "metadata": {},
   "outputs": [],
   "source": [
    "# Modify event_date column to datetime\n",
    "\n",
    "v = df[\"event_date\"].values\n",
    "dt = [datetime.strptime(v[i], \"%d %B %Y\") for i in range(len(v))]\n",
    "q=[]\n",
    "\n",
    "for i in range(len(dt)):\n",
    "    q.append(datetime.timestamp(dt[i]))\n",
    "    \n",
    "df.insert(loc=3, column='date_timestamp', value=q)\n",
    "df = df.sort_values(\"date_timestamp\")\n",
    "\n",
    "df['event_date'] = pd.to_datetime(df['event_date'])\n",
    "df=df.set_index('event_date') "
   ]
  },
  {
   "cell_type": "code",
   "execution_count": 20,
   "id": "f50e3f13",
   "metadata": {},
   "outputs": [],
   "source": [
    "conflict = df.groupby([pd.Grouper(freq='40320min'),\"admin1\"]).count()\n",
    "conflict.reset_index(level=[0, 1], inplace=True)\n",
    "conflict = conflict[['event_date','admin1','year']].rename(columns={'year': 'conflicts','event_date': 'time'})\n",
    "conflict['datetime_column'] = pd.to_datetime(conflict['time'])\n",
    "\n",
    "# Aggregate the datetime objects by month\n",
    "conf = conflict.groupby([pd.Grouper(key='time', freq='M'),'admin1'])['conflicts'].sum().to_frame()"
   ]
  },
  {
   "cell_type": "code",
   "execution_count": 21,
   "id": "ee086f40",
   "metadata": {},
   "outputs": [],
   "source": [
    "dates = conf.index.get_level_values('time').unique()\n",
    "districts = conf.index.get_level_values('admin1').unique()\n",
    "all_combinations = pd.MultiIndex.from_product([dates, districts], names=['time', 'admin1'])\n",
    "\n",
    "conf = conf.reindex(all_combinations, fill_value=0).reset_index()    # Reindex the DataFrame with all combinations"
   ]
  },
  {
   "cell_type": "code",
   "execution_count": 22,
   "id": "42f52795",
   "metadata": {},
   "outputs": [],
   "source": [
    "conflicts = conf.sort_values(by=['time', 'admin1'], ascending=[True, True])\n",
    "conflicts.reset_index(drop=True, inplace=True)"
   ]
  },
  {
   "cell_type": "code",
   "execution_count": 23,
   "id": "6456c29d",
   "metadata": {},
   "outputs": [],
   "source": [
    "temp_pre=somalia.rename(columns={'region': 'admin1'})"
   ]
  },
  {
   "cell_type": "code",
   "execution_count": 24,
   "id": "f8b312de",
   "metadata": {},
   "outputs": [],
   "source": [
    "# Add Banadir region with tmx and pre as mean of the neighbouring regions\n",
    "\n",
    "district1 = 'Lower Shabelle'  \n",
    "district2 = 'Middle Shabelle'  \n",
    "\n",
    "# Step 2: Calculate the mean tmx and pre for the neighboring districts\n",
    "mean_t = temp_pre[(temp_pre['admin1']==district1) | (temp_pre['admin1']==district2)].groupby('time')['tmx'].mean()\n",
    "mean_p = temp_pre[(temp_pre['admin1']==district1) | (temp_pre['admin1']==district2)].groupby('time')['pre'].mean()\n",
    "\n",
    "new_data = pd.DataFrame({ 'admin1': 'Banadir', 'tmx': mean_t, 'pre': mean_p}).reset_index()\n",
    "\n",
    "# Step 4: Append the new DataFrame to the original DataFrame\n",
    "df3 = pd.concat([temp_pre, new_data])\n",
    "\n",
    "temp_pre = df3.sort_values(by=['time', 'admin1'], ascending=[True, True]).reset_index(drop=True)"
   ]
  },
  {
   "cell_type": "code",
   "execution_count": 25,
   "id": "7dbb2762",
   "metadata": {},
   "outputs": [],
   "source": [
    "temp_pre['time']=pd.to_datetime(temp_pre['time']).dt.strftime('%Y-%m-%d')\n",
    "temp_pre['month'] = temp_pre['time'].str[5:7]\n",
    "temp_pre['month_year'] = temp_pre['time'].str[:7]\n",
    "conflicts['time'] = conflicts['time'].dt.strftime('%Y-%m').values\n",
    "\n",
    "temp_pre = temp_pre[['month_year','admin1','tmx','pre']]\n",
    "temp_pre = temp_pre.rename(columns={'month_year':'time'})"
   ]
  },
  {
   "cell_type": "code",
   "execution_count": 26,
   "id": "0ff798f2",
   "metadata": {},
   "outputs": [],
   "source": [
    "# Select a subset of the dataframe, where there is conflict data\n",
    "\n",
    "start='1997-01'\n",
    "end='2022-12'\n",
    "temp_pre_97_22 = temp_pre[(temp_pre['time'] >= start) & (temp_pre['time'] <= end)]"
   ]
  },
  {
   "cell_type": "code",
   "execution_count": 27,
   "id": "4d65170c",
   "metadata": {},
   "outputs": [],
   "source": [
    "# Perform an outer merge on the month_year column, which includes all month and year combinations from both dataframes\n",
    "df_97_22 = pd.merge(temp_pre_97_22, conflicts, on=['time','admin1'], how='outer')\n",
    "df_97_22 = df_97_22.fillna(0)\n",
    "\n",
    "df_97_22=df_97_22[df_97_22['tmx'] != 0]"
   ]
  },
  {
   "cell_type": "code",
   "execution_count": 28,
   "id": "e4a05554",
   "metadata": {},
   "outputs": [],
   "source": [
    "# Split the dataframe into regions\n",
    "\n",
    "reg=[]\n",
    "for admin in temp_pre['admin1'].unique():\n",
    "    a = temp_pre[temp_pre['admin1']==admin].reset_index(drop=True)\n",
    "    reg.append(a)"
   ]
  },
  {
   "cell_type": "code",
   "execution_count": 41,
   "id": "80cdd9a6",
   "metadata": {},
   "outputs": [],
   "source": [
    "# Calculate the TA (temperature anomaly), PA (precipitation anomaly) and DL (drought lenght) for each region\n",
    "\n",
    "avg_t = avg_p = std_t = std_p = np.zeros(18)\n",
    "\n",
    "for i in range(18):\n",
    "\n",
    "    reg[i]['year'] , reg[i]['month'] = reg[i]['time'].str[:4] , reg[i]['time'].str[5:7]\n",
    "\n",
    "    # TA\n",
    "    mean_temp_i , std_temp_i  = reg[i].groupby('month')['tmx'].mean() , reg[i].groupby('month')['tmx'].std()\n",
    "    reg[i]['avg_temp'] , reg[i]['std_temp']  = reg[i]['month'].map(mean_temp_i) , reg[i]['month'].map(std_temp_i)\n",
    "    reg[i]['diff_t']= (reg[i]['tmx']-reg[i]['avg_temp'])/reg[i]['std_temp']\n",
    "    reg[i]['TA'] = (reg[i]['diff_t'].shift(2) + reg[i]['diff_t'].shift(1) + reg[i]['diff_t'])/3\n",
    "\n",
    "    # PA\n",
    "    mean_pre_i , std_pre_i  = reg[i].groupby('month')['pre'].mean() , reg[i].groupby('month')['pre'].std()\n",
    "    reg[i]['avg_pre'] , reg[i]['std_pre']= reg[i]['month'].map(mean_pre_i) , reg[i]['month'].map(std_pre_i)\n",
    "    reg[i]['diff_p']= (reg[i]['pre']-reg[i]['avg_pre'])/reg[i]['std_pre']\n",
    "    reg[i]['PA'] = (reg[i]['diff_p'].shift(2) + reg[i]['diff_p'].shift(1) + reg[i]['diff_p'])/3\n",
    "    \n",
    "    # DL \n",
    "    reg[i]['DL'] = 0\n",
    "    mask = reg[i]['TA'] > 0\n",
    "    group_id = (mask != mask.shift()).cumsum()             # Create a group identifier for each consecutive group\n",
    "    count = reg[i].groupby(group_id).cumcount() + 1        # Calculate the count within each group\n",
    "    reg[i]['DL'] = np.where(mask, count, 0)                # Assign the count values to the 'DL' column\n",
    "\n",
    "    reg[i] = reg[i].reset_index()"
   ]
  },
  {
   "cell_type": "code",
   "execution_count": 42,
   "id": "3dd81ce8",
   "metadata": {},
   "outputs": [],
   "source": [
    "df_c_97_22=pd.concat([reg[i] for i in range(18)], axis=0)\n",
    "df_c_97_22 = df_c_97_22.dropna()\n",
    "\n",
    "df_c_97_22 = pd.merge(df_97_22, df_c_97_22, on=['time','admin1'], how='outer')\n",
    "df_c_97_22 = df_c_97_22.dropna()\n",
    "df_c_97_22 = df_c_97_22[['time','admin1','TA','PA','conflicts']]"
   ]
  },
  {
   "cell_type": "code",
   "execution_count": 31,
   "id": "b12d8a15",
   "metadata": {},
   "outputs": [],
   "source": [
    "# Create variable DL for drought lenght\n",
    "\n",
    "df_c_97_22['DL'] = 0\n",
    "mask = df_c_97_22['TA'] > 0\n",
    "\n",
    "group_id = (mask != mask.shift()).cumsum()   # Create a group identifier for each consecutive group\n",
    "\n",
    "count = df_c_97_22.groupby(group_id).cumcount() + 1    # Calculate the count within each group\n",
    "\n",
    "df_c_97_22['DL'] = np.where(mask, count, 0)      # Assign the count values to the 'DL' column\n",
    "\n",
    "df_c_97_22 = df_c_97_22[['time','admin1','TA','PA','DL','conflicts']]"
   ]
  },
  {
   "cell_type": "code",
   "execution_count": 43,
   "id": "8662b64c",
   "metadata": {},
   "outputs": [],
   "source": [
    "df_c_97_22['admin1'] = df_c_97_22['admin1'].str.replace('Lower Shabelle', 'Lower_Shabelle')\n",
    "df_c_97_22['admin1'] = df_c_97_22['admin1'].str.replace('Middle Shabelle', 'Middle_Shabelle')\n",
    "df_c_97_22['admin1'] = df_c_97_22['admin1'].str.replace('Lower Juba', 'Lower_Juba')\n",
    "df_c_97_22['admin1'] = df_c_97_22['admin1'].str.replace('Middle Juba', 'Middle_Juba')\n",
    "df_c_97_22['admin1'] = df_c_97_22['admin1'].str.replace('Woqooyi Galbeed', 'Woqooyi_Galbeed')"
   ]
  },
  {
   "cell_type": "code",
   "execution_count": 44,
   "id": "a1d7743d",
   "metadata": {},
   "outputs": [],
   "source": [
    "# Create the dummy variables\n",
    "\n",
    "#one for each country\n",
    "df_dummies = pd.get_dummies(df_c_97_22['admin1'])\n",
    "df_with_dummies = df_c_97_22.join(df_dummies)\n",
    "\n",
    "#one for each month\n",
    "df_c_97_22['month'] = pd.DatetimeIndex(df_c_97_22['time']).month_name()\n",
    "df_dummies_m = pd.get_dummies(df_c_97_22['month'])\n",
    "df_with_dummies = df_with_dummies.join(df_dummies_m)\n",
    "df_with_dummies['month'] = pd.DatetimeIndex(df_c_97_22['time']).month\n",
    "\n",
    "#one for each for each country-month pair\n",
    "df_dummies_mr = pd.get_dummies(df_c_97_22['admin1'] + df_c_97_22['month'])\n",
    "df_with_dummies = df_with_dummies.join(df_dummies_mr)\n",
    "df_with_dummies = df_with_dummies.replace({True: 1, False: 0})"
   ]
  },
  {
   "cell_type": "code",
   "execution_count": 45,
   "id": "d0888b86",
   "metadata": {},
   "outputs": [],
   "source": [
    "y_var_name = 'conflicts'\n",
    "X_var_names = ['TA','PA','DL']"
   ]
  },
  {
   "cell_type": "code",
   "execution_count": 46,
   "id": "a893f3ba",
   "metadata": {},
   "outputs": [
    {
     "name": "stdout",
     "output_type": "stream",
     "text": [
      "Regression expression for OLS with dummies=conflicts ~ TA + PA + DL + Awdal + Bakool + Banadir + Bari + Bay + Galgaduud + Gedo + Hiraan + Lower_Juba + Lower_Shabelle + Middle_Juba + Middle_Shabelle + Mudug + Nugaal + Sanaag + Sool + Togdheer + January + February + March + April + May + June + July + August + September + October + November + AwdalJanuary + BakoolJanuary + BanadirJanuary + BariJanuary + BayJanuary + GalgaduudJanuary + GedoJanuary + HiraanJanuary + Lower_JubaJanuary + Lower_ShabelleJanuary + Middle_JubaJanuary + Middle_ShabelleJanuary + MudugJanuary + NugaalJanuary + SanaagJanuary + SoolJanuary + TogdheerJanuary + Woqooyi_GalbeedJanuary + AwdalFebruary + BakoolFebruary + BanadirFebruary + BariFebruary + BayFebruary + GalgaduudFebruary + GedoFebruary + HiraanFebruary + Lower_JubaFebruary + Lower_ShabelleFebruary + Middle_JubaFebruary + Middle_ShabelleFebruary + MudugFebruary + NugaalFebruary + SanaagFebruary + SoolFebruary + TogdheerFebruary + Woqooyi_GalbeedFebruary + AwdalMarch + BakoolMarch + BanadirMarch + BariMarch + BayMarch + GalgaduudMarch + GedoMarch + HiraanMarch + Lower_JubaMarch + Lower_ShabelleMarch + Middle_JubaMarch + Middle_ShabelleMarch + MudugMarch + NugaalMarch + SanaagMarch + SoolMarch + TogdheerMarch + Woqooyi_GalbeedMarch + AwdalApril + BakoolApril + BanadirApril + BariApril + BayApril + GalgaduudApril + GedoApril + HiraanApril + Lower_JubaApril + Lower_ShabelleApril + Middle_JubaApril + Middle_ShabelleApril + MudugApril + NugaalApril + SanaagApril + SoolApril + TogdheerApril + Woqooyi_GalbeedApril + AwdalMay + BakoolMay + BanadirMay + BariMay + BayMay + GalgaduudMay + GedoMay + HiraanMay + Lower_JubaMay + Lower_ShabelleMay + Middle_JubaMay + Middle_ShabelleMay + MudugMay + NugaalMay + SanaagMay + SoolMay + TogdheerMay + Woqooyi_GalbeedMay + AwdalJune + BakoolJune + BanadirJune + BariJune + BayJune + GalgaduudJune + GedoJune + HiraanJune + Lower_JubaJune + Lower_ShabelleJune + Middle_JubaJune + Middle_ShabelleJune + MudugJune + NugaalJune + SanaagJune + SoolJune + TogdheerJune + Woqooyi_GalbeedJune + AwdalJuly + BakoolJuly + BanadirJuly + BariJuly + BayJuly + GalgaduudJuly + GedoJuly + HiraanJuly + Lower_JubaJuly + Lower_ShabelleJuly + Middle_JubaJuly + Middle_ShabelleJuly + MudugJuly + NugaalJuly + SanaagJuly + SoolJuly + TogdheerJuly + Woqooyi_GalbeedJuly + AwdalAugust + BakoolAugust + BanadirAugust + BariAugust + BayAugust + GalgaduudAugust + GedoAugust + HiraanAugust + Lower_JubaAugust + Lower_ShabelleAugust + Middle_JubaAugust + Middle_ShabelleAugust + MudugAugust + NugaalAugust + SanaagAugust + SoolAugust + TogdheerAugust + Woqooyi_GalbeedAugust + AwdalSeptember + BakoolSeptember + BanadirSeptember + BariSeptember + BaySeptember + GalgaduudSeptember + GedoSeptember + HiraanSeptember + Lower_JubaSeptember + Lower_ShabelleSeptember + Middle_JubaSeptember + Middle_ShabelleSeptember + MudugSeptember + NugaalSeptember + SanaagSeptember + SoolSeptember + TogdheerSeptember + Woqooyi_GalbeedSeptember + AwdalOctober + BakoolOctober + BanadirOctober + BariOctober + BayOctober + GalgaduudOctober + GedoOctober + HiraanOctober + Lower_JubaOctober + Lower_ShabelleOctober + Middle_JubaOctober + Middle_ShabelleOctober + MudugOctober + NugaalOctober + SanaagOctober + SoolOctober + TogdheerOctober + Woqooyi_GalbeedOctober + AwdalNovember + BakoolNovember + BanadirNovember + BariNovember + BayNovember + GalgaduudNovember + GedoNovember + HiraanNovember + Lower_JubaNovember + Lower_ShabelleNovember + Middle_JubaNovember + Middle_ShabelleNovember + MudugNovember + NugaalNovember + SanaagNovember + SoolNovember + TogdheerNovember + Woqooyi_GalbeedNovember + AwdalDecember + BakoolDecember + BanadirDecember + BariDecember + BayDecember + GalgaduudDecember + GedoDecember + HiraanDecember + Lower_JubaDecember + Lower_ShabelleDecember + Middle_JubaDecember + Middle_ShabelleDecember + MudugDecember + NugaalDecember + SanaagDecember + SoolDecember + TogdheerDecember\n"
     ]
    }
   ],
   "source": [
    "# Regression expression for OLS with dummies\n",
    "\n",
    "unit_names = df_c_97_22['admin1'].unique().tolist()\n",
    "unit_names.sort()\n",
    "unit_names_t = df_c_97_22['month'].unique().tolist()\n",
    "unit_names_mr = (df_c_97_22['admin1'] + df_c_97_22['month']).unique().tolist()\n",
    "\n",
    "lsdv_expr = y_var_name + ' ~ '\n",
    "i = 0\n",
    "for X_var_name in X_var_names:\n",
    "    if i > 0:\n",
    "        lsdv_expr = lsdv_expr + ' + ' + X_var_name\n",
    "    else:\n",
    "        lsdv_expr = lsdv_expr + X_var_name\n",
    "    i = i + 1\n",
    "for dummy_name in unit_names[:-1]:\n",
    "    lsdv_expr = lsdv_expr + ' + ' + dummy_name\n",
    "for dummy_name_t in unit_names_t[:-1]:\n",
    "    lsdv_expr = lsdv_expr + ' + ' + dummy_name_t\n",
    "for dummy_name_mr in unit_names_mr[:-1]:\n",
    "    lsdv_expr = lsdv_expr + ' + ' + dummy_name_mr\n",
    " \n",
    "print('Regression expression for OLS with dummies=' + lsdv_expr)"
   ]
  },
  {
   "cell_type": "code",
   "execution_count": 47,
   "id": "9af6641a",
   "metadata": {},
   "outputs": [
    {
     "ename": "PatsyError",
     "evalue": "Error evaluating factor: NameError: name 'DL' is not defined\n    conflicts ~ TA + PA + DL + Awdal + Bakool + Banadir + Bari + Bay + Galgaduud + Gedo + Hiraan + Lower_Juba + Lower_Shabelle + Middle_Juba + Middle_Shabelle + Mudug + Nugaal + Sanaag + Sool + Togdheer + January + February + March + April + May + June + July + August + September + October + November + AwdalJanuary + BakoolJanuary + BanadirJanuary + BariJanuary + BayJanuary + GalgaduudJanuary + GedoJanuary + HiraanJanuary + Lower_JubaJanuary + Lower_ShabelleJanuary + Middle_JubaJanuary + Middle_ShabelleJanuary + MudugJanuary + NugaalJanuary + SanaagJanuary + SoolJanuary + TogdheerJanuary + Woqooyi_GalbeedJanuary + AwdalFebruary + BakoolFebruary + BanadirFebruary + BariFebruary + BayFebruary + GalgaduudFebruary + GedoFebruary + HiraanFebruary + Lower_JubaFebruary + Lower_ShabelleFebruary + Middle_JubaFebruary + Middle_ShabelleFebruary + MudugFebruary + NugaalFebruary + SanaagFebruary + SoolFebruary + TogdheerFebruary + Woqooyi_GalbeedFebruary + AwdalMarch + BakoolMarch + BanadirMarch + BariMarch + BayMarch + GalgaduudMarch + GedoMarch + HiraanMarch + Lower_JubaMarch + Lower_ShabelleMarch + Middle_JubaMarch + Middle_ShabelleMarch + MudugMarch + NugaalMarch + SanaagMarch + SoolMarch + TogdheerMarch + Woqooyi_GalbeedMarch + AwdalApril + BakoolApril + BanadirApril + BariApril + BayApril + GalgaduudApril + GedoApril + HiraanApril + Lower_JubaApril + Lower_ShabelleApril + Middle_JubaApril + Middle_ShabelleApril + MudugApril + NugaalApril + SanaagApril + SoolApril + TogdheerApril + Woqooyi_GalbeedApril + AwdalMay + BakoolMay + BanadirMay + BariMay + BayMay + GalgaduudMay + GedoMay + HiraanMay + Lower_JubaMay + Lower_ShabelleMay + Middle_JubaMay + Middle_ShabelleMay + MudugMay + NugaalMay + SanaagMay + SoolMay + TogdheerMay + Woqooyi_GalbeedMay + AwdalJune + BakoolJune + BanadirJune + BariJune + BayJune + GalgaduudJune + GedoJune + HiraanJune + Lower_JubaJune + Lower_ShabelleJune + Middle_JubaJune + Middle_ShabelleJune + MudugJune + NugaalJune + SanaagJune + SoolJune + TogdheerJune + Woqooyi_GalbeedJune + AwdalJuly + BakoolJuly + BanadirJuly + BariJuly + BayJuly + GalgaduudJuly + GedoJuly + HiraanJuly + Lower_JubaJuly + Lower_ShabelleJuly + Middle_JubaJuly + Middle_ShabelleJuly + MudugJuly + NugaalJuly + SanaagJuly + SoolJuly + TogdheerJuly + Woqooyi_GalbeedJuly + AwdalAugust + BakoolAugust + BanadirAugust + BariAugust + BayAugust + GalgaduudAugust + GedoAugust + HiraanAugust + Lower_JubaAugust + Lower_ShabelleAugust + Middle_JubaAugust + Middle_ShabelleAugust + MudugAugust + NugaalAugust + SanaagAugust + SoolAugust + TogdheerAugust + Woqooyi_GalbeedAugust + AwdalSeptember + BakoolSeptember + BanadirSeptember + BariSeptember + BaySeptember + GalgaduudSeptember + GedoSeptember + HiraanSeptember + Lower_JubaSeptember + Lower_ShabelleSeptember + Middle_JubaSeptember + Middle_ShabelleSeptember + MudugSeptember + NugaalSeptember + SanaagSeptember + SoolSeptember + TogdheerSeptember + Woqooyi_GalbeedSeptember + AwdalOctober + BakoolOctober + BanadirOctober + BariOctober + BayOctober + GalgaduudOctober + GedoOctober + HiraanOctober + Lower_JubaOctober + Lower_ShabelleOctober + Middle_JubaOctober + Middle_ShabelleOctober + MudugOctober + NugaalOctober + SanaagOctober + SoolOctober + TogdheerOctober + Woqooyi_GalbeedOctober + AwdalNovember + BakoolNovember + BanadirNovember + BariNovember + BayNovember + GalgaduudNovember + GedoNovember + HiraanNovember + Lower_JubaNovember + Lower_ShabelleNovember + Middle_JubaNovember + Middle_ShabelleNovember + MudugNovember + NugaalNovember + SanaagNovember + SoolNovember + TogdheerNovember + Woqooyi_GalbeedNovember + AwdalDecember + BakoolDecember + BanadirDecember + BariDecember + BayDecember + GalgaduudDecember + GedoDecember + HiraanDecember + Lower_JubaDecember + Lower_ShabelleDecember + Middle_JubaDecember + Middle_ShabelleDecember + MudugDecember + NugaalDecember + SanaagDecember + SoolDecember + TogdheerDecember\n                          ^^",
     "output_type": "error",
     "traceback": [
      "\u001b[1;31m---------------------------------------------------------------------------\u001b[0m",
      "\u001b[1;31mNameError\u001b[0m                                 Traceback (most recent call last)",
      "File \u001b[1;32mc:\\Users\\PcLaptop\\AppData\\Local\\Programs\\Python\\Python311\\Lib\\site-packages\\patsy\\compat.py:36\u001b[0m, in \u001b[0;36mcall_and_wrap_exc\u001b[1;34m(msg, origin, f, *args, **kwargs)\u001b[0m\n\u001b[0;32m     35\u001b[0m \u001b[39mtry\u001b[39;00m:\n\u001b[1;32m---> 36\u001b[0m     \u001b[39mreturn\u001b[39;00m f(\u001b[39m*\u001b[39;49margs, \u001b[39m*\u001b[39;49m\u001b[39m*\u001b[39;49mkwargs)\n\u001b[0;32m     37\u001b[0m \u001b[39mexcept\u001b[39;00m \u001b[39mException\u001b[39;00m \u001b[39mas\u001b[39;00m e:\n",
      "File \u001b[1;32mc:\\Users\\PcLaptop\\AppData\\Local\\Programs\\Python\\Python311\\Lib\\site-packages\\patsy\\eval.py:169\u001b[0m, in \u001b[0;36mEvalEnvironment.eval\u001b[1;34m(self, expr, source_name, inner_namespace)\u001b[0m\n\u001b[0;32m    168\u001b[0m code \u001b[39m=\u001b[39m \u001b[39mcompile\u001b[39m(expr, source_name, \u001b[39m\"\u001b[39m\u001b[39meval\u001b[39m\u001b[39m\"\u001b[39m, \u001b[39mself\u001b[39m\u001b[39m.\u001b[39mflags, \u001b[39mFalse\u001b[39;00m)\n\u001b[1;32m--> 169\u001b[0m \u001b[39mreturn\u001b[39;00m \u001b[39meval\u001b[39m(code, {}, VarLookupDict([inner_namespace]\n\u001b[0;32m    170\u001b[0m                                     \u001b[39m+\u001b[39m \u001b[39mself\u001b[39m\u001b[39m.\u001b[39m_namespaces))\n",
      "File \u001b[1;32m<string>:1\u001b[0m\n",
      "\u001b[1;31mNameError\u001b[0m: name 'DL' is not defined",
      "\nThe above exception was the direct cause of the following exception:\n",
      "\u001b[1;31mPatsyError\u001b[0m                                Traceback (most recent call last)",
      "Cell \u001b[1;32mIn[47], line 1\u001b[0m\n\u001b[1;32m----> 1\u001b[0m lsdv_model \u001b[39m=\u001b[39m smf\u001b[39m.\u001b[39;49mols(formula\u001b[39m=\u001b[39;49mlsdv_expr, data\u001b[39m=\u001b[39;49mdf_with_dummies)\n\u001b[0;32m      2\u001b[0m lsdv_model_results \u001b[39m=\u001b[39m lsdv_model\u001b[39m.\u001b[39mfit()\n\u001b[0;32m      3\u001b[0m \u001b[39mprint\u001b[39m(lsdv_model_results\u001b[39m.\u001b[39msummary())\n",
      "File \u001b[1;32mc:\\Users\\PcLaptop\\AppData\\Local\\Programs\\Python\\Python311\\Lib\\site-packages\\statsmodels\\base\\model.py:203\u001b[0m, in \u001b[0;36mModel.from_formula\u001b[1;34m(cls, formula, data, subset, drop_cols, *args, **kwargs)\u001b[0m\n\u001b[0;32m    200\u001b[0m \u001b[39mif\u001b[39;00m missing \u001b[39m==\u001b[39m \u001b[39m'\u001b[39m\u001b[39mnone\u001b[39m\u001b[39m'\u001b[39m:  \u001b[39m# with patsy it's drop or raise. let's raise.\u001b[39;00m\n\u001b[0;32m    201\u001b[0m     missing \u001b[39m=\u001b[39m \u001b[39m'\u001b[39m\u001b[39mraise\u001b[39m\u001b[39m'\u001b[39m\n\u001b[1;32m--> 203\u001b[0m tmp \u001b[39m=\u001b[39m handle_formula_data(data, \u001b[39mNone\u001b[39;49;00m, formula, depth\u001b[39m=\u001b[39;49meval_env,\n\u001b[0;32m    204\u001b[0m                           missing\u001b[39m=\u001b[39;49mmissing)\n\u001b[0;32m    205\u001b[0m ((endog, exog), missing_idx, design_info) \u001b[39m=\u001b[39m tmp\n\u001b[0;32m    206\u001b[0m max_endog \u001b[39m=\u001b[39m \u001b[39mcls\u001b[39m\u001b[39m.\u001b[39m_formula_max_endog\n",
      "File \u001b[1;32mc:\\Users\\PcLaptop\\AppData\\Local\\Programs\\Python\\Python311\\Lib\\site-packages\\statsmodels\\formula\\formulatools.py:63\u001b[0m, in \u001b[0;36mhandle_formula_data\u001b[1;34m(Y, X, formula, depth, missing)\u001b[0m\n\u001b[0;32m     61\u001b[0m \u001b[39melse\u001b[39;00m:\n\u001b[0;32m     62\u001b[0m     \u001b[39mif\u001b[39;00m data_util\u001b[39m.\u001b[39m_is_using_pandas(Y, \u001b[39mNone\u001b[39;00m):\n\u001b[1;32m---> 63\u001b[0m         result \u001b[39m=\u001b[39m dmatrices(formula, Y, depth, return_type\u001b[39m=\u001b[39;49m\u001b[39m'\u001b[39;49m\u001b[39mdataframe\u001b[39;49m\u001b[39m'\u001b[39;49m,\n\u001b[0;32m     64\u001b[0m                            NA_action\u001b[39m=\u001b[39;49mna_action)\n\u001b[0;32m     65\u001b[0m     \u001b[39melse\u001b[39;00m:\n\u001b[0;32m     66\u001b[0m         result \u001b[39m=\u001b[39m dmatrices(formula, Y, depth, return_type\u001b[39m=\u001b[39m\u001b[39m'\u001b[39m\u001b[39mdataframe\u001b[39m\u001b[39m'\u001b[39m,\n\u001b[0;32m     67\u001b[0m                            NA_action\u001b[39m=\u001b[39mna_action)\n",
      "File \u001b[1;32mc:\\Users\\PcLaptop\\AppData\\Local\\Programs\\Python\\Python311\\Lib\\site-packages\\patsy\\highlevel.py:309\u001b[0m, in \u001b[0;36mdmatrices\u001b[1;34m(formula_like, data, eval_env, NA_action, return_type)\u001b[0m\n\u001b[0;32m    299\u001b[0m \u001b[39m\u001b[39m\u001b[39m\"\"\"Construct two design matrices given a formula_like and data.\u001b[39;00m\n\u001b[0;32m    300\u001b[0m \n\u001b[0;32m    301\u001b[0m \u001b[39mThis function is identical to :func:`dmatrix`, except that it requires\u001b[39;00m\n\u001b[1;32m   (...)\u001b[0m\n\u001b[0;32m    306\u001b[0m \u001b[39mSee :func:`dmatrix` for details.\u001b[39;00m\n\u001b[0;32m    307\u001b[0m \u001b[39m\"\"\"\u001b[39;00m\n\u001b[0;32m    308\u001b[0m eval_env \u001b[39m=\u001b[39m EvalEnvironment\u001b[39m.\u001b[39mcapture(eval_env, reference\u001b[39m=\u001b[39m\u001b[39m1\u001b[39m)\n\u001b[1;32m--> 309\u001b[0m (lhs, rhs) \u001b[39m=\u001b[39m _do_highlevel_design(formula_like, data, eval_env,\n\u001b[0;32m    310\u001b[0m                                   NA_action, return_type)\n\u001b[0;32m    311\u001b[0m \u001b[39mif\u001b[39;00m lhs\u001b[39m.\u001b[39mshape[\u001b[39m1\u001b[39m] \u001b[39m==\u001b[39m \u001b[39m0\u001b[39m:\n\u001b[0;32m    312\u001b[0m     \u001b[39mraise\u001b[39;00m PatsyError(\u001b[39m\"\u001b[39m\u001b[39mmodel is missing required outcome variables\u001b[39m\u001b[39m\"\u001b[39m)\n",
      "File \u001b[1;32mc:\\Users\\PcLaptop\\AppData\\Local\\Programs\\Python\\Python311\\Lib\\site-packages\\patsy\\highlevel.py:164\u001b[0m, in \u001b[0;36m_do_highlevel_design\u001b[1;34m(formula_like, data, eval_env, NA_action, return_type)\u001b[0m\n\u001b[0;32m    162\u001b[0m \u001b[39mdef\u001b[39;00m \u001b[39mdata_iter_maker\u001b[39m():\n\u001b[0;32m    163\u001b[0m     \u001b[39mreturn\u001b[39;00m \u001b[39miter\u001b[39m([data])\n\u001b[1;32m--> 164\u001b[0m design_infos \u001b[39m=\u001b[39m _try_incr_builders(formula_like, data_iter_maker, eval_env,\n\u001b[0;32m    165\u001b[0m                                   NA_action)\n\u001b[0;32m    166\u001b[0m \u001b[39mif\u001b[39;00m design_infos \u001b[39mis\u001b[39;00m \u001b[39mnot\u001b[39;00m \u001b[39mNone\u001b[39;00m:\n\u001b[0;32m    167\u001b[0m     \u001b[39mreturn\u001b[39;00m build_design_matrices(design_infos, data,\n\u001b[0;32m    168\u001b[0m                                  NA_action\u001b[39m=\u001b[39mNA_action,\n\u001b[0;32m    169\u001b[0m                                  return_type\u001b[39m=\u001b[39mreturn_type)\n",
      "File \u001b[1;32mc:\\Users\\PcLaptop\\AppData\\Local\\Programs\\Python\\Python311\\Lib\\site-packages\\patsy\\highlevel.py:66\u001b[0m, in \u001b[0;36m_try_incr_builders\u001b[1;34m(formula_like, data_iter_maker, eval_env, NA_action)\u001b[0m\n\u001b[0;32m     64\u001b[0m \u001b[39mif\u001b[39;00m \u001b[39misinstance\u001b[39m(formula_like, ModelDesc):\n\u001b[0;32m     65\u001b[0m     \u001b[39massert\u001b[39;00m \u001b[39misinstance\u001b[39m(eval_env, EvalEnvironment)\n\u001b[1;32m---> 66\u001b[0m     \u001b[39mreturn\u001b[39;00m design_matrix_builders([formula_like\u001b[39m.\u001b[39;49mlhs_termlist,\n\u001b[0;32m     67\u001b[0m                                    formula_like\u001b[39m.\u001b[39;49mrhs_termlist],\n\u001b[0;32m     68\u001b[0m                                   data_iter_maker,\n\u001b[0;32m     69\u001b[0m                                   eval_env,\n\u001b[0;32m     70\u001b[0m                                   NA_action)\n\u001b[0;32m     71\u001b[0m \u001b[39melse\u001b[39;00m:\n\u001b[0;32m     72\u001b[0m     \u001b[39mreturn\u001b[39;00m \u001b[39mNone\u001b[39;00m\n",
      "File \u001b[1;32mc:\\Users\\PcLaptop\\AppData\\Local\\Programs\\Python\\Python311\\Lib\\site-packages\\patsy\\build.py:693\u001b[0m, in \u001b[0;36mdesign_matrix_builders\u001b[1;34m(termlists, data_iter_maker, eval_env, NA_action)\u001b[0m\n\u001b[0;32m    689\u001b[0m factor_states \u001b[39m=\u001b[39m _factors_memorize(all_factors, data_iter_maker, eval_env)\n\u001b[0;32m    690\u001b[0m \u001b[39m# Now all the factors have working eval methods, so we can evaluate them\u001b[39;00m\n\u001b[0;32m    691\u001b[0m \u001b[39m# on some data to find out what type of data they return.\u001b[39;00m\n\u001b[0;32m    692\u001b[0m (num_column_counts,\n\u001b[1;32m--> 693\u001b[0m  cat_levels_contrasts) \u001b[39m=\u001b[39m _examine_factor_types(all_factors,\n\u001b[0;32m    694\u001b[0m                                                factor_states,\n\u001b[0;32m    695\u001b[0m                                                data_iter_maker,\n\u001b[0;32m    696\u001b[0m                                                NA_action)\n\u001b[0;32m    697\u001b[0m \u001b[39m# Now we need the factor infos, which encapsulate the knowledge of\u001b[39;00m\n\u001b[0;32m    698\u001b[0m \u001b[39m# how to turn any given factor into a chunk of data:\u001b[39;00m\n\u001b[0;32m    699\u001b[0m factor_infos \u001b[39m=\u001b[39m {}\n",
      "File \u001b[1;32mc:\\Users\\PcLaptop\\AppData\\Local\\Programs\\Python\\Python311\\Lib\\site-packages\\patsy\\build.py:443\u001b[0m, in \u001b[0;36m_examine_factor_types\u001b[1;34m(factors, factor_states, data_iter_maker, NA_action)\u001b[0m\n\u001b[0;32m    441\u001b[0m \u001b[39mfor\u001b[39;00m data \u001b[39min\u001b[39;00m data_iter_maker():\n\u001b[0;32m    442\u001b[0m     \u001b[39mfor\u001b[39;00m factor \u001b[39min\u001b[39;00m \u001b[39mlist\u001b[39m(examine_needed):\n\u001b[1;32m--> 443\u001b[0m         value \u001b[39m=\u001b[39m factor\u001b[39m.\u001b[39;49meval(factor_states[factor], data)\n\u001b[0;32m    444\u001b[0m         \u001b[39mif\u001b[39;00m factor \u001b[39min\u001b[39;00m cat_sniffers \u001b[39mor\u001b[39;00m guess_categorical(value):\n\u001b[0;32m    445\u001b[0m             \u001b[39mif\u001b[39;00m factor \u001b[39mnot\u001b[39;00m \u001b[39min\u001b[39;00m cat_sniffers:\n",
      "File \u001b[1;32mc:\\Users\\PcLaptop\\AppData\\Local\\Programs\\Python\\Python311\\Lib\\site-packages\\patsy\\eval.py:568\u001b[0m, in \u001b[0;36mEvalFactor.eval\u001b[1;34m(self, memorize_state, data)\u001b[0m\n\u001b[0;32m    567\u001b[0m \u001b[39mdef\u001b[39;00m \u001b[39meval\u001b[39m(\u001b[39mself\u001b[39m, memorize_state, data):\n\u001b[1;32m--> 568\u001b[0m     \u001b[39mreturn\u001b[39;00m \u001b[39mself\u001b[39;49m\u001b[39m.\u001b[39;49m_eval(memorize_state[\u001b[39m\"\u001b[39;49m\u001b[39meval_code\u001b[39;49m\u001b[39m\"\u001b[39;49m],\n\u001b[0;32m    569\u001b[0m                       memorize_state,\n\u001b[0;32m    570\u001b[0m                       data)\n",
      "File \u001b[1;32mc:\\Users\\PcLaptop\\AppData\\Local\\Programs\\Python\\Python311\\Lib\\site-packages\\patsy\\eval.py:551\u001b[0m, in \u001b[0;36mEvalFactor._eval\u001b[1;34m(self, code, memorize_state, data)\u001b[0m\n\u001b[0;32m    549\u001b[0m \u001b[39mdef\u001b[39;00m \u001b[39m_eval\u001b[39m(\u001b[39mself\u001b[39m, code, memorize_state, data):\n\u001b[0;32m    550\u001b[0m     inner_namespace \u001b[39m=\u001b[39m VarLookupDict([data, memorize_state[\u001b[39m\"\u001b[39m\u001b[39mtransforms\u001b[39m\u001b[39m\"\u001b[39m]])\n\u001b[1;32m--> 551\u001b[0m     \u001b[39mreturn\u001b[39;00m call_and_wrap_exc(\u001b[39m\"\u001b[39;49m\u001b[39mError evaluating factor\u001b[39;49m\u001b[39m\"\u001b[39;49m,\n\u001b[0;32m    552\u001b[0m                              \u001b[39mself\u001b[39;49m,\n\u001b[0;32m    553\u001b[0m                              memorize_state[\u001b[39m\"\u001b[39;49m\u001b[39meval_env\u001b[39;49m\u001b[39m\"\u001b[39;49m]\u001b[39m.\u001b[39;49meval,\n\u001b[0;32m    554\u001b[0m                              code,\n\u001b[0;32m    555\u001b[0m                              inner_namespace\u001b[39m=\u001b[39;49minner_namespace)\n",
      "File \u001b[1;32mc:\\Users\\PcLaptop\\AppData\\Local\\Programs\\Python\\Python311\\Lib\\site-packages\\patsy\\compat.py:43\u001b[0m, in \u001b[0;36mcall_and_wrap_exc\u001b[1;34m(msg, origin, f, *args, **kwargs)\u001b[0m\n\u001b[0;32m     39\u001b[0m     new_exc \u001b[39m=\u001b[39m PatsyError(\u001b[39m\"\u001b[39m\u001b[39m%s\u001b[39;00m\u001b[39m: \u001b[39m\u001b[39m%s\u001b[39;00m\u001b[39m: \u001b[39m\u001b[39m%s\u001b[39;00m\u001b[39m\"\u001b[39m\n\u001b[0;32m     40\u001b[0m                          \u001b[39m%\u001b[39m (msg, e\u001b[39m.\u001b[39m\u001b[39m__class__\u001b[39m\u001b[39m.\u001b[39m\u001b[39m__name__\u001b[39m, e),\n\u001b[0;32m     41\u001b[0m                          origin)\n\u001b[0;32m     42\u001b[0m     \u001b[39m# Use 'exec' to hide this syntax from the Python 2 parser:\u001b[39;00m\n\u001b[1;32m---> 43\u001b[0m     exec(\u001b[39m\"\u001b[39m\u001b[39mraise new_exc from e\u001b[39m\u001b[39m\"\u001b[39m)\n\u001b[0;32m     44\u001b[0m \u001b[39melse\u001b[39;00m:\n\u001b[0;32m     45\u001b[0m     \u001b[39m# In python 2, we just let the original exception escape -- better\u001b[39;00m\n\u001b[0;32m     46\u001b[0m     \u001b[39m# than destroying the traceback. But if it's a PatsyError, we can\u001b[39;00m\n\u001b[0;32m     47\u001b[0m     \u001b[39m# at least set the origin properly.\u001b[39;00m\n\u001b[0;32m     48\u001b[0m     \u001b[39mif\u001b[39;00m \u001b[39misinstance\u001b[39m(e, PatsyError):\n",
      "File \u001b[1;32m<string>:1\u001b[0m\n",
      "\u001b[1;31mPatsyError\u001b[0m: Error evaluating factor: NameError: name 'DL' is not defined\n    conflicts ~ TA + PA + DL + Awdal + Bakool + Banadir + Bari + Bay + Galgaduud + Gedo + Hiraan + Lower_Juba + Lower_Shabelle + Middle_Juba + Middle_Shabelle + Mudug + Nugaal + Sanaag + Sool + Togdheer + January + February + March + April + May + June + July + August + September + October + November + AwdalJanuary + BakoolJanuary + BanadirJanuary + BariJanuary + BayJanuary + GalgaduudJanuary + GedoJanuary + HiraanJanuary + Lower_JubaJanuary + Lower_ShabelleJanuary + Middle_JubaJanuary + Middle_ShabelleJanuary + MudugJanuary + NugaalJanuary + SanaagJanuary + SoolJanuary + TogdheerJanuary + Woqooyi_GalbeedJanuary + AwdalFebruary + BakoolFebruary + BanadirFebruary + BariFebruary + BayFebruary + GalgaduudFebruary + GedoFebruary + HiraanFebruary + Lower_JubaFebruary + Lower_ShabelleFebruary + Middle_JubaFebruary + Middle_ShabelleFebruary + MudugFebruary + NugaalFebruary + SanaagFebruary + SoolFebruary + TogdheerFebruary + Woqooyi_GalbeedFebruary + AwdalMarch + BakoolMarch + BanadirMarch + BariMarch + BayMarch + GalgaduudMarch + GedoMarch + HiraanMarch + Lower_JubaMarch + Lower_ShabelleMarch + Middle_JubaMarch + Middle_ShabelleMarch + MudugMarch + NugaalMarch + SanaagMarch + SoolMarch + TogdheerMarch + Woqooyi_GalbeedMarch + AwdalApril + BakoolApril + BanadirApril + BariApril + BayApril + GalgaduudApril + GedoApril + HiraanApril + Lower_JubaApril + Lower_ShabelleApril + Middle_JubaApril + Middle_ShabelleApril + MudugApril + NugaalApril + SanaagApril + SoolApril + TogdheerApril + Woqooyi_GalbeedApril + AwdalMay + BakoolMay + BanadirMay + BariMay + BayMay + GalgaduudMay + GedoMay + HiraanMay + Lower_JubaMay + Lower_ShabelleMay + Middle_JubaMay + Middle_ShabelleMay + MudugMay + NugaalMay + SanaagMay + SoolMay + TogdheerMay + Woqooyi_GalbeedMay + AwdalJune + BakoolJune + BanadirJune + BariJune + BayJune + GalgaduudJune + GedoJune + HiraanJune + Lower_JubaJune + Lower_ShabelleJune + Middle_JubaJune + Middle_ShabelleJune + MudugJune + NugaalJune + SanaagJune + SoolJune + TogdheerJune + Woqooyi_GalbeedJune + AwdalJuly + BakoolJuly + BanadirJuly + BariJuly + BayJuly + GalgaduudJuly + GedoJuly + HiraanJuly + Lower_JubaJuly + Lower_ShabelleJuly + Middle_JubaJuly + Middle_ShabelleJuly + MudugJuly + NugaalJuly + SanaagJuly + SoolJuly + TogdheerJuly + Woqooyi_GalbeedJuly + AwdalAugust + BakoolAugust + BanadirAugust + BariAugust + BayAugust + GalgaduudAugust + GedoAugust + HiraanAugust + Lower_JubaAugust + Lower_ShabelleAugust + Middle_JubaAugust + Middle_ShabelleAugust + MudugAugust + NugaalAugust + SanaagAugust + SoolAugust + TogdheerAugust + Woqooyi_GalbeedAugust + AwdalSeptember + BakoolSeptember + BanadirSeptember + BariSeptember + BaySeptember + GalgaduudSeptember + GedoSeptember + HiraanSeptember + Lower_JubaSeptember + Lower_ShabelleSeptember + Middle_JubaSeptember + Middle_ShabelleSeptember + MudugSeptember + NugaalSeptember + SanaagSeptember + SoolSeptember + TogdheerSeptember + Woqooyi_GalbeedSeptember + AwdalOctober + BakoolOctober + BanadirOctober + BariOctober + BayOctober + GalgaduudOctober + GedoOctober + HiraanOctober + Lower_JubaOctober + Lower_ShabelleOctober + Middle_JubaOctober + Middle_ShabelleOctober + MudugOctober + NugaalOctober + SanaagOctober + SoolOctober + TogdheerOctober + Woqooyi_GalbeedOctober + AwdalNovember + BakoolNovember + BanadirNovember + BariNovember + BayNovember + GalgaduudNovember + GedoNovember + HiraanNovember + Lower_JubaNovember + Lower_ShabelleNovember + Middle_JubaNovember + Middle_ShabelleNovember + MudugNovember + NugaalNovember + SanaagNovember + SoolNovember + TogdheerNovember + Woqooyi_GalbeedNovember + AwdalDecember + BakoolDecember + BanadirDecember + BariDecember + BayDecember + GalgaduudDecember + GedoDecember + HiraanDecember + Lower_JubaDecember + Lower_ShabelleDecember + Middle_JubaDecember + Middle_ShabelleDecember + MudugDecember + NugaalDecember + SanaagDecember + SoolDecember + TogdheerDecember\n                          ^^"
     ]
    }
   ],
   "source": [
    "lsdv_model = smf.ols(formula=lsdv_expr, data=df_with_dummies)\n",
    "lsdv_model_results = lsdv_model.fit()\n",
    "print(lsdv_model_results.summary())"
   ]
  },
  {
   "cell_type": "code",
   "execution_count": 37,
   "id": "a0f8c62c",
   "metadata": {},
   "outputs": [
    {
     "data": {
      "text/plain": [
       "5072.0"
      ]
     },
     "execution_count": 37,
     "metadata": {},
     "output_type": "execute_result"
    }
   ],
   "source": [
    "df_c_97_22['conflicts'].sum()"
   ]
  },
  {
   "cell_type": "code",
   "execution_count": 38,
   "id": "452c7aac",
   "metadata": {},
   "outputs": [],
   "source": [
    "#export csv\n",
    "#df_c_97_22.to_csv(r'C:\\Users\\PcLaptop\\Documents\\GitHub\\Climate-and-conflict\\all codes\\TA_PA_DL_no-prot_somalia.csv', index = False, header=True)"
   ]
  },
  {
   "cell_type": "code",
   "execution_count": null,
   "id": "005307a6",
   "metadata": {},
   "outputs": [],
   "source": []
  }
 ],
 "metadata": {
  "kernelspec": {
   "display_name": "Python 3 (ipykernel)",
   "language": "python",
   "name": "python3"
  },
  "language_info": {
   "codemirror_mode": {
    "name": "ipython",
    "version": 3
   },
   "file_extension": ".py",
   "mimetype": "text/x-python",
   "name": "python",
   "nbconvert_exporter": "python",
   "pygments_lexer": "ipython3",
   "version": "3.11.1"
  }
 },
 "nbformat": 4,
 "nbformat_minor": 5
}
