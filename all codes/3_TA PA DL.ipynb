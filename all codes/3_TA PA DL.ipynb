{
 "cells": [
  {
   "cell_type": "code",
   "execution_count": 2,
   "id": "49af736b",
   "metadata": {},
   "outputs": [],
   "source": [
    "import pandas as pd\n",
    "import numpy as np\n",
    "import matplotlib.pyplot as plt\n",
    "import dataframe_image as dfi\n",
    "from datetime import datetime\n",
    "import scipy\n",
    "import itertools"
   ]
  },
  {
   "cell_type": "code",
   "execution_count": 3,
   "id": "7c68a52a",
   "metadata": {
    "scrolled": true
   },
   "outputs": [],
   "source": [
    "file = r\"C:\\Users\\PcLaptop\\Documents\\GitHub\\Climate-and-conflict\\all codes\\temp_pre_01_22.csv\"\n",
    "temp_pre = pd.read_csv(file)"
   ]
  },
  {
   "cell_type": "code",
   "execution_count": 4,
   "id": "a70591c5",
   "metadata": {},
   "outputs": [],
   "source": [
    "reg=[]\n",
    "for admin in temp_pre['admin1'].unique():\n",
    "    a = temp_pre[temp_pre['admin1']==admin].reset_index(drop=True)\n",
    "    reg.append(a)"
   ]
  },
  {
   "cell_type": "code",
   "execution_count": 5,
   "id": "bf9c43f7",
   "metadata": {},
   "outputs": [],
   "source": [
    "avg_t = np.zeros(18)\n",
    "avg_p = np.zeros(18)\n",
    "std_t = np.zeros(18)\n",
    "std_p = np.zeros(18)\n",
    "\n",
    "for i in range(18):\n",
    "\n",
    "    reg[i]['year'] = reg[i]['time'].str[:4]\n",
    "    reg[i]['month'] = reg[i]['time'].str[5:7]\n",
    "\n",
    "    mean_temp_i = reg[i].groupby('month')['tmx'].mean()\n",
    "    std_temp_i = reg[i].groupby('month')['tmx'].std()\n",
    "    reg[i]['avg_temp'] = reg[i]['month'].map(mean_temp_i)\n",
    "    reg[i]['std_temp'] = reg[i]['month'].map(std_temp_i)\n",
    "    \n",
    "    reg[i]['difference']= (reg[i]['tmx']-reg[i]['avg_temp'])/reg[i]['std_temp']\n",
    "    reg[i]['TA'] = (reg[i]['difference'].shift(2) + reg[i]['difference'].shift(1) + reg[i]['difference'])/3\n",
    "    \n",
    "    mean_pre_i = reg[i].groupby('month')['pre'].mean()\n",
    "    std_pre_i = reg[i].groupby('month')['pre'].std()\n",
    "    reg[i]['avg_pre'] = reg[i]['month'].map(mean_pre_i)\n",
    "    reg[i]['std_pre'] = reg[i]['month'].map(std_pre_i)\n",
    "    \n",
    "    reg[i]['diff_p']= (reg[i]['pre']-reg[i]['avg_pre'])/reg[i]['std_pre']\n",
    "    reg[i]['PA'] = (reg[i]['diff_p'].shift(2) + reg[i]['diff_p'].shift(1) + reg[i]['diff_p'])/3\n",
    "    \n",
    "    #reg[i] = reg[i].reindex(columns=['time','admin1','TA','PA'])\n",
    "    reg[i] = reg[i].reset_index()"
   ]
  },
  {
   "cell_type": "code",
   "execution_count": 6,
   "id": "5894a7a5",
   "metadata": {},
   "outputs": [],
   "source": [
    "df_c_97_22=pd.concat([reg[i] for i in range(18)], axis=0)\n",
    "df_c_97_22 = df_c_97_22.dropna()"
   ]
  },
  {
   "cell_type": "code",
   "execution_count": 7,
   "id": "318ceff9",
   "metadata": {},
   "outputs": [],
   "source": [
    "file = r\"C:\\Users\\PcLaptop\\Documents\\GitHub\\Climate-and-conflict\\all codes\\df_97_22.csv\"\n",
    "df_97_22 = pd.read_csv(file)"
   ]
  },
  {
   "cell_type": "code",
   "execution_count": 8,
   "id": "a19fcdd9",
   "metadata": {},
   "outputs": [],
   "source": [
    "df_c_97_22 = pd.merge(df_97_22, df_c_97_22, on=['time','admin1'], how='outer')\n",
    "df_c_97_22 = df_c_97_22.dropna()\n",
    "df_c_97_22 = df_c_97_22[['time','admin1','TA','PA','conflicts']]"
   ]
  },
  {
   "cell_type": "code",
   "execution_count": 9,
   "id": "b4b2bfdd",
   "metadata": {},
   "outputs": [],
   "source": [
    "df_c_97_22['DL'] = 0\n",
    "mask = df_c_97_22['TA'] > 0\n",
    "# Create a group identifier for each consecutive group\n",
    "group_id = (mask != mask.shift()).cumsum()\n",
    "# Calculate the count within each group\n",
    "count = df_c_97_22.groupby(group_id).cumcount() + 1\n",
    "# Assign the count values to the 'DL' column\n",
    "df_c_97_22['DL'] = np.where(mask, count, 0)\n",
    "df_c_97_22 = df_c_97_22[['time','admin1','TA','PA','DL','conflicts']]"
   ]
  },
  {
   "cell_type": "code",
   "execution_count": 10,
   "id": "8ec1845c",
   "metadata": {},
   "outputs": [],
   "source": [
    "df_c_97_22['admin1'] = df_c_97_22['admin1'].str.replace('Lower Shabelle', 'Lower_Shabelle')\n",
    "df_c_97_22['admin1'] = df_c_97_22['admin1'].str.replace('Middle Shabelle', 'Middle_Shabelle')\n",
    "df_c_97_22['admin1'] = df_c_97_22['admin1'].str.replace('Lower Juba', 'Lower_Juba')\n",
    "df_c_97_22['admin1'] = df_c_97_22['admin1'].str.replace('Middle Juba', 'Middle_Juba')\n",
    "df_c_97_22['admin1'] = df_c_97_22['admin1'].str.replace('Woqooyi Galbeed', 'Woqooyi_Galbeed')"
   ]
  },
  {
   "cell_type": "code",
   "execution_count": 88,
   "id": "ff2e97ea",
   "metadata": {},
   "outputs": [],
   "source": [
    "#df_c_97_22.to_csv(\"TA_PA_DL_somalia.csv\", index=False)"
   ]
  },
  {
   "cell_type": "code",
   "execution_count": null,
   "id": "04ca8b85",
   "metadata": {},
   "outputs": [],
   "source": []
  }
 ],
 "metadata": {
  "kernelspec": {
   "display_name": "Python 3 (ipykernel)",
   "language": "python",
   "name": "python3"
  },
  "language_info": {
   "codemirror_mode": {
    "name": "ipython",
    "version": 3
   },
   "file_extension": ".py",
   "mimetype": "text/x-python",
   "name": "python",
   "nbconvert_exporter": "python",
   "pygments_lexer": "ipython3",
   "version": "3.11.1"
  }
 },
 "nbformat": 4,
 "nbformat_minor": 5
}
