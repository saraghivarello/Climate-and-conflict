{
 "cells": [
  {
   "cell_type": "code",
   "execution_count": 1,
   "id": "49af736b",
   "metadata": {},
   "outputs": [],
   "source": [
    "import pandas as pd\n",
    "import numpy as np\n",
    "import matplotlib.pyplot as plt\n",
    "import dataframe_image as dfi\n",
    "from datetime import datetime\n",
    "import networkx as nx\n",
    "import scipy\n",
    "import itertools\n",
    "from scipy.stats import linregress"
   ]
  },
  {
   "cell_type": "code",
   "execution_count": 16,
   "id": "cb0cfaf3",
   "metadata": {},
   "outputs": [],
   "source": [
    "file = r\"C:\\Users\\PcLaptop\\Dropbox (Politecnico Di Torino Studenti)\\Untitled Folder\\reg_TA_PA.csv\"\n",
    "df = pd.read_csv(file)"
   ]
  },
  {
   "cell_type": "code",
   "execution_count": 17,
   "id": "7c68a52a",
   "metadata": {
    "scrolled": true
   },
   "outputs": [
    {
     "data": {
      "text/html": [
       "<div>\n",
       "<style scoped>\n",
       "    .dataframe tbody tr th:only-of-type {\n",
       "        vertical-align: middle;\n",
       "    }\n",
       "\n",
       "    .dataframe tbody tr th {\n",
       "        vertical-align: top;\n",
       "    }\n",
       "\n",
       "    .dataframe thead th {\n",
       "        text-align: right;\n",
       "    }\n",
       "</style>\n",
       "<table border=\"1\" class=\"dataframe\">\n",
       "  <thead>\n",
       "    <tr style=\"text-align: right;\">\n",
       "      <th></th>\n",
       "      <th>time_x</th>\n",
       "      <th>admin1</th>\n",
       "      <th>conflicts</th>\n",
       "      <th>TA</th>\n",
       "      <th>PA</th>\n",
       "    </tr>\n",
       "  </thead>\n",
       "  <tbody>\n",
       "    <tr>\n",
       "      <th>0</th>\n",
       "      <td>1997-02-15</td>\n",
       "      <td>Awdal</td>\n",
       "      <td>0.0</td>\n",
       "      <td>NaN</td>\n",
       "      <td>NaN</td>\n",
       "    </tr>\n",
       "    <tr>\n",
       "      <th>1</th>\n",
       "      <td>1997-03-16</td>\n",
       "      <td>Awdal</td>\n",
       "      <td>0.0</td>\n",
       "      <td>NaN</td>\n",
       "      <td>NaN</td>\n",
       "    </tr>\n",
       "    <tr>\n",
       "      <th>2</th>\n",
       "      <td>1997-04-16</td>\n",
       "      <td>Awdal</td>\n",
       "      <td>0.0</td>\n",
       "      <td>0.001765</td>\n",
       "      <td>0.154799</td>\n",
       "    </tr>\n",
       "    <tr>\n",
       "      <th>3</th>\n",
       "      <td>1997-05-16</td>\n",
       "      <td>Awdal</td>\n",
       "      <td>0.0</td>\n",
       "      <td>-0.130148</td>\n",
       "      <td>-0.188138</td>\n",
       "    </tr>\n",
       "    <tr>\n",
       "      <th>4</th>\n",
       "      <td>1997-06-16</td>\n",
       "      <td>Awdal</td>\n",
       "      <td>0.0</td>\n",
       "      <td>0.364936</td>\n",
       "      <td>-0.098494</td>\n",
       "    </tr>\n",
       "    <tr>\n",
       "      <th>...</th>\n",
       "      <td>...</td>\n",
       "      <td>...</td>\n",
       "      <td>...</td>\n",
       "      <td>...</td>\n",
       "      <td>...</td>\n",
       "    </tr>\n",
       "    <tr>\n",
       "      <th>2785</th>\n",
       "      <td>2009-08-16</td>\n",
       "      <td>Woqooyi Galbeed</td>\n",
       "      <td>7.0</td>\n",
       "      <td>0.067584</td>\n",
       "      <td>-0.357772</td>\n",
       "    </tr>\n",
       "    <tr>\n",
       "      <th>2786</th>\n",
       "      <td>2009-09-16</td>\n",
       "      <td>Woqooyi Galbeed</td>\n",
       "      <td>4.0</td>\n",
       "      <td>0.335509</td>\n",
       "      <td>0.137361</td>\n",
       "    </tr>\n",
       "    <tr>\n",
       "      <th>2787</th>\n",
       "      <td>2009-10-16</td>\n",
       "      <td>Woqooyi Galbeed</td>\n",
       "      <td>1.0</td>\n",
       "      <td>0.047064</td>\n",
       "      <td>-0.164798</td>\n",
       "    </tr>\n",
       "    <tr>\n",
       "      <th>2788</th>\n",
       "      <td>2009-11-16</td>\n",
       "      <td>Woqooyi Galbeed</td>\n",
       "      <td>0.0</td>\n",
       "      <td>NaN</td>\n",
       "      <td>NaN</td>\n",
       "    </tr>\n",
       "    <tr>\n",
       "      <th>2789</th>\n",
       "      <td>2009-12-16</td>\n",
       "      <td>Woqooyi Galbeed</td>\n",
       "      <td>0.0</td>\n",
       "      <td>NaN</td>\n",
       "      <td>NaN</td>\n",
       "    </tr>\n",
       "  </tbody>\n",
       "</table>\n",
       "<p>2790 rows × 5 columns</p>\n",
       "</div>"
      ],
      "text/plain": [
       "          time_x           admin1  conflicts        TA        PA\n",
       "0     1997-02-15            Awdal        0.0       NaN       NaN\n",
       "1     1997-03-16            Awdal        0.0       NaN       NaN\n",
       "2     1997-04-16            Awdal        0.0  0.001765  0.154799\n",
       "3     1997-05-16            Awdal        0.0 -0.130148 -0.188138\n",
       "4     1997-06-16            Awdal        0.0  0.364936 -0.098494\n",
       "...          ...              ...        ...       ...       ...\n",
       "2785  2009-08-16  Woqooyi Galbeed        7.0  0.067584 -0.357772\n",
       "2786  2009-09-16  Woqooyi Galbeed        4.0  0.335509  0.137361\n",
       "2787  2009-10-16  Woqooyi Galbeed        1.0  0.047064 -0.164798\n",
       "2788  2009-11-16  Woqooyi Galbeed        0.0       NaN       NaN\n",
       "2789  2009-12-16  Woqooyi Galbeed        0.0       NaN       NaN\n",
       "\n",
       "[2790 rows x 5 columns]"
      ]
     },
     "execution_count": 17,
     "metadata": {},
     "output_type": "execute_result"
    }
   ],
   "source": [
    "pd.set_option('display.max_columns', None)\n",
    "df"
   ]
  },
  {
   "cell_type": "code",
   "execution_count": 18,
   "id": "a70591c5",
   "metadata": {},
   "outputs": [],
   "source": [
    "reg=[]\n",
    "for admin in df['admin1'].unique():\n",
    "    a = df[df['admin1']==admin].reset_index(drop=True)\n",
    "    reg.append(a)"
   ]
  },
  {
   "cell_type": "code",
   "execution_count": 27,
   "id": "147286ae",
   "metadata": {},
   "outputs": [],
   "source": [
    "# Plot the data\n",
    "#f, ax = plt.subplots(figsize=(12, 4))\n",
    "#reg[2]['TA'].plot.line(      #marker=\"o\",\n",
    "                              #ax=ax,\n",
    "                              #color=\"grey\",\n",
    "                              #markerfacecolor=\"purple\",\n",
    "                              #markeredgecolor=\"purple\")\n",
    "#ax.set(title=\"Annual Max Temperature in %s\" %reg[2]['admin1'].unique()[0])\n",
    "#plt.show()"
   ]
  },
  {
   "cell_type": "code",
   "execution_count": null,
   "id": "8a985515",
   "metadata": {},
   "outputs": [],
   "source": [
    "f, ax = plt.subplots(figsize=(12, 4))\n",
    "reg[2]['conflicts'].plot.line(marker=\"o\",\n",
    "                              ax=ax,\n",
    "                              color=\"k\",\n",
    "                              markerfacecolor=\"r\",\n",
    "                              markeredgecolor=\"purple\")\n",
    "plt.show()"
   ]
  },
  {
   "cell_type": "code",
   "execution_count": 6,
   "id": "f855c319",
   "metadata": {},
   "outputs": [],
   "source": [
    "def estimate_coef(x, y):\n",
    "    # number of observations/points\n",
    "    n = np.size(x)\n",
    "\n",
    "    # mean of x and y vector\n",
    "    m_x = np.mean(x)\n",
    "    m_y = np.mean(y)\n",
    "\n",
    "    # calculating cross-deviation and deviation about x\n",
    "    SS_xy = np.sum(y*x) - n*m_y*m_x\n",
    "    SS_xx = np.sum(x*x) - n*m_x*m_x\n",
    "\n",
    "    # calculating regression coefficients\n",
    "    b_1 = SS_xy / SS_xx\n",
    "    b_0 = m_y - b_1*m_x\n",
    "\n",
    "    return (b_0, b_1)\n",
    "\n",
    "def plot_regression_line(x, y, b):\n",
    "    # plotting the actual points as scatter plot\n",
    "    plt.scatter(x, y, color = \"m\",\n",
    "                marker = \"o\", s = 30)\n",
    "\n",
    "    # predicted response vector\n",
    "    y_pred = b[0] + b[1]*x\n",
    "\n",
    "    # plotting the regression line\n",
    "    plt.plot(x, y_pred, color = \"g\")\n",
    "\n",
    "    # putting labels\n",
    "    plt.xlabel('x')\n",
    "    plt.ylabel('y')\n",
    "\n",
    "    # function to show plot\n",
    "    "
   ]
  },
  {
   "cell_type": "code",
   "execution_count": 22,
   "id": "0198d285",
   "metadata": {},
   "outputs": [
    {
     "name": "stdout",
     "output_type": "stream",
     "text": [
      "Estimated coefficients:\n",
      "b_0 = 33.81170823591354 \n",
      "b_1 = 11.358779853029823\n"
     ]
    },
    {
     "data": {
      "image/png": "[encoded data removed]",
      "text/plain": [
       "<Figure size 640x480 with 1 Axes>"
      ]
     },
     "metadata": {},
     "output_type": "display_data"
    }
   ],
   "source": [
    "start_month=6\n",
    "shift=-4\n",
    "window_size=148\n",
    "\n",
    "r=2\n",
    "x = reg[r]['TA'][start_month + shift : start_month + shift + window_size]\n",
    "y = reg[r]['conflicts'][start_month : start_month + window_size]\n",
    "\n",
    "# estimating coefficients\n",
    "b = estimate_coef(x, y)\n",
    "print(\"Estimated coefficients:\\nb_0 = {} \\\n",
    "\\nb_1 = {}\".format(b[0], b[1]))\n",
    "\n",
    "slope, intercept, r_value, p_value, std_err = linregress(x, y)\n",
    "\n",
    "z = slope * x + intercept\n",
    "\n",
    "plot_regression_line(x, y, b)\n",
    "\n",
    "plt.show()"
   ]
  },
  {
   "cell_type": "code",
   "execution_count": 24,
   "id": "f7c23106",
   "metadata": {},
   "outputs": [
    {
     "name": "stdout",
     "output_type": "stream",
     "text": [
      "Estimated coefficients:\n",
      "b_0 = 33.30559887436889 \n",
      "b_1 = -7.136430516240445\n"
     ]
    },
    {
     "data": {
      "image/png": "[encoded data removed]",
      "text/plain": [
       "<Figure size 640x480 with 1 Axes>"
      ]
     },
     "metadata": {},
     "output_type": "display_data"
    }
   ],
   "source": [
    "r=2\n",
    "x = reg[r]['PA'][start_month + shift : start_month + shift + window_size]\n",
    "y = reg[r]['conflicts'][start_month : start_month + window_size]\n",
    "\n",
    "# estimating coefficients\n",
    "b = estimate_coef(x, y)\n",
    "print(\"Estimated coefficients:\\nb_0 = {} \\\n",
    "\\nb_1 = {}\".format(b[0], b[1]))\n",
    "\n",
    "slope, intercept, r_value, p_value, std_err = linregress(x, y)\n",
    "\n",
    "z = slope * x + intercept\n",
    "\n",
    "plot_regression_line(x, y, b)\n",
    "\n",
    "plt.show()\n",
    "\n",
    "#print(1 - (1-regr.score(X, y))*(len(y)-1)/(len(y)-X.shape[1]-1))"
   ]
  },
  {
   "cell_type": "code",
   "execution_count": null,
   "id": "bfc09ced",
   "metadata": {},
   "outputs": [],
   "source": [
    "file = r\"C:\\Users\\PcLaptop\\Dropbox (Politecnico Di Torino Studenti)\\Untitled Folder\\temp-prec-conf.csv\"\n",
    "df = pd.read_csv(file)\n",
    "reg=[]\n",
    "for admin in df['admin1'].unique():\n",
    "    a = df[df['admin1']==admin].reset_index(drop=True)\n",
    "    reg.append(a)"
   ]
  },
  {
   "cell_type": "code",
   "execution_count": null,
   "id": "e326f163",
   "metadata": {},
   "outputs": [],
   "source": [
    "# Assuming you have a list of vector pairs\n",
    "slopes=[]\n",
    "rvalues=[]\n",
    "\n",
    "vector_pairs = [(reg[i]['tmx'],reg[i]['conflicts']) for i in range(18)]\n",
    "\n",
    "# Define the window size for analysis\n",
    "window_size = 150\n",
    "\n",
    "# Initialize variables to store the best shift and maximum average coefficient\n",
    "shift = 3\n",
    "max_average_coefficient = -np.inf\n",
    "\n",
    "for vector1, vector2 in vector_pairs:\n",
    "    sliced_vector1 = vector1[0: window_size ]\n",
    "    sliced_vector2 = vector2[shift:shift + window_size]\n",
    "\n",
    "    # Perform linear regression\n",
    "    slope, intercept, r_value, p_value, std_err = linregress(sliced_vector1, sliced_vector2)\n",
    "    \n",
    "    slopes.append(slope)\n",
    "    rvalues.append(r_value)\n",
    "    \n",
    "    print(slope)\n",
    "    \n",
    "np.mean(slopes)"
   ]
  },
  {
   "cell_type": "code",
   "execution_count": null,
   "id": "e405d39a",
   "metadata": {},
   "outputs": [],
   "source": [
    "file1 = r\"C:\\Users\\PcLaptop\\Dropbox (Politecnico Di Torino Studenti)\\Untitled Folder\\temp-conf.csv\"\n",
    "file2 = r\"C:\\Users\\PcLaptop\\Dropbox (Politecnico Di Torino Studenti)\\Untitled Folder\\prec-conf.csv\"\n",
    "\n",
    "df = pd.read_csv(file1)\n",
    "df2 = pd.read_csv(file2)\n",
    "df2= df2.drop(['conflicts','time_y'], axis=1)\n",
    "merged_df = pd.merge(df, df2, on=['time_x','admin1'], how='outer')\n",
    "pd.set_option('display.max_columns', None)\n",
    "merged_df= merged_df[['time_x', 'admin1', 'conflicts','time_y','tmx','pre']]\n",
    "#merged_df.to_csv('temp-prec-conf.csv', index=False)"
   ]
  },
  {
   "cell_type": "code",
   "execution_count": null,
   "id": "8d0b14c6",
   "metadata": {},
   "outputs": [],
   "source": [
    "# Plot the data\n",
    "f, ax = plt.subplots(figsize=(12, 4))\n",
    "reg[2]['pre'].plot.line(      #marker=\"o\",\n",
    "                              ax=ax,\n",
    "                              color=\"grey\",\n",
    "                              markerfacecolor=\"purple\",\n",
    "                              markeredgecolor=\"purple\")\n",
    "reg[2]['conflicts'].plot.line(#marker=\"o\",\n",
    "                              ax=ax,\n",
    "                              color=\"k\",\n",
    "                              markerfacecolor=\"r\",\n",
    "                              markeredgecolor=\"purple\")\n",
    "reg[2]['tmx'].plot.line(      ax=ax,\n",
    "                              color=\"k\",\n",
    "                              markerfacecolor=\"b\")\n",
    "ax.set(title=\"Annual in %s\" %reg[2]['admin1'].unique()[0])\n",
    "plt.show()"
   ]
  },
  {
   "cell_type": "code",
   "execution_count": null,
   "id": "8e9e354e",
   "metadata": {},
   "outputs": [],
   "source": []
  }
 ],
 "metadata": {
  "kernelspec": {
   "display_name": "Python 3 (ipykernel)",
   "language": "python",
   "name": "python3"
  },
  "language_info": {
   "codemirror_mode": {
    "name": "ipython",
    "version": 3
   },
   "file_extension": ".py",
   "mimetype": "text/x-python",
   "name": "python",
   "nbconvert_exporter": "python",
   "pygments_lexer": "ipython3",
   "version": "3.11.1"
  }
 },
 "nbformat": 4,
 "nbformat_minor": 5
}
