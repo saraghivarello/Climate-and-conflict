{
 "cells": [
  {
   "cell_type": "code",
   "execution_count": 25,
   "id": "49af736b",
   "metadata": {},
   "outputs": [],
   "source": [
    "import pandas as pd\n",
    "import numpy as np\n",
    "import matplotlib.pyplot as plt\n",
    "import statsmodels.api as sm\n",
    "import seaborn as sns\n",
    "import statsmodels.formula.api as smf"
   ]
  },
  {
   "cell_type": "code",
   "execution_count": 26,
   "id": "cf55e7ad",
   "metadata": {},
   "outputs": [],
   "source": [
    "file = r\"C:\\Users\\PcLaptop\\Documents\\GitHub\\Climate-and-conflict\\reg_TA_PA.csv\"\n",
    "df = pd.read_csv(file)"
   ]
  },
  {
   "cell_type": "code",
   "execution_count": 27,
   "id": "ef55f1bd",
   "metadata": {},
   "outputs": [],
   "source": [
    "df['admin1'] = df['admin1'].str.replace('Lower Shabelle', 'Lower_Shabelle')\n",
    "df['admin1'] = df['admin1'].str.replace('Middle Shabelle', 'Middle_Shabelle')\n",
    "df['admin1'] = df['admin1'].str.replace('Lower Juba', 'Lower_Juba')\n",
    "df['admin1'] = df['admin1'].str.replace('Middle Juba', 'Middle_Juba')\n",
    "df['admin1'] = df['admin1'].str.replace('Woqooyi Galbeed', 'Woqooyi_Galbeed')"
   ]
  },
  {
   "cell_type": "code",
   "execution_count": 28,
   "id": "9e645a8b",
   "metadata": {},
   "outputs": [],
   "source": [
    "#crate a new column with the drought lenght DL defined as the number of consecutive months with positive temperature anomalies TA during the current drought period, and is zero for non-drought months\n",
    "df['DL'] = 0\n",
    "mask = df['TA'] > 0\n",
    "\n",
    "# Create a group identifier for each consecutive group\n",
    "group_id = (mask != mask.shift()).cumsum()\n",
    "\n",
    "# Calculate the count within each group\n",
    "count = df.groupby(group_id).cumcount() + 1\n",
    "\n",
    "# Assign the count values to the 'DL' column\n",
    "df['DL'] = np.where(mask, count, 0)"
   ]
  },
  {
   "cell_type": "code",
   "execution_count": 36,
   "id": "c2166bb0",
   "metadata": {},
   "outputs": [],
   "source": [
    "#plot the sum of the conflicts for all regions (admin1) in Somalia versus time_x\n",
    "##plt.figure(figsize=(12,6))\n",
    "#aa=df.groupby('time_x')['conflicts'].sum().plot()\n",
    "#plt.show()\n",
    "\n",
    "#plot the sum of the TA for all regions (admin1) in Somalia versus time_x\n",
    "#df1=df[df['admin1']=='Lower_Shabelle']\n",
    "#plt.figure(figsize=(12,6))\n",
    "#aa=df1.groupby('time_x')['TA'].mean().plot()\n",
    "#plt.show()"
   ]
  },
  {
   "cell_type": "code",
   "execution_count": 31,
   "id": "ce468cda",
   "metadata": {},
   "outputs": [],
   "source": [
    "#in df remove all rows that contain a NaN\n",
    "df = df.dropna()\n",
    "df.reset_index(drop=True, inplace=True)"
   ]
  },
  {
   "cell_type": "code",
   "execution_count": 32,
   "id": "65007a75",
   "metadata": {},
   "outputs": [],
   "source": [
    "#Create the dummy variables, one for each country\n",
    "df_dummies = pd.get_dummies(df['admin1'])\n",
    "df_with_dummies = df.join(df_dummies)\n",
    "\n",
    "#Create the dummy variables, one for each month\n",
    "df['month'] = pd.DatetimeIndex(df['time_x']).month_name()\n",
    "df_dummies_m = pd.get_dummies(df['month'])\n",
    "df_with_dummies = df_with_dummies.join(df_dummies_m)"
   ]
  },
  {
   "cell_type": "code",
   "execution_count": 33,
   "id": "0a0022cf",
   "metadata": {},
   "outputs": [
    {
     "name": "stdout",
     "output_type": "stream",
     "text": [
      "Regression expression for OLS with dummies=conflicts ~ TA + PA + Awdal + Bakool + Banadir + Bari + Bay + Galgaduud + Gedo + Hiraan + Lower_Juba + Lower_Shabelle + Middle_Juba + Middle_Shabelle + Mudug + Nugaal + Sanaag + Sool + Togdheer + April + May + June + July + August + September + October + November + December + January + February\n"
     ]
    }
   ],
   "source": [
    "y_var_name = 'conflicts'\n",
    "X_var_names = ['TA','PA']\n",
    "\n",
    "unit_names = df['admin1'].unique().tolist()\n",
    "unit_names.sort()\n",
    "unit_names_t = df['month'].unique().tolist()\n",
    "\n",
    "lsdv_expr = y_var_name + ' ~ '\n",
    "i = 0\n",
    "for X_var_name in X_var_names:\n",
    "    if i > 0:\n",
    "        lsdv_expr = lsdv_expr + ' + ' + X_var_name\n",
    "    else:\n",
    "        lsdv_expr = lsdv_expr + X_var_name\n",
    "    i = i + 1\n",
    "for dummy_name in unit_names[:-1]:\n",
    "    lsdv_expr = lsdv_expr + ' + ' + dummy_name\n",
    "for dummy_name_t in unit_names_t[:-1]:\n",
    "    lsdv_expr = lsdv_expr + ' + ' + dummy_name_t\n",
    " \n",
    "print('Regression expression for OLS with dummies=' + lsdv_expr)"
   ]
  },
  {
   "cell_type": "code",
   "execution_count": 34,
   "id": "ccb5cf30",
   "metadata": {},
   "outputs": [
    {
     "name": "stdout",
     "output_type": "stream",
     "text": [
      "                            OLS Regression Results                            \n",
      "==============================================================================\n",
      "Dep. Variable:              conflicts   R-squared:                       0.286\n",
      "Model:                            OLS   Adj. R-squared:                  0.278\n",
      "Method:                 Least Squares   F-statistic:                     35.95\n",
      "Date:                Mon, 10 Jul 2023   Prob (F-statistic):          2.40e-172\n",
      "Time:                        09:14:48   Log-Likelihood:                -10479.\n",
      "No. Observations:                2718   AIC:                         2.102e+04\n",
      "Df Residuals:                    2687   BIC:                         2.120e+04\n",
      "Df Model:                          30                                         \n",
      "Covariance Type:            nonrobust                                         \n",
      "===========================================================================================\n",
      "                              coef    std err          t      P>|t|      [0.025      0.975]\n",
      "-------------------------------------------------------------------------------------------\n",
      "Intercept                   2.2389      1.250      1.791      0.073      -0.213       4.690\n",
      "Awdal[T.True]              -0.7594      1.325     -0.573      0.567      -3.358       1.839\n",
      "Bakool[T.True]              0.2344      1.326      0.177      0.860      -2.365       2.834\n",
      "Banadir[T.True]            31.7766      1.326     23.972      0.000      29.177      34.376\n",
      "Bari[T.True]                0.8464      1.325      0.639      0.523      -1.752       3.445\n",
      "Bay[T.True]                 5.2981      1.325      3.999      0.000       2.701       7.896\n",
      "Galgaduud[T.True]           1.0254      1.327      0.773      0.440      -1.576       3.627\n",
      "Gedo[T.True]                0.9493      1.327      0.715      0.474      -1.653       3.551\n",
      "Hiraan[T.True]              3.4178      1.327      2.575      0.010       0.816       6.020\n",
      "Lower_Juba[T.True]          2.7981      1.325      2.112      0.035       0.201       5.396\n",
      "Lower_Shabelle[T.True]      5.5099      1.325      4.160      0.000       2.913       8.107\n",
      "Middle_Juba[T.True]         0.2398      1.325      0.181      0.856      -2.359       2.838\n",
      "Middle_Shabelle[T.True]     1.6250      1.326      1.225      0.221      -0.976       4.226\n",
      "Mudug[T.True]               1.1370      1.329      0.855      0.392      -1.469       3.743\n",
      "Nugaal[T.True]              0.0198      1.328      0.015      0.988      -2.584       2.623\n",
      "Sanaag[T.True]             -0.5193      1.329     -0.391      0.696      -3.126       2.087\n",
      "Sool[T.True]               -0.0973      1.328     -0.073      0.942      -2.701       2.506\n",
      "Togdheer[T.True]           -0.4111      1.326     -0.310      0.756      -3.010       2.188\n",
      "April[T.True]              -1.1231      1.194     -0.940      0.347      -3.465       1.219\n",
      "May[T.True]                -0.3443      1.174     -0.293      0.769      -2.647       1.958\n",
      "June[T.True]               -0.6800      1.165     -0.584      0.559      -2.964       1.604\n",
      "July[T.True]               -1.5410      1.238     -1.245      0.213      -3.968       0.887\n",
      "August[T.True]             -1.7825      1.144     -1.559      0.119      -4.025       0.460\n",
      "September[T.True]          -1.4667      1.115     -1.315      0.189      -3.654       0.721\n",
      "October[T.True]            -1.6445      1.151     -1.429      0.153      -3.901       0.612\n",
      "November[T.True]           -2.4158      1.256     -1.924      0.055      -4.878       0.047\n",
      "December[T.True]           -1.8218      1.215     -1.499      0.134      -4.205       0.561\n",
      "January[T.True]            -1.5087      1.245     -1.212      0.226      -3.950       0.933\n",
      "February[T.True]           -1.7007      1.154     -1.474      0.141      -3.963       0.562\n",
      "TA                          0.2882      1.086      0.265      0.791      -1.841       2.417\n",
      "PA                         -0.5126      1.229     -0.417      0.677      -2.922       1.896\n",
      "==============================================================================\n",
      "Omnibus:                     3059.479   Durbin-Watson:                   0.370\n",
      "Prob(Omnibus):                  0.000   Jarque-Bera (JB):           428239.858\n",
      "Skew:                           5.557   Prob(JB):                         0.00\n",
      "Kurtosis:                      63.480   Cond. No.                         19.8\n",
      "==============================================================================\n",
      "\n",
      "Notes:\n",
      "[1] Standard Errors assume that the covariance matrix of the errors is correctly specified.\n"
     ]
    }
   ],
   "source": [
    "lsdv_model = smf.ols(formula=lsdv_expr, data=df_with_dummies)\n",
    "lsdv_model_results = lsdv_model.fit()\n",
    "print(lsdv_model_results.summary())"
   ]
  },
  {
   "cell_type": "code",
   "execution_count": 13,
   "id": "cf0c5e6f",
   "metadata": {},
   "outputs": [],
   "source": [
    "#shift\n",
    "\n",
    "start_month = 8\n",
    "shift = -4\n",
    "window_size = 147\n",
    "\n",
    "X = pd.DataFrame({'TA':df['TA'][start_month + shift : start_month + shift + window_size].reset_index(drop=True),\n",
    "                  'PA':df['PA'][start_month + shift : start_month + shift + window_size].reset_index(drop=True) })"
   ]
  },
  {
   "cell_type": "code",
   "execution_count": 15,
   "id": "4786d59f",
   "metadata": {},
   "outputs": [],
   "source": [
    "df_demean = df.copy()\n",
    "\n",
    "# calculate the entity(state) mean beer tax\n",
    "df_demean['Mean_TA'] = df_demean.groupby('admin1').TA.transform(np.mean)\n",
    "\n",
    "# calculate the entity(state) mean for fatal rate\n",
    "df_demean['Mean_conflicts'] = df_demean.groupby('admin1').conflicts.transform(np.mean)\n",
    "\n",
    "# demean, subtract each row by the entity-mean\n",
    "df_demean[\"conflicts\"] = df_demean[\"conflicts\"] - df_demean['Mean_conflicts']\n",
    "df_demean[\"TA\"] = df_demean[\"TA\"] - df_demean['Mean_TA']"
   ]
  },
  {
   "cell_type": "code",
   "execution_count": 16,
   "id": "3ad9e1cf",
   "metadata": {},
   "outputs": [
    {
     "name": "stdout",
     "output_type": "stream",
     "text": [
      "                                 OLS Regression Results                                \n",
      "=======================================================================================\n",
      "Dep. Variable:              conflicts   R-squared (uncentered):                   0.001\n",
      "Model:                            OLS   Adj. R-squared (uncentered):              0.000\n",
      "Method:                 Least Squares   F-statistic:                              1.558\n",
      "Date:                Mon, 10 Jul 2023   Prob (F-statistic):                       0.212\n",
      "Time:                        09:10:51   Log-Likelihood:                         -10483.\n",
      "No. Observations:                2718   AIC:                                  2.097e+04\n",
      "Df Residuals:                    2717   BIC:                                  2.097e+04\n",
      "Df Model:                           1                                                  \n",
      "Covariance Type:            nonrobust                                                  \n",
      "==============================================================================\n",
      "                 coef    std err          t      P>|t|      [0.025      0.975]\n",
      "------------------------------------------------------------------------------\n",
      "TA             0.9840      0.788      1.248      0.212      -0.562       2.530\n",
      "==============================================================================\n",
      "Omnibus:                     3069.485   Durbin-Watson:                   0.373\n",
      "Prob(Omnibus):                  0.000   Jarque-Bera (JB):           436737.535\n",
      "Skew:                           5.583   Prob(JB):                         0.00\n",
      "Kurtosis:                      64.088   Cond. No.                         1.00\n",
      "==============================================================================\n",
      "\n",
      "Notes:\n",
      "[1] R² is computed without centering (uncentered) since the model does not contain a constant.\n",
      "[2] Standard Errors assume that the covariance matrix of the errors is correctly specified.\n"
     ]
    }
   ],
   "source": [
    "model = sm.OLS(df_demean.conflicts, df_demean.TA)\n",
    "results2 = model.fit()\n",
    "print(results2.summary())"
   ]
  },
  {
   "cell_type": "code",
   "execution_count": 13,
   "id": "80f0523e",
   "metadata": {},
   "outputs": [],
   "source": [
    "reg=[]\n",
    "for region in df['admin1'].unique():\n",
    "    reg.append(df[df['admin1']==region].reset_index())"
   ]
  },
  {
   "cell_type": "code",
   "execution_count": 57,
   "id": "712ef762",
   "metadata": {},
   "outputs": [
    {
     "name": "stdout",
     "output_type": "stream",
     "text": [
      "[11.99415427 -4.15669559]\n",
      "0.020556684304347206\n"
     ]
    },
    {
     "data": {
      "text/plain": [
       "0.03397371602620558"
      ]
     },
     "execution_count": 57,
     "metadata": {},
     "output_type": "execute_result"
    }
   ],
   "source": [
    "r=2\n",
    "start_month = 8\n",
    "shift = -4\n",
    "window_size = 147\n",
    "\n",
    "X = pd.DataFrame({'TA':reg[r]['TA'][start_month + shift : start_month + shift + window_size].reset_index(drop=True),\n",
    "                  'PA':reg[r]['PA'][start_month + shift : start_month + shift + window_size].reset_index(drop=True) })\n",
    "y = reg[r]['conflicts'][start_month : start_month + window_size]\n",
    "\n",
    "#regr = linear_model.LinearRegression()\n",
    "regr.fit(X, y)\n",
    "print(regr.coef_)\n",
    "print(1 - (1-regr.score(X, y))*(len(y)-1)/(len(y)-X.shape[1]-1)) \n",
    "regr.score(X, y)"
   ]
  },
  {
   "cell_type": "code",
   "execution_count": null,
   "id": "b9f71442",
   "metadata": {},
   "outputs": [],
   "source": []
  }
 ],
 "metadata": {
  "kernelspec": {
   "display_name": "Python 3 (ipykernel)",
   "language": "python",
   "name": "python3"
  },
  "language_info": {
   "codemirror_mode": {
    "name": "ipython",
    "version": 3
   },
   "file_extension": ".py",
   "mimetype": "text/x-python",
   "name": "python",
   "nbconvert_exporter": "python",
   "pygments_lexer": "ipython3",
   "version": "3.11.1"
  }
 },
 "nbformat": 4,
 "nbformat_minor": 5
}
