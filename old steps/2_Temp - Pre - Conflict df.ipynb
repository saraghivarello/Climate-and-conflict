{
 "cells": [
  {
   "cell_type": "code",
   "execution_count": 3,
   "id": "49af736b",
   "metadata": {},
   "outputs": [],
   "source": [
    "import pandas as pd\n",
    "import numpy as np\n",
    "import matplotlib.pyplot as plt\n",
    "import dataframe_image as dfi\n",
    "from datetime import datetime\n",
    "import scipy\n",
    "import itertools"
   ]
  },
  {
   "cell_type": "markdown",
   "id": "ed60d032",
   "metadata": {},
   "source": [
    "Data on conflict events from ACLED"
   ]
  },
  {
   "cell_type": "code",
   "execution_count": 90,
   "id": "cb0cfaf3",
   "metadata": {},
   "outputs": [
    {
     "data": {
      "text/plain": [
       "41397"
      ]
     },
     "execution_count": 90,
     "metadata": {},
     "output_type": "execute_result"
    }
   ],
   "source": [
    "file = r\"C:\\Users\\PcLaptop\\Documents\\GitHub\\Climate-and-conflict\\1997-01-01-2023-07-18-Eastern_Africa-Somalia.csv\"\n",
    "df = pd.read_csv(file)\n",
    "\n",
    "#df=df[df['event_type'] != 'Protests']\n",
    "#df=df[df['event_type'] != 'Strategic developments']\n",
    "len(df)"
   ]
  },
  {
   "cell_type": "code",
   "execution_count": 91,
   "id": "647d91e1",
   "metadata": {},
   "outputs": [],
   "source": [
    "# Modify event_date column to datetime\n",
    "\n",
    "v = df[\"event_date\"].values\n",
    "dt = [datetime.strptime(v[i], \"%d %B %Y\") for i in range(len(v))]\n",
    "q=[]\n",
    "\n",
    "for i in range(len(dt)):\n",
    "    q.append(datetime.timestamp(dt[i]))\n",
    "    \n",
    "df.insert(loc=3, column='date_timestamp', value=q)\n",
    "df = df.sort_values(\"date_timestamp\")\n",
    "\n",
    "df['event_date'] = pd.to_datetime(df['event_date'])\n",
    "df=df.set_index('event_date') "
   ]
  },
  {
   "cell_type": "code",
   "execution_count": 92,
   "id": "f50e3f13",
   "metadata": {},
   "outputs": [],
   "source": [
    "conflict=df.groupby([pd.Grouper(freq='40320min'),\"admin1\"]).count()\n",
    "conflict.reset_index(level=[0, 1], inplace=True)\n",
    "conflict=conflict[['event_date','admin1','year']].rename(columns={'year': 'conflicts','event_date': 'time'})\n",
    "\n",
    "conflict['datetime_column'] = pd.to_datetime(conflict['time'])\n",
    "\n",
    "# Aggregate the datetime objects by month\n",
    "conf = conflict.groupby([pd.Grouper(key='time', freq='M'),'admin1'])['conflicts'].sum().to_frame()"
   ]
  },
  {
   "cell_type": "code",
   "execution_count": 93,
   "id": "ee086f40",
   "metadata": {},
   "outputs": [],
   "source": [
    "dates = conf.index.get_level_values('time').unique()\n",
    "districts = conf.index.get_level_values('admin1').unique()\n",
    "all_combinations = pd.MultiIndex.from_product([dates, districts], names=['time', 'admin1'])\n",
    "\n",
    "# Reindex the DataFrame with all combinations\n",
    "conf = conf.reindex(all_combinations, fill_value=0).reset_index()"
   ]
  },
  {
   "cell_type": "code",
   "execution_count": 94,
   "id": "42f52795",
   "metadata": {},
   "outputs": [],
   "source": [
    "conflicts = conf.sort_values(by=['time', 'admin1'], ascending=[True, True])\n",
    "conflicts.reset_index(drop=True, inplace=True)"
   ]
  },
  {
   "cell_type": "code",
   "execution_count": 95,
   "id": "6456c29d",
   "metadata": {},
   "outputs": [],
   "source": [
    "file = r\"C:\\Users\\PcLaptop\\Documents\\GitHub\\Climate-and-conflict\\all codes\\temp_pre_somalia.csv\"\n",
    "temp_pre = pd.read_csv(file)\n",
    "#rename columns\n",
    "temp_pre=temp_pre.rename(columns={'region': 'admin1'})"
   ]
  },
  {
   "cell_type": "code",
   "execution_count": 96,
   "id": "f8b312de",
   "metadata": {},
   "outputs": [],
   "source": [
    "# Add Banadir region with tmx and pre as mean of the neighbouring regions\n",
    "\n",
    "district1 = 'Lower Shabelle'  \n",
    "district2 = 'Middle Shabelle'  \n",
    "\n",
    "# Step 2: Calculate the mean tmx and pre for the neighboring districts\n",
    "mean_t = temp_pre[(temp_pre['admin1']==district1) | (temp_pre['admin1']==district2)].groupby('time')['tmx'].mean()\n",
    "mean_p = temp_pre[(temp_pre['admin1']==district1) | (temp_pre['admin1']==district2)].groupby('time')['pre'].mean()\n",
    "\n",
    "new_data = pd.DataFrame({ 'admin1': 'Banadir', 'tmx': mean_t, 'pre': mean_p}).reset_index()\n",
    "\n",
    "# Step 4: Append the new DataFrame to the original DataFrame\n",
    "df3 = pd.concat([temp_pre, new_data])\n",
    "\n",
    "temp_pre = df3.sort_values(by=['time', 'admin1'], ascending=[True, True]).reset_index(drop=True)"
   ]
  },
  {
   "cell_type": "code",
   "execution_count": 97,
   "id": "7dbb2762",
   "metadata": {},
   "outputs": [],
   "source": [
    "temp_pre['month'] = temp_pre['time'].str[5:7]\n",
    "temp_pre['month_year'] = temp_pre['time'].str[:7]\n",
    "conflicts['time'] = conflicts['time'].dt.strftime('%Y-%m').values\n"
   ]
  },
  {
   "cell_type": "code",
   "execution_count": 98,
   "id": "93e17dfc",
   "metadata": {},
   "outputs": [],
   "source": [
    "temp_pre = temp_pre[['month_year','admin1','tmx','pre']]\n",
    "temp_pre = temp_pre.rename(columns={'month_year':'time'})"
   ]
  },
  {
   "cell_type": "code",
   "execution_count": 99,
   "id": "d90c7c6b",
   "metadata": {
    "scrolled": true
   },
   "outputs": [],
   "source": [
    "temp_pre.to_csv('temp_pre_01_22.csv', index=False)"
   ]
  },
  {
   "cell_type": "code",
   "execution_count": 100,
   "id": "0ff798f2",
   "metadata": {},
   "outputs": [],
   "source": [
    "# Select a subset of the dataframe, where there is conflict data\n",
    "\n",
    "start='1997-01'\n",
    "end='2022-12'\n",
    "\n",
    "temp_pre_97_22 = temp_pre[(temp_pre['time'] >= start) & (temp_pre['time'] <= end)]"
   ]
  },
  {
   "cell_type": "code",
   "execution_count": 103,
   "id": "4d65170c",
   "metadata": {},
   "outputs": [],
   "source": [
    "# Perform an outer merge on the month_year column, which includes all month and year combinations from both dataframes\n",
    "df_97_22 = pd.merge(temp_pre_97_22, conflicts, on=['time','admin1'], how='outer')\n",
    "df_97_22 = df_97_22.fillna(0)\n",
    "\n",
    "df_97_22=df_97_22[df_97_22['tmx'] != 0]\n",
    "#df_97_22.drop(['month_year'], axis=1, inplace=True)"
   ]
  },
  {
   "cell_type": "code",
   "execution_count": 104,
   "id": "aba601d6",
   "metadata": {},
   "outputs": [],
   "source": [
    "df_97_22.to_csv('df_97_22.csv', index=False)"
   ]
  },
  {
   "cell_type": "code",
   "execution_count": null,
   "id": "058a2f5c",
   "metadata": {},
   "outputs": [],
   "source": []
  }
 ],
 "metadata": {
  "kernelspec": {
   "display_name": "Python 3 (ipykernel)",
   "language": "python",
   "name": "python3"
  },
  "language_info": {
   "codemirror_mode": {
    "name": "ipython",
    "version": 3
   },
   "file_extension": ".py",
   "mimetype": "text/x-python",
   "name": "python",
   "nbconvert_exporter": "python",
   "pygments_lexer": "ipython3",
   "version": "3.11.1"
  }
 },
 "nbformat": 4,
 "nbformat_minor": 5
}
