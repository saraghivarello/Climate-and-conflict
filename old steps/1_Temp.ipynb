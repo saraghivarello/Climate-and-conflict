{
 "cells": [
  {
   "cell_type": "code",
   "execution_count": 2,
   "id": "79eb748f",
   "metadata": {},
   "outputs": [],
   "source": [
    "import numpy as np\n",
    "import pandas as pd\n",
    "import matplotlib.pyplot as plt\n",
    "import geopandas as gpd\n",
    "import xarray as xr\n",
    "import regionmask"
   ]
  },
  {
   "cell_type": "markdown",
   "id": "ecea2988",
   "metadata": {},
   "source": [
    "Data from POWER Data Access Viewer - NASA (1997-2020)"
   ]
  },
  {
   "cell_type": "code",
   "execution_count": 3,
   "id": "2426e9a3",
   "metadata": {},
   "outputs": [],
   "source": [
    "da1 = r\"C:\\Users\\PcLaptop\\Documents\\GitHub\\Climate-and-conflict\\POWER_Regional_monthly_1997_2020.nc\"\n",
    "da2 = r\"C:\\Users\\PcLaptop\\Documents\\GitHub\\Climate-and-conflict\\POWER_Regional_monthly_1997_2020_south.nc\"\n",
    "\n",
    "file_paths_list =[da1,da2]\n",
    "monthly_forecast=xr.Dataset()\n",
    "\n",
    "for file in file_paths_list:\n",
    "        monthly_forecast = xr.merge([monthly_forecast,xr.open_mfdataset(file)], compat='no_conflicts')"
   ]
  },
  {
   "cell_type": "markdown",
   "id": "b588a5d6",
   "metadata": {},
   "source": [
    "Data from UEA CRU TS4.07 (1991-2022)"
   ]
  },
  {
   "cell_type": "code",
   "execution_count": 19,
   "id": "5193f6db",
   "metadata": {},
   "outputs": [],
   "source": [
    "file = r\"C:\\Users\\PcLaptop\\Documents\\GitHub\\Climate-and-conflict\\cru_ts4.07.1901.2022.tmx.dat.nc\"\n",
    "file2 = r\"C:\\Users\\PcLaptop\\Documents\\GitHub\\Climate-and-conflict\\cru_ts4.07.1901.2022.pre.dat.nc\"\n",
    "\n",
    "file_paths_list =[file,file2]\n",
    "monthly_forecast=xr.Dataset()\n",
    "\n",
    "for file in file_paths_list:\n",
    "        monthly_forecast = xr.merge([monthly_forecast,xr.open_mfdataset(file)], compat='override')"
   ]
  },
  {
   "cell_type": "markdown",
   "id": "13ec20dc",
   "metadata": {},
   "source": [
    "Shapefile with administrative boundaries of Somalia"
   ]
  },
  {
   "cell_type": "code",
   "execution_count": 6,
   "id": "95e036c4",
   "metadata": {},
   "outputs": [],
   "source": [
    "path = r\"C:\\Users\\PcLaptop\\Documents\\GitHub\\Climate-and-conflict\\som_adm_ocha_itos_20230308_shp\\som_admbnda_adm1_ocha_20230308.shp\"\n",
    "states_gdf = gpd.read_file(path) "
   ]
  },
  {
   "cell_type": "markdown",
   "id": "a0a4de27",
   "metadata": {},
   "source": [
    "Limit the lat-lon and time "
   ]
  },
  {
   "cell_type": "code",
   "execution_count": 21,
   "id": "efa341a9",
   "metadata": {},
   "outputs": [],
   "source": [
    "def get_aoi(shp, world=True):\n",
    "    lon_lat = {}\n",
    "    # Get lat min, max\n",
    "    aoi_lat = [float(shp.total_bounds[1]), float(shp.total_bounds[3])]\n",
    "    aoi_lon = [float(shp.total_bounds[0]), float(shp.total_bounds[2])]\n",
    "\n",
    "    lon_lat[\"lon\"] = aoi_lon\n",
    "    lon_lat[\"lat\"] = aoi_lat\n",
    "    return lon_lat\n",
    "\n",
    "bounds = get_aoi(regions_nev)"
   ]
  },
  {
   "cell_type": "code",
   "execution_count": 1,
   "id": "aee1bd0e",
   "metadata": {},
   "outputs": [
    {
     "ename": "NameError",
     "evalue": "name 'monthly_forecast' is not defined",
     "output_type": "error",
     "traceback": [
      "\u001b[1;31m---------------------------------------------------------------------------\u001b[0m",
      "\u001b[1;31mNameError\u001b[0m                                 Traceback (most recent call last)",
      "Cell \u001b[1;32mIn[1], line 4\u001b[0m\n\u001b[0;32m      1\u001b[0m start_date \u001b[39m=\u001b[39m \u001b[39m'\u001b[39m\u001b[39m1901-01-16\u001b[39m\u001b[39m'\u001b[39m\n\u001b[0;32m      2\u001b[0m end_date \u001b[39m=\u001b[39m \u001b[39m'\u001b[39m\u001b[39m2022-12-16\u001b[39m\u001b[39m'\u001b[39m\n\u001b[1;32m----> 4\u001b[0m region \u001b[39m=\u001b[39m monthly_forecast[[\u001b[39m\"\u001b[39m\u001b[39mpre\u001b[39m\u001b[39m\"\u001b[39m,\u001b[39m'\u001b[39m\u001b[39mtmx\u001b[39m\u001b[39m'\u001b[39m]]\u001b[39m.\u001b[39msel(\n\u001b[0;32m      5\u001b[0m     time\u001b[39m=\u001b[39m\u001b[39mslice\u001b[39m(start_date, end_date),\n\u001b[0;32m      6\u001b[0m     lon\u001b[39m=\u001b[39m\u001b[39mslice\u001b[39m(bounds[\u001b[39m\"\u001b[39m\u001b[39mlon\u001b[39m\u001b[39m\"\u001b[39m][\u001b[39m0\u001b[39m], bounds[\u001b[39m\"\u001b[39m\u001b[39mlon\u001b[39m\u001b[39m\"\u001b[39m][\u001b[39m1\u001b[39m]),\n\u001b[0;32m      7\u001b[0m     lat\u001b[39m=\u001b[39m\u001b[39mslice\u001b[39m(bounds[\u001b[39m\"\u001b[39m\u001b[39mlat\u001b[39m\u001b[39m\"\u001b[39m][\u001b[39m0\u001b[39m], bounds[\u001b[39m\"\u001b[39m\u001b[39mlat\u001b[39m\u001b[39m\"\u001b[39m][\u001b[39m1\u001b[39m]))\n",
      "\u001b[1;31mNameError\u001b[0m: name 'monthly_forecast' is not defined"
     ]
    }
   ],
   "source": [
    "start_date = '1901-01-16'\n",
    "end_date = '2022-12-16'\n",
    "\n",
    "region = monthly_forecast[[\"pre\",'tmx']].sel(\n",
    "    time=slice(start_date, end_date),\n",
    "    lon=slice(bounds[\"lon\"][0], bounds[\"lon\"][1]),\n",
    "    lat=slice(bounds[\"lat\"][0], bounds[\"lat\"][1]))"
   ]
  },
  {
   "cell_type": "code",
   "execution_count": 52,
   "id": "2e925f34",
   "metadata": {},
   "outputs": [],
   "source": [
    "region_mask = regionmask.mask_3D_geopandas(states_gdf,\n",
    "                                         monthly_forecast.lon,\n",
    "                                         monthly_forecast.lat)\n",
    "\n",
    "somalia = region.where(region_mask).groupby(\"time\").mean([\"lat\", \"lon\"]).to_dataframe().reset_index()"
   ]
  },
  {
   "cell_type": "code",
   "execution_count": 53,
   "id": "14bdbc45",
   "metadata": {},
   "outputs": [],
   "source": [
    "replacement_dict = {0  :  'Awdal',\n",
    "1    :         'Bakool',\n",
    "2      :       'Banadir',\n",
    "3      :         'Bari',\n",
    "4       :         'Bay',\n",
    "5        :  'Galgaduud',\n",
    "6          :      'Gedo',\n",
    "7          :   'Hiraan',\n",
    "8   :       'Lower Juba',\n",
    "9   :   'Lower Shabelle',\n",
    "10  :      'Middle Juba',\n",
    "11   : 'Middle Shabelle',\n",
    "12    :          'Mudug',\n",
    "13    :        'Nugaal',\n",
    "14      :       'Sanaag',\n",
    "15       :        'Sool',\n",
    "16        :   'Togdheer',\n",
    "17   : 'Woqooyi Galbeed'}"
   ]
  },
  {
   "cell_type": "code",
   "execution_count": 55,
   "id": "a0218059",
   "metadata": {},
   "outputs": [],
   "source": [
    "somalia['region'] = somalia['region'].replace(replacement_dict)"
   ]
  },
  {
   "cell_type": "code",
   "execution_count": 61,
   "id": "38f5fd68",
   "metadata": {},
   "outputs": [],
   "source": [
    "somalia.to_csv('temp_pre_somalia.csv', index=False)"
   ]
  },
  {
   "cell_type": "code",
   "execution_count": null,
   "id": "186bf14d",
   "metadata": {},
   "outputs": [],
   "source": []
  }
 ],
 "metadata": {
  "kernelspec": {
   "display_name": "Python 3 (ipykernel)",
   "language": "python",
   "name": "python3"
  },
  "language_info": {
   "codemirror_mode": {
    "name": "ipython",
    "version": 3
   },
   "file_extension": ".py",
   "mimetype": "text/x-python",
   "name": "python",
   "nbconvert_exporter": "python",
   "pygments_lexer": "ipython3",
   "version": "3.11.1"
  }
 },
 "nbformat": 4,
 "nbformat_minor": 5
}
