{
 "cells": [
  {
   "cell_type": "code",
   "execution_count": 1,
   "id": "49af736b",
   "metadata": {},
   "outputs": [],
   "source": [
    "import pandas as pd\n",
    "import numpy as np\n",
    "import matplotlib.pyplot as plt\n",
    "import dataframe_image as dfi\n",
    "from datetime import datetime\n",
    "import networkx as nx\n",
    "import scipy\n",
    "import itertools"
   ]
  },
  {
   "cell_type": "code",
   "execution_count": 2,
   "id": "cb0cfaf3",
   "metadata": {},
   "outputs": [
    {
     "data": {
      "text/plain": [
       "41397"
      ]
     },
     "execution_count": 2,
     "metadata": {},
     "output_type": "execute_result"
    }
   ],
   "source": [
    "file = r\"C:\\Users\\PcLaptop\\Documents\\GitHub\\Climate-and-conflict\\1997-01-01-2023-07-18-Eastern_Africa-Somalia.csv\"\n",
    "df = pd.read_csv(file)\n",
    "len(df)"
   ]
  },
  {
   "cell_type": "code",
   "execution_count": 3,
   "id": "57b8e55f",
   "metadata": {},
   "outputs": [
    {
     "data": {
      "text/plain": [
       "36995"
      ]
     },
     "execution_count": 3,
     "metadata": {},
     "output_type": "execute_result"
    }
   ],
   "source": [
    "df=df[df['event_type'] != 'Protests']\n",
    "df=df[df['event_type'] != 'Strategic developments']\n",
    "len(df)"
   ]
  },
  {
   "cell_type": "code",
   "execution_count": 4,
   "id": "647d91e1",
   "metadata": {},
   "outputs": [],
   "source": [
    "v= df[\"event_date\"]\n",
    "v=v.values\n",
    "dt = [datetime.strptime(v[i], \"%d %B %Y\") for i in range(len(v))]\n",
    "q=[]\n",
    "\n",
    "for i in range(len(dt)):\n",
    "    q.append(datetime.timestamp(dt[i]))\n",
    "    \n",
    "df.insert(loc=3, column='date_timestamp', value=q)\n",
    "df = df.sort_values(\"date_timestamp\")\n",
    "\n",
    "df['event_date'] = pd.to_datetime(df['event_date'])\n",
    "df=df.set_index('event_date') "
   ]
  },
  {
   "cell_type": "code",
   "execution_count": 5,
   "id": "f50e3f13",
   "metadata": {},
   "outputs": [],
   "source": [
    "conflict=df.groupby([pd.Grouper(freq='40320min'),\"admin1\"]).count()\n",
    "conflict=conflict.reset_index(level=[0, 1])\n",
    "conflict=conflict[['event_date','admin1','year']]\n",
    "conflict=conflict.rename(columns={'year': 'conflicts','event_date': 'time'})\n",
    "\n",
    "conflict['datetime_column'] = pd.to_datetime(conflict['time'])\n",
    "\n",
    "# Aggregate the datetime objects by month\n",
    "aggregated_data = conflict.groupby([pd.Grouper(key='time', freq='M'),'admin1'])['conflicts'].sum()\n",
    "\n",
    "conf=aggregated_data.to_frame()"
   ]
  },
  {
   "cell_type": "code",
   "execution_count": 6,
   "id": "ee086f40",
   "metadata": {},
   "outputs": [],
   "source": [
    "dates = conf.index.get_level_values('time').unique()\n",
    "districts = conf.index.get_level_values('admin1').unique()\n",
    "all_combinations = pd.MultiIndex.from_product([dates, districts], names=['time', 'admin1'])\n",
    "\n",
    "# Reindex the DataFrame with all combinations\n",
    "df1 = conf.reindex(all_combinations, fill_value=0)\n",
    "\n",
    "# Reset the index\n",
    "df1 = df1.reset_index()"
   ]
  },
  {
   "cell_type": "code",
   "execution_count": 7,
   "id": "42f52795",
   "metadata": {},
   "outputs": [],
   "source": [
    "conflicts = df1.sort_values(by=['time', 'admin1'], ascending=[True, True])\n",
    "conflicts.reset_index(drop=True, inplace=True)"
   ]
  },
  {
   "cell_type": "code",
   "execution_count": 20,
   "id": "6456c29d",
   "metadata": {},
   "outputs": [],
   "source": [
    "file = r\"C:\\Users\\PcLaptop\\Documents\\GitHub\\Climate-and-conflict\\temp_pre_new.csv\"\n",
    "temp_pre = pd.read_csv(file)\n",
    "#rename columns\n",
    "temp_pre=temp_pre.rename(columns={'T2M_MAX':'tmx','PRECTOTCORR': 'pre','region': 'admin1'})"
   ]
  },
  {
   "cell_type": "code",
   "execution_count": 21,
   "id": "afcd0820",
   "metadata": {},
   "outputs": [
    {
     "data": {
      "text/html": [
       "<div>\n",
       "<style scoped>\n",
       "    .dataframe tbody tr th:only-of-type {\n",
       "        vertical-align: middle;\n",
       "    }\n",
       "\n",
       "    .dataframe tbody tr th {\n",
       "        vertical-align: top;\n",
       "    }\n",
       "\n",
       "    .dataframe thead th {\n",
       "        text-align: right;\n",
       "    }\n",
       "</style>\n",
       "<table border=\"1\" class=\"dataframe\">\n",
       "  <thead>\n",
       "    <tr style=\"text-align: right;\">\n",
       "      <th></th>\n",
       "      <th>time</th>\n",
       "      <th>admin1</th>\n",
       "      <th>pre</th>\n",
       "      <th>tmx</th>\n",
       "    </tr>\n",
       "  </thead>\n",
       "  <tbody>\n",
       "    <tr>\n",
       "      <th>0</th>\n",
       "      <td>199701.0</td>\n",
       "      <td>Awdal</td>\n",
       "      <td>0.312500</td>\n",
       "      <td>30.277500</td>\n",
       "    </tr>\n",
       "    <tr>\n",
       "      <th>1</th>\n",
       "      <td>199701.0</td>\n",
       "      <td>Bakool</td>\n",
       "      <td>0.006250</td>\n",
       "      <td>36.488747</td>\n",
       "    </tr>\n",
       "    <tr>\n",
       "      <th>2</th>\n",
       "      <td>199701.0</td>\n",
       "      <td>Bari</td>\n",
       "      <td>0.072500</td>\n",
       "      <td>29.962084</td>\n",
       "    </tr>\n",
       "    <tr>\n",
       "      <th>3</th>\n",
       "      <td>199701.0</td>\n",
       "      <td>Bay</td>\n",
       "      <td>0.001429</td>\n",
       "      <td>38.415000</td>\n",
       "    </tr>\n",
       "    <tr>\n",
       "      <th>4</th>\n",
       "      <td>199701.0</td>\n",
       "      <td>Galgaduud</td>\n",
       "      <td>0.023529</td>\n",
       "      <td>34.728237</td>\n",
       "    </tr>\n",
       "  </tbody>\n",
       "</table>\n",
       "</div>"
      ],
      "text/plain": [
       "       time     admin1       pre        tmx\n",
       "0  199701.0      Awdal  0.312500  30.277500\n",
       "1  199701.0     Bakool  0.006250  36.488747\n",
       "2  199701.0       Bari  0.072500  29.962084\n",
       "3  199701.0        Bay  0.001429  38.415000\n",
       "4  199701.0  Galgaduud  0.023529  34.728237"
      ]
     },
     "execution_count": 21,
     "metadata": {},
     "output_type": "execute_result"
    }
   ],
   "source": [
    "temp_pre.head()"
   ]
  },
  {
   "cell_type": "code",
   "execution_count": null,
   "id": "e7ef132c",
   "metadata": {},
   "outputs": [],
   "source": []
  },
  {
   "cell_type": "code",
   "execution_count": 22,
   "id": "f8b312de",
   "metadata": {},
   "outputs": [],
   "source": [
    "district1 = 'Lower Shabelle'  # Replace with the name of the first neighboring district\n",
    "district2 = 'Middle Shabelle'  # Replace with the name of the second neighboring district\n",
    "\n",
    "# Step 2: Calculate the mean temp for the neighboring districts\n",
    "mean_t = temp_pre[(temp_pre['admin1']==district1) | (temp_pre['admin1']==district2)].groupby('time')['tmx'].mean()\n",
    "\n",
    "# Step 2: Calculate the mean prec for the neighboring districts\n",
    "mean_p = temp_pre[(temp_pre['admin1']==district1) | (temp_pre['admin1']==district2)].groupby('time')['pre'].mean()\n",
    "\n",
    "# Step 3: Create a new DataFrame with the additional district and the mean conflict values\n",
    "additional_district = 'Banadir'  # Replace with the name of the additional district\n",
    "new_data = pd.DataFrame({ 'admin1': additional_district, 'tmx': mean_t, 'pre': mean_p})\n",
    "new_data=new_data.reset_index()\n",
    "\n",
    "# Step 4: Append the new DataFrame to the original DataFrame\n",
    "df3 = pd.concat([temp_pre, new_data])"
   ]
  },
  {
   "cell_type": "code",
   "execution_count": 23,
   "id": "7dbb2762",
   "metadata": {},
   "outputs": [],
   "source": [
    "temp_pre=df3.sort_values(by=['time', 'admin1'], ascending=[True, True]).reset_index(drop=True)\n",
    "\n",
    "#make all enlements in array integers\n",
    "temp_pre['time']=temp_pre['time'].astype('int64').astype(int)\n",
    "\n",
    "#add a '-' between year and month in temp_pre['time']\n",
    "temp_pre['month_year']=temp_pre['time'].astype(str).str[:-2] + '-' + temp_pre['time'].astype(str).str[-2:]\n",
    "\n",
    "#from the format '1997-01' get '01'\n",
    "temp_pre['month'] = temp_pre['month_year'].str[5:7]\n",
    "#remove the rows that have the month 13 in column 'month'\n",
    "temp_pre=temp_pre[temp_pre['month'] != '13'].reset_index(drop=True)"
   ]
  },
  {
   "cell_type": "code",
   "execution_count": 24,
   "id": "e7cdc0e6",
   "metadata": {},
   "outputs": [],
   "source": [
    "conflicts.reset_index(drop=True, inplace=True)"
   ]
  },
  {
   "cell_type": "code",
   "execution_count": 25,
   "id": "46461e90",
   "metadata": {},
   "outputs": [],
   "source": [
    "conflicts['month_year'] = conflicts['time'].dt.strftime('%Y-%m').values"
   ]
  },
  {
   "cell_type": "code",
   "execution_count": 26,
   "id": "69a04e61",
   "metadata": {
    "scrolled": true
   },
   "outputs": [],
   "source": [
    "# Perform an outer merge on the month_year column, which includes all month and year combinations from both dataframes\n",
    "merged_df = pd.merge(temp_pre, conflicts, on=['month_year','admin1'], how='outer')\n",
    "\n",
    "# Fill missing values with zeros\n",
    "merged_df = merged_df.fillna(0)\n",
    "\n",
    "# Remove the temporary column\n",
    "merged_df.drop(['time_x','time_y'], axis=1, inplace=True)"
   ]
  },
  {
   "cell_type": "code",
   "execution_count": 27,
   "id": "09f48e3e",
   "metadata": {},
   "outputs": [],
   "source": [
    "#reorder columns\n",
    "merged_df = merged_df[['month_year','admin1','tmx','pre','conflicts']]\n",
    "#rename columns\n",
    "merged_df=merged_df.rename(columns={'month_year':'time'})"
   ]
  },
  {
   "cell_type": "code",
   "execution_count": 29,
   "id": "e98596d6",
   "metadata": {},
   "outputs": [],
   "source": [
    "merged_df=merged_df[merged_df['tmx'] != 0].reset_index(drop=True)"
   ]
  },
  {
   "cell_type": "code",
   "execution_count": 30,
   "id": "d90c7c6b",
   "metadata": {
    "scrolled": true
   },
   "outputs": [],
   "source": [
    "merged_df.to_csv('temp-pre-conf-new.csv', index=False)"
   ]
  },
  {
   "cell_type": "code",
   "execution_count": null,
   "id": "0ff798f2",
   "metadata": {},
   "outputs": [],
   "source": []
  }
 ],
 "metadata": {
  "kernelspec": {
   "display_name": "Python 3 (ipykernel)",
   "language": "python",
   "name": "python3"
  },
  "language_info": {
   "codemirror_mode": {
    "name": "ipython",
    "version": 3
   },
   "file_extension": ".py",
   "mimetype": "text/x-python",
   "name": "python",
   "nbconvert_exporter": "python",
   "pygments_lexer": "ipython3",
   "version": "3.11.1"
  }
 },
 "nbformat": 4,
 "nbformat_minor": 5
}
