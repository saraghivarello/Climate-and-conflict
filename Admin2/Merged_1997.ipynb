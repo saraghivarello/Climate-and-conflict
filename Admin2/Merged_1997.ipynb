{
 "cells": [
  {
   "cell_type": "code",
   "execution_count": 87,
   "id": "49af736b",
   "metadata": {},
   "outputs": [],
   "source": [
    "import pandas as pd\n",
    "import numpy as np\n",
    "import matplotlib.pyplot as plt\n",
    "import dataframe_image as dfi\n",
    "from datetime import datetime\n",
    "import itertools\n",
    "import os\n",
    "os.environ['USE_PYGEOS'] = '0'\n",
    "import geopandas as gpd\n",
    "import xarray as xr\n",
    "import regionmask\n",
    "import statsmodels.api as sm\n",
    "import statsmodels.formula.api as smf\n",
    "from patsy import dmatrices\n",
    "from collections import OrderedDict\n",
    "import sys\n",
    "from sklearn.preprocessing import MinMaxScaler\n",
    "from sklearn.preprocessing import StandardScaler "
   ]
  },
  {
   "cell_type": "markdown",
   "id": "d1fcc0bc",
   "metadata": {},
   "source": [
    "## DATA"
   ]
  },
  {
   "cell_type": "markdown",
   "id": "14c1ebf6",
   "metadata": {},
   "source": [
    "### Climate: UEA CRU TS4.07 (1901-2022)"
   ]
  },
  {
   "cell_type": "code",
   "execution_count": 58,
   "id": "2646f014",
   "metadata": {},
   "outputs": [],
   "source": [
    "file = r\"/home/sara/Documenti/GitHub/Climate-and-conflict/Datasets/cru_ts4.07.1901.2022.pre.dat.nc\"\n",
    "file2 = r\"/home/sara/Documenti/GitHub/Climate-and-conflict/Datasets/cru_ts4.07.1901.2022.tmx.dat.nc\"\n",
    "\n",
    "file_paths_list =[file,file2]\n",
    "monthly_forecast=xr.Dataset()\n",
    "\n",
    "for file in file_paths_list:\n",
    "        monthly_forecast = xr.merge([monthly_forecast,xr.open_mfdataset(file)], compat='override')"
   ]
  },
  {
   "cell_type": "markdown",
   "id": "5bb53f58",
   "metadata": {},
   "source": [
    "### Conflict events: ACLED"
   ]
  },
  {
   "cell_type": "code",
   "execution_count": 59,
   "id": "ffb3bda7",
   "metadata": {},
   "outputs": [],
   "source": [
    "file = r\"/home/sara/Documenti/GitHub/Climate-and-conflict/Datasets/ACLED_1997-01-01-2023-07-18_Somalia.csv\"\n",
    "df = pd.read_csv(file)"
   ]
  },
  {
   "cell_type": "markdown",
   "id": "a9f32fa7",
   "metadata": {},
   "source": [
    "### Administrative boundaries of Somalia"
   ]
  },
  {
   "cell_type": "code",
   "execution_count": 60,
   "id": "25cb8d8d",
   "metadata": {},
   "outputs": [],
   "source": [
    "path = r\"/home/sara/Documenti/GitHub/Climate-and-conflict/Datasets/som_adm_ocha_itos_20230308_shp/som_admbnda_adm1_ocha_20230308.shp\"\n",
    "states_gdf = gpd.read_file(path) "
   ]
  },
  {
   "cell_type": "code",
   "execution_count": 61,
   "id": "0b463bc2",
   "metadata": {},
   "outputs": [],
   "source": [
    "dist = pd.read_csv(\"/home/sara/Documenti/GitHub/Climate-and-conflict/csv/dist_som.csv\")\n",
    "dist_2 = dist**2\n",
    "#dist_2.to_csv(\"/home/sara/Documenti/GitHub/Climate-and-conflict/csv/dist_som_2.csv\")\n"
   ]
  },
  {
   "cell_type": "markdown",
   "id": "a741300f",
   "metadata": {},
   "source": [
    "### Displacements : UNHCR"
   ]
  },
  {
   "cell_type": "code",
   "execution_count": 62,
   "id": "03a611bd",
   "metadata": {},
   "outputs": [],
   "source": [
    "df_disp = pd.read_excel(r\"/home/sara/Documenti/GitHub/Climate-and-conflict/displacements/UNHCR-PRMN-Displacement-Dataset - Somalia.xlsx\")"
   ]
  },
  {
   "cell_type": "markdown",
   "id": "06c68dd5",
   "metadata": {},
   "source": [
    "### Population density Data"
   ]
  },
  {
   "cell_type": "code",
   "execution_count": 63,
   "id": "7501af42",
   "metadata": {},
   "outputs": [],
   "source": [
    "asc = r\"/home/sara/Documenti/GitHub/Climate-and-conflict/Datasets/gpw_v4_admin_unit_center_points_population_estimates_rev11_som.csv\"\n",
    "population_density = pd.read_csv(asc)"
   ]
  },
  {
   "cell_type": "markdown",
   "id": "510d21c6",
   "metadata": {},
   "source": [
    "# Data manipulation"
   ]
  },
  {
   "cell_type": "markdown",
   "id": "81a83aa8",
   "metadata": {},
   "source": [
    "## Climate data manipulation"
   ]
  },
  {
   "cell_type": "code",
   "execution_count": 64,
   "id": "e4ad81c1",
   "metadata": {},
   "outputs": [],
   "source": [
    "#Limit the lat-lon and time\n",
    "\n",
    "def get_aoi(shp, world=True):\n",
    "    lon_lat = {}\n",
    "    # Get lat min, max\n",
    "    aoi_lat = [float(shp.total_bounds[1]), float(shp.total_bounds[3])]\n",
    "    aoi_lon = [float(shp.total_bounds[0]), float(shp.total_bounds[2])]\n",
    "\n",
    "    lon_lat[\"lon\"] = aoi_lon\n",
    "    lon_lat[\"lat\"] = aoi_lat\n",
    "    return lon_lat\n",
    "\n",
    "bounds = get_aoi(states_gdf)"
   ]
  },
  {
   "cell_type": "code",
   "execution_count": 65,
   "id": "e765a268",
   "metadata": {},
   "outputs": [],
   "source": [
    "start_date = '1901-01-01'\n",
    "end_date = '2022-12-31'\n",
    "\n",
    "region = monthly_forecast[[\"pre\",'tmx']].sel(\n",
    "    time=slice(start_date, end_date),\n",
    "    lon=slice(bounds[\"lon\"][0], bounds[\"lon\"][1]),\n",
    "    lat=slice(bounds[\"lat\"][0], bounds[\"lat\"][1]))"
   ]
  },
  {
   "cell_type": "code",
   "execution_count": 66,
   "id": "1382c9f6",
   "metadata": {},
   "outputs": [],
   "source": [
    "region_mask = regionmask.mask_3D_geopandas(states_gdf,\n",
    "                                         monthly_forecast.lon,\n",
    "                                         monthly_forecast.lat)\n",
    "\n",
    "temp_pre = region.where(region_mask)\n",
    "temp_pre = temp_pre.groupby(\"time\").mean([\"lat\", \"lon\"]).to_dataframe().reset_index()"
   ]
  },
  {
   "cell_type": "code",
   "execution_count": 67,
   "id": "74921595",
   "metadata": {},
   "outputs": [],
   "source": [
    "replacement_dict = {0  :  'Awdal',\n",
    "                    1  :  'Bakool',\n",
    "                    2  :  'Banadir',\n",
    "                    3  :  'Bari',\n",
    "                    4  :  'Bay',\n",
    "                    5  :  'Galgaduud',\n",
    "                    6  :  'Gedo',\n",
    "                    7  :  'Hiraan',\n",
    "                    8  :  'Lower_Juba',\n",
    "                    9  :  'Lower_Shabelle',\n",
    "                    10 :  'Middle_Juba',\n",
    "                    11 :  'Middle_Shabelle',\n",
    "                    12 :  'Mudug',\n",
    "                    13 :  'Nugaal',\n",
    "                    14 :  'Sanaag',\n",
    "                    15 :  'Sool',\n",
    "                    16 :  'Togdheer',\n",
    "                    17 :  'Woqooyi_Galbeed'}\n",
    "\n",
    "temp_pre['admin1'] = temp_pre['region'].replace(replacement_dict)\n",
    "df['admin1'] = df['admin1'].str.replace(' ', '_')\n",
    "temp_pre.drop('region', axis=1, inplace=True)"
   ]
  },
  {
   "cell_type": "code",
   "execution_count": 68,
   "id": "ea8c3582",
   "metadata": {},
   "outputs": [],
   "source": [
    "# Add Banadir region with tmx and pre as mean of the neighbouring regions\n",
    "district1 = 'Lower_Shabelle'  \n",
    "district2 = 'Middle_Shabelle'  \n",
    "\n",
    "# Calculate the mean tmx and pre for the neighboring districts\n",
    "mean_t = temp_pre[(temp_pre['admin1']==district1) | (temp_pre['admin1']==district2)].groupby('time')['tmx'].mean()\n",
    "mean_p = temp_pre[(temp_pre['admin1']==district1) | (temp_pre['admin1']==district2)].groupby('time')['pre'].mean()\n",
    "new_data = pd.DataFrame({ 'admin1': 'Banadir', 'tmx': mean_t, 'pre': mean_p}).reset_index()\n",
    "\n",
    "# Append the new DataFrame to the original DataFrame\n",
    "temp_pre_m = pd.concat([temp_pre, new_data])\n",
    "temp_pre = temp_pre_m.sort_values(by=['time', 'admin1'], ascending=[True, True]).reset_index(drop=True)"
   ]
  },
  {
   "cell_type": "code",
   "execution_count": 69,
   "id": "3ed5068b",
   "metadata": {},
   "outputs": [],
   "source": [
    "# Only keep month and year in time column \n",
    "temp_pre['time'] = pd.to_datetime(temp_pre['time']).dt.strftime('%Y-%m-%d')\n",
    "temp_pre['month'] = temp_pre['time'].str[5:7]\n",
    "temp_pre['month_year'] = temp_pre['time'].str[:7]\n",
    "temp_pre = temp_pre[['month_year','admin1','tmx','pre']]\n",
    "temp_pre = temp_pre.rename(columns={'month_year':'time'})"
   ]
  },
  {
   "cell_type": "markdown",
   "id": "43c5a90e",
   "metadata": {},
   "source": [
    "## Conflict data manipulation"
   ]
  },
  {
   "cell_type": "code",
   "execution_count": 70,
   "id": "f50e3f13",
   "metadata": {},
   "outputs": [],
   "source": [
    "# Modify event_date column to datetime\n",
    "\n",
    "df['event_date'] = pd.to_datetime(df['event_date'])\n",
    "df = df.set_index('event_date') \n",
    "\n",
    "conflict = df.groupby([pd.Grouper(freq='M'),\"admin1\"]).count()\n",
    "conflict.reset_index(level=[0, 1], inplace=True)\n",
    "conflict = conflict[['event_date','admin1','year']].rename(columns={'year': 'conflicts','event_date': 'time'})\n",
    "\n",
    "# Aggregate the datetime objects by month\n",
    "conf = conflict.groupby([pd.Grouper(key='time', freq='M'),'admin1'])['conflicts'].sum().to_frame()"
   ]
  },
  {
   "cell_type": "code",
   "execution_count": 71,
   "id": "ee086f40",
   "metadata": {},
   "outputs": [],
   "source": [
    "# Reindex the DataFrame with all dates and districts and fill missing values with 0\n",
    "\n",
    "dates = conf.index.get_level_values('time').unique()\n",
    "districts = conf.index.get_level_values('admin1').unique()\n",
    "all_combinations = pd.MultiIndex.from_product([dates, districts], names=['time', 'admin1'])\n",
    "\n",
    "conflicts = conf.reindex(all_combinations, fill_value=0).reset_index()    \n",
    "conflicts = conflicts.sort_values(by=['time', 'admin1'], ascending=[True, True])\n",
    "conflicts.reset_index(drop=True, inplace=True)\n",
    "conflicts['time'] = conflicts['time'].dt.strftime('%Y-%m').values\n",
    "\n",
    "# Merge the two DataFrames temp_pre and conflicts\n",
    "df_2016 = pd.merge(temp_pre, conflicts, on=['time','admin1'], how='outer')"
   ]
  },
  {
   "cell_type": "markdown",
   "id": "5333c906",
   "metadata": {},
   "source": [
    "## Displacements data manipulation"
   ]
  },
  {
   "cell_type": "code",
   "execution_count": 72,
   "id": "591662b7",
   "metadata": {},
   "outputs": [],
   "source": [
    "df_disp = df_disp[(df_disp['Reason']=='Drought related')]\n",
    "df_disp['Current (Arrival) Region'] = df_disp['Current (Arrival) Region'].str.replace(' ', '_')\n",
    "df_disp['Previous (Departure) Region'] = df_disp['Previous (Departure) Region'].str.replace(' ', '_')"
   ]
  },
  {
   "cell_type": "code",
   "execution_count": 73,
   "id": "3f1dea00",
   "metadata": {},
   "outputs": [],
   "source": [
    "v= df_disp[\"Month End\"]\n",
    "v=v.values\n",
    "dt = [datetime.strptime(v[i], \"%d/%m/%Y\") for i in range(len(v))]\n",
    "q=[]\n",
    "\n",
    "for i in range(len(dt)):\n",
    "    q.append(datetime.timestamp(dt[i]))\n",
    "    \n",
    "df_disp.insert(loc=3, column='date_timestamp', value=q)\n",
    "df_disp = df_disp.sort_values(\"date_timestamp\")\n",
    "\n",
    "df_disp['Month End'] = pd.to_datetime(df_disp['Month End'], dayfirst=True)"
   ]
  },
  {
   "cell_type": "code",
   "execution_count": 74,
   "id": "6a27a286",
   "metadata": {},
   "outputs": [],
   "source": [
    "aggregated_data = df_disp.groupby([pd.Grouper(key='Month End', freq='M'),'Previous (Departure) Region', 'Current (Arrival) Region'])['Number of Individuals'].sum().to_frame()\n",
    "\n",
    "# Get the unique values of 'Month End' and 'Previous (Departure) Region' \n",
    "dates = aggregated_data.index.get_level_values('Month End').unique()\n",
    "districts = aggregated_data.index.get_level_values('Previous (Departure) Region').unique()\n",
    "\n",
    "all_combinations = pd.MultiIndex.from_product([dates, districts, districts], names=['time', 'Previous (Departure) Region','Current (Arrival) Region'])\n",
    "\n",
    "# Reindex the aggregated_data DataFrame with 'all_combinations'\n",
    "disp_data = aggregated_data.reindex(all_combinations, fill_value=0).reset_index()   "
   ]
  },
  {
   "cell_type": "code",
   "execution_count": 75,
   "id": "05e82204",
   "metadata": {},
   "outputs": [],
   "source": [
    "disp_matxs = disp_data.pivot_table(index=['time','Current (Arrival) Region'], columns='Previous (Departure) Region', values='Number of Individuals', aggfunc='sum').reset_index()\n",
    "disp_matxs = disp_matxs.rename(columns={'Current (Arrival) Region': 'admin1'})\n",
    "\n",
    "#remove the day from the date\n",
    "disp_matxs['time'] = disp_matxs['time'].map(lambda x: x.strftime('%Y-%m'))\n",
    "#disp_matxs = disp_matxs.drop(columns=['time'])\n",
    "#temp_pre_c['yr_mth'] = pd.to_datetime(temp_pre_c['time'], format='%Y-%m', dayfirst=True).map(lambda x: x.strftime('%Y-%m'))\n",
    "\n",
    "#df_2016 = df_2016.rename(columns={'time': 'yr_mth'})\n",
    "df_merged_d = pd.merge(df_2016, disp_matxs, on=['time', 'admin1'], how='outer')"
   ]
  },
  {
   "cell_type": "code",
   "execution_count": 76,
   "id": "4a41e095",
   "metadata": {},
   "outputs": [],
   "source": [
    "#add a column with the sum of the displacements\n",
    "df_merged_d['sum_disp'] = df_merged_d.iloc[:, -18:].sum(axis=1)"
   ]
  },
  {
   "cell_type": "code",
   "execution_count": 77,
   "id": "b3bb80cd",
   "metadata": {},
   "outputs": [],
   "source": [
    "#df_merged.to_csv(r\"/home/sara/Documenti/GitHub/Climate-and-conflict/csv/df_lags_2016_n4c_disp_d.csv\", index=False)"
   ]
  },
  {
   "cell_type": "markdown",
   "id": "5a3dcf55",
   "metadata": {},
   "source": [
    "## Compute TA, PA, DL"
   ]
  },
  {
   "cell_type": "code",
   "execution_count": 78,
   "id": "e4a05554",
   "metadata": {},
   "outputs": [],
   "source": [
    "# Split the dataframe into regions\n",
    "\n",
    "reg=[]\n",
    "for admin in df_merged_d['admin1'].unique():\n",
    "    a = df_merged_d[df_merged_d['admin1']==admin].reset_index(drop=True)\n",
    "    reg.append(a)"
   ]
  },
  {
   "cell_type": "code",
   "execution_count": 79,
   "id": "80cdd9a6",
   "metadata": {},
   "outputs": [],
   "source": [
    "# Calculate the TA (temperature anomaly), PA (precipitation anomaly) and DL (drought lenght) for each region\n",
    "\n",
    "avg_t = avg_p = std_t = std_p = np.zeros(18)\n",
    "\n",
    "for i in range(18):\n",
    "\n",
    "    reg[i]['year'] , reg[i]['month'] = reg[i]['time'].str[:4] , reg[i]['time'].str[5:7]\n",
    "\n",
    "    # TA\n",
    "    mean_temp_i , std_temp_i  = reg[i].groupby('month')['tmx'].mean() , reg[i].groupby('month')['tmx'].std()\n",
    "    reg[i]['avg_temp'] , reg[i]['std_temp']  = reg[i]['month'].map(mean_temp_i) , reg[i]['month'].map(std_temp_i)\n",
    "    reg[i]['diff_t']= (reg[i]['tmx']-reg[i]['avg_temp'])/reg[i]['std_temp']\n",
    "    reg[i]['TA'] = (reg[i]['diff_t'].shift(3) + reg[i]['diff_t'].shift(2) + reg[i]['diff_t'].shift(1) + reg[i]['diff_t'])/4\n",
    "\n",
    "    # PA\n",
    "    mean_pre_i , std_pre_i  = reg[i].groupby('month')['pre'].mean() , reg[i].groupby('month')['pre'].std()\n",
    "    reg[i]['avg_pre'] , reg[i]['std_pre']= reg[i]['month'].map(mean_pre_i) , reg[i]['month'].map(std_pre_i)\n",
    "    reg[i]['diff_p']= (reg[i]['pre']-reg[i]['avg_pre'])/reg[i]['std_pre']\n",
    "    reg[i]['PA'] = (reg[i]['diff_p'].shift(3) + reg[i]['diff_p'].shift(2) + reg[i]['diff_p'].shift(1) + reg[i]['diff_p'])/4\n",
    "    \n",
    "    # DL \n",
    "    reg[i]['DL'] = 0\n",
    "    mask = reg[i]['TA'] > 0\n",
    "    group_id = (mask != mask.shift()).cumsum()             # Create a group identifier for each consecutive group\n",
    "    count = reg[i].groupby(group_id).cumcount() + 1        # Calculate the count within each group\n",
    "    reg[i]['DL'] = np.where(mask, count, 0)                # Assign the count values to the 'DL' column\n",
    "\n",
    "    # Add lagged variables\n",
    "    reg[i]['TA_lag1'], reg[i]['TA_lag2'], reg[i]['TA_lag3'], reg[i]['TA_lag4'], reg[i]['TA_lag5'], reg[i]['TA_lag6'] = reg[i]['TA'].shift(1), reg[i]['TA'].shift(2), reg[i]['TA'].shift(3), reg[i]['TA'].shift(4), reg[i]['TA'].shift(5), reg[i]['TA'].shift(6)\n",
    "    reg[i]['PA_lag1'], reg[i]['PA_lag2'], reg[i]['PA_lag3'], reg[i]['PA_lag4'], reg[i]['PA_lag5'], reg[i]['PA_lag6'] = reg[i]['PA'].shift(1), reg[i]['PA'].shift(2), reg[i]['PA'].shift(3), reg[i]['PA'].shift(4), reg[i]['PA'].shift(5), reg[i]['PA'].shift(6)\n",
    "    reg[i]['DL_lag1'], reg[i]['DL_lag2'], reg[i]['DL_lag3'], reg[i]['DL_lag4'], reg[i]['DL_lag5'], reg[i]['DL_lag6'] = reg[i]['DL'].shift(1), reg[i]['DL'].shift(2), reg[i]['DL'].shift(3), reg[i]['DL'].shift(4), reg[i]['DL'].shift(5), reg[i]['DL'].shift(6)\n",
    "    reg[i]['conflicts_lag1'], reg[i]['conflicts_lag2'], reg[i]['conflicts_lag3'], reg[i]['conflicts_lag4'], reg[i]['conflicts_lag5'], reg[i]['conflicts_lag6'] = reg[i]['conflicts'].shift(1), reg[i]['conflicts'].shift(2), reg[i]['conflicts'].shift(3), reg[i]['conflicts'].shift(4), reg[i]['conflicts'].shift(5), reg[i]['conflicts'].shift(6)\n",
    "    reg[i]['sum_disp_lag1'], reg[i]['sum_disp_lag2'], reg[i]['sum_disp_lag3'], reg[i]['sum_disp_lag4'], reg[i]['sum_disp_lag5'], reg[i]['sum_disp_lag6'] = reg[i]['sum_disp'].shift(1), reg[i]['sum_disp'].shift(2), reg[i]['sum_disp'].shift(3), reg[i]['sum_disp'].shift(4), reg[i]['sum_disp'].shift(5), reg[i]['sum_disp'].shift(6)\n",
    "    reg[i] = reg[i].reset_index()"
   ]
  },
  {
   "cell_type": "code",
   "execution_count": 80,
   "id": "3dd81ce8",
   "metadata": {},
   "outputs": [],
   "source": [
    "temp_pre_c = pd.concat([reg[i] for i in range(18)], axis=0)\n",
    "#temp_pre_c = temp_pre_c.dropna()\n",
    "# drop all entries before 2016-01 and after 2022-12\n",
    "#temp_pre_c = temp_pre_c[(temp_pre_c['time'] >= '2016-01') & (temp_pre_c['time'] <= '2022-12')]\n",
    "# Select a subset of the dataframes from 1997-01 to 2022-12\n",
    "temp_pre_c = temp_pre_c.fillna(0)\n",
    "temp_pre_c = temp_pre_c.drop(['avg_temp', 'avg_pre', 'std_temp', 'std_pre', 'diff_t', 'diff_p'], axis=1)\n",
    "temp_pre_c = temp_pre_c.sort_values(by=['time','admin1'], ascending=[True, True]).reset_index(drop=True)"
   ]
  },
  {
   "cell_type": "code",
   "execution_count": 81,
   "id": "e81561e3",
   "metadata": {},
   "outputs": [],
   "source": [
    "month_dict = {1: 'January', 2: 'February', 3: 'March', 4: 'April', 5: 'May', 6:'June', 7:'July', 8:'August', 9:'September', 10:'October', 11:'November', 12:'December'}\n",
    "temp_pre_c['month_name'] = temp_pre_c['month'].map(month_dict)"
   ]
  },
  {
   "cell_type": "code",
   "execution_count": 82,
   "id": "a235495d",
   "metadata": {},
   "outputs": [],
   "source": [
    "#temp_pre_c.to_csv(r\"/home/sara/Documenti/GitHub/Climate-and-conflict/csv/df_lags_2016_n4_c.csv\", index = False, header=True)"
   ]
  },
  {
   "cell_type": "markdown",
   "id": "46649c1b",
   "metadata": {},
   "source": [
    "## Population density "
   ]
  },
  {
   "cell_type": "code",
   "execution_count": 83,
   "id": "2d5952cc",
   "metadata": {},
   "outputs": [],
   "source": [
    "population_density = population_density.groupby('NAME2')[['UN_2000_DS','UN_2005_DS','UN_2010_DS','UN_2015_DS','UN_2020_DS']].sum()\n",
    "population_density.rename(index={'Juba Dhexe (Middle)':'Middle_Juba','Juba Hoose (Lower)':'Lower_Juba','Shabelle Dhexe (Middle)':'Middle_Shabelle','Shabelle Hoose (Lower)':'Lower_Shabelle','Woqooyi Galbeed':'Woqooyi_Galbeed'},inplace=True)\t\n",
    "\n",
    "population_density['UN_2001_DS']=population_density['UN_2000_DS']+(population_density['UN_2005_DS']-population_density['UN_2000_DS'])/5\n",
    "population_density['UN_2002_DS']=population_density['UN_2001_DS']+(population_density['UN_2005_DS']-population_density['UN_2000_DS'])/5\n",
    "population_density['UN_2003_DS']=population_density['UN_2002_DS']+(population_density['UN_2005_DS']-population_density['UN_2000_DS'])/5\n",
    "population_density['UN_2004_DS']=population_density['UN_2003_DS']+(population_density['UN_2005_DS']-population_density['UN_2000_DS'])/5\n",
    "population_density['UN_2006_DS']=population_density['UN_2005_DS']+(population_density['UN_2010_DS']-population_density['UN_2005_DS'])/5\n",
    "population_density['UN_2007_DS']=population_density['UN_2006_DS']+(population_density['UN_2010_DS']-population_density['UN_2005_DS'])/5\n",
    "population_density['UN_2008_DS']=population_density['UN_2007_DS']+(population_density['UN_2010_DS']-population_density['UN_2005_DS'])/5\n",
    "population_density['UN_2009_DS']=population_density['UN_2008_DS']+(population_density['UN_2010_DS']-population_density['UN_2005_DS'])/5\n",
    "population_density['UN_2011_DS']=population_density['UN_2010_DS']+(population_density['UN_2015_DS']-population_density['UN_2010_DS'])/5\n",
    "population_density['UN_2012_DS']=population_density['UN_2011_DS']+(population_density['UN_2015_DS']-population_density['UN_2010_DS'])/5\n",
    "population_density['UN_2013_DS']=population_density['UN_2012_DS']+(population_density['UN_2015_DS']-population_density['UN_2010_DS'])/5\n",
    "population_density['UN_2014_DS']=population_density['UN_2013_DS']+(population_density['UN_2015_DS']-population_density['UN_2010_DS'])/5\n",
    "population_density['UN_2016_DS']=population_density['UN_2015_DS']+(population_density['UN_2020_DS']-population_density['UN_2015_DS'])/5\n",
    "population_density['UN_2017_DS']=population_density['UN_2016_DS']+(population_density['UN_2020_DS']-population_density['UN_2015_DS'])/5\n",
    "population_density['UN_2018_DS']=population_density['UN_2017_DS']+(population_density['UN_2020_DS']-population_density['UN_2015_DS'])/5\n",
    "population_density['UN_2019_DS']=population_density['UN_2018_DS']+(population_density['UN_2020_DS']-population_density['UN_2015_DS'])/5\n",
    "population_density['UN_2021_DS']=population_density['UN_2020_DS']+(population_density['UN_2020_DS']-population_density['UN_2015_DS'])/5\n",
    "population_density['UN_2022_DS']=population_density['UN_2021_DS']+(population_density['UN_2020_DS']-population_density['UN_2015_DS'])/5"
   ]
  },
  {
   "cell_type": "code",
   "execution_count": 84,
   "id": "e59b617e",
   "metadata": {},
   "outputs": [],
   "source": [
    "population_density=population_density[['UN_2000_DS','UN_2001_DS','UN_2002_DS','UN_2003_DS','UN_2004_DS','UN_2005_DS','UN_2006_DS','UN_2007_DS','UN_2008_DS','UN_2009_DS','UN_2010_DS','UN_2011_DS','UN_2012_DS','UN_2013_DS','UN_2014_DS','UN_2015_DS','UN_2016_DS','UN_2017_DS','UN_2018_DS','UN_2019_DS','UN_2020_DS','UN_2021_DS','UN_2022_DS']]\n",
    "population_density.reset_index(inplace=True)\n",
    "population_density.rename(columns={'NAME2':'admin1','UN_2000_DS':'2000','UN_2001_DS':'2001','UN_2002_DS':'2002','UN_2003_DS':'2003','UN_2004_DS':'2004','UN_2005_DS':'2005','UN_2006_DS':'2006','UN_2007_DS':'2007','UN_2008_DS':'2008','UN_2009_DS':'2009','UN_2010_DS':'2010','UN_2011_DS':'2011','UN_2012_DS':'2012','UN_2013_DS':'2013','UN_2014_DS':'2014','UN_2015_DS':'2015','UN_2016_DS':'2016','UN_2017_DS':'2017','UN_2018_DS':'2018','UN_2019_DS':'2019','UN_2020_DS':'2020','UN_2021_DS':'2021','UN_2022_DS':'2022'},inplace=True)\n",
    "\n",
    "#pivot the table to have the years as rows\n",
    "population_density=population_density.melt(id_vars=['admin1'],value_vars=['2000','2001','2002','2003','2004','2005','2006','2007','2008','2009','2010','2011','2012','2013','2014','2015','2016','2017','2018','2019','2020','2021','2022'],var_name='year',value_name='population_density')\n",
    "population_density['year']=population_density['year']\n",
    "\n",
    "df_merged=pd.merge(temp_pre_c,population_density,how='left',on=['year','admin1'])"
   ]
  },
  {
   "cell_type": "code",
   "execution_count": 85,
   "id": "551d290a",
   "metadata": {},
   "outputs": [],
   "source": [
    "#df_merged = df_merged[df_merged['conflicts']!=0]\n",
    "df_merged['conflicts_log'] = np.log(df_merged['conflicts']+1)\n",
    "df_merged['sum_disp_log'] = np.log(df_merged['sum_disp']+1) "
   ]
  },
  {
   "cell_type": "markdown",
   "id": "10e31120",
   "metadata": {},
   "source": [
    "## Standardization"
   ]
  },
  {
   "cell_type": "code",
   "execution_count": 104,
   "id": "3a8fbea3",
   "metadata": {},
   "outputs": [
    {
     "name": "stderr",
     "output_type": "stream",
     "text": [
      "/tmp/ipykernel_15669/1738551028.py:13: SettingWithCopyWarning: \n",
      "A value is trying to be set on a copy of a slice from a DataFrame.\n",
      "Try using .loc[row_indexer,col_indexer] = value instead\n",
      "\n",
      "See the caveats in the documentation: https://pandas.pydata.org/pandas-docs/stable/user_guide/indexing.html#returning-a-view-versus-a-copy\n",
      "  df_merged_std[col1] = scaler.transform(df_merged_std[col1])\n"
     ]
    },
    {
     "data": {
      "text/html": [
       "<div>\n",
       "<style scoped>\n",
       "    .dataframe tbody tr th:only-of-type {\n",
       "        vertical-align: middle;\n",
       "    }\n",
       "\n",
       "    .dataframe tbody tr th {\n",
       "        vertical-align: top;\n",
       "    }\n",
       "\n",
       "    .dataframe thead th {\n",
       "        text-align: right;\n",
       "    }\n",
       "</style>\n",
       "<table border=\"1\" class=\"dataframe\">\n",
       "  <thead>\n",
       "    <tr style=\"text-align: right;\">\n",
       "      <th></th>\n",
       "      <th>index</th>\n",
       "      <th>time</th>\n",
       "      <th>admin1</th>\n",
       "      <th>tmx</th>\n",
       "      <th>pre</th>\n",
       "      <th>conflicts</th>\n",
       "      <th>Awdal</th>\n",
       "      <th>Bakool</th>\n",
       "      <th>Banadir</th>\n",
       "      <th>Bari</th>\n",
       "      <th>...</th>\n",
       "      <th>sum_disp_lag1</th>\n",
       "      <th>sum_disp_lag2</th>\n",
       "      <th>sum_disp_lag3</th>\n",
       "      <th>sum_disp_lag4</th>\n",
       "      <th>sum_disp_lag5</th>\n",
       "      <th>sum_disp_lag6</th>\n",
       "      <th>month_name</th>\n",
       "      <th>population_density</th>\n",
       "      <th>conflicts_log</th>\n",
       "      <th>sum_disp_log</th>\n",
       "    </tr>\n",
       "  </thead>\n",
       "  <tbody>\n",
       "    <tr>\n",
       "      <th>20736</th>\n",
       "      <td>1152</td>\n",
       "      <td>1997-01</td>\n",
       "      <td>Awdal</td>\n",
       "      <td>-0.429020</td>\n",
       "      <td>-0.438933</td>\n",
       "      <td>-0.527339</td>\n",
       "      <td>0.0</td>\n",
       "      <td>0.0</td>\n",
       "      <td>0.0</td>\n",
       "      <td>0.0</td>\n",
       "      <td>...</td>\n",
       "      <td>-0.155875</td>\n",
       "      <td>-0.154577</td>\n",
       "      <td>-0.153369</td>\n",
       "      <td>-0.151936</td>\n",
       "      <td>-0.149966</td>\n",
       "      <td>-0.146912</td>\n",
       "      <td>NaN</td>\n",
       "      <td>NaN</td>\n",
       "      <td>-1.031637</td>\n",
       "      <td>-0.549754</td>\n",
       "    </tr>\n",
       "    <tr>\n",
       "      <th>20737</th>\n",
       "      <td>1152</td>\n",
       "      <td>1997-01</td>\n",
       "      <td>Bakool</td>\n",
       "      <td>0.356305</td>\n",
       "      <td>-0.805387</td>\n",
       "      <td>-0.527339</td>\n",
       "      <td>0.0</td>\n",
       "      <td>0.0</td>\n",
       "      <td>0.0</td>\n",
       "      <td>0.0</td>\n",
       "      <td>...</td>\n",
       "      <td>-0.155875</td>\n",
       "      <td>-0.154577</td>\n",
       "      <td>-0.153369</td>\n",
       "      <td>-0.151936</td>\n",
       "      <td>-0.149966</td>\n",
       "      <td>-0.146912</td>\n",
       "      <td>NaN</td>\n",
       "      <td>NaN</td>\n",
       "      <td>-1.031637</td>\n",
       "      <td>-0.549754</td>\n",
       "    </tr>\n",
       "    <tr>\n",
       "      <th>20738</th>\n",
       "      <td>1152</td>\n",
       "      <td>1997-01</td>\n",
       "      <td>Banadir</td>\n",
       "      <td>0.193714</td>\n",
       "      <td>-0.710673</td>\n",
       "      <td>-0.527339</td>\n",
       "      <td>0.0</td>\n",
       "      <td>0.0</td>\n",
       "      <td>0.0</td>\n",
       "      <td>0.0</td>\n",
       "      <td>...</td>\n",
       "      <td>-0.155875</td>\n",
       "      <td>-0.154577</td>\n",
       "      <td>-0.153369</td>\n",
       "      <td>-0.151936</td>\n",
       "      <td>-0.149966</td>\n",
       "      <td>-0.146912</td>\n",
       "      <td>NaN</td>\n",
       "      <td>NaN</td>\n",
       "      <td>-1.031637</td>\n",
       "      <td>-0.549754</td>\n",
       "    </tr>\n",
       "    <tr>\n",
       "      <th>20739</th>\n",
       "      <td>1152</td>\n",
       "      <td>1997-01</td>\n",
       "      <td>Bari</td>\n",
       "      <td>-0.574109</td>\n",
       "      <td>-0.689545</td>\n",
       "      <td>-0.527339</td>\n",
       "      <td>0.0</td>\n",
       "      <td>0.0</td>\n",
       "      <td>0.0</td>\n",
       "      <td>0.0</td>\n",
       "      <td>...</td>\n",
       "      <td>-0.155875</td>\n",
       "      <td>-0.154577</td>\n",
       "      <td>-0.153369</td>\n",
       "      <td>-0.151936</td>\n",
       "      <td>-0.149966</td>\n",
       "      <td>-0.146912</td>\n",
       "      <td>NaN</td>\n",
       "      <td>NaN</td>\n",
       "      <td>-1.031637</td>\n",
       "      <td>-0.549754</td>\n",
       "    </tr>\n",
       "    <tr>\n",
       "      <th>20740</th>\n",
       "      <td>1152</td>\n",
       "      <td>1997-01</td>\n",
       "      <td>Bay</td>\n",
       "      <td>0.396115</td>\n",
       "      <td>-0.775473</td>\n",
       "      <td>-0.527339</td>\n",
       "      <td>0.0</td>\n",
       "      <td>0.0</td>\n",
       "      <td>0.0</td>\n",
       "      <td>0.0</td>\n",
       "      <td>...</td>\n",
       "      <td>-0.155875</td>\n",
       "      <td>-0.154577</td>\n",
       "      <td>-0.153369</td>\n",
       "      <td>-0.151936</td>\n",
       "      <td>-0.149966</td>\n",
       "      <td>-0.146912</td>\n",
       "      <td>NaN</td>\n",
       "      <td>NaN</td>\n",
       "      <td>-1.031637</td>\n",
       "      <td>-0.549754</td>\n",
       "    </tr>\n",
       "  </tbody>\n",
       "</table>\n",
       "<p>5 rows × 64 columns</p>\n",
       "</div>"
      ],
      "text/plain": [
       "       index     time   admin1       tmx       pre  conflicts  Awdal  Bakool  \\\n",
       "20736   1152  1997-01    Awdal -0.429020 -0.438933  -0.527339    0.0     0.0   \n",
       "20737   1152  1997-01   Bakool  0.356305 -0.805387  -0.527339    0.0     0.0   \n",
       "20738   1152  1997-01  Banadir  0.193714 -0.710673  -0.527339    0.0     0.0   \n",
       "20739   1152  1997-01     Bari -0.574109 -0.689545  -0.527339    0.0     0.0   \n",
       "20740   1152  1997-01      Bay  0.396115 -0.775473  -0.527339    0.0     0.0   \n",
       "\n",
       "       Banadir  Bari  ...  sum_disp_lag1  sum_disp_lag2  sum_disp_lag3  \\\n",
       "20736      0.0   0.0  ...      -0.155875      -0.154577      -0.153369   \n",
       "20737      0.0   0.0  ...      -0.155875      -0.154577      -0.153369   \n",
       "20738      0.0   0.0  ...      -0.155875      -0.154577      -0.153369   \n",
       "20739      0.0   0.0  ...      -0.155875      -0.154577      -0.153369   \n",
       "20740      0.0   0.0  ...      -0.155875      -0.154577      -0.153369   \n",
       "\n",
       "       sum_disp_lag4  sum_disp_lag5  sum_disp_lag6  month_name  \\\n",
       "20736      -0.151936      -0.149966      -0.146912         NaN   \n",
       "20737      -0.151936      -0.149966      -0.146912         NaN   \n",
       "20738      -0.151936      -0.149966      -0.146912         NaN   \n",
       "20739      -0.151936      -0.149966      -0.146912         NaN   \n",
       "20740      -0.151936      -0.149966      -0.146912         NaN   \n",
       "\n",
       "       population_density  conflicts_log  sum_disp_log  \n",
       "20736                 NaN      -1.031637     -0.549754  \n",
       "20737                 NaN      -1.031637     -0.549754  \n",
       "20738                 NaN      -1.031637     -0.549754  \n",
       "20739                 NaN      -1.031637     -0.549754  \n",
       "20740                 NaN      -1.031637     -0.549754  \n",
       "\n",
       "[5 rows x 64 columns]"
      ]
     },
     "execution_count": 104,
     "metadata": {},
     "output_type": "execute_result"
    }
   ],
   "source": [
    "col1=[ 'tmx', 'pre',\n",
    "       'TA', 'TA_lag1', 'TA_lag2', 'TA_lag3', 'TA_lag4', 'TA_lag5', 'TA_lag6',  \n",
    "       'PA', 'PA_lag1', 'PA_lag2', 'PA_lag3', 'PA_lag4', 'PA_lag5', 'PA_lag6', \n",
    "       'DL', 'DL_lag1', 'DL_lag2', 'DL_lag3', 'DL_lag4', 'DL_lag5', 'DL_lag6', \n",
    "       'conflicts', 'conflicts_lag1', 'conflicts_lag2', 'conflicts_lag3',\n",
    "       'conflicts_lag4', 'conflicts_lag5', 'conflicts_lag6',\n",
    "       'sum_disp', 'sum_disp_lag1', 'sum_disp_lag2', 'sum_disp_lag3',\n",
    "       'sum_disp_lag4', 'sum_disp_lag5', 'sum_disp_lag6', \n",
    "       'population_density', 'conflicts_log', 'sum_disp_log']\n",
    "\n",
    "df_merged_std = df_merged[df_merged['time'] >= '1997-01']\n",
    "scaler = StandardScaler().fit(df_merged_std[col1])\n",
    "df_merged_std[col1] = scaler.transform(df_merged_std[col1])\n",
    "df_merged_std.head()\n"
   ]
  },
  {
   "cell_type": "code",
   "execution_count": 109,
   "id": "433ec5d3",
   "metadata": {},
   "outputs": [
    {
     "data": {
      "image/png": "[encoded data removed]",
      "text/plain": [
       "<Figure size 640x480 with 1 Axes>"
      ]
     },
     "metadata": {},
     "output_type": "display_data"
    }
   ],
   "source": [
    "pl = df_merged_std[df_merged_std['admin1']=='Middle_Juba']\n",
    "#pl = pl[pl['time']>'2015-01']\n",
    "fig, ax = plt.subplots()\n",
    "ax.plot(pl['time'], pl['sum_disp'], label='sum_disp')\n",
    "ax.plot(pl['time'], pl['sum_disp_lag1'], label='sum_disp_lag1')\n",
    "ax.plot(pl['time'], pl['TA_lag2'], label='TA_lag2')\n",
    "ax.plot(pl['time'], pl['PA_lag3'], label='PA_lag3')\n",
    "ax.plot(pl['time'], pl['conflicts_lag6'], label='Conflicts_lag6')\n",
    "#change x axis to show only the years\n",
    "ax.set_xticks(pl['time'][::50])\n",
    "ax.legend()\n",
    "plt.show()\n"
   ]
  },
  {
   "cell_type": "code",
   "execution_count": 106,
   "id": "62b6c171",
   "metadata": {},
   "outputs": [],
   "source": [
    "#df_merged_std.to_csv(r\"/home/sara/Documenti/GitHub/Climate-and-conflict/csv/df_std_1997.csv\", index=False)"
   ]
  },
  {
   "cell_type": "markdown",
   "id": "79d27cce",
   "metadata": {},
   "source": [
    "## Normalization"
   ]
  },
  {
   "cell_type": "code",
   "execution_count": null,
   "id": "8ac5c9b5",
   "metadata": {},
   "outputs": [],
   "source": [
    "col1=[ 'tmx', 'pre', 'conflicts', \n",
    "       'TA', 'TA_lag1', 'TA_lag2', 'TA_lag3', 'TA_lag4', 'TA_lag5', 'TA_lag6',  \n",
    "       'PA', 'PA_lag1', 'PA_lag2', 'PA_lag3', 'PA_lag4', 'PA_lag5', 'PA_lag6', \n",
    "       'DL', 'DL_lag1', 'DL_lag2', 'DL_lag3', 'DL_lag4', 'DL_lag5', 'DL_lag6', \n",
    "        'conflicts_lag1', 'conflicts_lag2', 'conflicts_lag3',\n",
    "       'conflicts_lag4', 'conflicts_lag5', 'conflicts_lag6',\n",
    "       'sum_disp', 'sum_disp_lag1', 'sum_disp_lag2', 'sum_disp_lag3',\n",
    "       'sum_disp_lag4', 'sum_disp_lag5', 'sum_disp_lag6', \n",
    "       'population_density', 'conflicts_log', 'sum_disp_log']\n",
    "\n",
    "df_merged_norm = df_merged.copy()\n",
    "min_max_scaler = MinMaxScaler().fit(df_merged_norm[col1])\n",
    "df_merged_norm[col1] = min_max_scaler.transform(df_merged_norm[col1])"
   ]
  },
  {
   "cell_type": "code",
   "execution_count": null,
   "id": "956ef758",
   "metadata": {},
   "outputs": [
    {
     "data": {
      "image/png": "[encoded data removed]",
      "text/plain": [
       "<Figure size 640x480 with 1 Axes>"
      ]
     },
     "metadata": {},
     "output_type": "display_data"
    }
   ],
   "source": [
    "df_merged_norm[df_merged_norm['admin1']=='Banadir']\n",
    "#plot TA, TA_lag1, .. against time in the same plot\n",
    "pl = df_merged_norm[df_merged_norm['admin1']=='Banadir']\n",
    "pl = pl[pl['time']>'2015-01']\n",
    "fig, ax = plt.subplots()\n",
    "ax.plot(pl['time'], pl['sum_disp'], label='TA')\n",
    "ax.plot(pl['time'], pl['sum_disp_lag1'], label='TA_lag1')\n",
    "ax.plot(pl['time'], pl['TA_lag2'], label='TA_lag2')\n",
    "ax.plot(pl['time'], pl['TA_lag3'], label='TA_lag3')\n",
    "ax.plot(pl['time'], pl['TA_lag4'], label='TA_lag4')\n",
    "ax.plot(pl['time'], pl['TA_lag5'], label='TA_lag5')\n",
    "ax.plot(pl['time'], pl['conflicts_lag6'], label='TA_lag6')\n",
    "#change x axis to show only the years\n",
    "ax.set_xticks(pl['time'][::12])\n",
    "ax.legend()\n",
    "plt.show()\n"
   ]
  },
  {
   "cell_type": "code",
   "execution_count": null,
   "id": "80e188af",
   "metadata": {},
   "outputs": [],
   "source": [
    "#df_merged_norm.to_csv(r\"/home/sara/Documenti/GitHub/Climate-and-conflict/csv/df_norm_log_d_lag.csv\", index=False)"
   ]
  },
  {
   "cell_type": "code",
   "execution_count": null,
   "id": "19d87a88",
   "metadata": {},
   "outputs": [],
   "source": [
    "#subset df_merged_norm from 1997-01\n",
    "df_merged_norm = df_merged_norm[(df_merged_norm['time'] >= '1997-01')]"
   ]
  },
  {
   "cell_type": "code",
   "execution_count": null,
   "id": "adb70ce5",
   "metadata": {},
   "outputs": [
    {
     "data": {
      "text/html": [
       "<div>\n",
       "<style scoped>\n",
       "    .dataframe tbody tr th:only-of-type {\n",
       "        vertical-align: middle;\n",
       "    }\n",
       "\n",
       "    .dataframe tbody tr th {\n",
       "        vertical-align: top;\n",
       "    }\n",
       "\n",
       "    .dataframe thead th {\n",
       "        text-align: right;\n",
       "    }\n",
       "</style>\n",
       "<table border=\"1\" class=\"dataframe\">\n",
       "  <thead>\n",
       "    <tr style=\"text-align: right;\">\n",
       "      <th></th>\n",
       "      <th>index</th>\n",
       "      <th>time</th>\n",
       "      <th>admin1</th>\n",
       "      <th>tmx</th>\n",
       "      <th>pre</th>\n",
       "      <th>conflicts</th>\n",
       "      <th>year</th>\n",
       "      <th>month</th>\n",
       "      <th>TA</th>\n",
       "      <th>PA</th>\n",
       "      <th>...</th>\n",
       "      <th>Mudug</th>\n",
       "      <th>Nugaal</th>\n",
       "      <th>Sanaag</th>\n",
       "      <th>Sool</th>\n",
       "      <th>Togdheer</th>\n",
       "      <th>Woqooyi_Galbeed</th>\n",
       "      <th>sum_disp</th>\n",
       "      <th>population_density</th>\n",
       "      <th>conflicts_log</th>\n",
       "      <th>sum_disp_log</th>\n",
       "    </tr>\n",
       "  </thead>\n",
       "  <tbody>\n",
       "    <tr>\n",
       "      <th>0</th>\n",
       "      <td>1380</td>\n",
       "      <td>2016-01</td>\n",
       "      <td>Awdal</td>\n",
       "      <td>0.291470</td>\n",
       "      <td>0.010244</td>\n",
       "      <td>0.041667</td>\n",
       "      <td>2016</td>\n",
       "      <td>1</td>\n",
       "      <td>0.760128</td>\n",
       "      <td>0.237045</td>\n",
       "      <td>...</td>\n",
       "      <td>0</td>\n",
       "      <td>6</td>\n",
       "      <td>0</td>\n",
       "      <td>0</td>\n",
       "      <td>0</td>\n",
       "      <td>0</td>\n",
       "      <td>0.000757</td>\n",
       "      <td>0.016448</td>\n",
       "      <td>0.351812</td>\n",
       "      <td>0.385427</td>\n",
       "    </tr>\n",
       "    <tr>\n",
       "      <th>18</th>\n",
       "      <td>1381</td>\n",
       "      <td>2016-02</td>\n",
       "      <td>Awdal</td>\n",
       "      <td>0.385817</td>\n",
       "      <td>0.052913</td>\n",
       "      <td>0.093750</td>\n",
       "      <td>2016</td>\n",
       "      <td>2</td>\n",
       "      <td>0.625460</td>\n",
       "      <td>0.360233</td>\n",
       "      <td>...</td>\n",
       "      <td>12</td>\n",
       "      <td>18</td>\n",
       "      <td>0</td>\n",
       "      <td>0</td>\n",
       "      <td>0</td>\n",
       "      <td>0</td>\n",
       "      <td>0.000706</td>\n",
       "      <td>0.016448</td>\n",
       "      <td>0.503329</td>\n",
       "      <td>0.379518</td>\n",
       "    </tr>\n",
       "    <tr>\n",
       "      <th>36</th>\n",
       "      <td>1382</td>\n",
       "      <td>2016-03</td>\n",
       "      <td>Awdal</td>\n",
       "      <td>0.654060</td>\n",
       "      <td>0.027743</td>\n",
       "      <td>0.020833</td>\n",
       "      <td>2016</td>\n",
       "      <td>3</td>\n",
       "      <td>0.733622</td>\n",
       "      <td>0.364569</td>\n",
       "      <td>...</td>\n",
       "      <td>4</td>\n",
       "      <td>0</td>\n",
       "      <td>0</td>\n",
       "      <td>0</td>\n",
       "      <td>0</td>\n",
       "      <td>0</td>\n",
       "      <td>0.000561</td>\n",
       "      <td>0.016448</td>\n",
       "      <td>0.240149</td>\n",
       "      <td>0.360149</td>\n",
       "    </tr>\n",
       "    <tr>\n",
       "      <th>54</th>\n",
       "      <td>1383</td>\n",
       "      <td>2016-04</td>\n",
       "      <td>Awdal</td>\n",
       "      <td>0.513463</td>\n",
       "      <td>0.261563</td>\n",
       "      <td>0.031250</td>\n",
       "      <td>2016</td>\n",
       "      <td>4</td>\n",
       "      <td>0.718720</td>\n",
       "      <td>0.562699</td>\n",
       "      <td>...</td>\n",
       "      <td>0</td>\n",
       "      <td>5</td>\n",
       "      <td>0</td>\n",
       "      <td>0</td>\n",
       "      <td>0</td>\n",
       "      <td>0</td>\n",
       "      <td>0.001344</td>\n",
       "      <td>0.016448</td>\n",
       "      <td>0.303034</td>\n",
       "      <td>0.434172</td>\n",
       "    </tr>\n",
       "    <tr>\n",
       "      <th>72</th>\n",
       "      <td>1384</td>\n",
       "      <td>2016-05</td>\n",
       "      <td>Awdal</td>\n",
       "      <td>0.596711</td>\n",
       "      <td>0.106974</td>\n",
       "      <td>0.031250</td>\n",
       "      <td>2016</td>\n",
       "      <td>5</td>\n",
       "      <td>0.635453</td>\n",
       "      <td>0.664635</td>\n",
       "      <td>...</td>\n",
       "      <td>0</td>\n",
       "      <td>16</td>\n",
       "      <td>0</td>\n",
       "      <td>0</td>\n",
       "      <td>0</td>\n",
       "      <td>0</td>\n",
       "      <td>0.000893</td>\n",
       "      <td>0.016448</td>\n",
       "      <td>0.303034</td>\n",
       "      <td>0.399443</td>\n",
       "    </tr>\n",
       "  </tbody>\n",
       "</table>\n",
       "<p>5 rows × 59 columns</p>\n",
       "</div>"
      ],
      "text/plain": [
       "    index     time admin1       tmx       pre  conflicts  year  month  \\\n",
       "0    1380  2016-01  Awdal  0.291470  0.010244   0.041667  2016      1   \n",
       "18   1381  2016-02  Awdal  0.385817  0.052913   0.093750  2016      2   \n",
       "36   1382  2016-03  Awdal  0.654060  0.027743   0.020833  2016      3   \n",
       "54   1383  2016-04  Awdal  0.513463  0.261563   0.031250  2016      4   \n",
       "72   1384  2016-05  Awdal  0.596711  0.106974   0.031250  2016      5   \n",
       "\n",
       "          TA        PA  ...  Mudug  Nugaal  Sanaag  Sool  Togdheer  \\\n",
       "0   0.760128  0.237045  ...      0       6       0     0         0   \n",
       "18  0.625460  0.360233  ...     12      18       0     0         0   \n",
       "36  0.733622  0.364569  ...      4       0       0     0         0   \n",
       "54  0.718720  0.562699  ...      0       5       0     0         0   \n",
       "72  0.635453  0.664635  ...      0      16       0     0         0   \n",
       "\n",
       "    Woqooyi_Galbeed  sum_disp  population_density  conflicts_log  sum_disp_log  \n",
       "0                 0  0.000757            0.016448       0.351812      0.385427  \n",
       "18                0  0.000706            0.016448       0.503329      0.379518  \n",
       "36                0  0.000561            0.016448       0.240149      0.360149  \n",
       "54                0  0.001344            0.016448       0.303034      0.434172  \n",
       "72                0  0.000893            0.016448       0.303034      0.399443  \n",
       "\n",
       "[5 rows x 59 columns]"
      ]
     },
     "execution_count": 35,
     "metadata": {},
     "output_type": "execute_result"
    }
   ],
   "source": [
    "#read csv\n",
    "df_mer_1 = pd.read_csv(r\"/home/sara/Documenti/GitHub/Climate-and-conflict/csv/df_norm_log_d.csv\")\n",
    "df_mer_1[df_mer_1['admin1']=='Awdal'].head()"
   ]
  },
  {
   "cell_type": "code",
   "execution_count": null,
   "id": "3a983fd2",
   "metadata": {},
   "outputs": [
    {
     "data": {
      "text/plain": [
       "5760"
      ]
     },
     "execution_count": 46,
     "metadata": {},
     "output_type": "execute_result"
    }
   ],
   "source": [
    "#reset print options\n",
    "df_merged_norm['sum_disp'].count()"
   ]
  },
  {
   "cell_type": "markdown",
   "id": "ce4f30bd",
   "metadata": {},
   "source": [
    "## Displacements data manipulation"
   ]
  },
  {
   "cell_type": "code",
   "execution_count": null,
   "id": "0a00d7be",
   "metadata": {},
   "outputs": [],
   "source": [
    "df_disp = df_disp[(df_disp['Reason']=='Drought related')]\n",
    "df_disp['Current (Arrival) Region'] = df_disp['Current (Arrival) Region'].str.replace(' ', '_')\n",
    "df_disp['Previous (Departure) Region'] = df_disp['Previous (Departure) Region'].str.replace(' ', '_')"
   ]
  },
  {
   "cell_type": "code",
   "execution_count": null,
   "id": "fb33fce6",
   "metadata": {},
   "outputs": [
    {
     "ename": "TypeError",
     "evalue": "strptime() argument 1 must be str, not numpy.datetime64",
     "output_type": "error",
     "traceback": [
      "\u001b[0;31m---------------------------------------------------------------------------\u001b[0m",
      "\u001b[0;31mTypeError\u001b[0m                                 Traceback (most recent call last)",
      "Cell \u001b[0;32mIn[38], line 3\u001b[0m\n\u001b[1;32m      1\u001b[0m v\u001b[38;5;241m=\u001b[39m df_disp[\u001b[38;5;124m\"\u001b[39m\u001b[38;5;124mMonth End\u001b[39m\u001b[38;5;124m\"\u001b[39m]\n\u001b[1;32m      2\u001b[0m v\u001b[38;5;241m=\u001b[39mv\u001b[38;5;241m.\u001b[39mvalues\n\u001b[0;32m----> 3\u001b[0m dt \u001b[38;5;241m=\u001b[39m [datetime\u001b[38;5;241m.\u001b[39mstrptime(v[i], \u001b[38;5;124m\"\u001b[39m\u001b[38;5;132;01m%d\u001b[39;00m\u001b[38;5;124m/\u001b[39m\u001b[38;5;124m%\u001b[39m\u001b[38;5;124mm/\u001b[39m\u001b[38;5;124m%\u001b[39m\u001b[38;5;124mY\u001b[39m\u001b[38;5;124m\"\u001b[39m) \u001b[38;5;28;01mfor\u001b[39;00m i \u001b[38;5;129;01min\u001b[39;00m \u001b[38;5;28mrange\u001b[39m(\u001b[38;5;28mlen\u001b[39m(v))]\n\u001b[1;32m      4\u001b[0m q\u001b[38;5;241m=\u001b[39m[]\n\u001b[1;32m      6\u001b[0m \u001b[38;5;28;01mfor\u001b[39;00m i \u001b[38;5;129;01min\u001b[39;00m \u001b[38;5;28mrange\u001b[39m(\u001b[38;5;28mlen\u001b[39m(dt)):\n",
      "Cell \u001b[0;32mIn[38], line 3\u001b[0m, in \u001b[0;36m<listcomp>\u001b[0;34m(.0)\u001b[0m\n\u001b[1;32m      1\u001b[0m v\u001b[38;5;241m=\u001b[39m df_disp[\u001b[38;5;124m\"\u001b[39m\u001b[38;5;124mMonth End\u001b[39m\u001b[38;5;124m\"\u001b[39m]\n\u001b[1;32m      2\u001b[0m v\u001b[38;5;241m=\u001b[39mv\u001b[38;5;241m.\u001b[39mvalues\n\u001b[0;32m----> 3\u001b[0m dt \u001b[38;5;241m=\u001b[39m [\u001b[43mdatetime\u001b[49m\u001b[38;5;241;43m.\u001b[39;49m\u001b[43mstrptime\u001b[49m\u001b[43m(\u001b[49m\u001b[43mv\u001b[49m\u001b[43m[\u001b[49m\u001b[43mi\u001b[49m\u001b[43m]\u001b[49m\u001b[43m,\u001b[49m\u001b[43m \u001b[49m\u001b[38;5;124;43m\"\u001b[39;49m\u001b[38;5;132;43;01m%d\u001b[39;49;00m\u001b[38;5;124;43m/\u001b[39;49m\u001b[38;5;124;43m%\u001b[39;49m\u001b[38;5;124;43mm/\u001b[39;49m\u001b[38;5;124;43m%\u001b[39;49m\u001b[38;5;124;43mY\u001b[39;49m\u001b[38;5;124;43m\"\u001b[39;49m\u001b[43m)\u001b[49m \u001b[38;5;28;01mfor\u001b[39;00m i \u001b[38;5;129;01min\u001b[39;00m \u001b[38;5;28mrange\u001b[39m(\u001b[38;5;28mlen\u001b[39m(v))]\n\u001b[1;32m      4\u001b[0m q\u001b[38;5;241m=\u001b[39m[]\n\u001b[1;32m      6\u001b[0m \u001b[38;5;28;01mfor\u001b[39;00m i \u001b[38;5;129;01min\u001b[39;00m \u001b[38;5;28mrange\u001b[39m(\u001b[38;5;28mlen\u001b[39m(dt)):\n",
      "\u001b[0;31mTypeError\u001b[0m: strptime() argument 1 must be str, not numpy.datetime64"
     ]
    }
   ],
   "source": [
    "v= df_disp[\"Month End\"]\n",
    "v=v.values\n",
    "dt = [datetime.strptime(v[i], \"%d/%m/%Y\") for i in range(len(v))]\n",
    "q=[]\n",
    "\n",
    "for i in range(len(dt)):\n",
    "    q.append(datetime.timestamp(dt[i]))\n",
    "    \n",
    "df_disp.insert(loc=3, column='date_timestamp', value=q)\n",
    "df_disp = df_disp.sort_values(\"date_timestamp\")\n",
    "\n",
    "df_disp['Month End'] = pd.to_datetime(df_disp['Month End'], dayfirst=True)"
   ]
  },
  {
   "cell_type": "code",
   "execution_count": null,
   "id": "af7e26d8",
   "metadata": {},
   "outputs": [],
   "source": [
    "aggregated_data = df_disp.groupby([pd.Grouper(key='Month End', freq='M'),'Previous (Departure) Region', 'Current (Arrival) Region'])['Number of Individuals'].sum().to_frame()\n",
    "\n",
    "# Get the unique values of 'Month End' and 'Previous (Departure) Region' \n",
    "dates = aggregated_data.index.get_level_values('Month End').unique()\n",
    "districts = aggregated_data.index.get_level_values('Previous (Departure) Region').unique()\n",
    "\n",
    "all_combinations = pd.MultiIndex.from_product([dates, districts, districts], names=['time', 'Previous (Departure) Region','Current (Arrival) Region'])\n",
    "\n",
    "# Reindex the aggregated_data DataFrame with 'all_combinations'\n",
    "disp_data = aggregated_data.reindex(all_combinations, fill_value=0).reset_index()   "
   ]
  },
  {
   "cell_type": "code",
   "execution_count": null,
   "id": "44ecbb3c",
   "metadata": {},
   "outputs": [],
   "source": [
    "df_2016\n",
    "#rename time column to match the one in disp_data\n",
    "df_2016 = df_2016.rename(columns={'time': 'yr_mth'})"
   ]
  },
  {
   "cell_type": "code",
   "execution_count": null,
   "id": "1b0aba55",
   "metadata": {},
   "outputs": [],
   "source": [
    "disp_matxs = disp_data.pivot_table(index=['time','Current (Arrival) Region'], columns='Previous (Departure) Region', values='Number of Individuals', aggfunc='sum').reset_index()\n",
    "disp_matxs = disp_matxs.rename(columns={'Current (Arrival) Region': 'admin1'})\n",
    "\n",
    "#remove the day from the date\n",
    "disp_matxs['yr_mth'] = disp_matxs['time'].map(lambda x: x.strftime('%Y-%m'))\n",
    "disp_matxs = disp_matxs.drop(columns=['time'])\n",
    "temp_pre_c['yr_mth'] = pd.to_datetime(temp_pre_c['time'], format='%Y-%m', dayfirst=True).map(lambda x: x.strftime('%Y-%m'))\n",
    "\n",
    "df_merged = pd.merge(df_2016, disp_matxs, on=['yr_mth', 'admin1'], how='inner')"
   ]
  },
  {
   "cell_type": "code",
   "execution_count": null,
   "id": "d12c0e5f",
   "metadata": {},
   "outputs": [
    {
     "data": {
      "text/html": [
       "<div>\n",
       "<style scoped>\n",
       "    .dataframe tbody tr th:only-of-type {\n",
       "        vertical-align: middle;\n",
       "    }\n",
       "\n",
       "    .dataframe tbody tr th {\n",
       "        vertical-align: top;\n",
       "    }\n",
       "\n",
       "    .dataframe thead th {\n",
       "        text-align: right;\n",
       "    }\n",
       "</style>\n",
       "<table border=\"1\" class=\"dataframe\">\n",
       "  <thead>\n",
       "    <tr style=\"text-align: right;\">\n",
       "      <th></th>\n",
       "      <th>yr_mth</th>\n",
       "      <th>admin1</th>\n",
       "      <th>tmx</th>\n",
       "      <th>pre</th>\n",
       "      <th>conflicts</th>\n",
       "    </tr>\n",
       "  </thead>\n",
       "  <tbody>\n",
       "    <tr>\n",
       "      <th>0</th>\n",
       "      <td>1901-01</td>\n",
       "      <td>Awdal</td>\n",
       "      <td>29.000000</td>\n",
       "      <td>7.175000</td>\n",
       "      <td>NaN</td>\n",
       "    </tr>\n",
       "    <tr>\n",
       "      <th>1</th>\n",
       "      <td>1901-01</td>\n",
       "      <td>Bakool</td>\n",
       "      <td>33.437504</td>\n",
       "      <td>1.612500</td>\n",
       "      <td>NaN</td>\n",
       "    </tr>\n",
       "    <tr>\n",
       "      <th>2</th>\n",
       "      <td>1901-01</td>\n",
       "      <td>Banadir</td>\n",
       "      <td>32.549999</td>\n",
       "      <td>6.130000</td>\n",
       "      <td>NaN</td>\n",
       "    </tr>\n",
       "    <tr>\n",
       "      <th>3</th>\n",
       "      <td>1901-01</td>\n",
       "      <td>Bari</td>\n",
       "      <td>28.533331</td>\n",
       "      <td>4.045833</td>\n",
       "      <td>NaN</td>\n",
       "    </tr>\n",
       "    <tr>\n",
       "      <th>4</th>\n",
       "      <td>1901-01</td>\n",
       "      <td>Bay</td>\n",
       "      <td>33.478569</td>\n",
       "      <td>2.664286</td>\n",
       "      <td>NaN</td>\n",
       "    </tr>\n",
       "    <tr>\n",
       "      <th>...</th>\n",
       "      <td>...</td>\n",
       "      <td>...</td>\n",
       "      <td>...</td>\n",
       "      <td>...</td>\n",
       "      <td>...</td>\n",
       "    </tr>\n",
       "    <tr>\n",
       "      <th>26473</th>\n",
       "      <td>2023-07</td>\n",
       "      <td>Nugaal</td>\n",
       "      <td>NaN</td>\n",
       "      <td>NaN</td>\n",
       "      <td>0.0</td>\n",
       "    </tr>\n",
       "    <tr>\n",
       "      <th>26474</th>\n",
       "      <td>2023-07</td>\n",
       "      <td>Sanaag</td>\n",
       "      <td>NaN</td>\n",
       "      <td>NaN</td>\n",
       "      <td>0.0</td>\n",
       "    </tr>\n",
       "    <tr>\n",
       "      <th>26475</th>\n",
       "      <td>2023-07</td>\n",
       "      <td>Sool</td>\n",
       "      <td>NaN</td>\n",
       "      <td>NaN</td>\n",
       "      <td>2.0</td>\n",
       "    </tr>\n",
       "    <tr>\n",
       "      <th>26476</th>\n",
       "      <td>2023-07</td>\n",
       "      <td>Togdheer</td>\n",
       "      <td>NaN</td>\n",
       "      <td>NaN</td>\n",
       "      <td>1.0</td>\n",
       "    </tr>\n",
       "    <tr>\n",
       "      <th>26477</th>\n",
       "      <td>2023-07</td>\n",
       "      <td>Woqooyi_Galbeed</td>\n",
       "      <td>NaN</td>\n",
       "      <td>NaN</td>\n",
       "      <td>1.0</td>\n",
       "    </tr>\n",
       "  </tbody>\n",
       "</table>\n",
       "<p>26478 rows × 5 columns</p>\n",
       "</div>"
      ],
      "text/plain": [
       "        yr_mth           admin1        tmx       pre  conflicts\n",
       "0      1901-01            Awdal  29.000000  7.175000        NaN\n",
       "1      1901-01           Bakool  33.437504  1.612500        NaN\n",
       "2      1901-01          Banadir  32.549999  6.130000        NaN\n",
       "3      1901-01             Bari  28.533331  4.045833        NaN\n",
       "4      1901-01              Bay  33.478569  2.664286        NaN\n",
       "...        ...              ...        ...       ...        ...\n",
       "26473  2023-07           Nugaal        NaN       NaN        0.0\n",
       "26474  2023-07           Sanaag        NaN       NaN        0.0\n",
       "26475  2023-07             Sool        NaN       NaN        2.0\n",
       "26476  2023-07         Togdheer        NaN       NaN        1.0\n",
       "26477  2023-07  Woqooyi_Galbeed        NaN       NaN        1.0\n",
       "\n",
       "[26478 rows x 5 columns]"
      ]
     },
     "metadata": {},
     "output_type": "display_data"
    }
   ],
   "source": [
    "df_2016"
   ]
  },
  {
   "cell_type": "code",
   "execution_count": null,
   "metadata": {},
   "outputs": [],
   "source": [
    "#add a column with the sum of the displacements\n",
    "df_merged['sum_disp'] = df_merged.iloc[:, -18:].sum(axis=1)"
   ]
  },
  {
   "cell_type": "code",
   "execution_count": null,
   "metadata": {},
   "outputs": [],
   "source": [
    "#df_merged.to_csv(r\"/home/sara/Documenti/GitHub/Climate-and-conflict/csv/df_lags_2016_n4c_disp_d.csv\", index=False)"
   ]
  }
 ],
 "metadata": {
  "kernelspec": {
   "display_name": "Python 3 (ipykernel)",
   "language": "python",
   "name": "python3"
  },
  "language_info": {
   "codemirror_mode": {
    "name": "ipython",
    "version": 3
   },
   "file_extension": ".py",
   "mimetype": "text/x-python",
   "name": "python",
   "nbconvert_exporter": "python",
   "pygments_lexer": "ipython3",
   "version": "3.8.10"
  }
 },
 "nbformat": 4,
 "nbformat_minor": 5
}
