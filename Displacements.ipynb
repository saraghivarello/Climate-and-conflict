{
 "cells": [
  {
   "cell_type": "code",
   "execution_count": 1,
   "id": "49af736b",
   "metadata": {},
   "outputs": [],
   "source": [
    "import pandas as pd\n",
    "import numpy as np\n",
    "import matplotlib.pyplot as plt\n",
    "import geopandas as gpd\n",
    "import statsmodels.api as sm\n",
    "import seaborn as sns\n",
    "import statsmodels.formula.api as smf\n",
    "import torch\n",
    "from datetime import datetime"
   ]
  },
  {
   "cell_type": "code",
   "execution_count": 2,
   "id": "cf55e7ad",
   "metadata": {},
   "outputs": [
    {
     "data": {
      "text/plain": [
       "57666"
      ]
     },
     "execution_count": 2,
     "metadata": {},
     "output_type": "execute_result"
    }
   ],
   "source": [
    "df = pd.read_excel(r\"C:\\Users\\PcLaptop\\Documents\\GitHub\\Climate-and-conflict\\displacements\\unhcr-prmn-displacement-dataset-3.xlsx\")\n",
    "len(df)"
   ]
  },
  {
   "cell_type": "code",
   "execution_count": 3,
   "id": "d8cb79b5",
   "metadata": {},
   "outputs": [],
   "source": [
    "path = \"./som_adm_ocha_itos_20230308_shp/\" \n",
    "states_gdf = gpd.read_file(path+\"som_admbnda_adm1_ocha_20230308.shp\") #sdn_admbnda_adm1_cbs_nic_ssa_20200831.shp\")"
   ]
  },
  {
   "cell_type": "code",
   "execution_count": 4,
   "id": "274846a4",
   "metadata": {},
   "outputs": [
    {
     "data": {
      "text/html": [
       "<div>\n",
       "<style scoped>\n",
       "    .dataframe tbody tr th:only-of-type {\n",
       "        vertical-align: middle;\n",
       "    }\n",
       "\n",
       "    .dataframe tbody tr th {\n",
       "        vertical-align: top;\n",
       "    }\n",
       "\n",
       "    .dataframe thead th {\n",
       "        text-align: right;\n",
       "    }\n",
       "</style>\n",
       "<table border=\"1\" class=\"dataframe\">\n",
       "  <thead>\n",
       "    <tr style=\"text-align: right;\">\n",
       "      <th></th>\n",
       "      <th>Month End</th>\n",
       "      <th>Year Week</th>\n",
       "      <th>Current (Arrival) Region</th>\n",
       "      <th>Current (Arrival) District</th>\n",
       "      <th>Previous (Departure) Region</th>\n",
       "      <th>Previous (Departure) District</th>\n",
       "      <th>Reason</th>\n",
       "      <th>Current (Arrival) Priority Need</th>\n",
       "      <th>Number of Individuals</th>\n",
       "    </tr>\n",
       "  </thead>\n",
       "  <tbody>\n",
       "    <tr>\n",
       "      <th>0</th>\n",
       "      <td>30/04/2016</td>\n",
       "      <td>201614</td>\n",
       "      <td>Awdal</td>\n",
       "      <td>Borama</td>\n",
       "      <td>Awdal</td>\n",
       "      <td>Borama</td>\n",
       "      <td>Drought related</td>\n",
       "      <td>Food</td>\n",
       "      <td>6</td>\n",
       "    </tr>\n",
       "    <tr>\n",
       "      <th>1</th>\n",
       "      <td>30/04/2016</td>\n",
       "      <td>201617</td>\n",
       "      <td>Awdal</td>\n",
       "      <td>Borama</td>\n",
       "      <td>Awdal</td>\n",
       "      <td>Borama</td>\n",
       "      <td>Drought related</td>\n",
       "      <td>Livelihood Support</td>\n",
       "      <td>7</td>\n",
       "    </tr>\n",
       "    <tr>\n",
       "      <th>2</th>\n",
       "      <td>30/04/2016</td>\n",
       "      <td>201616</td>\n",
       "      <td>Awdal</td>\n",
       "      <td>Borama</td>\n",
       "      <td>Awdal</td>\n",
       "      <td>Borama</td>\n",
       "      <td>Flood</td>\n",
       "      <td>Food</td>\n",
       "      <td>5</td>\n",
       "    </tr>\n",
       "    <tr>\n",
       "      <th>3</th>\n",
       "      <td>30/04/2016</td>\n",
       "      <td>201614</td>\n",
       "      <td>Awdal</td>\n",
       "      <td>Borama</td>\n",
       "      <td>Awdal</td>\n",
       "      <td>Lughaye</td>\n",
       "      <td>Drought related</td>\n",
       "      <td>Food</td>\n",
       "      <td>8</td>\n",
       "    </tr>\n",
       "    <tr>\n",
       "      <th>4</th>\n",
       "      <td>31/03/2016</td>\n",
       "      <td>201611</td>\n",
       "      <td>Awdal</td>\n",
       "      <td>Borama</td>\n",
       "      <td>Awdal</td>\n",
       "      <td>Lughaye</td>\n",
       "      <td>Drought related</td>\n",
       "      <td>Food</td>\n",
       "      <td>9</td>\n",
       "    </tr>\n",
       "  </tbody>\n",
       "</table>\n",
       "</div>"
      ],
      "text/plain": [
       "    Month End  Year Week Current (Arrival) Region Current (Arrival) District  \\\n",
       "0  30/04/2016     201614                    Awdal                     Borama   \n",
       "1  30/04/2016     201617                    Awdal                     Borama   \n",
       "2  30/04/2016     201616                    Awdal                     Borama   \n",
       "3  30/04/2016     201614                    Awdal                     Borama   \n",
       "4  31/03/2016     201611                    Awdal                     Borama   \n",
       "\n",
       "  Previous (Departure) Region Previous (Departure) District           Reason  \\\n",
       "0                       Awdal                        Borama  Drought related   \n",
       "1                       Awdal                        Borama  Drought related   \n",
       "2                       Awdal                        Borama            Flood   \n",
       "3                       Awdal                       Lughaye  Drought related   \n",
       "4                       Awdal                       Lughaye  Drought related   \n",
       "\n",
       "  Current (Arrival) Priority Need  Number of Individuals  \n",
       "0                            Food                      6  \n",
       "1              Livelihood Support                      7  \n",
       "2                            Food                      5  \n",
       "3                            Food                      8  \n",
       "4                            Food                      9  "
      ]
     },
     "execution_count": 4,
     "metadata": {},
     "output_type": "execute_result"
    }
   ],
   "source": [
    "df.head()"
   ]
  },
  {
   "cell_type": "code",
   "execution_count": 5,
   "id": "8d86b042",
   "metadata": {},
   "outputs": [],
   "source": [
    "df_d = df[df['Reason']=='Drought related']"
   ]
  },
  {
   "cell_type": "code",
   "execution_count": 6,
   "id": "90969e55",
   "metadata": {},
   "outputs": [],
   "source": [
    "v= df_d[\"Month End\"]\n",
    "v=v.values\n",
    "dt = [datetime.strptime(v[i], \"%d/%m/%Y\") for i in range(len(v))]\n",
    "q=[]\n",
    "\n",
    "for i in range(len(dt)):\n",
    "    q.append(datetime.timestamp(dt[i]))\n",
    "    \n",
    "df_d.insert(loc=3, column='date_timestamp', value=q)\n",
    "df_d = df_d.sort_values(\"date_timestamp\")\n",
    "\n",
    "df_d['Month End'] = pd.to_datetime(df_d['Month End'], dayfirst=True)\n",
    "#df_d=df_d.set_index('Month End')"
   ]
  },
  {
   "cell_type": "code",
   "execution_count": 7,
   "id": "78ef9c05",
   "metadata": {},
   "outputs": [
    {
     "data": {
      "text/html": [
       "<div>\n",
       "<style scoped>\n",
       "    .dataframe tbody tr th:only-of-type {\n",
       "        vertical-align: middle;\n",
       "    }\n",
       "\n",
       "    .dataframe tbody tr th {\n",
       "        vertical-align: top;\n",
       "    }\n",
       "\n",
       "    .dataframe thead th {\n",
       "        text-align: right;\n",
       "    }\n",
       "</style>\n",
       "<table border=\"1\" class=\"dataframe\">\n",
       "  <thead>\n",
       "    <tr style=\"text-align: right;\">\n",
       "      <th></th>\n",
       "      <th>Month End</th>\n",
       "      <th>Year Week</th>\n",
       "      <th>Current (Arrival) Region</th>\n",
       "      <th>date_timestamp</th>\n",
       "      <th>Current (Arrival) District</th>\n",
       "      <th>Previous (Departure) Region</th>\n",
       "      <th>Previous (Departure) District</th>\n",
       "      <th>Reason</th>\n",
       "      <th>Current (Arrival) Priority Need</th>\n",
       "      <th>Number of Individuals</th>\n",
       "    </tr>\n",
       "  </thead>\n",
       "  <tbody>\n",
       "    <tr>\n",
       "      <th>2698</th>\n",
       "      <td>2016-01-31</td>\n",
       "      <td>201604</td>\n",
       "      <td>Woqooyi Galbeed</td>\n",
       "      <td>1.454195e+09</td>\n",
       "      <td>Hargeysa</td>\n",
       "      <td>Middle Shabelle</td>\n",
       "      <td>Cadale</td>\n",
       "      <td>Drought related</td>\n",
       "      <td>Food</td>\n",
       "      <td>6</td>\n",
       "    </tr>\n",
       "    <tr>\n",
       "      <th>2129</th>\n",
       "      <td>2016-01-31</td>\n",
       "      <td>201603</td>\n",
       "      <td>Mudug</td>\n",
       "      <td>1.454195e+09</td>\n",
       "      <td>Gaalkacyo</td>\n",
       "      <td>Mudug</td>\n",
       "      <td>Hobyo</td>\n",
       "      <td>Drought related</td>\n",
       "      <td>Humanitarian Aid</td>\n",
       "      <td>187</td>\n",
       "    </tr>\n",
       "    <tr>\n",
       "      <th>2125</th>\n",
       "      <td>2016-01-31</td>\n",
       "      <td>201604</td>\n",
       "      <td>Mudug</td>\n",
       "      <td>1.454195e+09</td>\n",
       "      <td>Gaalkacyo</td>\n",
       "      <td>Mudug</td>\n",
       "      <td>Hobyo</td>\n",
       "      <td>Drought related</td>\n",
       "      <td>Health</td>\n",
       "      <td>765</td>\n",
       "    </tr>\n",
       "    <tr>\n",
       "      <th>2124</th>\n",
       "      <td>2016-01-31</td>\n",
       "      <td>201603</td>\n",
       "      <td>Mudug</td>\n",
       "      <td>1.454195e+09</td>\n",
       "      <td>Gaalkacyo</td>\n",
       "      <td>Mudug</td>\n",
       "      <td>Hobyo</td>\n",
       "      <td>Drought related</td>\n",
       "      <td>Health</td>\n",
       "      <td>240</td>\n",
       "    </tr>\n",
       "    <tr>\n",
       "      <th>2123</th>\n",
       "      <td>2016-01-31</td>\n",
       "      <td>201601</td>\n",
       "      <td>Mudug</td>\n",
       "      <td>1.454195e+09</td>\n",
       "      <td>Gaalkacyo</td>\n",
       "      <td>Mudug</td>\n",
       "      <td>Hobyo</td>\n",
       "      <td>Drought related</td>\n",
       "      <td>Health</td>\n",
       "      <td>216</td>\n",
       "    </tr>\n",
       "  </tbody>\n",
       "</table>\n",
       "</div>"
      ],
      "text/plain": [
       "      Month End  Year Week Current (Arrival) Region  date_timestamp  \\\n",
       "2698 2016-01-31     201604          Woqooyi Galbeed    1.454195e+09   \n",
       "2129 2016-01-31     201603                    Mudug    1.454195e+09   \n",
       "2125 2016-01-31     201604                    Mudug    1.454195e+09   \n",
       "2124 2016-01-31     201603                    Mudug    1.454195e+09   \n",
       "2123 2016-01-31     201601                    Mudug    1.454195e+09   \n",
       "\n",
       "     Current (Arrival) District Previous (Departure) Region  \\\n",
       "2698                   Hargeysa             Middle Shabelle   \n",
       "2129                  Gaalkacyo                       Mudug   \n",
       "2125                  Gaalkacyo                       Mudug   \n",
       "2124                  Gaalkacyo                       Mudug   \n",
       "2123                  Gaalkacyo                       Mudug   \n",
       "\n",
       "     Previous (Departure) District           Reason  \\\n",
       "2698                        Cadale  Drought related   \n",
       "2129                         Hobyo  Drought related   \n",
       "2125                         Hobyo  Drought related   \n",
       "2124                         Hobyo  Drought related   \n",
       "2123                         Hobyo  Drought related   \n",
       "\n",
       "     Current (Arrival) Priority Need  Number of Individuals  \n",
       "2698                            Food                      6  \n",
       "2129                Humanitarian Aid                    187  \n",
       "2125                          Health                    765  \n",
       "2124                          Health                    240  \n",
       "2123                          Health                    216  "
      ]
     },
     "execution_count": 7,
     "metadata": {},
     "output_type": "execute_result"
    }
   ],
   "source": [
    "df_d.head()"
   ]
  },
  {
   "cell_type": "code",
   "execution_count": 8,
   "id": "5b94c9c3",
   "metadata": {},
   "outputs": [
    {
     "data": {
      "text/plain": [
       "37537"
      ]
     },
     "execution_count": 8,
     "metadata": {},
     "output_type": "execute_result"
    }
   ],
   "source": [
    "len(df_d)"
   ]
  },
  {
   "cell_type": "code",
   "execution_count": null,
   "id": "1e109a25",
   "metadata": {},
   "outputs": [],
   "source": [
    "# Aggregate the datetime objects by month\n",
    "aggregated_data = df_d.groupby([pd.Grouper(key='Month End', freq='M'),'Current (Arrival) Region'])['Number of Individuals'].sum()"
   ]
  },
  {
   "cell_type": "code",
   "execution_count": null,
   "id": "fe151a41",
   "metadata": {},
   "outputs": [],
   "source": [
    "aggregated_data=aggregated_data.to_frame().reset_index()"
   ]
  },
  {
   "cell_type": "code",
   "execution_count": null,
   "id": "28dc0407",
   "metadata": {},
   "outputs": [],
   "source": [
    "regions_nev = states_gdf[states_gdf.ADM1_EN.isin(states_gdf[\"ADM1_EN\"])]"
   ]
  },
  {
   "cell_type": "code",
   "execution_count": 17,
   "id": "ce468cda",
   "metadata": {},
   "outputs": [
    {
     "data": {
      "text/plain": [
       "2736"
      ]
     },
     "execution_count": 17,
     "metadata": {},
     "output_type": "execute_result"
    }
   ],
   "source": [
    "#in df remove all rows that contain a NaN\n",
    "df = df.dropna()\n",
    "df.reset_index(drop=True, inplace=True)\n",
    "len(df)"
   ]
  },
  {
   "cell_type": "code",
   "execution_count": null,
   "id": "9c0415c0",
   "metadata": {},
   "outputs": [],
   "source": []
  }
 ],
 "metadata": {
  "kernelspec": {
   "display_name": "Python 3 (ipykernel)",
   "language": "python",
   "name": "python3"
  },
  "language_info": {
   "codemirror_mode": {
    "name": "ipython",
    "version": 3
   },
   "file_extension": ".py",
   "mimetype": "text/x-python",
   "name": "python",
   "nbconvert_exporter": "python",
   "pygments_lexer": "ipython3",
   "version": "3.11.1"
  }
 },
 "nbformat": 4,
 "nbformat_minor": 5
}
