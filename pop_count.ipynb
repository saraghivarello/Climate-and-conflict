{
 "cells": [
  {
   "cell_type": "code",
   "execution_count": 2,
   "id": "49af736b",
   "metadata": {},
   "outputs": [],
   "source": [
    "import pandas as pd\n",
    "import numpy as np\n",
    "import matplotlib.pyplot as plt\n",
    "import geopandas as gpd\n",
    "#from esda.moran import Moran\n",
    "from libpysal.weights.contiguity import Queen\n",
    "import statsmodels.api as sm\n",
    "import statsmodels.formula.api as smf\n",
    "\n",
    "from sklearn.preprocessing import MinMaxScaler"
   ]
  },
  {
   "cell_type": "code",
   "execution_count": 10,
   "id": "cb0cfaf3",
   "metadata": {},
   "outputs": [],
   "source": [
    "#path1 = r\"C:\\Users\\PcLaptop\\Documents\\GitHub\\Climate-and-conflict\\Datasets\\som_adm_ocha_itos_20230308_shp\\som_admbnda_adm1_ocha_20230308.shp\"\n",
    "path1 = r\"/home/sara/Documenti/GitHub/Climate-and-conflict/Datasets/som_adm_ocha_itos_20230308_shp/som_admbnda_adm1_ocha_20230308.shp\"\n",
    "states_gdf = gpd.read_file(path1)\n",
    "\n",
    "#file1 = r\"C:\\Users\\PcLaptop\\Documents\\GitHub\\Climate-and-conflict\\Datasets\\ACLED_1997-01-01-2023-07-18_Somalia.csv\"\n",
    "file1 = r\"/home/sara/Documenti/GitHub/Climate-and-conflict/Datasets/ACLED_1997-01-01-2023-07-18_Somalia.csv\"\n",
    "dist = pd.read_csv(file1)\n",
    "\n",
    "#csv1 = r\"C:\\Users\\PcLaptop\\Documents\\GitHub\\Climate-and-conflict\\csv\\df_lag1_2016_n4_disp.csv\"\n",
    "csv1 = r\"/home/sara/Documenti/GitHub/Climate-and-conflict/csv/df_lag1_2016_n4_disp.csv\"\n",
    "csv2 = r\"/home/sara/Documenti/GitHub/Climate-and-conflict/csv/df_lags_2016_n4c_disp_d.csv\"\n",
    "df_with_dummies = pd.read_csv(csv2)\n",
    "\n",
    "asc = r\"/home/sara/Documenti/GitHub/Climate-and-conflict/Datasets/population_count.csv\"\n",
    "#asc = r\"C:\\Users\\PcLaptop\\Documents\\GitHub\\Climate-and-conflict\\Datasets\\gpw_v4_admin_unit_center_points_population_estimates_rev11_som.csv\"\n",
    "pop_count = pd.read_csv(asc)"
   ]
  },
  {
   "cell_type": "code",
   "execution_count": 13,
   "id": "69f1b2f5",
   "metadata": {},
   "outputs": [],
   "source": [
    "#rename columns\n",
    "pop_count.rename(columns = {'gpw_v4_rev11_count.2020.sum':'pop_count', 'shapeName':'admin1'}, inplace = True)"
   ]
  },
  {
   "cell_type": "code",
   "execution_count": 20,
   "id": "48c49cea",
   "metadata": {},
   "outputs": [
    {
     "name": "stderr",
     "output_type": "stream",
     "text": [
      "/tmp/ipykernel_108334/2866846918.py:2: SettingWithCopyWarning: \n",
      "A value is trying to be set on a copy of a slice from a DataFrame.\n",
      "Try using .loc[row_indexer,col_indexer] = value instead\n",
      "\n",
      "See the caveats in the documentation: https://pandas.pydata.org/pandas-docs/stable/user_guide/indexing.html#returning-a-view-versus-a-copy\n",
      "  pop_count['admin1'] = pop_count['admin1'].replace('Hiiraan', 'Hiraan')\n",
      "/tmp/ipykernel_108334/2866846918.py:3: SettingWithCopyWarning: \n",
      "A value is trying to be set on a copy of a slice from a DataFrame.\n",
      "Try using .loc[row_indexer,col_indexer] = value instead\n",
      "\n",
      "See the caveats in the documentation: https://pandas.pydata.org/pandas-docs/stable/user_guide/indexing.html#returning-a-view-versus-a-copy\n",
      "  pop_count['admin1'] = pop_count['admin1'].replace('Middle Shebelle', 'Middle Shabelle')\n",
      "/tmp/ipykernel_108334/2866846918.py:4: SettingWithCopyWarning: \n",
      "A value is trying to be set on a copy of a slice from a DataFrame.\n",
      "Try using .loc[row_indexer,col_indexer] = value instead\n",
      "\n",
      "See the caveats in the documentation: https://pandas.pydata.org/pandas-docs/stable/user_guide/indexing.html#returning-a-view-versus-a-copy\n",
      "  pop_count['admin1'] = pop_count['admin1'].replace('Lower Shebelle', 'Lower Shabelle')\n"
     ]
    }
   ],
   "source": [
    "#replace admin1 names Hiiran to hirran\n",
    "pop_count['admin1'] = pop_count['admin1'].replace('Hiiraan', 'Hiraan')\n",
    "pop_count['admin1'] = pop_count['admin1'].replace('Middle Shebelle', 'Middle Shabelle')\n",
    "pop_count['admin1'] = pop_count['admin1'].replace('Lower Shebelle', 'Lower Shabelle')"
   ]
  },
  {
   "cell_type": "code",
   "execution_count": 22,
   "id": "d76614b4",
   "metadata": {},
   "outputs": [],
   "source": [
    "pop_count = pop_count[['pop_count', 'admin1']]\n",
    "pop_count.to_csv(r'/home/sara/Documenti/GitHub/Climate-and-conflict/Datasets/pop_count.csv', index = False)"
   ]
  },
  {
   "cell_type": "code",
   "execution_count": 21,
   "id": "885f1736",
   "metadata": {},
   "outputs": [
    {
     "data": {
      "text/plain": [
       "array(['Hiraan', 'Sanaag', 'Banadir', 'Togdheer', 'Bakool', 'Gedo',\n",
       "       'Middle Shabelle', 'Woqooyi Galbeed', 'Sool', 'Nugaal', 'Mudug',\n",
       "       'Middle Juba', 'Lower Shabelle', 'Lower Juba', 'Galgaduud', 'Bay',\n",
       "       'Bari', 'Awdal'], dtype=object)"
      ]
     },
     "execution_count": 21,
     "metadata": {},
     "output_type": "execute_result"
    }
   ],
   "source": [
    "pop_count['admin1'].unique()"
   ]
  },
  {
   "cell_type": "code",
   "execution_count": null,
   "id": "c3835a8a",
   "metadata": {},
   "outputs": [],
   "source": []
  }
 ],
 "metadata": {
  "kernelspec": {
   "display_name": "Python 3 (ipykernel)",
   "language": "python",
   "name": "python3"
  },
  "language_info": {
   "codemirror_mode": {
    "name": "ipython",
    "version": 3
   },
   "file_extension": ".py",
   "mimetype": "text/x-python",
   "name": "python",
   "nbconvert_exporter": "python",
   "pygments_lexer": "ipython3",
   "version": "3.8.10"
  }
 },
 "nbformat": 4,
 "nbformat_minor": 5
}
