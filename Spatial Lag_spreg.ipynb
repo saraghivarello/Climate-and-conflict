{
 "cells": [
  {
   "cell_type": "markdown",
   "metadata": {},
   "source": [
    "------------\n",
    "\n",
    "# Spatial Panel Models with Fixed Effects\n",
    "\n",
    "* **This notebook uses the [Panel_FE_Lag](https://pysal.org/spreg/generated/spreg.Panel_FE_Lag.html#spreg.Panel_FE_Lag) and [Panel_FE_Error](https://pysal.org/spreg/generated/spreg.Panel_FE_Error.html#spreg.Panel_FE_Error) classes.**\n"
   ]
  },
  {
   "cell_type": "code",
   "execution_count": 19,
   "metadata": {
    "ExecuteTime": {
     "end_time": "2021-01-04T16:36:53.158014Z",
     "start_time": "2021-01-04T16:36:50.182287Z"
    }
   },
   "outputs": [],
   "source": [
    "import numpy\n",
    "import libpysal\n",
    "import libpysal.weights as lpw\n",
    "import spreg\n",
    "import pandas as pd\n",
    "import pysal as ps"
   ]
  },
  {
   "cell_type": "code",
   "execution_count": 20,
   "metadata": {
    "ExecuteTime": {
     "end_time": "2021-01-04T16:36:53.489678Z",
     "start_time": "2021-01-04T16:36:53.160457Z"
    }
   },
   "outputs": [
    {
     "name": "stderr",
     "output_type": "stream",
     "text": [
      "/home/sara/.local/lib/python3.8/site-packages/libpysal/cg/shapes.py:1492: FutureWarning: Objects based on the `Geometry` class will deprecated and removed in a future version of libpysal.\n",
      "  warnings.warn(dep_msg, FutureWarning)\n",
      "/home/sara/.local/lib/python3.8/site-packages/libpysal/cg/shapes.py:1208: FutureWarning: Objects based on the `Geometry` class will deprecated and removed in a future version of libpysal.\n",
      "  warnings.warn(dep_msg, FutureWarning)\n"
     ]
    }
   ],
   "source": [
    "#df_dummies= pd.read_csv(r\"C:\\Users\\PcLaptop\\Documents\\GitHub\\Climate-and-conflict\\df_with_dummies.csv\")\n",
    "#states_gdf = r\"C:\\Users\\PcLaptop\\Documents\\GitHub\\Climate-and-conflict\\Datasets\\som_adm_ocha_itos_20230308_shp\\som_admbnda_adm1_ocha_20230308.shp\"\n",
    "\n",
    "df_dummies= pd.read_csv(r\"/home/sara/Documenti/GitHub/Climate-and-conflict/df_CRU4_lag5.csv\")\n",
    "states_gdf = r\"/home/sara/Documenti/GitHub/Climate-and-conflict/Datasets/som_adm_ocha_itos_20230308_shp/som_admbnda_adm1_ocha_20230308.shp\"\n",
    "\n",
    "w = libpysal.weights.Queen.from_shapefile(states_gdf)\n",
    "w.transform = 'r'\n",
    "\n",
    "# Define dependent variable\n",
    "name_y = [\"conflicts\"]\n",
    "y = numpy.array([df_dummies[name] for name in name_y]).T\n",
    "\n",
    "# Define independent variables\n",
    "name_x = ['TA_lag5','PA_lag5','DL_lag5']\n",
    "x = numpy.array([df_dummies[name] for name in name_x]).T"
   ]
  },
  {
   "cell_type": "markdown",
   "metadata": {},
   "source": [
    "--------------------\n",
    "\n",
    "## Spatial Lag model\n",
    "\n",
    "Let's estimate a spatial lag panel model with fixed effects:\n",
    "\n",
    "$$\n",
    "y = \\rho Wy + X\\beta + \\mu_i + e\n",
    "$$"
   ]
  },
  {
   "cell_type": "code",
   "execution_count": 21,
   "metadata": {
    "ExecuteTime": {
     "end_time": "2021-01-04T16:36:59.736302Z",
     "start_time": "2021-01-04T16:36:53.492370Z"
    }
   },
   "outputs": [],
   "source": [
    "fe_lag = spreg.Panel_FE_Lag(y, x, w, name_y=name_y, \n",
    "                            name_x=name_x, name_ds=\"df_dummies\")"
   ]
  },
  {
   "cell_type": "code",
   "execution_count": 22,
   "metadata": {
    "ExecuteTime": {
     "end_time": "2021-01-04T16:36:59.741882Z",
     "start_time": "2021-01-04T16:36:59.737965Z"
    }
   },
   "outputs": [
    {
     "name": "stdout",
     "output_type": "stream",
     "text": [
      "REGRESSION\n",
      "----------\n",
      "SUMMARY OF OUTPUT: MAXIMUM LIKELIHOOD SPATIAL LAG PANEL - FIXED EFFECTS\n",
      "-----------------------------------------------------------------------\n",
      "Data set            :  df_dummies\n",
      "Weights matrix      :     unknown\n",
      "Dependent Variable  :   conflicts                Number of Observations:        5616\n",
      "Mean dependent var  :      0.0000                Number of Variables   :           4\n",
      "S.D. dependent var  :     10.5150                Degrees of Freedom    :        5612\n",
      "Pseudo R-squared    :      0.3178\n",
      "Spatial Pseudo R-squared:  0.1608\n",
      "Sigma-square ML     :      76.661                Log likelihood        :  -44574.024\n",
      "S.E of regression   :       8.756                Akaike info criterion :   89156.048\n",
      "                                                 Schwarz criterion     :   89182.582\n",
      "\n",
      "------------------------------------------------------------------------------------\n",
      "            Variable     Coefficient       Std.Error     z-Statistic     Probability\n",
      "------------------------------------------------------------------------------------\n",
      "             TA_lag5       1.0207582       0.2318527       4.4026154       0.0000107\n",
      "             PA_lag5       1.0513365       0.4170455       2.5209154       0.0117050\n",
      "             DL_lag5       0.0721508       0.0047470      15.1993955       0.0000000\n",
      "         W_conflicts       0.4269843       0.0125284      34.0814361       0.0000000\n",
      "------------------------------------------------------------------------------------\n",
      "Warning: Assuming panel is in long format.\n",
      "y[0:N] refers to T0, y[N+1:2N] refers to T1, etc.\n",
      "x[0:N] refers to T0, x[N+1:2N] refers to T1, etc.\n",
      "================================ END OF REPORT =====================================\n"
     ]
    }
   ],
   "source": [
    "print(fe_lag.summary)"
   ]
  },
  {
   "cell_type": "markdown",
   "metadata": {},
   "source": [
    "------------------------\n",
    "\n",
    "## Spatial Error model\n",
    "\n",
    "Now, let's estimate a spatial error panel model with fixed effects:\n",
    "\n",
    "$$\n",
    "y = X\\beta + \\mu_i + v\n",
    "$$\n",
    "\n",
    "where\n",
    "\n",
    "$$\n",
    "v = \\lambda W v + e\n",
    "$$"
   ]
  },
  {
   "cell_type": "code",
   "execution_count": 23,
   "metadata": {
    "ExecuteTime": {
     "end_time": "2021-01-04T16:37:03.722913Z",
     "start_time": "2021-01-04T16:36:59.755557Z"
    }
   },
   "outputs": [],
   "source": [
    "fe_error = spreg.Panel_FE_Error(y, x, w, name_y=name_y, \n",
    "                                name_x=name_x, name_ds=\"df_dummies\")"
   ]
  },
  {
   "cell_type": "code",
   "execution_count": 24,
   "metadata": {
    "ExecuteTime": {
     "end_time": "2021-01-04T16:37:03.729503Z",
     "start_time": "2021-01-04T16:37:03.726165Z"
    }
   },
   "outputs": [
    {
     "name": "stdout",
     "output_type": "stream",
     "text": [
      "REGRESSION\n",
      "----------\n",
      "SUMMARY OF OUTPUT: MAXIMUM LIKELIHOOD SPATIAL ERROR PANEL - FIXED EFFECTS\n",
      "-------------------------------------------------------------------------\n",
      "Data set            :  df_dummies\n",
      "Weights matrix      :     unknown\n",
      "Dependent Variable  :   conflicts                Number of Observations:        5616\n",
      "Mean dependent var  :      0.0000                Number of Variables   :           3\n",
      "S.D. dependent var  :     10.5150                Degrees of Freedom    :        5613\n",
      "Pseudo R-squared    :      0.1211\n",
      "Sigma-square ML     :      78.342                Log likelihood        :  -44634.411\n",
      "S.E of regression   :       8.851                Akaike info criterion :   89274.822\n",
      "                                                 Schwarz criterion     :   89294.722\n",
      "\n",
      "------------------------------------------------------------------------------------\n",
      "            Variable     Coefficient       Std.Error     z-Statistic     Probability\n",
      "------------------------------------------------------------------------------------\n",
      "             TA_lag5       2.3246817       0.3642753       6.3816616       0.0000000\n",
      "             PA_lag5       1.4459352       0.6002102       2.4090481       0.0159942\n",
      "             DL_lag5       0.0681005       0.0059280      11.4879058       0.0000000\n",
      "              lambda       0.4264296       0.0127248      33.5117143       0.0000000\n",
      "------------------------------------------------------------------------------------\n",
      "Warning: Assuming panel is in long format.\n",
      "y[0:N] refers to T0, y[N+1:2N] refers to T1, etc.\n",
      "x[0:N] refers to T0, x[N+1:2N] refers to T1, etc.\n",
      "================================ END OF REPORT =====================================\n"
     ]
    }
   ],
   "source": [
    "print(fe_error.summary)"
   ]
  },
  {
   "cell_type": "code",
   "execution_count": null,
   "metadata": {},
   "outputs": [],
   "source": []
  }
 ],
 "metadata": {
  "kernelspec": {
   "display_name": "Python 3",
   "language": "python",
   "name": "python3"
  },
  "language_info": {
   "codemirror_mode": {
    "name": "ipython",
    "version": 3
   },
   "file_extension": ".py",
   "mimetype": "text/x-python",
   "name": "python",
   "nbconvert_exporter": "python",
   "pygments_lexer": "ipython3",
   "version": "3.8.10"
  }
 },
 "nbformat": 4,
 "nbformat_minor": 4
}
