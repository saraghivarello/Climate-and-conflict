{
 "cells": [
  {
   "cell_type": "markdown",
   "metadata": {},
   "source": [
    "------------\n",
    "\n",
    "# Spatial Panel Models with Fixed Effects\n",
    "\n",
    "* **This notebook uses the [Panel_FE_Lag](https://pysal.org/spreg/generated/spreg.Panel_FE_Lag.html#spreg.Panel_FE_Lag) and [Panel_FE_Error](https://pysal.org/spreg/generated/spreg.Panel_FE_Error.html#spreg.Panel_FE_Error) classes.**\n"
   ]
  },
  {
   "cell_type": "code",
   "execution_count": 7,
   "metadata": {
    "ExecuteTime": {
     "end_time": "2021-01-04T16:36:53.158014Z",
     "start_time": "2021-01-04T16:36:50.182287Z"
    }
   },
   "outputs": [],
   "source": [
    "import numpy\n",
    "import libpysal\n",
    "import libpysal.weights as lpw\n",
    "import spreg\n",
    "import pandas as pd\n",
    "import pysal as ps"
   ]
  },
  {
   "cell_type": "code",
   "execution_count": 8,
   "metadata": {
    "ExecuteTime": {
     "end_time": "2021-01-04T16:36:53.489678Z",
     "start_time": "2021-01-04T16:36:53.160457Z"
    }
   },
   "outputs": [
    {
     "name": "stderr",
     "output_type": "stream",
     "text": [
      "c:\\Users\\PcLaptop\\AppData\\Local\\Programs\\Python\\Python311\\Lib\\site-packages\\libpysal\\cg\\shapes.py:1492: FutureWarning: Objects based on the `Geometry` class will deprecated and removed in a future version of libpysal.\n",
      "  warnings.warn(dep_msg, FutureWarning)\n",
      "c:\\Users\\PcLaptop\\AppData\\Local\\Programs\\Python\\Python311\\Lib\\site-packages\\libpysal\\cg\\shapes.py:1208: FutureWarning: Objects based on the `Geometry` class will deprecated and removed in a future version of libpysal.\n",
      "  warnings.warn(dep_msg, FutureWarning)\n"
     ]
    }
   ],
   "source": [
    "df_dummies= pd.read_csv(r\"C:\\Users\\PcLaptop\\Documents\\GitHub\\Climate-and-conflict\\df_with_dummies.csv\")\n",
    "states_gdf = r\"C:\\Users\\PcLaptop\\Documents\\GitHub\\Climate-and-conflict\\Datasets\\som_adm_ocha_itos_20230308_shp\\som_admbnda_adm1_ocha_20230308.shp\"\n",
    "w = libpysal.weights.Queen.from_shapefile(states_gdf)\n",
    "w.transform = 'r'\n",
    "\n",
    "# Define dependent variable\n",
    "name_y = [\"conflicts\"]\n",
    "y = numpy.array([df_dummies[name] for name in name_y]).T\n",
    "\n",
    "# Define independent variables\n",
    "name_x = ['TA','PA','DL']\n",
    "x = numpy.array([df_dummies[name] for name in name_x]).T"
   ]
  },
  {
   "cell_type": "markdown",
   "metadata": {},
   "source": [
    "--------------------\n",
    "\n",
    "## Spatial Lag model\n",
    "\n",
    "Let's estimate a spatial lag panel model with fixed effects:\n",
    "\n",
    "$$\n",
    "y = \\rho Wy + X\\beta + \\mu_i + e\n",
    "$$"
   ]
  },
  {
   "cell_type": "code",
   "execution_count": 9,
   "metadata": {
    "ExecuteTime": {
     "end_time": "2021-01-04T16:36:59.736302Z",
     "start_time": "2021-01-04T16:36:53.492370Z"
    }
   },
   "outputs": [],
   "source": [
    "fe_lag = spreg.Panel_FE_Lag(y, x, w, name_y=name_y, \n",
    "                            name_x=name_x, name_ds=\"df_dummies\")"
   ]
  },
  {
   "cell_type": "code",
   "execution_count": 10,
   "metadata": {
    "ExecuteTime": {
     "end_time": "2021-01-04T16:36:59.741882Z",
     "start_time": "2021-01-04T16:36:59.737965Z"
    }
   },
   "outputs": [
    {
     "name": "stdout",
     "output_type": "stream",
     "text": [
      "REGRESSION\n",
      "----------\n",
      "SUMMARY OF OUTPUT: MAXIMUM LIKELIHOOD SPATIAL LAG PANEL - FIXED EFFECTS\n",
      "-----------------------------------------------------------------------\n",
      "Data set            :  df_dummies\n",
      "Weights matrix      :     unknown\n",
      "Dependent Variable  :   conflicts                Number of Observations:        5616\n",
      "Mean dependent var  :      0.0000                Number of Variables   :           4\n",
      "S.D. dependent var  :     10.5150                Degrees of Freedom    :        5612\n",
      "Pseudo R-squared    :      0.3146\n",
      "Spatial Pseudo R-squared:  0.0835\n",
      "Sigma-square ML     :      78.188                Log likelihood        :  -44666.539\n",
      "S.E of regression   :       8.842                Akaike info criterion :   89341.078\n",
      "                                                 Schwarz criterion     :   89367.611\n",
      "\n",
      "------------------------------------------------------------------------------------\n",
      "            Variable     Coefficient       Std.Error     z-Statistic     Probability\n",
      "------------------------------------------------------------------------------------\n",
      "                  TA       1.0081647       0.2139564       4.7120097       0.0000025\n",
      "                  PA       0.5186613       0.3683943       1.4078972       0.1591615\n",
      "                  DL       0.0424510       0.0047355       8.9644624       0.0000000\n",
      "         W_conflicts       0.4648163       0.0121175      38.3590412       0.0000000\n",
      "------------------------------------------------------------------------------------\n",
      "Warning: Assuming panel is in long format.\n",
      "y[0:N] refers to T0, y[N+1:2N] refers to T1, etc.\n",
      "x[0:N] refers to T0, x[N+1:2N] refers to T1, etc.\n",
      "================================ END OF REPORT =====================================\n"
     ]
    }
   ],
   "source": [
    "print(fe_lag.summary)"
   ]
  },
  {
   "cell_type": "markdown",
   "metadata": {},
   "source": [
    "------------------------\n",
    "\n",
    "## Spatial Error model\n",
    "\n",
    "Now, let's estimate a spatial error panel model with fixed effects:\n",
    "\n",
    "$$\n",
    "y = X\\beta + \\mu_i + v\n",
    "$$\n",
    "\n",
    "where\n",
    "\n",
    "$$\n",
    "v = \\lambda W v + e\n",
    "$$"
   ]
  },
  {
   "cell_type": "code",
   "execution_count": 11,
   "metadata": {
    "ExecuteTime": {
     "end_time": "2021-01-04T16:37:03.722913Z",
     "start_time": "2021-01-04T16:36:59.755557Z"
    }
   },
   "outputs": [],
   "source": [
    "fe_error = spreg.Panel_FE_Error(y, x, w, name_y=name_y, \n",
    "                                name_x=name_x, name_ds=\"df_dummies\")"
   ]
  },
  {
   "cell_type": "code",
   "execution_count": 12,
   "metadata": {
    "ExecuteTime": {
     "end_time": "2021-01-04T16:37:03.729503Z",
     "start_time": "2021-01-04T16:37:03.726165Z"
    }
   },
   "outputs": [
    {
     "name": "stdout",
     "output_type": "stream",
     "text": [
      "REGRESSION\n",
      "----------\n",
      "SUMMARY OF OUTPUT: MAXIMUM LIKELIHOOD SPATIAL ERROR PANEL - FIXED EFFECTS\n",
      "-------------------------------------------------------------------------\n",
      "Data set            :  df_dummies\n",
      "Weights matrix      :     unknown\n",
      "Dependent Variable  :   conflicts                Number of Observations:        5616\n",
      "Mean dependent var  :      0.0000                Number of Variables   :           3\n",
      "S.D. dependent var  :     10.5150                Degrees of Freedom    :        5613\n",
      "Pseudo R-squared    :      0.0551\n",
      "Sigma-square ML     :      78.783                Log likelihood        :  -44692.744\n",
      "S.E of regression   :       8.876                Akaike info criterion :   89391.488\n",
      "                                                 Schwarz criterion     :   89411.388\n",
      "\n",
      "------------------------------------------------------------------------------------\n",
      "            Variable     Coefficient       Std.Error     z-Statistic     Probability\n",
      "------------------------------------------------------------------------------------\n",
      "                  TA       2.1020889       0.3520557       5.9708980       0.0000000\n",
      "                  PA       0.6493172       0.5417240       1.1986127       0.2306786\n",
      "                  DL       0.0340791       0.0057794       5.8966221       0.0000000\n",
      "              lambda       0.4694877       0.0121136      38.7569666       0.0000000\n",
      "------------------------------------------------------------------------------------\n",
      "Warning: Assuming panel is in long format.\n",
      "y[0:N] refers to T0, y[N+1:2N] refers to T1, etc.\n",
      "x[0:N] refers to T0, x[N+1:2N] refers to T1, etc.\n",
      "================================ END OF REPORT =====================================\n"
     ]
    }
   ],
   "source": [
    "print(fe_error.summary)"
   ]
  },
  {
   "cell_type": "code",
   "execution_count": null,
   "metadata": {},
   "outputs": [],
   "source": []
  }
 ],
 "metadata": {
  "kernelspec": {
   "display_name": "Python 3",
   "language": "python",
   "name": "python3"
  },
  "language_info": {
   "codemirror_mode": {
    "name": "ipython",
    "version": 3
   },
   "file_extension": ".py",
   "mimetype": "text/x-python",
   "name": "python",
   "nbconvert_exporter": "python",
   "pygments_lexer": "ipython3",
   "version": "3.11.1"
  }
 },
 "nbformat": 4,
 "nbformat_minor": 4
}
