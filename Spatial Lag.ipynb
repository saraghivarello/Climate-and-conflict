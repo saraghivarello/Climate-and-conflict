{
 "cells": [
  {
   "cell_type": "code",
   "execution_count": 15,
   "id": "49af736b",
   "metadata": {},
   "outputs": [],
   "source": [
    "import pandas as pd\n",
    "import numpy as np\n",
    "import matplotlib.pyplot as plt\n",
    "import geopandas as gpd\n",
    "#from esda.moran import Moran\n",
    "from libpysal.weights.contiguity import Queen\n",
    "import statsmodels.api as sm\n",
    "import statsmodels.formula.api as smf"
   ]
  },
  {
   "cell_type": "code",
   "execution_count": 22,
   "id": "cb0cfaf3",
   "metadata": {},
   "outputs": [],
   "source": [
    "#path1 = r\"C:\\Users\\PcLaptop\\Documents\\GitHub\\Climate-and-conflict\\Datasets\\som_adm_ocha_itos_20230308_shp\\som_admbnda_adm1_ocha_20230308.shp\"\n",
    "path2 = r\"/home/sara/Documenti/GitHub/Climate-and-conflict/Datasets/som_adm_ocha_itos_20230308_shp/som_admbnda_adm1_ocha_20230308.shp\"\n",
    "states_gdf = gpd.read_file(path2)\n",
    "\n",
    "#file1 = r\"C:\\Users\\PcLaptop\\Dropbox (Politecnico Di Torino Studenti)\\Untitled Folder\\distance_df.csv\"\n",
    "file2 = r\"/home/sara/Documenti/GitHub/Climate-and-conflict/Datasets/ACLED_1997-01-01-2023-07-18_Somalia.csv\"\n",
    "dist = pd.read_csv(file2)\n",
    "\n",
    "#csv1 = r\"C:\\Users\\PcLaptop\\Documents\\GitHub\\Climate-and-conflict\\df_with_dummies.csv\"\n",
    "csv2 = r\"/home/sara/Documenti/GitHub/Climate-and-conflict/df_CRU4.csv\"\n",
    "df_with_dummies = pd.read_csv(csv2)"
   ]
  },
  {
   "cell_type": "code",
   "execution_count": 17,
   "id": "efafd38d",
   "metadata": {},
   "outputs": [],
   "source": [
    "# add column with gaussian noise in df_with_dummies\n",
    "#df_with_dummies['noise'] = np.random.normal(0, 10, df_with_dummies.shape[0])"
   ]
  },
  {
   "cell_type": "code",
   "execution_count": 18,
   "id": "20a149fb",
   "metadata": {},
   "outputs": [],
   "source": [
    "y_var_name = 'conflicts'\n",
    "X_var_names = ['TA','PA','DL']"
   ]
  },
  {
   "cell_type": "code",
   "execution_count": 19,
   "id": "f2713841",
   "metadata": {},
   "outputs": [],
   "source": [
    "#from month number to full month name\n",
    "month_dict = {1: 'January', 2: 'February', 3: 'March', 4: 'April', 5: 'May', 6:'June', 7:'July', 8:'August', 9:'September', 10:'October', 11:'November', 12:'December'}\n",
    "df_with_dummies['month'] = df_with_dummies['month'].map(month_dict)"
   ]
  },
  {
   "cell_type": "code",
   "execution_count": 20,
   "id": "9d34c4f6",
   "metadata": {},
   "outputs": [
    {
     "name": "stdout",
     "output_type": "stream",
     "text": [
      "Regression expression for OLS with dummies=conflicts ~ TA + PA + DL + Awdal + Bakool + Banadir + Bari + Bay + Galgaduud + Gedo + Hiraan + Lower_Juba + Lower_Shabelle + Middle_Juba + Middle_Shabelle + Mudug + Nugaal + Sanaag + Sool + Togdheer + January + February + March + April + May + June + July + August + September + October + November\n"
     ]
    }
   ],
   "source": [
    "# Regression expression for OLS with dummies\n",
    "\n",
    "unit_names = df_with_dummies['admin1'].unique().tolist()\n",
    "unit_names.sort()\n",
    "unit_names_t = df_with_dummies['month'].unique().tolist()\n",
    "unit_names_mr = (df_with_dummies['admin1'] + df_with_dummies['month']).unique().tolist()\n",
    "\n",
    "lsdv_expr = y_var_name + ' ~ '\n",
    "i = 0\n",
    "for X_var_name in X_var_names:\n",
    "    if i > 0:\n",
    "        lsdv_expr = lsdv_expr + ' + ' + X_var_name\n",
    "    else:\n",
    "        lsdv_expr = lsdv_expr + X_var_name\n",
    "    i = i + 1\n",
    "for dummy_name in unit_names[:-1]:\n",
    "   lsdv_expr = lsdv_expr + ' + ' + dummy_name\n",
    "for dummy_name_t in unit_names_t[:-1]:\n",
    "    lsdv_expr = lsdv_expr + ' + ' + dummy_name_t\n",
    "#for dummy_name_mr in unit_names_mr[:-1]:\n",
    "   # lsdv_expr = lsdv_expr + ' + ' + dummy_name_mr\n",
    "#lsdv_expr=lsdv_expr + ' - 1' \n",
    "print('Regression expression for OLS with dummies=' + lsdv_expr)"
   ]
  },
  {
   "cell_type": "code",
   "execution_count": 21,
   "id": "e9058dcb",
   "metadata": {},
   "outputs": [
    {
     "name": "stdout",
     "output_type": "stream",
     "text": [
      "                            OLS Regression Results                            \n",
      "==============================================================================\n",
      "Dep. Variable:              conflicts   R-squared:                       0.429\n",
      "Model:                            OLS   Adj. R-squared:                  0.426\n",
      "Method:                 Least Squares   F-statistic:                     135.4\n",
      "Date:                Fri, 15 Sep 2023   Prob (F-statistic):               0.00\n",
      "Time:                        17:10:23   Log-Likelihood:                -21037.\n",
      "No. Observations:                5616   AIC:                         4.214e+04\n",
      "Df Residuals:                    5584   BIC:                         4.235e+04\n",
      "Df Model:                          31                                         \n",
      "Covariance Type:            nonrobust                                         \n",
      "===================================================================================\n",
      "                      coef    std err          t      P>|t|      [0.025      0.975]\n",
      "-----------------------------------------------------------------------------------\n",
      "Intercept           0.0571      0.751      0.076      0.939      -1.415       1.529\n",
      "TA                  2.2907      0.237      9.668      0.000       1.826       2.755\n",
      "PA                  1.7109      0.370      4.625      0.000       0.986       2.436\n",
      "DL                  0.0985      0.015      6.753      0.000       0.070       0.127\n",
      "Awdal              -1.2687      0.823     -1.542      0.123      -2.882       0.345\n",
      "Bakool              2.1928      0.823      2.664      0.008       0.579       3.806\n",
      "Banadir            35.0083      0.827     42.351      0.000      33.388      36.629\n",
      "Bari                3.9438      0.827      4.769      0.000       2.323       5.565\n",
      "Bay                 8.6023      0.825     10.423      0.000       6.984      10.220\n",
      "Galgaduud           3.4655      0.828      4.187      0.000       1.843       5.088\n",
      "Gedo                4.8949      0.825      5.932      0.000       3.277       6.513\n",
      "Hiraan              7.1187      0.825      8.627      0.000       5.501       8.736\n",
      "Lower_Juba          9.9651      0.826     12.068      0.000       8.346      11.584\n",
      "Lower_Shabelle     20.9162      0.826     25.319      0.000      19.297      22.536\n",
      "Middle_Juba         0.4191      0.826      0.508      0.612      -1.200       2.038\n",
      "Middle_Shabelle     5.8404      0.828      7.055      0.000       4.218       7.463\n",
      "Mudug               4.2182      0.828      5.097      0.000       2.596       5.840\n",
      "Nugaal              0.6327      0.827      0.765      0.444      -0.989       2.254\n",
      "Sanaag              0.1335      0.823      0.162      0.871      -1.480       1.747\n",
      "Sool                0.9440      0.823      1.146      0.252      -0.670       2.558\n",
      "Togdheer            0.1121      0.823      0.136      0.892      -1.501       1.725\n",
      "January            -0.6799      0.672     -1.012      0.312      -1.997       0.638\n",
      "February           -0.9007      0.674     -1.337      0.181      -2.221       0.420\n",
      "March              -0.7406      0.674     -1.098      0.272      -2.062       0.581\n",
      "April              -0.8549      0.672     -1.272      0.203      -2.172       0.462\n",
      "May                -0.1414      0.672     -0.210      0.833      -1.459       1.176\n",
      "June               -0.0799      0.672     -0.119      0.905      -1.397       1.238\n",
      "July               -0.0112      0.672     -0.017      0.987      -1.328       1.306\n",
      "August              0.1894      0.672      0.282      0.778      -1.128       1.507\n",
      "September          -0.3164      0.672     -0.471      0.638      -1.634       1.001\n",
      "October            -0.0901      0.672     -0.134      0.893      -1.407       1.227\n",
      "November           -0.4811      0.672     -0.716      0.474      -1.798       0.836\n",
      "==============================================================================\n",
      "Omnibus:                     1948.680   Durbin-Watson:                   1.411\n",
      "Prob(Omnibus):                  0.000   Jarque-Bera (JB):            22102.568\n",
      "Skew:                           1.328   Prob(JB):                         0.00\n",
      "Kurtosis:                      12.349   Cond. No.                         236.\n",
      "==============================================================================\n",
      "\n",
      "Notes:\n",
      "[1] Standard Errors assume that the covariance matrix of the errors is correctly specified.\n"
     ]
    }
   ],
   "source": [
    "lsdv_model = smf.ols(formula=lsdv_expr, data=df_with_dummies)\n",
    "lsdv_model_results = lsdv_model.fit()\n",
    "print(lsdv_model_results.summary())"
   ]
  }
 ],
 "metadata": {
  "kernelspec": {
   "display_name": "Python 3 (ipykernel)",
   "language": "python",
   "name": "python3"
  },
  "language_info": {
   "codemirror_mode": {
    "name": "ipython",
    "version": 3
   },
   "file_extension": ".py",
   "mimetype": "text/x-python",
   "name": "python",
   "nbconvert_exporter": "python",
   "pygments_lexer": "ipython3",
   "version": "3.8.10"
  }
 },
 "nbformat": 4,
 "nbformat_minor": 5
}
