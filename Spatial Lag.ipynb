{
 "cells": [
  {
   "cell_type": "code",
   "execution_count": 9,
   "id": "49af736b",
   "metadata": {},
   "outputs": [],
   "source": [
    "import pandas as pd\n",
    "import numpy as np\n",
    "import matplotlib.pyplot as plt\n",
    "import geopandas as gpd\n",
    "from esda.moran import Moran\n",
    "from libpysal.weights.contiguity import Queen\n",
    "import statsmodels.api as sm\n",
    "import statsmodels.formula.api as smf"
   ]
  },
  {
   "cell_type": "code",
   "execution_count": 2,
   "id": "cb0cfaf3",
   "metadata": {},
   "outputs": [],
   "source": [
    "states_gdf = gpd.read_file(r\"C:\\Users\\PcLaptop\\Documents\\GitHub\\Climate-and-conflict\\Datasets\\som_adm_ocha_itos_20230308_shp\\som_admbnda_adm1_ocha_20230308.shp\")\n",
    "dist = pd.read_csv(r\"C:\\Users\\PcLaptop\\Dropbox (Politecnico Di Torino Studenti)\\Untitled Folder\\distance_df.csv\")\n",
    "df_with_dummies = pd.read_csv(r\"C:\\Users\\PcLaptop\\Documents\\GitHub\\Climate-and-conflict\\df_with_dummies.csv\")"
   ]
  },
  {
   "cell_type": "code",
   "execution_count": 3,
   "id": "efafd38d",
   "metadata": {},
   "outputs": [],
   "source": [
    "# add column with gaussian noise in df_with_dummies\n",
    "#df_with_dummies['noise'] = np.random.normal(0, 10, df_with_dummies.shape[0])"
   ]
  },
  {
   "cell_type": "code",
   "execution_count": 4,
   "id": "20a149fb",
   "metadata": {},
   "outputs": [],
   "source": [
    "y_var_name = 'conflicts'\n",
    "X_var_names = ['TA','PA','DL']"
   ]
  },
  {
   "cell_type": "code",
   "execution_count": 5,
   "id": "f2713841",
   "metadata": {},
   "outputs": [],
   "source": [
    "#from month number to full month name\n",
    "month_dict = {1: 'January', 2: 'February', 3: 'March', 4: 'April', 5: 'May', 6:'June', 7:'July', 8:'August', 9:'September', 10:'October', 11:'November', 12:'December'}\n",
    "df_with_dummies['month'] = df_with_dummies['month'].map(month_dict)"
   ]
  },
  {
   "cell_type": "code",
   "execution_count": 10,
   "id": "9d34c4f6",
   "metadata": {},
   "outputs": [
    {
     "name": "stdout",
     "output_type": "stream",
     "text": [
      "Regression expression for OLS with dummies=conflicts ~ TA + PA + DL + Awdal + Bakool + Banadir + Bari + Bay + Galgaduud + Gedo + Hiraan + Lower_Juba + Lower_Shabelle + Middle_Juba + Middle_Shabelle + Mudug + Nugaal + Sanaag + Sool + Togdheer + January + February + March + April + May + June + July + August + September + October + November\n"
     ]
    }
   ],
   "source": [
    "# Regression expression for OLS with dummies\n",
    "\n",
    "unit_names = df_with_dummies['admin1'].unique().tolist()\n",
    "unit_names.sort()\n",
    "unit_names_t = df_with_dummies['month'].unique().tolist()\n",
    "unit_names_mr = (df_with_dummies['admin1'] + df_with_dummies['month']).unique().tolist()\n",
    "\n",
    "lsdv_expr = y_var_name + ' ~ '\n",
    "i = 0\n",
    "for X_var_name in X_var_names:\n",
    "    if i > 0:\n",
    "        lsdv_expr = lsdv_expr + ' + ' + X_var_name\n",
    "    else:\n",
    "        lsdv_expr = lsdv_expr + X_var_name\n",
    "    i = i + 1\n",
    "for dummy_name in unit_names[:-1]:\n",
    "   lsdv_expr = lsdv_expr + ' + ' + dummy_name\n",
    "for dummy_name_t in unit_names_t[:-1]:\n",
    "    lsdv_expr = lsdv_expr + ' + ' + dummy_name_t\n",
    "#for dummy_name_mr in unit_names_mr[:-1]:\n",
    "   # lsdv_expr = lsdv_expr + ' + ' + dummy_name_mr\n",
    "#lsdv_expr=lsdv_expr + ' - 1' \n",
    "print('Regression expression for OLS with dummies=' + lsdv_expr)"
   ]
  },
  {
   "cell_type": "code",
   "execution_count": 11,
   "id": "e9058dcb",
   "metadata": {},
   "outputs": [
    {
     "name": "stdout",
     "output_type": "stream",
     "text": [
      "                            OLS Regression Results                            \n",
      "==============================================================================\n",
      "Dep. Variable:              conflicts   R-squared:                       0.438\n",
      "Model:                            OLS   Adj. R-squared:                  0.435\n",
      "Method:                 Least Squares   F-statistic:                     140.2\n",
      "Date:                Thu, 14 Sep 2023   Prob (F-statistic):               0.00\n",
      "Time:                        11:35:03   Log-Likelihood:                -20996.\n",
      "No. Observations:                5616   AIC:                         4.206e+04\n",
      "Df Residuals:                    5584   BIC:                         4.227e+04\n",
      "Df Model:                          31                                         \n",
      "Covariance Type:            nonrobust                                         \n",
      "===================================================================================\n",
      "                      coef    std err          t      P>|t|      [0.025      0.975]\n",
      "-----------------------------------------------------------------------------------\n",
      "Intercept          -0.3287      0.751     -0.438      0.661      -1.800       1.143\n",
      "TA                  1.7868      0.247      7.246      0.000       1.303       2.270\n",
      "PA                  1.0702      0.426      2.513      0.012       0.235       1.905\n",
      "DL                  0.0804      0.005     14.792      0.000       0.070       0.091\n",
      "Awdal              -7.7760      0.924     -8.412      0.000      -9.588      -5.964\n",
      "Bakool              2.1807      0.821      2.658      0.008       0.572       3.789\n",
      "Banadir            35.4406      0.823     43.057      0.000      33.827      37.054\n",
      "Bari                3.2494      0.818      3.972      0.000       1.646       4.853\n",
      "Bay                 6.9618      0.823      8.464      0.000       5.349       8.574\n",
      "Galgaduud           4.2745      0.828      5.160      0.000       2.651       5.898\n",
      "Gedo                2.6321      0.825      3.191      0.001       1.015       4.249\n",
      "Hiraan              7.9599      0.825      9.649      0.000       6.343       9.577\n",
      "Lower_Juba          7.3222      0.824      8.888      0.000       5.707       8.937\n",
      "Lower_Shabelle     19.9334      0.821     24.281      0.000      18.324      21.543\n",
      "Middle_Juba        -2.0265      0.823     -2.461      0.014      -3.641      -0.412\n",
      "Middle_Shabelle     6.6804      0.830      8.045      0.000       5.053       8.308\n",
      "Mudug               4.8628      0.828      5.870      0.000       3.239       6.487\n",
      "Nugaal              0.9905      0.824      1.202      0.229      -0.625       2.606\n",
      "Sanaag              0.2186      0.817      0.268      0.789      -1.383       1.821\n",
      "Sool                1.2987      0.819      1.586      0.113      -0.307       2.904\n",
      "Togdheer            0.5179      0.817      0.634      0.526      -1.084       2.120\n",
      "January            -0.8014      0.667     -1.201      0.230      -2.109       0.507\n",
      "February           -0.9954      0.668     -1.489      0.136      -2.306       0.315\n",
      "March              -0.8055      0.668     -1.205      0.228      -2.116       0.505\n",
      "April              -1.0344      0.668     -1.549      0.122      -2.344       0.275\n",
      "May                -0.2258      0.668     -0.338      0.735      -1.535       1.083\n",
      "June               -0.1666      0.668     -0.249      0.803      -1.477       1.143\n",
      "July               -0.1423      0.669     -0.213      0.832      -1.454       1.169\n",
      "August             -0.1823      0.669     -0.272      0.785      -1.494       1.130\n",
      "September          -0.7885      0.669     -1.178      0.239      -2.100       0.523\n",
      "October            -0.3288      0.667     -0.493      0.622      -1.637       0.980\n",
      "November           -0.5344      0.667     -0.801      0.423      -1.842       0.773\n",
      "==============================================================================\n",
      "Omnibus:                     1921.737   Durbin-Watson:                   1.489\n",
      "Prob(Omnibus):                  0.000   Jarque-Bera (JB):            22466.189\n",
      "Skew:                           1.296   Prob(JB):                         0.00\n",
      "Kurtosis:                      12.449   Cond. No.                         733.\n",
      "==============================================================================\n",
      "\n",
      "Notes:\n",
      "[1] Standard Errors assume that the covariance matrix of the errors is correctly specified.\n"
     ]
    }
   ],
   "source": [
    "lsdv_model = smf.ols(formula=lsdv_expr, data=df_with_dummies)\n",
    "lsdv_model_results = lsdv_model.fit()\n",
    "print(lsdv_model_results.summary())"
   ]
  }
 ],
 "metadata": {
  "kernelspec": {
   "display_name": "Python 3 (ipykernel)",
   "language": "python",
   "name": "python3"
  },
  "language_info": {
   "codemirror_mode": {
    "name": "ipython",
    "version": 3
   },
   "file_extension": ".py",
   "mimetype": "text/x-python",
   "name": "python",
   "nbconvert_exporter": "python",
   "pygments_lexer": "ipython3",
   "version": "3.11.1"
  }
 },
 "nbformat": 4,
 "nbformat_minor": 5
}
