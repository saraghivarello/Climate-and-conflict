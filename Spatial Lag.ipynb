{
 "cells": [
  {
   "cell_type": "code",
   "execution_count": 1,
   "id": "49af736b",
   "metadata": {},
   "outputs": [
    {
     "name": "stderr",
     "output_type": "stream",
     "text": [
      "/home/sara/.local/lib/python3.8/site-packages/geopandas/_compat.py:124: UserWarning: The Shapely GEOS version (3.11.1-CAPI-1.17.1) is incompatible with the GEOS version PyGEOS was compiled with (3.10.4-CAPI-1.16.2). Conversions between both will be slow.\n",
      "  warnings.warn(\n",
      "/tmp/ipykernel_8063/3622933738.py:4: DeprecationWarning: Shapely 2.0 is installed, but because PyGEOS is also installed, GeoPandas still uses PyGEOS by default. However, starting with version 0.14, the default will switch to Shapely. To force to use Shapely 2.0 now, you can either uninstall PyGEOS or set the environment variable USE_PYGEOS=0. You can do this before starting the Python process, or in your code before importing geopandas:\n",
      "\n",
      "import os\n",
      "os.environ['USE_PYGEOS'] = '0'\n",
      "import geopandas\n",
      "\n",
      "In the next release, GeoPandas will switch to using Shapely by default, even if PyGEOS is installed. If you only have PyGEOS installed to get speed-ups, this switch should be smooth. However, if you are using PyGEOS directly (calling PyGEOS functions on geometries from GeoPandas), this will then stop working and you are encouraged to migrate from PyGEOS to Shapely 2.0 (https://shapely.readthedocs.io/en/latest/migration_pygeos.html).\n",
      "  import geopandas as gpd\n",
      "/home/sara/.local/lib/python3.8/site-packages/libpysal/cg/alpha_shapes.py:39: NumbaDeprecationWarning: \u001b[1mThe 'nopython' keyword argument was not supplied to the 'numba.jit' decorator. The implicit default value for this argument is currently False, but it will be changed to True in Numba 0.59.0. See https://numba.readthedocs.io/en/stable/reference/deprecation.html#deprecation-of-object-mode-fall-back-behaviour-when-using-jit for details.\u001b[0m\n",
      "  def nb_dist(x, y):\n",
      "/home/sara/.local/lib/python3.8/site-packages/libpysal/cg/alpha_shapes.py:165: NumbaDeprecationWarning: \u001b[1mThe 'nopython' keyword argument was not supplied to the 'numba.jit' decorator. The implicit default value for this argument is currently False, but it will be changed to True in Numba 0.59.0. See https://numba.readthedocs.io/en/stable/reference/deprecation.html#deprecation-of-object-mode-fall-back-behaviour-when-using-jit for details.\u001b[0m\n",
      "  def get_faces(triangle):\n",
      "/home/sara/.local/lib/python3.8/site-packages/libpysal/cg/alpha_shapes.py:199: NumbaDeprecationWarning: \u001b[1mThe 'nopython' keyword argument was not supplied to the 'numba.jit' decorator. The implicit default value for this argument is currently False, but it will be changed to True in Numba 0.59.0. See https://numba.readthedocs.io/en/stable/reference/deprecation.html#deprecation-of-object-mode-fall-back-behaviour-when-using-jit for details.\u001b[0m\n",
      "  def build_faces(faces, triangles_is, num_triangles, num_faces_single):\n",
      "/home/sara/.local/lib/python3.8/site-packages/libpysal/cg/alpha_shapes.py:261: NumbaDeprecationWarning: \u001b[1mThe 'nopython' keyword argument was not supplied to the 'numba.jit' decorator. The implicit default value for this argument is currently False, but it will be changed to True in Numba 0.59.0. See https://numba.readthedocs.io/en/stable/reference/deprecation.html#deprecation-of-object-mode-fall-back-behaviour-when-using-jit for details.\u001b[0m\n",
      "  def nb_mask_faces(mask, faces):\n"
     ]
    }
   ],
   "source": [
    "import pandas as pd\n",
    "import numpy as np\n",
    "import matplotlib.pyplot as plt\n",
    "import geopandas as gpd\n",
    "#from esda.moran import Moran\n",
    "from libpysal.weights.contiguity import Queen\n",
    "import statsmodels.api as sm\n",
    "import statsmodels.formula.api as smf"
   ]
  },
  {
   "cell_type": "code",
   "execution_count": 2,
   "id": "cb0cfaf3",
   "metadata": {},
   "outputs": [],
   "source": [
    "#path1 = r\"C:\\Users\\PcLaptop\\Documents\\GitHub\\Climate-and-conflict\\Datasets\\som_adm_ocha_itos_20230308_shp\\som_admbnda_adm1_ocha_20230308.shp\"\n",
    "path2 = r\"/home/sara/Documenti/GitHub/Climate-and-conflict/Datasets/som_adm_ocha_itos_20230308_shp/som_admbnda_adm1_ocha_20230308.shp\"\n",
    "states_gdf = gpd.read_file(path2)\n",
    "\n",
    "#file1 = r\"C:\\Users\\PcLaptop\\Dropbox (Politecnico Di Torino Studenti)\\Untitled Folder\\distance_df.csv\"\n",
    "file2 = r\"/home/sara/Documenti/GitHub/Climate-and-conflict/Datasets/ACLED_1997-01-01-2023-07-18_Somalia.csv\"\n",
    "dist = pd.read_csv(file2)\n",
    "\n",
    "#csv1 = r\"C:\\Users\\PcLaptop\\Documents\\GitHub\\Climate-and-conflict\\df_with_dummies.csv\"\n",
    "csv2 = r\"/home/sara/Documenti/GitHub/Climate-and-conflict/df_CRU4_lag5.csv\"\n",
    "df_with_dummies = pd.read_csv(csv2)"
   ]
  },
  {
   "cell_type": "code",
   "execution_count": 3,
   "id": "20a149fb",
   "metadata": {},
   "outputs": [],
   "source": [
    "y_var_name = 'conflicts'\n",
    "X_var_names = ['TA_lag1','PA_lag5','DL_lag5']"
   ]
  },
  {
   "cell_type": "code",
   "execution_count": 4,
   "id": "9d34c4f6",
   "metadata": {},
   "outputs": [
    {
     "name": "stdout",
     "output_type": "stream",
     "text": [
      "Regression expression for OLS with dummies=conflicts ~ TA_lag1 + PA_lag5 + DL_lag5 + Awdal + Bakool + Banadir + Bari + Bay + Galgaduud + Gedo + Hiraan + Lower_Juba + Lower_Shabelle + Middle_Juba + Middle_Shabelle + Mudug + Nugaal + Sanaag + Sool + Togdheer + January + February + March + April + May + June + July + August + September + October + November\n"
     ]
    }
   ],
   "source": [
    "# Regression expression for OLS with dummies\n",
    "\n",
    "unit_names = df_with_dummies['admin1'].unique().tolist()\n",
    "unit_names.sort()\n",
    "unit_names_t = df_with_dummies['month_name'].unique().tolist()\n",
    "unit_names_mr = (df_with_dummies['admin1'] + df_with_dummies['month_name']).unique().tolist()\n",
    "\n",
    "lsdv_expr = y_var_name + ' ~ '\n",
    "i = 0\n",
    "for X_var_name in X_var_names:\n",
    "    if i > 0:\n",
    "        lsdv_expr = lsdv_expr + ' + ' + X_var_name\n",
    "    else:\n",
    "        lsdv_expr = lsdv_expr + X_var_name\n",
    "    i = i + 1\n",
    "for dummy_name in unit_names[:-1]:\n",
    "   lsdv_expr = lsdv_expr + ' + ' + dummy_name\n",
    "for dummy_name_t in unit_names_t[:-1]:\n",
    "    lsdv_expr = lsdv_expr + ' + ' + dummy_name_t\n",
    "#for dummy_name_mr in unit_names_mr[:-1]:\n",
    "   # lsdv_expr = lsdv_expr + ' + ' + dummy_name_mr\n",
    "#lsdv_expr=lsdv_expr + ' - 1' \n",
    "print('Regression expression for OLS with dummies=' + lsdv_expr)"
   ]
  },
  {
   "cell_type": "code",
   "execution_count": 5,
   "id": "e9058dcb",
   "metadata": {},
   "outputs": [
    {
     "name": "stdout",
     "output_type": "stream",
     "text": [
      "                            OLS Regression Results                            \n",
      "==============================================================================\n",
      "Dep. Variable:              conflicts   R-squared:                       0.480\n",
      "Model:                            OLS   Adj. R-squared:                  0.477\n",
      "Method:                 Least Squares   F-statistic:                     166.5\n",
      "Date:                Tue, 19 Sep 2023   Prob (F-statistic):               0.00\n",
      "Time:                        12:33:05   Log-Likelihood:                -20774.\n",
      "No. Observations:                5616   AIC:                         4.161e+04\n",
      "Df Residuals:                    5584   BIC:                         4.182e+04\n",
      "Df Model:                          31                                         \n",
      "Covariance Type:            nonrobust                                         \n",
      "===================================================================================\n",
      "                      coef    std err          t      P>|t|      [0.025      0.975]\n",
      "-----------------------------------------------------------------------------------\n",
      "Intercept          -2.7708      0.731     -3.790      0.000      -4.204      -1.338\n",
      "TA_lag1             2.2895      0.252      9.103      0.000       1.796       2.783\n",
      "PA_lag5             1.7325      0.469      3.696      0.000       0.814       2.651\n",
      "DL_lag5             0.1238      0.005     24.732      0.000       0.114       0.134\n",
      "Awdal              -4.3630      0.794     -5.494      0.000      -5.920      -2.806\n",
      "Bakool              2.4093      0.789      3.055      0.002       0.863       3.955\n",
      "Banadir            36.6423      0.793     46.180      0.000      35.087      38.198\n",
      "Bari                4.5778      0.790      5.796      0.000       3.029       6.126\n",
      "Bay                 7.2378      0.788      9.189      0.000       5.694       8.782\n",
      "Galgaduud           6.2860      0.802      7.836      0.000       4.713       7.859\n",
      "Gedo                2.1654      0.791      2.737      0.006       0.615       3.716\n",
      "Hiraan              9.4388      0.796     11.859      0.000       7.879      10.999\n",
      "Lower_Juba          5.3028      0.798      6.643      0.000       3.738       6.868\n",
      "Lower_Shabelle     20.1573      0.788     25.574      0.000      18.612      21.702\n",
      "Middle_Juba        -4.0155      0.798     -5.032      0.000      -5.580      -2.451\n",
      "Middle_Shabelle     8.6140      0.803     10.722      0.000       7.039      10.189\n",
      "Mudug               6.8355      0.803      8.514      0.000       5.262       8.409\n",
      "Nugaal              2.9008      0.798      3.633      0.000       1.336       4.466\n",
      "Sanaag              1.6177      0.788      2.053      0.040       0.073       3.163\n",
      "Sool                2.7646      0.790      3.498      0.000       1.215       4.314\n",
      "Togdheer            1.7753      0.787      2.254      0.024       0.232       3.319\n",
      "January            -0.4973      0.641     -0.776      0.438      -1.754       0.760\n",
      "February           -0.5369      0.641     -0.837      0.402      -1.794       0.720\n",
      "March              -0.5707      0.641     -0.890      0.373      -1.828       0.686\n",
      "April              -0.9949      0.642     -1.551      0.121      -2.253       0.263\n",
      "May                -0.2979      0.641     -0.464      0.642      -1.555       0.960\n",
      "June               -0.1059      0.642     -0.165      0.869      -1.364       1.152\n",
      "July               -0.1295      0.641     -0.202      0.840      -1.387       1.128\n",
      "August             -0.0228      0.641     -0.035      0.972      -1.280       1.235\n",
      "September          -0.7879      0.642     -1.228      0.220      -2.046       0.470\n",
      "October            -0.4847      0.642     -0.755      0.450      -1.743       0.774\n",
      "November           -0.4938      0.641     -0.770      0.441      -1.751       0.763\n",
      "==============================================================================\n",
      "Omnibus:                     1969.669   Durbin-Watson:                   1.819\n",
      "Prob(Omnibus):                  0.000   Jarque-Bera (JB):            25120.172\n",
      "Skew:                           1.311   Prob(JB):                         0.00\n",
      "Kurtosis:                      13.024   Cond. No.                         727.\n",
      "==============================================================================\n",
      "\n",
      "Notes:\n",
      "[1] Standard Errors assume that the covariance matrix of the errors is correctly specified.\n"
     ]
    }
   ],
   "source": [
    "lsdv_model = smf.ols(formula=lsdv_expr, data=df_with_dummies)\n",
    "lsdv_model_results = lsdv_model.fit()\n",
    "print(lsdv_model_results.summary())"
   ]
  },
  {
   "cell_type": "code",
   "execution_count": null,
   "id": "192e1f77",
   "metadata": {},
   "outputs": [],
   "source": []
  },
  {
   "cell_type": "code",
   "execution_count": null,
   "id": "7855bf00",
   "metadata": {},
   "outputs": [],
   "source": []
  }
 ],
 "metadata": {
  "kernelspec": {
   "display_name": "Python 3 (ipykernel)",
   "language": "python",
   "name": "python3"
  },
  "language_info": {
   "codemirror_mode": {
    "name": "ipython",
    "version": 3
   },
   "file_extension": ".py",
   "mimetype": "text/x-python",
   "name": "python",
   "nbconvert_exporter": "python",
   "pygments_lexer": "ipython3",
   "version": "3.8.10"
  }
 },
 "nbformat": 4,
 "nbformat_minor": 5
}
